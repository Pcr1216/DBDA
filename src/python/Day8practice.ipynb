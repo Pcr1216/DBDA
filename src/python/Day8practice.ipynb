{
 "cells": [
  {
   "cell_type": "markdown",
   "metadata": {
    "id": "KlEgfxbwL-tt"
   },
   "source": [
    "\n",
    "# **Day8 Python Pandas**\n",
    "**Pandas** stands for \"Panel Data\" and is the core library for data manipulation and data analysis.\n",
    "It consists of single and multidimensional data-structures for data manipulation.\n",
    "*Single dimensional* data structure is known as ***Series objects*** and *Multi-dimensional* data structure is known as ***Data Frame***.\n",
    "\n",
    "In pandas, we can import data from various file formats like JSON, CSV(comma-separated values), Microsoft Excel, etc.\n",
    "\n",
    "When we have to work on *Tabular data*, we prefer the ***Pandas module***. When we have to work on *Numerical data*, we prefer the ***Numpy module***.\n",
    "\n",
    "The powerful tools of pandas are **DataFrame** and **Series**.\n",
    "Whereas the powerful tool of numpy is **Arrays**.\n"
   ]
  },
  {
   "cell_type": "markdown",
   "metadata": {
    "id": "DMeCG4ZXMdug"
   },
   "source": [
    "## **Difference between NumPy & Pandas**\n",
    "* When we have to work on Tabular data, we prefer the pandas module.When we have to work on Numerical data, we prefer the numpy module.\n",
    "\n",
    "* The powerful tools of pandas are Data frame and Series.\n",
    "Whereas the powerful tool of numpy is Arrays.\n",
    "\n",
    "*  *Pandas* consume **more memory**. *Numpy* is **memory efficient**.\n",
    "\n",
    "* *Indexing* of the pandas **series** is very ***slow*** as compared to numpy **arrays**.\n",
    "\n",
    "* Pandas has a higher industry application as compare to Numpy."
   ]
  },
  {
   "cell_type": "markdown",
   "metadata": {
    "id": "q4a5MhJoM9uq"
   },
   "source": [
    "### **Example_1_a_b_c_d**\n",
    "How to make Series in **Pandas**.\n",
    "\n",
    "Series object is a **one-dimensional labelled** or **indexed  array**."
   ]
  },
  {
   "cell_type": "code",
   "execution_count": 6,
   "metadata": {
    "colab": {
     "base_uri": "https://localhost:8080/"
    },
    "id": "kNTjqxfQNpGU",
    "outputId": "91f03c39-9519-4e56-c55f-e34c9d7565e3"
   },
   "outputs": [],
   "source": [
    "# pip install pandas    # To install pandas"
   ]
  },
  {
   "cell_type": "code",
   "execution_count": 1,
   "metadata": {
    "colab": {
     "base_uri": "https://localhost:8080/"
    },
    "id": "oafGxn_fsXcr",
    "outputId": "d311db99-8a01-4c9b-ba87-815754875a33"
   },
   "outputs": [
    {
     "ename": "ModuleNotFoundError",
     "evalue": "No module named 'pandas'",
     "output_type": "error",
     "traceback": [
      "\u001b[1;31m---------------------------------------------------------------------------\u001b[0m",
      "\u001b[1;31mModuleNotFoundError\u001b[0m                       Traceback (most recent call last)",
      "Cell \u001b[1;32mIn[1], line 2\u001b[0m\n\u001b[0;32m      1\u001b[0m \u001b[38;5;66;03m# Example1\u001b[39;00m\n\u001b[1;32m----> 2\u001b[0m \u001b[38;5;28;01mimport\u001b[39;00m \u001b[38;5;21;01mpandas\u001b[39;00m \u001b[38;5;28;01mas\u001b[39;00m \u001b[38;5;21;01mpd\u001b[39;00m\n\u001b[0;32m      3\u001b[0m first\u001b[38;5;241m=\u001b[39mpd\u001b[38;5;241m.\u001b[39mSeries([\u001b[38;5;241m10\u001b[39m,\u001b[38;5;241m90\u001b[39m,\u001b[38;5;241m70\u001b[39m,\u001b[38;5;241m50\u001b[39m])\n\u001b[0;32m      4\u001b[0m \u001b[38;5;28mprint\u001b[39m(first)\n",
      "\u001b[1;31mModuleNotFoundError\u001b[0m: No module named 'pandas'"
     ]
    }
   ],
   "source": [
    "# Example1\n",
    "import pandas as pd\n",
    "first=pd.Series([10,90,70,50])\n",
    "print(first)\n",
    "'''\n",
    "You can also write this like below:-\n",
    "from pandas import *\n",
    "first=Series([10,90,70,50])\n",
    "print(first)\n",
    "'''"
   ]
  },
  {
   "cell_type": "code",
   "execution_count": null,
   "metadata": {
    "colab": {
     "base_uri": "https://localhost:8080/"
    },
    "id": "2eh6NphRNfwv",
    "outputId": "576ab515-3ee1-476c-ebb4-a30d5c980585"
   },
   "outputs": [
    {
     "name": "stdout",
     "output_type": "stream",
     "text": [
      "0      10\n",
      "1      50\n",
      "2    True\n",
      "3      Hi\n",
      "4     9.3\n",
      "dtype: object\n",
      "*********\n",
      "RangeIndex(start=0, stop=5, step=1)\n",
      "*********\n",
      "[10 50 True 'Hi' 9.3]\n"
     ]
    }
   ],
   "source": [
    "# Example1_a\n",
    "first=pd.Series([10,50,True,'Hi',9.3])\n",
    "print(first)\n",
    "print(\"*********\")\n",
    "print(first.index)\n",
    "print(\"*********\")\n",
    "print(first.values)"
   ]
  },
  {
   "cell_type": "code",
   "execution_count": null,
   "metadata": {
    "colab": {
     "base_uri": "https://localhost:8080/"
    },
    "id": "Ny1FrF2aONyU",
    "outputId": "a012bace-533b-4cbe-a55a-66bed4be3cb3"
   },
   "outputs": [
    {
     "name": "stdout",
     "output_type": "stream",
     "text": [
      "Enter values, 0 to exit: \n",
      "0    1\n",
      "1    2\n",
      "dtype: int64\n"
     ]
    }
   ],
   "source": [
    "# Example1_b\n",
    "from pandas import *\n",
    "mylist=[]\n",
    "print(\"Enter values, 0 to exit: \")\n",
    "while True:\n",
    "  val=int(input())\n",
    "  if(val==0):\n",
    "    break\n",
    "  mylist.append(val)\n",
    "myseries=Series(mylist)\n",
    "print(myseries)"
   ]
  },
  {
   "cell_type": "code",
   "execution_count": null,
   "metadata": {
    "id": "QAdJEnaOO0pd"
   },
   "outputs": [
    {
     "name": "stdout",
     "output_type": "stream",
     "text": [
      "0    200\n",
      "1    500\n",
      "2    400\n",
      "3    600\n",
      "dtype: int64\n"
     ]
    }
   ],
   "source": [
    "# Example1_c\n",
    "mytuple=(200,500,400,600)\n",
    "myseries=Series(mytuple)\n",
    "print(myseries)"
   ]
  },
  {
   "cell_type": "code",
   "execution_count": 9,
   "metadata": {},
   "outputs": [
    {
     "name": "stdout",
     "output_type": "stream",
     "text": [
      "0      10\n",
      "1      50\n",
      "2      60\n",
      "3    True\n",
      "4     BMW\n",
      "dtype: object\n",
      "***********\n",
      "  10\n",
      "  50\n",
      "  60\n",
      "True\n",
      " BMW\n"
     ]
    }
   ],
   "source": [
    "# Example1_d\n",
    "# if you don't want to print index\n",
    "first=pd.Series([10,50,60,True,\"BMW\"])\n",
    "print(first)\n",
    "print(\"***********\")\n",
    "print(first.to_string(index=False))"
   ]
  },
  {
   "cell_type": "markdown",
   "metadata": {},
   "source": [
    "### **Example_2**\n",
    "Series object is a one-dimensional labelled or indexed array"
   ]
  },
  {
   "cell_type": "code",
   "execution_count": 13,
   "metadata": {},
   "outputs": [
    {
     "name": "stdout",
     "output_type": "stream",
     "text": [
      "0    10\n",
      "1    50\n",
      "2    99\n",
      "dtype: int64\n",
      "\n",
      "\n",
      "<class 'pandas.core.series.Series'>\n"
     ]
    }
   ],
   "source": [
    "# Series object is a one-dimensional labelled or indexed array\n",
    "from pandas import *\n",
    "first=Series([10,50,99])\n",
    "print(first)\n",
    "print(\"\\n\")\n",
    "print(type(first))"
   ]
  },
  {
   "cell_type": "markdown",
   "metadata": {},
   "source": [
    "### **Example_3_a_b**\n",
    "How we can change the Labels or indexes"
   ]
  },
  {
   "cell_type": "code",
   "execution_count": 14,
   "metadata": {},
   "outputs": [
    {
     "name": "stdout",
     "output_type": "stream",
     "text": [
      "a    10\n",
      "b    50\n",
      "c    90\n",
      "d    66\n",
      "dtype: int64\n"
     ]
    }
   ],
   "source": [
    "# Example3\n",
    "# we can change the labels or indexes\n",
    "from pandas import *\n",
    "first=Series([10,50,90,66],index=['a','b','c','d'])\n",
    "print(first)"
   ]
  },
  {
   "cell_type": "code",
   "execution_count": 1,
   "metadata": {},
   "outputs": [
    {
     "ename": "ModuleNotFoundError",
     "evalue": "No module named 'pandas'",
     "output_type": "error",
     "traceback": [
      "\u001b[1;31m---------------------------------------------------------------------------\u001b[0m",
      "\u001b[1;31mModuleNotFoundError\u001b[0m                       Traceback (most recent call last)",
      "Cell \u001b[1;32mIn[1], line 2\u001b[0m\n\u001b[0;32m      1\u001b[0m \u001b[38;5;66;03m# Example3a in this example it is throwing error ValueError: Length of values (5) does not match length of index (3)\u001b[39;00m\n\u001b[1;32m----> 2\u001b[0m \u001b[38;5;28;01mfrom\u001b[39;00m \u001b[38;5;21;01mpandas\u001b[39;00m \u001b[38;5;28;01mimport\u001b[39;00m \u001b[38;5;241m*\u001b[39m\n\u001b[0;32m      3\u001b[0m first\u001b[38;5;241m=\u001b[39mSeries([\u001b[38;5;241m50\u001b[39m,\u001b[38;5;241m60\u001b[39m,\u001b[38;5;241m70\u001b[39m,\u001b[38;5;241m60\u001b[39m],index\u001b[38;5;241m=\u001b[39m[\u001b[38;5;124m'\u001b[39m\u001b[38;5;124ma\u001b[39m\u001b[38;5;124m'\u001b[39m,\u001b[38;5;124m'\u001b[39m\u001b[38;5;124mb\u001b[39m\u001b[38;5;124m'\u001b[39m,\u001b[38;5;124m'\u001b[39m\u001b[38;5;124mc\u001b[39m\u001b[38;5;124m'\u001b[39m]) \n\u001b[0;32m      4\u001b[0m \u001b[38;5;28mprint\u001b[39m(first)\n",
      "\u001b[1;31mModuleNotFoundError\u001b[0m: No module named 'pandas'"
     ]
    }
   ],
   "source": [
    "# Example3a in this example it is throwing error ValueError: Length of values (5) does not match length of index (3)\n",
    "from pandas import *\n",
    "first=Series([50,60,70,60],index=['a','b','c']) \n",
    "print(first)"
   ]
  },
  {
   "cell_type": "code",
   "execution_count": 17,
   "metadata": {},
   "outputs": [
    {
     "name": "stdout",
     "output_type": "stream",
     "text": [
      "hello    50\n",
      "4        60\n",
      "6.2      90\n",
      "True     76\n",
      "9        45\n",
      "dtype: int64\n"
     ]
    }
   ],
   "source": [
    "# e3b\n",
    "first=Series([50,60,90,76,45],index=['hello',4,6.2,True,9])\n",
    "print(first)"
   ]
  },
  {
   "cell_type": "markdown",
   "metadata": {},
   "source": [
    "### **Example_4**\n",
    "How to create series object from **Dictionary**"
   ]
  },
  {
   "cell_type": "code",
   "execution_count": 3,
   "metadata": {},
   "outputs": [
    {
     "name": "stdout",
     "output_type": "stream",
     "text": [
      "{1: 'Peter', 2: 'David', 3: 'Michal', 4: 'John'}\n",
      "<class 'dict'>\n"
     ]
    }
   ],
   "source": [
    "mydict=({1:'Peter',2:'David',3:'Michal',4:'John'})\n",
    "print(mydict)\n",
    "print(type(mydict))"
   ]
  },
  {
   "cell_type": "code",
   "execution_count": 20,
   "metadata": {},
   "outputs": [
    {
     "name": "stdout",
     "output_type": "stream",
     "text": [
      "1     Peter\n",
      "2     David\n",
      "3    Michal\n",
      "4      John\n",
      "dtype: object\n"
     ]
    }
   ],
   "source": [
    "myseries=Series(mydict)\n",
    "print(myseries)"
   ]
  },
  {
   "cell_type": "code",
   "execution_count": 22,
   "metadata": {},
   "outputs": [
    {
     "name": "stdout",
     "output_type": "stream",
     "text": [
      "Index([1, 2, 3, 4], dtype='int64')\n",
      "['Peter' 'David' 'Michal' 'John']\n"
     ]
    }
   ],
   "source": [
    "print(myseries.index)\n",
    "print(myseries.values)"
   ]
  },
  {
   "cell_type": "markdown",
   "metadata": {},
   "source": [
    "### **Example_5**\n",
    "How to change index\n"
   ]
  },
  {
   "cell_type": "code",
   "execution_count": 7,
   "metadata": {},
   "outputs": [
    {
     "name": "stdout",
     "output_type": "stream",
     "text": [
      "0    10\n",
      "1    20\n",
      "2    30\n",
      "3    40\n",
      "dtype: int64\n"
     ]
    }
   ],
   "source": [
    "myseries=Series([10,20,30,40])\n",
    "print(myseries)"
   ]
  },
  {
   "cell_type": "code",
   "execution_count": 8,
   "metadata": {},
   "outputs": [
    {
     "name": "stdout",
     "output_type": "stream",
     "text": [
      "a    10\n",
      "b    20\n",
      "c    30\n",
      "d    40\n",
      "dtype: int64\n"
     ]
    }
   ],
   "source": [
    "myseries.index=['a','b','c','d']\n",
    "print(myseries)"
   ]
  },
  {
   "cell_type": "code",
   "execution_count": 12,
   "metadata": {},
   "outputs": [
    {
     "name": "stdout",
     "output_type": "stream",
     "text": [
      "10\n",
      "30\n"
     ]
    },
    {
     "name": "stderr",
     "output_type": "stream",
     "text": [
      "C:\\Users\\Acer\\AppData\\Local\\Temp\\ipykernel_1932\\1640603719.py:1: FutureWarning: Series.__getitem__ treating keys as positions is deprecated. In a future version, integer keys will always be treated as labels (consistent with DataFrame behavior). To access a value by position, use `ser.iloc[pos]`\n",
      "  print(myseries[0])\n"
     ]
    }
   ],
   "source": [
    "print(myseries[0])\n",
    "print(myseries['c'])    # this is also possible you can just put the value in it"
   ]
  },
  {
   "cell_type": "code",
   "execution_count": 13,
   "metadata": {},
   "outputs": [
    {
     "name": "stdout",
     "output_type": "stream",
     "text": [
      "a    69\n",
      "b    20\n",
      "c    80\n",
      "d    40\n",
      "dtype: int64\n"
     ]
    },
    {
     "name": "stderr",
     "output_type": "stream",
     "text": [
      "C:\\Users\\Acer\\AppData\\Local\\Temp\\ipykernel_1932\\1304963202.py:1: FutureWarning: Series.__setitem__ treating keys as positions is deprecated. In a future version, integer keys will always be treated as labels (consistent with DataFrame behavior). To set a value by position, use `ser.iloc[pos] = value`\n",
      "  myseries[2]=80\n"
     ]
    }
   ],
   "source": [
    "myseries[2]=80\n",
    "myseries['a']=69   # This is also possible you can change the value of the element\n",
    "print(myseries)"
   ]
  },
  {
   "cell_type": "markdown",
   "metadata": {},
   "source": [
    "### **Example_6**\n",
    "Extracting elements from the series"
   ]
  },
  {
   "cell_type": "code",
   "execution_count": 42,
   "metadata": {},
   "outputs": [
    {
     "name": "stdout",
     "output_type": "stream",
     "text": [
      "0    1\n",
      "1    2\n",
      "2    3\n",
      "3    4\n",
      "4    5\n",
      "5    6\n",
      "6    7\n",
      "7    8\n",
      "8    9\n",
      "dtype: int64\n"
     ]
    }
   ],
   "source": [
    "from pandas import *\n",
    "myseries=Series([1,2,3,4,5,6,7,8,9])\n",
    "print(myseries)"
   ]
  },
  {
   "cell_type": "code",
   "execution_count": 43,
   "metadata": {},
   "outputs": [
    {
     "name": "stdout",
     "output_type": "stream",
     "text": [
      "6\n"
     ]
    }
   ],
   "source": [
    "print(myseries[5])"
   ]
  },
  {
   "cell_type": "code",
   "execution_count": 44,
   "metadata": {},
   "outputs": [
    {
     "name": "stdout",
     "output_type": "stream",
     "text": [
      "2    3\n",
      "3    4\n",
      "4    5\n",
      "5    6\n",
      "dtype: int64\n"
     ]
    }
   ],
   "source": [
    "print(myseries[2:6])        # it will start from (2 indexed element **including**) till (6 indexed element **excluding**) "
   ]
  },
  {
   "cell_type": "code",
   "execution_count": 47,
   "metadata": {},
   "outputs": [
    {
     "name": "stdout",
     "output_type": "stream",
     "text": [
      "3    4\n",
      "4    5\n",
      "5    6\n",
      "6    7\n",
      "dtype: int64\n"
     ]
    }
   ],
   "source": [
    "print(myseries[-6:-2])      # it will start from the (-6 indexed element **including** from below) till (-2 indexed element **excluding** from below"
   ]
  },
  {
   "cell_type": "code",
   "execution_count": 49,
   "metadata": {},
   "outputs": [
    {
     "name": "stdout",
     "output_type": "stream",
     "text": [
      "0    1\n",
      "1    2\n",
      "2    3\n",
      "3    4\n",
      "4    5\n",
      "dtype: int64\n"
     ]
    }
   ],
   "source": [
    "print(myseries[:5])        # it will start from (0 indexed element) till (5 **excluding**)"
   ]
  },
  {
   "cell_type": "code",
   "execution_count": 50,
   "metadata": {},
   "outputs": [
    {
     "name": "stdout",
     "output_type": "stream",
     "text": [
      "3    4\n",
      "4    5\n",
      "5    6\n",
      "6    7\n",
      "7    8\n",
      "8    9\n",
      "dtype: int64\n"
     ]
    }
   ],
   "source": [
    "print(myseries[3:])     # it will start from (3 indexed element) till **LAST**"
   ]
  },
  {
   "cell_type": "markdown",
   "metadata": {},
   "source": [
    "### **Example_7**\n",
    "Adding a scalar value to series element and adding two series. **Series** is **immutable** but their **elements can be changed**"
   ]
  },
  {
   "cell_type": "code",
   "execution_count": 14,
   "metadata": {},
   "outputs": [
    {
     "name": "stdout",
     "output_type": "stream",
     "text": [
      "0    1\n",
      "1    2\n",
      "2    3\n",
      "3    4\n",
      "4    5\n",
      "5    6\n",
      "dtype: int64\n"
     ]
    }
   ],
   "source": [
    "myseries=Series([1,2,3,4,5,6])\n",
    "print(myseries)"
   ]
  },
  {
   "cell_type": "code",
   "execution_count": 52,
   "metadata": {},
   "outputs": [
    {
     "name": "stdout",
     "output_type": "stream",
     "text": [
      "0     5\n",
      "1     6\n",
      "2     7\n",
      "3     8\n",
      "4     9\n",
      "5    10\n",
      "dtype: int64\n"
     ]
    }
   ],
   "source": [
    "print(myseries+4)"
   ]
  },
  {
   "cell_type": "code",
   "execution_count": 55,
   "metadata": {},
   "outputs": [
    {
     "name": "stdout",
     "output_type": "stream",
     "text": [
      "0    101.0\n",
      "1    202.0\n",
      "2    303.0\n",
      "3    404.0\n",
      "4    505.0\n",
      "5    606.0\n",
      "6      NaN\n",
      "dtype: float64\n"
     ]
    }
   ],
   "source": [
    "myseries1=Series([100,200,300,400,500,600,700])     # it will give NaN if you don't have value to add it to\n",
    "print(myseries+myseries1)"
   ]
  },
  {
   "cell_type": "markdown",
   "metadata": {},
   "source": [
    "### **Example_8**\n",
    "How to do Mathematical Operation"
   ]
  },
  {
   "cell_type": "code",
   "execution_count": 62,
   "metadata": {},
   "outputs": [
    {
     "name": "stdout",
     "output_type": "stream",
     "text": [
      "0    100\n",
      "1    200\n",
      "2    300\n",
      "3    400\n",
      "4    500\n",
      "5    600\n",
      "dtype: int64\n"
     ]
    }
   ],
   "source": [
    "myseries=Series([100,200,300,400,500,600])\n",
    "print(myseries)"
   ]
  },
  {
   "cell_type": "code",
   "execution_count": 63,
   "metadata": {},
   "outputs": [
    {
     "name": "stdout",
     "output_type": "stream",
     "text": [
      "2100\n"
     ]
    }
   ],
   "source": [
    "print(myseries.sum())"
   ]
  },
  {
   "cell_type": "code",
   "execution_count": 64,
   "metadata": {},
   "outputs": [
    {
     "name": "stdout",
     "output_type": "stream",
     "text": [
      "0    110\n",
      "1    210\n",
      "2    310\n",
      "3    410\n",
      "4    510\n",
      "5    610\n",
      "dtype: int64\n"
     ]
    }
   ],
   "source": [
    "print(myseries.add(10))"
   ]
  },
  {
   "cell_type": "code",
   "execution_count": 65,
   "metadata": {},
   "outputs": [
    {
     "name": "stdout",
     "output_type": "stream",
     "text": [
      "0     90\n",
      "1    190\n",
      "2    290\n",
      "3    390\n",
      "4    490\n",
      "5    590\n",
      "dtype: int64\n"
     ]
    }
   ],
   "source": [
    "print(myseries.sub(10))"
   ]
  },
  {
   "cell_type": "code",
   "execution_count": 68,
   "metadata": {},
   "outputs": [
    {
     "name": "stdout",
     "output_type": "stream",
     "text": [
      "0    10.0\n",
      "1    20.0\n",
      "2    30.0\n",
      "3    40.0\n",
      "4    50.0\n",
      "5    60.0\n",
      "dtype: float64\n",
      "0    10.0\n",
      "1    20.0\n",
      "2    30.0\n",
      "3    40.0\n",
      "4    50.0\n",
      "5    60.0\n",
      "dtype: float64\n"
     ]
    }
   ],
   "source": [
    "print(myseries.div(10))\n",
    "print(myseries.divide(10))      # Both are *SAME*"
   ]
  },
  {
   "cell_type": "code",
   "execution_count": 69,
   "metadata": {},
   "outputs": [
    {
     "name": "stdout",
     "output_type": "stream",
     "text": [
      "0     200\n",
      "1     400\n",
      "2     600\n",
      "3     800\n",
      "4    1000\n",
      "5    1200\n",
      "dtype: int64\n"
     ]
    }
   ],
   "source": [
    "print(myseries.mul(2))"
   ]
  },
  {
   "cell_type": "markdown",
   "metadata": {},
   "source": [
    "### **Example_9_a_b_c_d**\n",
    "**DataFrame** is a ***Two Dimensional Labelled Data Structure***. DataFrame comprises of ***rows*** and ***columns***\n",
    "\n",
    "Mainly Dictionary is used.\n",
    "\n"
   ]
  },
  {
   "cell_type": "code",
   "execution_count": 16,
   "metadata": {},
   "outputs": [
    {
     "name": "stdout",
     "output_type": "stream",
     "text": [
      "{'Name': ['Peter', 'Rogers', 'Mike', 'Steve'], 'Age': [20, 40, 22, 23]}\n"
     ]
    }
   ],
   "source": [
    "# Example9\n",
    "mydict={'Name':['Peter','Rogers','Mike','Steve'],'Age':[20,40,22,23]}\n",
    "print(mydict)"
   ]
  },
  {
   "cell_type": "code",
   "execution_count": 17,
   "metadata": {},
   "outputs": [
    {
     "name": "stdout",
     "output_type": "stream",
     "text": [
      "     Name  Age\n",
      "0   Peter   20\n",
      "1  Rogers   40\n",
      "2    Mike   22\n",
      "3   Steve   23\n",
      "<class 'pandas.core.frame.DataFrame'>\n"
     ]
    }
   ],
   "source": [
    "mydataframe=DataFrame(mydict)\n",
    "print(mydataframe)\n",
    "print(type(mydataframe))"
   ]
  },
  {
   "cell_type": "markdown",
   "metadata": {},
   "source": [
    "#### Extract DataFrame column as list"
   ]
  },
  {
   "cell_type": "code",
   "execution_count": 18,
   "metadata": {},
   "outputs": [
    {
     "name": "stdout",
     "output_type": "stream",
     "text": [
      "   Proid  Proname\n",
      "0      1     soap\n",
      "1      2  perfume\n",
      "2      3      deo\n",
      "3      4   powder\n"
     ]
    }
   ],
   "source": [
    "# Example9a\n",
    "mydataframe=DataFrame({'Proid':range(1,5),'Proname':['soap','perfume','deo','powder']})\n",
    "print(mydataframe)"
   ]
  },
  {
   "cell_type": "code",
   "execution_count": 19,
   "metadata": {},
   "outputs": [
    {
     "name": "stdout",
     "output_type": "stream",
     "text": [
      "[1, 2, 3, 4]\n"
     ]
    }
   ],
   "source": [
    "mylist=mydataframe['Proid'].values.tolist()     # print 1D list of Proid\n",
    "print(mylist)"
   ]
  },
  {
   "cell_type": "code",
   "execution_count": 20,
   "metadata": {},
   "outputs": [
    {
     "name": "stdout",
     "output_type": "stream",
     "text": [
      "['soap', 'perfume', 'deo', 'powder']\n"
     ]
    }
   ],
   "source": [
    "mylist=mydataframe['Proname'].values.tolist()\n",
    "print(mylist)"
   ]
  },
  {
   "cell_type": "code",
   "execution_count": 21,
   "metadata": {},
   "outputs": [
    {
     "name": "stdout",
     "output_type": "stream",
     "text": [
      "[[1, 'soap'], [2, 'perfume'], [3, 'deo'], [4, 'powder']]\n"
     ]
    }
   ],
   "source": [
    "mylist1=mydataframe[['Proid','Proname']].values.tolist()    # print 2D list of Proname\n",
    "print(mylist1)"
   ]
  },
  {
   "cell_type": "markdown",
   "metadata": {},
   "source": [
    "#### Extract DataFrame rows as list"
   ]
  },
  {
   "cell_type": "code",
   "execution_count": 22,
   "metadata": {},
   "outputs": [
    {
     "name": "stdout",
     "output_type": "stream",
     "text": [
      "   proid  proname\n",
      "0      1     soap\n",
      "1      2  perfume\n",
      "2      3      deo\n",
      "3      4   powder\n"
     ]
    }
   ],
   "source": [
    "# Example9b \n",
    "\n",
    "mydataframe=DataFrame({'proid':range(1,5),'proname':['soap','perfume','deo','powder']})\n",
    "print(mydataframe)"
   ]
  },
  {
   "cell_type": "code",
   "execution_count": 23,
   "metadata": {},
   "outputs": [
    {
     "name": "stdout",
     "output_type": "stream",
     "text": [
      "[[1, 'soap']]\n"
     ]
    }
   ],
   "source": [
    "mylist=mydataframe.loc[[0]].values.tolist()\n",
    "print(mylist)"
   ]
  },
  {
   "cell_type": "code",
   "execution_count": 25,
   "metadata": {},
   "outputs": [
    {
     "name": "stdout",
     "output_type": "stream",
     "text": [
      "[[1, 'soap'], [2, 'perfume']]\n"
     ]
    }
   ],
   "source": [
    "mylist=mydataframe.loc[[0,1]].values.tolist()   # extract 0 and 1 rows\n",
    "print(mylist)"
   ]
  },
  {
   "cell_type": "code",
   "execution_count": 27,
   "metadata": {},
   "outputs": [
    {
     "name": "stdout",
     "output_type": "stream",
     "text": [
      "[[2, 'perfume'], [4, 'powder']]\n"
     ]
    }
   ],
   "source": [
    "mylist=mydataframe.loc[[1,3]].values.tolist()   # extract row no. 1 and 3 \n",
    "print(mylist)"
   ]
  },
  {
   "cell_type": "code",
   "execution_count": 28,
   "metadata": {},
   "outputs": [
    {
     "name": "stdout",
     "output_type": "stream",
     "text": [
      "[[2, 'perfume'], [3, 'deo'], [4, 'powder']]\n"
     ]
    }
   ],
   "source": [
    "mylist=mydataframe.loc[1:3].values.tolist()   # extract from row no. 1 till 3 excluding\n",
    "print(mylist)"
   ]
  },
  {
   "cell_type": "code",
   "execution_count": 88,
   "metadata": {},
   "outputs": [
    {
     "name": "stdout",
     "output_type": "stream",
     "text": [
      "[[1, 'soap'], [2, 'perfume'], [3, 'deo'], [4, 'powder']]\n"
     ]
    }
   ],
   "source": [
    "mylist=mydataframe.values.tolist()          # extract all rows\n",
    "print(mylist)"
   ]
  },
  {
   "cell_type": "code",
   "execution_count": 89,
   "metadata": {},
   "outputs": [
    {
     "name": "stdout",
     "output_type": "stream",
     "text": [
      "[[1], [2], [3], [4]]\n"
     ]
    }
   ],
   "source": [
    "mylist=mydataframe.iloc[:,0:1].values.tolist()  #  extract all rows of 0 to 1 columns, 1 is exclusive\n",
    "print(mylist)"
   ]
  },
  {
   "cell_type": "code",
   "execution_count": 90,
   "metadata": {},
   "outputs": [
    {
     "name": "stdout",
     "output_type": "stream",
     "text": [
      "[[2], [3]]\n"
     ]
    }
   ],
   "source": [
    "mylist=mydataframe.iloc[1:3,0:1].values.tolist()    # extract 1 to 3 rows and 0 to 1 columns, 3 and 1 are exclusive\n",
    "print(mylist)"
   ]
  },
  {
   "cell_type": "markdown",
   "metadata": {},
   "source": [
    "#### Extract DataFrame columns randomly"
   ]
  },
  {
   "cell_type": "code",
   "execution_count": 91,
   "metadata": {},
   "outputs": [
    {
     "name": "stdout",
     "output_type": "stream",
     "text": [
      "   proid  proname  price\n",
      "0      5     soap    120\n",
      "1      6  perfume    500\n",
      "2      7      deo    290\n",
      "3      8   powder    160\n"
     ]
    }
   ],
   "source": [
    "# Example9c\n",
    "mydataframe=DataFrame({'proid':range(5,9),'proname':['soap','perfume','deo','powder'],'price':[120,500,290,160]})\n",
    "print(mydataframe)"
   ]
  },
  {
   "cell_type": "code",
   "execution_count": 92,
   "metadata": {},
   "outputs": [
    {
     "name": "stdout",
     "output_type": "stream",
     "text": [
      "[[5, 'soap', 120], [6, 'perfume', 500], [7, 'deo', 290], [8, 'powder', 160]]\n"
     ]
    }
   ],
   "source": [
    "mylist=mydataframe.values.tolist()      # extract all rows\n",
    "print(mylist)"
   ]
  },
  {
   "cell_type": "code",
   "execution_count": 93,
   "metadata": {},
   "outputs": [
    {
     "name": "stdout",
     "output_type": "stream",
     "text": [
      "[[5, 120], [6, 500], [7, 290], [8, 160]]\n"
     ]
    }
   ],
   "source": [
    "mylist=mydataframe.iloc[:,[0,2]].values.tolist()     #  extract all rows of 0 and 2nd columns ( by skipping 1st column)\n",
    "print(mylist)"
   ]
  },
  {
   "cell_type": "markdown",
   "metadata": {},
   "source": [
    "#### Extract DataFrame columns randomly\n"
   ]
  },
  {
   "cell_type": "code",
   "execution_count": 94,
   "metadata": {},
   "outputs": [
    {
     "name": "stdout",
     "output_type": "stream",
     "text": [
      "   proid  proname  price\n",
      "0      5     soap    120\n",
      "1      6  perfume    500\n",
      "2      7      deo    290\n",
      "3      8   powder    160\n"
     ]
    }
   ],
   "source": [
    "# Example9d\n",
    "mydataframe=DataFrame({'proid':range(5,9),'proname':['soap','perfume','deo','powder'],'price':[120,500,290,160]})\n",
    "print(mydataframe)"
   ]
  },
  {
   "cell_type": "code",
   "execution_count": 96,
   "metadata": {},
   "outputs": [
    {
     "name": "stdout",
     "output_type": "stream",
     "text": [
      "[[5, 'soap', 120], [6, 'perfume', 500], [7, 'deo', 290], [8, 'powder', 160]]\n"
     ]
    }
   ],
   "source": [
    "mylist=mydataframe.values.tolist()\n",
    "print(mylist)"
   ]
  },
  {
   "cell_type": "code",
   "execution_count": 107,
   "metadata": {},
   "outputs": [
    {
     "name": "stdout",
     "output_type": "stream",
     "text": [
      "[[5, 'soap', 120], [6, 'perfume', 500]]\n"
     ]
    }
   ],
   "source": [
    "mylist=mydataframe.loc[0:1].values.tolist()\n",
    "print(mylist)"
   ]
  },
  {
   "cell_type": "code",
   "execution_count": 102,
   "metadata": {},
   "outputs": [
    {
     "name": "stdout",
     "output_type": "stream",
     "text": [
      "   proid  price\n",
      "1      6    500\n",
      "3      8    160\n"
     ]
    }
   ],
   "source": [
    "mylist=mydataframe.iloc[[1,3],[0,2]]\n",
    "print(mylist)"
   ]
  },
  {
   "cell_type": "markdown",
   "metadata": {},
   "source": [
    "### **Example_10_a_b**\n",
    "DataFrame built-in functions. Copy \"Book1.csv\" file inside pycharm project folder"
   ]
  },
  {
   "cell_type": "code",
   "execution_count": 2,
   "metadata": {},
   "outputs": [
    {
     "name": "stdout",
     "output_type": "stream",
     "text": [
      "     name  age   address\n",
      "0   Rohit   35    mumbai\n",
      "1   Virat   36     delhi\n",
      "2  Sachin   50    mumbai\n",
      "3  Ashwin   38   chennai\n",
      "4  Bumrah   29    mumbai\n",
      "5   Shami   33  banglore\n",
      "6  Yuvraj   43     delhi\n",
      "7   Dhoni   43     delhi\n",
      "8     Sky   29    mumbai\n",
      "9   Umesh   30  banglore\n"
     ]
    }
   ],
   "source": [
    "from pandas import *\n",
    "\n",
    "book=read_csv('Book1.csv')\n",
    "print(book)"
   ]
  },
  {
   "cell_type": "code",
   "execution_count": 109,
   "metadata": {},
   "outputs": [
    {
     "name": "stdout",
     "output_type": "stream",
     "text": [
      "Type of book is\t <class 'pandas.core.frame.DataFrame'>\n"
     ]
    }
   ],
   "source": [
    "print(\"Type of book is\\t\",type(book))"
   ]
  },
  {
   "cell_type": "code",
   "execution_count": 111,
   "metadata": {},
   "outputs": [
    {
     "name": "stdout",
     "output_type": "stream",
     "text": [
      "Let's print first 5 records\n",
      "     name  age  address\n",
      "0   Rohit   35   mumbai\n",
      "1   Virat   36    delhi\n",
      "2  Sachin   50   mumbai\n",
      "3  Ashwin   38  chennai\n",
      "4  Bumrah   29   mumbai\n"
     ]
    }
   ],
   "source": [
    "print(\"Let's print first 5 records\")    \n",
    "print(book.head())              # by default it will print to 5 records"
   ]
  },
  {
   "cell_type": "code",
   "execution_count": 112,
   "metadata": {},
   "outputs": [
    {
     "name": "stdout",
     "output_type": "stream",
     "text": [
      "Let's print first 3 records\n",
      "     name  age address\n",
      "0   Rohit   35  mumbai\n",
      "1   Virat   36   delhi\n",
      "2  Sachin   50  mumbai\n"
     ]
    }
   ],
   "source": [
    "print(\"Let's print first 3 records\")\n",
    "print(book.head(3))             # it will print top 3 records "
   ]
  },
  {
   "cell_type": "code",
   "execution_count": 113,
   "metadata": {},
   "outputs": [
    {
     "name": "stdout",
     "output_type": "stream",
     "text": [
      "Print all the recoreds except last 3 records\n",
      "     name  age   address\n",
      "0   Rohit   35    mumbai\n",
      "1   Virat   36     delhi\n",
      "2  Sachin   50    mumbai\n",
      "3  Ashwin   38   chennai\n",
      "4  Bumrah   29    mumbai\n",
      "5   Shami   33  banglore\n",
      "6  Yuvraj   43     delhi\n"
     ]
    }
   ],
   "source": [
    "print(\"Print all the recoreds except last 3 records\")\n",
    "print(book.head(-3))        #  print all the records except last 3 records"
   ]
  },
  {
   "cell_type": "code",
   "execution_count": 114,
   "metadata": {},
   "outputs": [
    {
     "name": "stdout",
     "output_type": "stream",
     "text": [
      "Let's print last 5 records\n",
      "     name  age   address\n",
      "5   Shami   33  banglore\n",
      "6  Yuvraj   43     delhi\n",
      "7   Dhoni   43     delhi\n",
      "8     Sky   29    mumbai\n",
      "9   Umesh   30  banglore\n"
     ]
    }
   ],
   "source": [
    "print(\"Let's print last 5 records\")\n",
    "print(book.tail())      # [-5:]"
   ]
  },
  {
   "cell_type": "code",
   "execution_count": 115,
   "metadata": {},
   "outputs": [
    {
     "name": "stdout",
     "output_type": "stream",
     "text": [
      "Let's print last 2 records\n",
      "    name  age   address\n",
      "8    Sky   29    mumbai\n",
      "9  Umesh   30  banglore\n"
     ]
    }
   ],
   "source": [
    "print(\"Let's print last 2 records\")     # [-2:]\n",
    "print(book.tail(2))"
   ]
  },
  {
   "cell_type": "code",
   "execution_count": 116,
   "metadata": {},
   "outputs": [
    {
     "name": "stdout",
     "output_type": "stream",
     "text": [
      "Print all the records except first 3 records\n",
      "     name  age   address\n",
      "3  Ashwin   38   chennai\n",
      "4  Bumrah   29    mumbai\n",
      "5   Shami   33  banglore\n",
      "6  Yuvraj   43     delhi\n",
      "7   Dhoni   43     delhi\n",
      "8     Sky   29    mumbai\n",
      "9   Umesh   30  banglore\n"
     ]
    }
   ],
   "source": [
    "print(\"Print all the records except first 3 records\")\n",
    "print(book.tail(-3))        # [-(-3):]"
   ]
  },
  {
   "cell_type": "code",
   "execution_count": 117,
   "metadata": {},
   "outputs": [
    {
     "name": "stdout",
     "output_type": "stream",
     "text": [
      "Total no. of rows and columns in the file\n",
      "(10, 3)\n"
     ]
    }
   ],
   "source": [
    "print(\"Total no. of rows and columns in the file\")\n",
    "print(book.shape)                   # 10 rows and 3 columns"
   ]
  },
  {
   "cell_type": "code",
   "execution_count": 118,
   "metadata": {},
   "outputs": [
    {
     "name": "stdout",
     "output_type": "stream",
     "text": [
      "             age\n",
      "count  10.000000\n",
      "mean   36.600000\n",
      "std     6.979335\n",
      "min    29.000000\n",
      "25%    30.750000\n",
      "50%    35.500000\n",
      "75%    41.750000\n",
      "max    50.000000\n"
     ]
    }
   ],
   "source": [
    "print(book.describe())          # it will give all the mathematical terms"
   ]
  },
  {
   "cell_type": "code",
   "execution_count": 119,
   "metadata": {},
   "outputs": [
    {
     "name": "stdout",
     "output_type": "stream",
     "text": [
      "Let's extract first 3 records with 2 columns only\n",
      "     name  age\n",
      "0   Rohit   35\n",
      "1   Virat   36\n",
      "2  Sachin   50\n"
     ]
    }
   ],
   "source": [
    "print(\"Let's extract first 3 records with 2 columns only\")\n",
    "print(book.iloc[:3,:2])"
   ]
  },
  {
   "cell_type": "code",
   "execution_count": 4,
   "metadata": {},
   "outputs": [
    {
     "name": "stdout",
     "output_type": "stream",
     "text": [
      "     name  address\n",
      "0   Rohit   mumbai\n",
      "1   Virat    delhi\n",
      "2  Sachin   mumbai\n",
      "3  Ashwin  chennai\n",
      "4  Bumrah   mumbai\n"
     ]
    }
   ],
   "source": [
    "print(book.loc[0:4,('name','address')])     #  Access a group of rows and columns by label(s) , 4 is inclusive here"
   ]
  },
  {
   "cell_type": "code",
   "execution_count": 6,
   "metadata": {},
   "outputs": [
    {
     "name": "stdout",
     "output_type": "stream",
     "text": [
      "Let's drop a particular column\n",
      "     name   address\n",
      "0   Rohit    mumbai\n",
      "1   Virat     delhi\n",
      "2  Sachin    mumbai\n",
      "3  Ashwin   chennai\n",
      "4  Bumrah    mumbai\n",
      "5   Shami  banglore\n",
      "6  Yuvraj     delhi\n",
      "7   Dhoni     delhi\n",
      "8     Sky    mumbai\n",
      "9   Umesh  banglore\n"
     ]
    }
   ],
   "source": [
    "print(\"Let's drop a particular column\")\n",
    "print(book.drop('age',axis=1))          # here axis=1  means we want to drop the column"
   ]
  },
  {
   "cell_type": "code",
   "execution_count": 8,
   "metadata": {},
   "outputs": [
    {
     "name": "stdout",
     "output_type": "stream",
     "text": [
      "Let's drop some rows\n",
      "     name  age   address\n",
      "0   Rohit   35    mumbai\n",
      "1   Virat   36     delhi\n",
      "2  Sachin   50    mumbai\n",
      "7   Dhoni   43     delhi\n",
      "8     Sky   29    mumbai\n",
      "9   Umesh   30  banglore\n"
     ]
    }
   ],
   "source": [
    "print(\"Let's drop some rows\")\n",
    "print(book.drop([3,4,5,6]))         # here axis=0  means we want to drop rows"
   ]
  },
  {
   "cell_type": "code",
   "execution_count": 12,
   "metadata": {},
   "outputs": [
    {
     "name": "stdout",
     "output_type": "stream",
     "text": [
      "Let's drop name column and 1, 3, 7 rows\n",
      "   age   address\n",
      "0   35    mumbai\n",
      "2   50    mumbai\n",
      "4   29    mumbai\n",
      "5   33  banglore\n",
      "6   43     delhi\n",
      "8   29    mumbai\n",
      "9   30  banglore\n"
     ]
    }
   ],
   "source": [
    "print(\"Let's drop name column and 1, 3, 7 rows\")\n",
    "print(book.drop((\"name\"),axis='columns').drop([1,3,7],axis='rows'))"
   ]
  },
  {
   "cell_type": "code",
   "execution_count": null,
   "metadata": {},
   "outputs": [],
   "source": [
    "cancel=['address','age']\n",
    "book1=read_csv(\"Book1.csv\").drop(cancel,axis='columns')\n",
    "print(book1)"
   ]
  },
  {
   "cell_type": "code",
   "execution_count": 13,
   "metadata": {},
   "outputs": [
    {
     "name": "stdout",
     "output_type": "stream",
     "text": [
      "     name  age   address\n",
      "0   Rohit   35    mumbai\n",
      "1   Virat   36     delhi\n",
      "2  Sachin   50    mumbai\n",
      "3  Ashwin   38   chennai\n",
      "4  Bumrah   29    mumbai\n",
      "5   Shami   33  banglore\n",
      "6  Yuvraj   43     delhi\n",
      "7   Dhoni   43     delhi\n",
      "8     Sky   29    mumbai\n",
      "9   Umesh   30  banglore\n"
     ]
    }
   ],
   "source": [
    "#Example_10_a Difference between traditional reading and pandas way of reading\n",
    "from pandas import *\n",
    "\n",
    "myfile=read_csv('Book1.csv')\n",
    "print(myfile)"
   ]
  },
  {
   "cell_type": "code",
   "execution_count": 1,
   "metadata": {},
   "outputs": [
    {
     "name": "stdout",
     "output_type": "stream",
     "text": [
      "Let's us read the file in a traditional way\n",
      "name,age,address\n",
      "\n",
      "Rohit,35,mumbai\n",
      "\n",
      "Virat,36,delhi\n",
      "\n",
      "Sachin,50,mumbai\n",
      "\n",
      "Ashwin,38,chennai\n",
      "\n",
      "Bumrah,29,mumbai\n",
      "\n",
      "Shami,33,banglore\n",
      "\n",
      "Yuvraj,43,delhi\n",
      "\n",
      "Dhoni,43,delhi\n",
      "\n",
      "Sky,29,mumbai\n",
      "\n",
      "Umesh,30,banglore\n",
      "\n",
      "Done\n"
     ]
    }
   ],
   "source": [
    "print(\"Let's us read the file in a traditional way\")\n",
    "f=open('Book1.csv','r')\n",
    "for content in f:\n",
    "    print(content)\n",
    "f.close()\n",
    "print(\"Done\")"
   ]
  },
  {
   "cell_type": "code",
   "execution_count": 2,
   "metadata": {},
   "outputs": [
    {
     "name": "stdout",
     "output_type": "stream",
     "text": [
      "     Name  Age   Address\n",
      "0  Sachin   40    Mumbai\n",
      "1   Rahul   45  Banglore\n"
     ]
    }
   ],
   "source": [
    "# Example10_b\n",
    "from pandas import *\n",
    "\n",
    "myfile=read_json('details.json')\n",
    "print(myfile)"
   ]
  },
  {
   "cell_type": "code",
   "execution_count": 3,
   "metadata": {},
   "outputs": [
    {
     "name": "stdout",
     "output_type": "stream",
     "text": [
      "Let's us read the file in traditional way\n",
      "[\n",
      "\n",
      "\t{\n",
      "\n",
      "\t\t\"Name\": \"Sachin\",\n",
      "\n",
      "\t\t\"Age\":  40,\n",
      "\n",
      "\t\t\"Address\": \"Mumbai\"\n",
      "\n",
      "\t},\n",
      "\n",
      "\t{\n",
      "\n",
      "\t\t\"Name\": \"Rahul\",\n",
      "\n",
      "\t\t\"Age\": 45,\n",
      "\n",
      "\t\t\"Address\": \"Banglore\"\n",
      "\n",
      "\t}\n",
      "\n",
      "]\n",
      "Done\n"
     ]
    }
   ],
   "source": [
    "print(\"Let's us read the file in traditional way\")\n",
    "f=open('details.json','r')\n",
    "for content in f:\n",
    "    print(content)\n",
    "f.close()\n",
    "print('Done')"
   ]
  },
  {
   "cell_type": "markdown",
   "metadata": {},
   "source": [
    "#### **Example_11**"
   ]
  },
  {
   "cell_type": "code",
   "execution_count": 4,
   "metadata": {},
   "outputs": [
    {
     "name": "stdout",
     "output_type": "stream",
     "text": [
      "   points  assists  rebounds  blocks\n",
      "0      25        5        11       4\n",
      "1      12        7         8       7\n",
      "2      15        7        10       7\n",
      "3      14        9         6       6\n",
      "4      19       12         6       5\n",
      "5      23        9         5       8\n",
      "6      25        9         9       9\n",
      "7      29        4        12      10\n"
     ]
    }
   ],
   "source": [
    "from pandas import *\n",
    "\n",
    "mydataframe=DataFrame({'points':[25,12,15,14,19,23,25,29],'assists':[5,7,7,9,12,9,9,4],'rebounds':[11,8,10,6,6,5,9,12],'blocks':[4,7,7,6,5,8,9,10]})\n",
    "print(mydataframe)"
   ]
  },
  {
   "cell_type": "code",
   "execution_count": 5,
   "metadata": {},
   "outputs": [
    {
     "name": "stdout",
     "output_type": "stream",
     "text": [
      "Select Columns by Index\n",
      "   assists  blocks\n",
      "0        5       4\n",
      "1        7       7\n",
      "2        7       7\n",
      "3        9       6\n",
      "4       12       5\n",
      "5        9       8\n",
      "6        9       9\n",
      "7        4      10\n"
     ]
    }
   ],
   "source": [
    "print(\"Select Columns by Index\")\n",
    "print(mydataframe.iloc[:,[1,3]])"
   ]
  },
  {
   "cell_type": "code",
   "execution_count": 7,
   "metadata": {},
   "outputs": [
    {
     "name": "stdout",
     "output_type": "stream",
     "text": [
      "Select Columns in Index Range\n",
      "   points  assists  rebounds\n",
      "0      25        5        11\n",
      "1      12        7         8\n",
      "2      15        7        10\n",
      "3      14        9         6\n",
      "4      19       12         6\n",
      "5      23        9         5\n",
      "6      25        9         9\n",
      "7      29        4        12\n"
     ]
    }
   ],
   "source": [
    "print(\"Select Columns in Index Range\")\n",
    "print(mydataframe.iloc[:,0:3])      # 3 is exclusive"
   ]
  },
  {
   "cell_type": "code",
   "execution_count": 8,
   "metadata": {},
   "outputs": [
    {
     "name": "stdout",
     "output_type": "stream",
     "text": [
      "Select columns by name\n",
      "   assists  blocks\n",
      "0        5       4\n",
      "1        7       7\n",
      "2        7       7\n",
      "3        9       6\n",
      "4       12       5\n",
      "5        9       8\n",
      "6        9       9\n",
      "7        4      10\n"
     ]
    }
   ],
   "source": [
    "print(\"Select columns by name\")\n",
    "print(mydataframe[['assists','blocks']])"
   ]
  },
  {
   "cell_type": "markdown",
   "metadata": {},
   "source": [
    "### **Example12**\n",
    "More Pandas Function. Using **numeric_only=True** causes df.mean() to ignore columns that contain non-numbers, and only calculate the mean for columns that **only contain numbers**."
   ]
  },
  {
   "cell_type": "code",
   "execution_count": 9,
   "metadata": {},
   "outputs": [
    {
     "name": "stdout",
     "output_type": "stream",
     "text": [
      "     sepal.length  sepal.width  petal.length  petal.width    variety\n",
      "0             5.1          3.5           1.4          0.2     Setosa\n",
      "1             4.9          3.0           1.4          0.2     Setosa\n",
      "2             4.7          3.2           1.3          0.2     Setosa\n",
      "3             4.6          3.1           1.5          0.2     Setosa\n",
      "4             5.0          3.6           1.4          0.2     Setosa\n",
      "..            ...          ...           ...          ...        ...\n",
      "145           6.7          3.0           5.2          2.3  Virginica\n",
      "146           6.3          2.5           5.0          1.9  Virginica\n",
      "147           6.5          3.0           5.2          2.0  Virginica\n",
      "148           6.2          3.4           5.4          2.3  Virginica\n",
      "149           5.9          3.0           5.1          1.8  Virginica\n",
      "\n",
      "[150 rows x 5 columns]\n"
     ]
    }
   ],
   "source": [
    "from pandas import *\n",
    "\n",
    "iris=read_csv(\"iris.csv\")\n",
    "print(iris)"
   ]
  },
  {
   "cell_type": "code",
   "execution_count": 12,
   "metadata": {},
   "outputs": [
    {
     "name": "stdout",
     "output_type": "stream",
     "text": [
      "sepal.length    5.843333\n",
      "sepal.width     3.057333\n",
      "petal.length    3.758000\n",
      "petal.width     1.199333\n",
      "dtype: float64\n"
     ]
    }
   ],
   "source": [
    "print(iris.mean(numeric_only=True))"
   ]
  },
  {
   "cell_type": "code",
   "execution_count": 13,
   "metadata": {},
   "outputs": [
    {
     "name": "stdout",
     "output_type": "stream",
     "text": [
      "sepal.length    5.80\n",
      "sepal.width     3.00\n",
      "petal.length    4.35\n",
      "petal.width     1.30\n",
      "dtype: float64\n"
     ]
    }
   ],
   "source": [
    "print(iris.median(numeric_only=True))"
   ]
  },
  {
   "cell_type": "code",
   "execution_count": 14,
   "metadata": {},
   "outputs": [
    {
     "name": "stdout",
     "output_type": "stream",
     "text": [
      "sepal.length    4.3\n",
      "sepal.width     2.0\n",
      "petal.length    1.0\n",
      "petal.width     0.1\n",
      "dtype: float64\n"
     ]
    }
   ],
   "source": [
    "print(iris.min(numeric_only=True))"
   ]
  },
  {
   "cell_type": "code",
   "execution_count": 15,
   "metadata": {},
   "outputs": [
    {
     "name": "stdout",
     "output_type": "stream",
     "text": [
      "sepal.length    7.9\n",
      "sepal.width     4.4\n",
      "petal.length    6.9\n",
      "petal.width     2.5\n",
      "dtype: float64\n"
     ]
    }
   ],
   "source": [
    "print(iris.max(numeric_only=True))"
   ]
  },
  {
   "cell_type": "markdown",
   "metadata": {},
   "source": [
    "### **Example_13_a**\n",
    "How to read JSON file"
   ]
  },
  {
   "cell_type": "code",
   "execution_count": 16,
   "metadata": {},
   "outputs": [
    {
     "name": "stdout",
     "output_type": "stream",
     "text": [
      "     Name  Age   Address\n",
      "0  Sachin   40    Mumbai\n",
      "1   Rahul   45  Banglore\n"
     ]
    }
   ],
   "source": [
    "from pandas import *\n",
    "mydataframe=read_json(\"details.json\")\n",
    "print(mydataframe)"
   ]
  },
  {
   "cell_type": "markdown",
   "metadata": {},
   "source": [
    "#### In this we are working with excel Sheet"
   ]
  },
  {
   "cell_type": "code",
   "execution_count": 18,
   "metadata": {},
   "outputs": [
    {
     "name": "stdout",
     "output_type": "stream",
     "text": [
      "     Name   address\n",
      "0   Rohit    Mumbai\n",
      "1  Viraat     Delhi\n",
      "2  Ashwin   Chennai\n",
      "3   Dhoni  Zarkhand\n"
     ]
    }
   ],
   "source": [
    "# pip install xlrd\n",
    "import pandas as pd\n",
    "mydataframe=pd.read_excel('ForPandas.xls')\n",
    "print(mydataframe)"
   ]
  },
  {
   "cell_type": "code",
   "execution_count": 19,
   "metadata": {},
   "outputs": [
    {
     "name": "stdout",
     "output_type": "stream",
     "text": [
      "Let's print Sheet2\n",
      "   Proname  price\n",
      "0     soap    120\n",
      "1  perfume    400\n",
      "2      deo    300\n",
      "3  hairoil    150\n"
     ]
    }
   ],
   "source": [
    "print(\"Let's print Sheet2\")\n",
    "mydataframe=pd.read_excel('ForPandas.xls',sheet_name='Sheet2')\n",
    "print(mydataframe)"
   ]
  },
  {
   "cell_type": "markdown",
   "metadata": {},
   "source": [
    "### **Example_14**\n",
    "In this we converted our dictionary of lists to csv & json format"
   ]
  },
  {
   "cell_type": "code",
   "execution_count": 22,
   "metadata": {},
   "outputs": [
    {
     "name": "stdout",
     "output_type": "stream",
     "text": [
      "{'proid': [1, 2, 3, 4], 'proname': ['Soap', 'Perfume', 'Deo', 'Body_Wash'], 'price': [120, 400, 500, 150]}\n"
     ]
    }
   ],
   "source": [
    "import pandas as pd\n",
    "proid=[1,2,3,4]\n",
    "proname=['Soap','Perfume','Deo','Body_Wash']\n",
    "price=[120,400,500,150]\n",
    "\n",
    "mydictionary={'proid':proid,'proname':proname,'price':price}\n",
    "mydataframe=pd.DataFrame(mydictionary)\n",
    "print(mydictionary)"
   ]
  },
  {
   "cell_type": "code",
   "execution_count": 23,
   "metadata": {},
   "outputs": [],
   "source": [
    "mydataframe.to_csv('pord.csv')\n",
    "mydataframe.to_json('produc.json')"
   ]
  },
  {
   "cell_type": "markdown",
   "metadata": {},
   "source": [
    "### **Example15**\n",
    "In this we have used openpyxl"
   ]
  },
  {
   "cell_type": "code",
   "execution_count": 9,
   "metadata": {},
   "outputs": [
    {
     "name": "stdout",
     "output_type": "stream",
     "text": [
      "   proid    proname  price\n",
      "0      1       Soap    120\n",
      "1      2    Perfume    400\n",
      "2      3        Deo    250\n",
      "3      4  Body_Wash    180\n"
     ]
    }
   ],
   "source": [
    "# pip install openpyxl\n",
    "\n",
    "import pandas as pd\n",
    "proid=[1,2,3,4]\n",
    "proname = [\"Soap\",\"Perfume\",\"Deo\",\"Body_Wash\"]\n",
    "price = [120,400,250,180]\n",
    "mydictionary = {'proid':proid,'proname':proname,'price':price}\n",
    "mydataframe =pd.DataFrame(mydictionary)\n",
    "print(mydataframe)"
   ]
  },
  {
   "cell_type": "code",
   "execution_count": 14,
   "metadata": {},
   "outputs": [],
   "source": [
    "mydataframe.to_excel(\"prod.xlsx\",sheet_name=\"prod_sheet\",index=False)"
   ]
  },
  {
   "cell_type": "markdown",
   "metadata": {},
   "source": [
    "### **Example_16**\n",
    "The ExcelWriter object allows you to use multiple pandas. DataFrame objects can be exported to separate sheets."
   ]
  },
  {
   "cell_type": "code",
   "execution_count": 15,
   "metadata": {},
   "outputs": [],
   "source": [
    "import pandas as pd\n",
    "proid=[1,2,3,4]\n",
    "proname = [\"Soap\",\"Perfume\",\"Deo\",\"Body_Wash\"]\n",
    "price = [120,400,250,180]\n",
    "\n",
    "mydictionary1={'proid':proid,'proname':proname,'price':price}\n",
    "mydataframe1=pd.DataFrame(mydictionary1)"
   ]
  },
  {
   "cell_type": "code",
   "execution_count": 17,
   "metadata": {},
   "outputs": [],
   "source": [
    "name=['Abc','Xyz','Pqr']\n",
    "designation=['officer','manager','salesexecutive']\n",
    "salary=[40000,60000,70000]"
   ]
  },
  {
   "cell_type": "code",
   "execution_count": 19,
   "metadata": {},
   "outputs": [
    {
     "name": "stdout",
     "output_type": "stream",
     "text": [
      "   proid    proname  price\n",
      "0      1       Soap    120\n",
      "1      2    Perfume    400\n",
      "2      3        Deo    250\n",
      "3      4  Body_Wash    180\n"
     ]
    }
   ],
   "source": [
    "mydictionary2={'name':name,'designation':designation,'salary':salary}\n",
    "mydataframe2=pd.DataFrame(mydictionary2)\n",
    "print(mydataframe1)"
   ]
  },
  {
   "cell_type": "code",
   "execution_count": 20,
   "metadata": {},
   "outputs": [
    {
     "name": "stdout",
     "output_type": "stream",
     "text": [
      "  name     designation  salary\n",
      "0  Abc         officer   40000\n",
      "1  Xyz         manager   60000\n",
      "2  Pqr  salesexecutive   70000\n"
     ]
    }
   ],
   "source": [
    "print(mydataframe2)"
   ]
  },
  {
   "cell_type": "code",
   "execution_count": 22,
   "metadata": {},
   "outputs": [],
   "source": [
    "mydataframe1.to_excel(\"prod2.xlsx\",sheet_name=\"prod_sheet\",index=False)\n",
    "mydataframe2.to_excel(\"prod2.xlsx\",sheet_name=\"employee_sheet\",index=False)"
   ]
  },
  {
   "cell_type": "code",
   "execution_count": null,
   "metadata": {},
   "outputs": [],
   "source": []
  }
 ],
 "metadata": {
  "colab": {
   "provenance": []
  },
  "kernelspec": {
   "display_name": "venv",
   "language": "python",
   "name": "python3"
  },
  "language_info": {
   "codemirror_mode": {
    "name": "ipython",
    "version": 3
   },
   "file_extension": ".py",
   "mimetype": "text/x-python",
   "name": "python",
   "nbconvert_exporter": "python",
   "pygments_lexer": "ipython3",
   "version": "3.10.2"
  }
 },
 "nbformat": 4,
 "nbformat_minor": 0
}
