{
 "cells": [
  {
   "cell_type": "markdown",
   "metadata": {},
   "source": [
    "# **Day6**"
   ]
  },
  {
   "cell_type": "markdown",
   "metadata": {},
   "source": [
    "## **What is Exception?**"
   ]
  },
  {
   "cell_type": "markdown",
   "metadata": {},
   "source": [
    "An exception is an event, which occurs during the execution of a program, that interrupts the normal flow of the program's instructions."
   ]
  },
  {
   "cell_type": "markdown",
   "metadata": {},
   "source": [
    "### **Example**"
   ]
  },
  {
   "cell_type": "code",
   "execution_count": 1,
   "metadata": {},
   "outputs": [
    {
     "ename": "ZeroDivisionError",
     "evalue": "division by zero",
     "output_type": "error",
     "traceback": [
      "\u001b[1;31m---------------------------------------------------------------------------\u001b[0m",
      "\u001b[1;31mZeroDivisionError\u001b[0m                         Traceback (most recent call last)",
      "Cell \u001b[1;32mIn[1], line 2\u001b[0m\n\u001b[0;32m      1\u001b[0m var\u001b[38;5;241m=\u001b[39m\u001b[38;5;241m5\u001b[39m\n\u001b[1;32m----> 2\u001b[0m \u001b[38;5;28mprint\u001b[39m(\u001b[43mvar\u001b[49m\u001b[38;5;241;43m/\u001b[39;49m\u001b[38;5;241;43m0\u001b[39;49m)\n\u001b[0;32m      3\u001b[0m \u001b[38;5;28mprint\u001b[39m(\u001b[38;5;124m\"\u001b[39m\u001b[38;5;124mdone\u001b[39m\u001b[38;5;124m\"\u001b[39m)\n",
      "\u001b[1;31mZeroDivisionError\u001b[0m: division by zero"
     ]
    }
   ],
   "source": [
    "var=5\n",
    "print(var/0)\n",
    "print(\"done\")"
   ]
  },
  {
   "cell_type": "markdown",
   "metadata": {},
   "source": [
    "### **E1**"
   ]
  },
  {
   "cell_type": "code",
   "execution_count": 2,
   "metadata": {},
   "outputs": [
    {
     "name": "stdout",
     "output_type": "stream",
     "text": [
      "You can't divide any number by 0\n",
      "done\n"
     ]
    }
   ],
   "source": [
    "var=5\n",
    "try:\n",
    "    print(var/0)\n",
    "except ZeroDivisionError:\n",
    "# except Exception:     # you can also use this as except\n",
    "    print(\"You can't divide any number by 0\")\n",
    "print(\"done\")"
   ]
  },
  {
   "cell_type": "markdown",
   "metadata": {},
   "source": [
    "### **E2**"
   ]
  },
  {
   "cell_type": "code",
   "execution_count": null,
   "metadata": {},
   "outputs": [],
   "source": [
    "print(\"Let's open a file\")\n",
    "open(\"d:\\\\sample1.txt\",\"r\")\n",
    "print(\"done\")"
   ]
  },
  {
   "cell_type": "markdown",
   "metadata": {},
   "source": [
    "### **E3**"
   ]
  },
  {
   "cell_type": "code",
   "execution_count": null,
   "metadata": {},
   "outputs": [],
   "source": [
    "print(\"Let's open a file\")\n",
    "try:\n",
    "    open(\"d:\\\\sample1.txt\",\"r\")\n",
    "except FileNotFoundError:\n",
    "    print(\"File not found\")\n",
    "print(\"done\")"
   ]
  },
  {
   "cell_type": "markdown",
   "metadata": {},
   "source": [
    "### **E4**"
   ]
  },
  {
   "cell_type": "code",
   "execution_count": null,
   "metadata": {},
   "outputs": [],
   "source": [
    "def fun():\n",
    "\n",
    "\ttry:\n",
    "\t\tf=open(\"d:\\\\FileDemo1.java\",\"r\")\n",
    "\texcept FileNotFoundError:\n",
    "\t\tprint(\"File not Found\")\n",
    "\tfinally:\n",
    "\t\tprint(\"I will always execute\")\n",
    "\tprint(\"Done\")\n",
    "fun()"
   ]
  },
  {
   "cell_type": "markdown",
   "metadata": {},
   "source": [
    "### **E5**"
   ]
  },
  {
   "cell_type": "code",
   "execution_count": null,
   "metadata": {},
   "outputs": [],
   "source": [
    "def fun():\n",
    "\n",
    "\ttry:\n",
    "\t\tf=open(\"d:\\\\FileDemo.java\",\"r\")\n",
    "\texcept FileNotFoundError:\n",
    "\t\tprint(\"File not Found\")\n",
    "\tfinally:\n",
    "\t\tprint(\"I will always execute\")\n",
    "\tprint(\"Done\")\n",
    "fun()"
   ]
  },
  {
   "cell_type": "markdown",
   "metadata": {},
   "source": [
    "### **E6**"
   ]
  },
  {
   "cell_type": "code",
   "execution_count": null,
   "metadata": {},
   "outputs": [],
   "source": [
    "def fun():\n",
    "\n",
    "\ttry:\n",
    "\t\tf=open(\"d:\\\\FileDemo1.java\",\"r\")\n",
    "\tfinally:\n",
    "\t\tprint(\"I will always execute\")\n",
    "\tprint(\"Done\")\n",
    "fun()\n"
   ]
  },
  {
   "cell_type": "markdown",
   "metadata": {},
   "source": [
    "### **E7**"
   ]
  },
  {
   "cell_type": "code",
   "execution_count": null,
   "metadata": {},
   "outputs": [],
   "source": [
    "# generic catch block\n",
    "\n",
    "def fun():\n",
    "\ttry:\n",
    "\t\tf=open(\"d:\\\\FileDemo.java\",\"r\")\n",
    "\t\tfor content in f:\n",
    "\t\t\tprint(content)\n",
    "\t\tvar=10/0\n",
    "\texcept Exception as e:\n",
    "\t\t#print(\"some other error\\t\",e.__str__())\n",
    "\t\tprint(\"some other error\\t\",e)\n",
    "\tprint(\"Done\")\n",
    "fun()\n"
   ]
  },
  {
   "cell_type": "markdown",
   "metadata": {},
   "source": [
    "### **E8**"
   ]
  },
  {
   "cell_type": "code",
   "execution_count": null,
   "metadata": {},
   "outputs": [],
   "source": [
    "\n",
    "def fun():\n",
    "\ttry:\n",
    "\t\tf=open(\"d:\\\\FileDemo.java\",\"r\")\n",
    "\t\tfor content in f:\n",
    "\t\t\tprint(content)\n",
    "\t\tvar=10/0\n",
    "\texcept Exception as e:\n",
    "\t\tprint(\"some other error\\t\",e)\n",
    "\texcept ZeroDivisionError as z:\n",
    "\t\tprint(\"error is\\t\",z)\n",
    "\tprint(\"Done\")\n",
    "fun()"
   ]
  },
  {
   "cell_type": "markdown",
   "metadata": {},
   "source": [
    "### **E9**"
   ]
  },
  {
   "cell_type": "code",
   "execution_count": null,
   "metadata": {},
   "outputs": [],
   "source": [
    "def fun():\n",
    "\ttry:\n",
    "\t\tf=open(\"d:\\\\FileDemoo.java\",\"r\")\n",
    "\t\tfor content in f:\n",
    "\t\t\tprint(content)\n",
    "\t\tvar=10/0\n",
    "\texcept ZeroDivisionError as z:\n",
    "\t\tprint(\"error is\\t\",z)\n",
    "\texcept Exception as e:\n",
    "\t\tprint(\"some other error\\t\",e)\n",
    "\tprint(\"Done\")\n",
    "fun()"
   ]
  },
  {
   "cell_type": "markdown",
   "metadata": {},
   "source": [
    "### **RaiseException1**"
   ]
  },
  {
   "cell_type": "code",
   "execution_count": null,
   "metadata": {},
   "outputs": [],
   "source": [
    "def double(var):\n",
    "\tif var<=0:\n",
    "\t\traise Exception(\"IllegalValue Exception\")\n",
    "\treturn var*var\n",
    "\n",
    "def fun():\n",
    "\ttry:\n",
    "\t\tprint(double(4))\n",
    "\texcept Exception as e:\n",
    "\t\tprint(\"error is\\t\",e.__str__())\n",
    "\tprint(\"Done\")\n",
    "fun()"
   ]
  },
  {
   "cell_type": "markdown",
   "metadata": {},
   "source": [
    "### **RaiesException2**"
   ]
  },
  {
   "cell_type": "code",
   "execution_count": null,
   "metadata": {},
   "outputs": [],
   "source": [
    "def double(var):\n",
    "\tif var<=0:\n",
    "\t\traise Exception(\"IllegalValue Exception\")\n",
    "\treturn var*var\n",
    "\n",
    "def fun():\n",
    "\ttry:\n",
    "\t\tprint(double(-4))\n",
    "\texcept Exception as e:\n",
    "\t\tprint(\"error is\\t\",e.__str__())\n",
    "\tprint(\"Done\")\n",
    "fun()\n",
    "\n",
    "\n",
    "# Output:\n",
    "\n",
    "# error is\t IllegalValue Exception\n",
    "# Done"
   ]
  },
  {
   "cell_type": "markdown",
   "metadata": {},
   "source": [
    "### **UserDefinedException1**"
   ]
  },
  {
   "cell_type": "code",
   "execution_count": null,
   "metadata": {},
   "outputs": [],
   "source": [
    "# Exception class has following \"__init__()\" method:\n",
    "\n",
    "\"\"\" \n",
    "def __init__(self,message=None)\n",
    "\tself.message=message\n",
    "\"\"\"\n",
    "\n",
    "\n",
    "class IllegalValue(Exception):\n",
    "\tpass\n",
    "\n",
    "def double(var):\n",
    "\tif var<=0:\n",
    "\t\traise IllegalValue(\"Number cannot be negative or zero\")\n",
    "\t\t# raise IllegalValue()\n",
    "\treturn var*var\n",
    "\n",
    "def fun():\n",
    "\ttry:\n",
    "\t\tprint(double(-4))\n",
    "\texcept Exception as e:\n",
    "\t\tprint(\"error is\\t\",e.__str__())\n",
    "\tprint(\"Done\")\n",
    "fun()"
   ]
  },
  {
   "cell_type": "markdown",
   "metadata": {},
   "source": [
    "## **Generator_info**"
   ]
  },
  {
   "cell_type": "markdown",
   "metadata": {},
   "source": [
    "### **Iterator vs Generator**"
   ]
  },
  {
   "cell_type": "markdown",
   "metadata": {},
   "source": [
    "To understand what yield does, you must understand what generators are. And before you can understand generators, you must understand iterables.\n",
    "Iterables\n",
    "When you create a list, you can read its items one by one. Reading its items one by one is called iteration:\n",
    "```\n",
    "mylist = [1, 2, 3]\n",
    "for i in mylist:\n",
    "    print(i)\n",
    "1\n",
    "2\n",
    "3\n",
    "```\n",
    "mylist is an iterable. When you use a list comprehension, you create a list, and so an iterable:\n",
    "```\n",
    "mylist = [x*x for x in range(3)]\n",
    "for i in mylist:\n",
    "    print(i)\n",
    "0\n",
    "1\n",
    "4\n",
    "```\n",
    "Everything you can use \"for... in...\" on is an iterable; lists, strings, files...\n",
    "These iterables are handy because you can read them as much as you wish, but you store all the values in memory and this is not always what you want when you have a lots of values.\n",
    "Generators\n",
    "Generators are iterators, a kind of iterable you can only iterate over once. Generators do not store all the values in memory, they generate the values on the fly:\n",
    "```\n",
    "mygenerator = (x*x for x in range(3))\n",
    "for i in mygenerator:\n",
    "    print(i)\n",
    "0\n",
    "1\n",
    "4\n",
    "```\n",
    "It is just the same except you used () instead of []. BUT, you cannot perform for i in mygenerator a second time since generators can only be used once: they calculate 0, then forget about it and calculate 1, and end calculating 4, one by one.\n",
    "\n"
   ]
  },
  {
   "cell_type": "markdown",
   "metadata": {},
   "source": [
    "#### **E1**"
   ]
  },
  {
   "cell_type": "code",
   "execution_count": 4,
   "metadata": {},
   "outputs": [
    {
     "name": "stdout",
     "output_type": "stream",
     "text": [
      "<class 'list'>\n",
      "0\n",
      "1\n",
      "4\n",
      "print again\n",
      "0\n",
      "1\n",
      "4\n",
      "and so on...........\n",
      "Let's see generator now\n",
      "<class 'generator'>\n",
      "0\n",
      "1\n",
      "4\n",
      "let's print again\n",
      "We've to regenerate the generator\n",
      "<class 'generator'>\n",
      "0\n",
      "1\n",
      "4\n"
     ]
    }
   ],
   "source": [
    "myiterator=[x*x for x in range(3)]     #   iterator or iterable (list ,tuple etc)\n",
    "print(type(myiterator))\n",
    "for i in myiterator:\n",
    "    print(i)\n",
    "print(\"print again\")\n",
    "for i in myiterator:\n",
    "    print(i)\n",
    "print(\"and so on...........\")\n",
    "# you can read them as much as you wish, as iterators store all the values in memory \n",
    "print(\"Let's see generator now\")\n",
    "mygenerator=(x*x for x in range(3))\n",
    "print(type(mygenerator))\n",
    "for i in mygenerator:\n",
    "    print(i)\n",
    "print(\"let's print again\")\n",
    "for i in mygenerator:\n",
    "    print(i)  # no output \n",
    "# this is because ,Generators do not store all the values in memory, they generate the values on the fly:\n",
    "# we have to regenerate the generator\n",
    "print(\"We've to regenerate the generator\")\n",
    "mygenerator=(x*x for x in range(3))\n",
    "print(type(mygenerator))\n",
    "for i in mygenerator:\n",
    "    print(i)"
   ]
  },
  {
   "cell_type": "markdown",
   "metadata": {},
   "source": [
    "### **What is a generator function**"
   ]
  },
  {
   "cell_type": "markdown",
   "metadata": {},
   "source": [
    "A generator is a special type of function which does not return a single value, instead, it returns an iterator object with a sequence of values. In a generator function, a \"yield\" statement is used rather than a return statement."
   ]
  },
  {
   "cell_type": "markdown",
   "metadata": {},
   "source": [
    "### **Difference between 'yield' and 'return'**"
   ]
  },
  {
   "cell_type": "code",
   "execution_count": 1,
   "metadata": {},
   "outputs": [
    {
     "name": "stdout",
     "output_type": "stream",
     "text": [
      "inside myfun\n",
      "val is\t 5\n",
      "5 \ttype of val is\t <class 'int'>\n",
      "type of myfun is\t <class 'function'>\n",
      "val is\t <generator object myfun at 0x0000019D4F65B610>\n",
      "<generator object myfun at 0x0000019D4F65B610> \ttype of val is\t <class 'generator'>\n",
      "type of myfun is\t <class 'function'>\n",
      "still 'inside myfun' statement is not executed\n",
      "inside myfun\n",
      "5\n"
     ]
    },
    {
     "data": {
      "text/plain": [
       "\"\\noutput:\\n\\nval is\\t <generator object myfun at 0x000001C5E72D9A10>\\n<generator object myfun at 0x000001C5E72D9A10> \\ttype of val is\\t <class 'generator'>\\ntype of myfun is\\t <class 'function'>\\nstill 'inside myfun' statement is not executed\\ninside myfun\\n5\\n\\n\""
      ]
     },
     "execution_count": 1,
     "metadata": {},
     "output_type": "execute_result"
    }
   ],
   "source": [
    "def myfun():\n",
    "    print(\"inside myfun\")\n",
    "    return 5\n",
    "\n",
    "val=myfun()\n",
    "print(\"val is\\t\",val)\n",
    "print(val,\"\\ttype of val is\\t\",type(val))\n",
    "print(\"type of myfun is\\t\",type(myfun))\n",
    "\n",
    "\n",
    "\"\"\" output:\n",
    "\n",
    "inside myfun\n",
    "val is\t 5\n",
    "5 \ttype of val is\t <class 'int'>\n",
    "type of myfun is\t <class 'function'>\n",
    "\n",
    "\"\"\"\n",
    "\n",
    "\n",
    "\n",
    "def myfun():\n",
    "    print(\"inside myfun\")\n",
    "    yield 5\n",
    "\n",
    "val=myfun()\n",
    "print(\"val is\\t\",val)\n",
    "print(val,\"\\ttype of val is\\t\",type(val))\n",
    "print(\"type of myfun is\\t\",type(myfun))\n",
    "print(\"still 'inside myfun' statement is not executed\")\n",
    "print(val.__next__())   # now it will get called\n",
    "\n",
    "\"\"\"\n",
    "output:\n",
    "\n",
    "val is\t <generator object myfun at 0x000001C5E72D9A10>\n",
    "<generator object myfun at 0x000001C5E72D9A10> \ttype of val is\t <class 'generator'>\n",
    "type of myfun is\t <class 'function'>\n",
    "still 'inside myfun' statement is not executed\n",
    "inside myfun\n",
    "5\n",
    "\n",
    "\"\"\""
   ]
  },
  {
   "cell_type": "markdown",
   "metadata": {},
   "source": [
    "#### **E1**"
   ]
  },
  {
   "cell_type": "code",
   "execution_count": 1,
   "metadata": {},
   "outputs": [
    {
     "name": "stdout",
     "output_type": "stream",
     "text": [
      "<class 'generator'>\n",
      "inside generator function\n",
      "1\n",
      "3\n",
      "5\n",
      "7\n",
      "9\n",
      "11\n",
      "13\n",
      "15\n",
      "17\n",
      "19\n"
     ]
    }
   ],
   "source": [
    "def returnOdds(val):    # generator function\n",
    "    print(\"inside generator function\")\n",
    "    for i in range(1,val+1):\n",
    "        if(i%2!=0):\n",
    "            yield i            # yield allows you to return generator \n",
    "\n",
    "\n",
    "mysequence=returnOdds(20)           # generator object\n",
    "print(type(mysequence))\n",
    "for i in mysequence:\n",
    "    print(i)"
   ]
  },
  {
   "cell_type": "markdown",
   "metadata": {},
   "source": [
    "#### **E1a**"
   ]
  },
  {
   "cell_type": "code",
   "execution_count": 2,
   "metadata": {},
   "outputs": [
    {
     "name": "stdout",
     "output_type": "stream",
     "text": [
      "<class 'generator'>\n",
      "id of mysequence is\t 1493559409712\n",
      "id of returnOdds is\t 1493560152784\n",
      "inside generator function\n",
      "before yield\n",
      "before print\n",
      "1\n",
      "after print\n",
      "after yield\n",
      "before yield\n",
      "before print\n",
      "3\n",
      "after print\n",
      "after yield\n",
      "before yield\n",
      "before print\n",
      "5\n",
      "after print\n",
      "after yield\n",
      "before yield\n",
      "before print\n",
      "7\n",
      "after print\n",
      "after yield\n",
      "before yield\n",
      "before print\n",
      "9\n",
      "after print\n",
      "after yield\n",
      "before yield\n",
      "before print\n",
      "11\n",
      "after print\n",
      "after yield\n",
      "before yield\n",
      "before print\n",
      "13\n",
      "after print\n",
      "after yield\n",
      "before yield\n",
      "before print\n",
      "15\n",
      "after print\n",
      "after yield\n",
      "before yield\n",
      "before print\n",
      "17\n",
      "after print\n",
      "after yield\n",
      "before yield\n",
      "before print\n",
      "19\n",
      "after print\n",
      "after yield\n",
      "after for loop of returnOdds\n",
      "after for loop of caller\n",
      "let's print again\n",
      "id of mysequence is\t 1493559405120\n",
      "id of returnOdds is\t 1493560152784\n",
      "reset the generator\n",
      "inside generator function\n",
      "before yield\n",
      "1\n",
      "after yield\n",
      "before yield\n",
      "3\n",
      "after yield\n",
      "before yield\n",
      "5\n",
      "after yield\n",
      "before yield\n",
      "7\n",
      "after yield\n",
      "before yield\n",
      "9\n",
      "after yield\n",
      "after for loop of returnOdds\n"
     ]
    }
   ],
   "source": [
    "def returnOdds(val):    # generator function\n",
    "    print(\"inside generator function\")\n",
    "    for i in range(1,val+1):\n",
    "        if(i%2!=0):\n",
    "            print(\"before yield\")\n",
    "            yield i            # yield allows you to return generator \n",
    "            print(\"after yield\")\n",
    "    print(\"after for loop of returnOdds\")\n",
    "\n",
    "\n",
    "mysequence=returnOdds(20)\n",
    "print(type(mysequence))\n",
    "print(\"id of mysequence is\\t\",id(mysequence))\n",
    "print(\"id of returnOdds is\\t\",id(returnOdds))\n",
    "for x in mysequence:\n",
    "    print(\"before print\")\n",
    "    print(x)\n",
    "    print(\"after print\")\n",
    "print(\"after for loop of caller\")\n",
    "\n",
    "print(\"let's print again\")\n",
    "\"\"\" for y in mysequence:     # by default generator runs only once\n",
    "    print(y) \"\"\"\n",
    "# Reset the generator\n",
    "mysequence=returnOdds(10)\n",
    "print(\"id of mysequence is\\t\",id(mysequence))\n",
    "print(\"id of returnOdds is\\t\",id(returnOdds))\n",
    "print(\"reset the generator\")\n",
    "for x in mysequence:\n",
    "    print(x)"
   ]
  },
  {
   "cell_type": "markdown",
   "metadata": {},
   "source": [
    "### **Why Use Generators?**"
   ]
  },
  {
   "cell_type": "markdown",
   "metadata": {},
   "source": [
    "Usually, you can write code that doesn't use generators but implements the same logic. \n",
    "\te.g\n",
    "```\n",
    "def returnOdds(val):    \n",
    "    mylist[]\n",
    "    for i in range(1,val+1):\n",
    "        if(i%2!=0):\n",
    "            mylist.append(i)\n",
    "    return mylist\n",
    "\n",
    "caller=returnOdds(20)\n",
    "print(caller)\n",
    "```\n",
    "\n",
    "Above approach will not work in all cases, for e.g. if you have infinite loops, or it may make inefficient use of memory when you have a really long list. The other approach is to implement a new iterable class SomethingIter that keeps the state in instance members and performs the next logical step in its next() (or __next__() in Python 3) method. Depending on the logic, the code inside the next() method may end up looking very complex and prone to bugs. Here generators provide a clean and easy solution.\n",
    "\n"
   ]
  },
  {
   "cell_type": "markdown",
   "metadata": {},
   "source": [
    "### **Generator returns an Iterator**"
   ]
  },
  {
   "cell_type": "markdown",
   "metadata": {},
   "source": [
    "Python generators are a simple way of creating iterators. Simply speaking, a generator is a function that returns an object (iterator) which we can iterate over (one value at a time).\n",
    "\n",
    "Iterators are objects that have an __iter__  and a __next__  method. Generators provide an easy, built-in way to create instances of Iterators.\n",
    "A function with yield in, it is still a function, that, when called, returns an instance of a generator object:\n",
    "```\n",
    "def myfun():\n",
    "    \t\"when called, returns generator object\"\n",
    "    \tYield\n",
    "```\n",
    "A generator expression also returns a generator:\n",
    "e.g.\n",
    "```\n",
    "mygenerator = (x for x in range(1,6))\n",
    "print(mygenerator)\n",
    "print(type(mygenerator))\n",
    "```\n",
    "How to use this generator\n",
    "```\n",
    "for i in mygenerator:\n",
    "    print(i)\n",
    "```\n",
    "or\n",
    "```\n",
    "try:\n",
    "    while 1:\n",
    "        print(mygenerator.__next__())\n",
    "except StopIteration:\n",
    "    print(\"done with iterator\")\n",
    "```    "
   ]
  },
  {
   "cell_type": "markdown",
   "metadata": {},
   "source": [
    "### **How does yield work**"
   ]
  },
  {
   "cell_type": "markdown",
   "metadata": {},
   "source": [
    "When you call the function, the code you have written in the function body does not run. The function only returns the generator object, this is a bit tricky.\n",
    "The first time the for loop calls the generator object created from your function, it will run the code in your function from the beginning until it hits yield, then it'll return the first value of the loop. Then, each subsequent call will run another iteration of the loop you have written in the function (generator function) and return the next value. This will continue until the generator is considered empty, which happens when the function runs without hitting yield. That can be because the loop has come to an end, or because you no longer satisfy an \"if/else\".\n",
    "\n"
   ]
  },
  {
   "cell_type": "markdown",
   "metadata": {},
   "source": [
    "### **What does interpreter do**"
   ]
  },
  {
   "cell_type": "markdown",
   "metadata": {},
   "source": [
    "```\n",
    "def returnOdds(val):    # generator function\n",
    "    print(\"inside generator function\")\n",
    "    for i in range(1,val+1):\n",
    "        if(i%2!=0):\n",
    "            print(\"before yield\")\n",
    "            yield i            # yield allows you to return generator \n",
    "            print(\"after yield\")\n",
    "```\n",
    "This is basically what the Python interpreter does with the above code:\n",
    "```\n",
    "class It:\t# just a fake name\n",
    "     __iter__ method\n",
    "\t\tand\n",
    "    # The next method will be called repeatedly by the 'for' loop\n",
    "    # until it raises StopIteration.\n",
    "    def next(self):\n",
    "\t# The logic which you have written must be implemented in some or the other way\n",
    "       \n",
    "        raise StopIteration\n",
    "```\n",
    "\n",
    "so what exactly interpreter does with your method is:\n",
    "\n",
    "```\n",
    "def returnOdds(val):    # generator function\n",
    "    return It(val)\n",
    "```"
   ]
  },
  {
   "cell_type": "markdown",
   "metadata": {},
   "source": [
    "#### **What if you don't use for loop in case of generator**"
   ]
  },
  {
   "cell_type": "code",
   "execution_count": null,
   "metadata": {},
   "outputs": [],
   "source": [
    "def returnOdds(val):    # generator function\n",
    "    print(\"inside generator function\")\n",
    "    for i in range(1,val+1):\n",
    "        if(i%2!=0):\n",
    "            print(\"before yield\")\n",
    "            yield i            # yield allows you to return generator \n",
    "            print(\"after yield\")\n",
    "\n",
    "\n",
    "mysequence=returnOdds(20)\n",
    "print(type(mysequence))\n",
    "\"\"\" for i in mysequence:\n",
    "    print(i) \"\"\"\n",
    "try:\n",
    "    while 1:\n",
    "        print(\"before calling next\")\n",
    "        print(mysequence.__next__())\n",
    "        print(\"after calling next\")\n",
    "except StopIteration:\n",
    "    pass"
   ]
  },
  {
   "cell_type": "markdown",
   "metadata": {},
   "source": [
    "#### **Example of Iterable**"
   ]
  },
  {
   "cell_type": "code",
   "execution_count": null,
   "metadata": {},
   "outputs": [],
   "source": [
    "class MyNumber:\n",
    "    def __init__(self,num):\n",
    "        self.num=num\n",
    "    def __iter__(self):\n",
    "        print(\"inside iter\")\n",
    "        return self \n",
    "    def __next__(self):\n",
    "        print(\"inside next\")\n",
    "        if self.num<=10:\n",
    "            temp=self.num\n",
    "            self.num+=1\n",
    "            return temp\n",
    "        else:\n",
    "            raise StopIteration\n",
    "\n",
    "ref1=MyNumber(1)\n",
    "for i in ref1:          # here for loop invokes \"__iter__()\" first and then \"__next__()\" every time.\n",
    "    print(i) \n",
    "\n",
    "# if you don't want to use for loop\n",
    "\n",
    "\"\"\" try:\n",
    "     while 1:\n",
    "        print(ref1.__next__())\n",
    "except StopIteration as s:\n",
    "    print(\"done with next\")\n",
    "    pass\n",
    "print(\"done\") \"\"\""
   ]
  },
  {
   "cell_type": "markdown",
   "metadata": {},
   "source": [
    "#### **The code which we have written**"
   ]
  },
  {
   "cell_type": "code",
   "execution_count": 6,
   "metadata": {},
   "outputs": [
    {
     "name": "stdout",
     "output_type": "stream",
     "text": [
      "<class 'generator'>\n",
      "id of mysequence is\t 1493560475824\n",
      "id of returnOdds is\t 1493560152208\n",
      "inside generator function\n",
      "before yield\n",
      "before print\n",
      "1\n",
      "after print\n",
      "after yield\n",
      "before yield\n",
      "before print\n",
      "3\n",
      "after print\n",
      "after yield\n",
      "before yield\n",
      "before print\n",
      "5\n",
      "after print\n",
      "after yield\n",
      "before yield\n",
      "before print\n",
      "7\n",
      "after print\n",
      "after yield\n",
      "before yield\n",
      "before print\n",
      "9\n",
      "after print\n",
      "after yield\n",
      "before yield\n",
      "before print\n",
      "11\n",
      "after print\n",
      "after yield\n",
      "before yield\n",
      "before print\n",
      "13\n",
      "after print\n",
      "after yield\n",
      "before yield\n",
      "before print\n",
      "15\n",
      "after print\n",
      "after yield\n",
      "before yield\n",
      "before print\n",
      "17\n",
      "after print\n",
      "after yield\n",
      "before yield\n",
      "before print\n",
      "19\n",
      "after print\n",
      "after yield\n",
      "after for loop of returnOdds\n",
      "after for loop of caller\n"
     ]
    }
   ],
   "source": [
    "def returnOdds(val):    # generator function\n",
    "    print(\"inside generator function\")\n",
    "    for i in range(1,val+1):\n",
    "        if(i%2!=0):\n",
    "            print(\"before yield\")\n",
    "            yield i            # yield allows you to return generator \n",
    "            print(\"after yield\")\n",
    "    print(\"after for loop of returnOdds\")\n",
    "\n",
    "\n",
    "mysequence=returnOdds(20)\n",
    "print(type(mysequence))\n",
    "print(\"id of mysequence is\\t\",id(mysequence))\n",
    "print(\"id of returnOdds is\\t\",id(returnOdds))\n",
    "for x in mysequence:\n",
    "    print(\"before print\")\n",
    "    print(x)\n",
    "    print(\"after print\")\n",
    "print(\"after for loop of caller\")"
   ]
  },
  {
   "cell_type": "markdown",
   "metadata": {},
   "source": [
    "### **E2**"
   ]
  },
  {
   "cell_type": "code",
   "execution_count": 7,
   "metadata": {},
   "outputs": [
    {
     "name": "stdout",
     "output_type": "stream",
     "text": [
      "val is\t <generator object myfun at 0x0000015BBF244270>\n",
      "<generator object myfun at 0x0000015BBF244270> \ttype of val is\t <class 'generator'>\n",
      "type of myfun is\t <class 'function'>\n",
      "inside myfun\n",
      "with __next__() method\t 5\n",
      "with for loop\n",
      "inside myfun\n",
      "5\n"
     ]
    }
   ],
   "source": [
    "def myfun():\n",
    "    print(\"inside myfun\")\n",
    "    yield 5\n",
    "\n",
    "val=myfun()\n",
    "print(\"val is\\t\",val)\n",
    "print(val,\"\\ttype of val is\\t\",type(val))\n",
    "print(\"type of myfun is\\t\",type(myfun))\n",
    "\n",
    "print(\"with __next__() method\\t\",val.__next__())\n",
    "#print(\"with __next__ method again!\\t\",val.__next__())    # StopIteration exception\n",
    "\n",
    "val=myfun()\n",
    "print(\"with for loop\")\n",
    "for i in val:\n",
    "    print(i)"
   ]
  },
  {
   "cell_type": "markdown",
   "metadata": {},
   "source": [
    "### **What if function has both yield and return**"
   ]
  },
  {
   "cell_type": "markdown",
   "metadata": {},
   "source": [
    "#### **E1**"
   ]
  },
  {
   "cell_type": "code",
   "execution_count": 8,
   "metadata": {},
   "outputs": [
    {
     "name": "stdout",
     "output_type": "stream",
     "text": [
      "<class 'generator'>\n",
      "<generator object myfun at 0x0000015BBF2443C0>\n",
      "inside myfun\t 15\n",
      "15\n",
      "done\n"
     ]
    }
   ],
   "source": [
    "# if a function has got both \"yield\" and \"return\", you always get \"generator object\"\n",
    "\n",
    "def myfun(val): \n",
    "    print(\"inside myfun\\t\",val)\n",
    "    if(val%2==0):\n",
    "        return val\n",
    "    else:\n",
    "        yield val \n",
    "   \n",
    "temp=myfun(15)\n",
    "#temp=myfun(16)\n",
    "print(type(temp))\n",
    "print(temp)\n",
    "for i in temp:\n",
    "\tprint(i)\n",
    "print(\"done\")"
   ]
  },
  {
   "cell_type": "markdown",
   "metadata": {},
   "source": [
    "#### **E2**"
   ]
  },
  {
   "cell_type": "code",
   "execution_count": 9,
   "metadata": {},
   "outputs": [
    {
     "name": "stdout",
     "output_type": "stream",
     "text": [
      "<class 'generator'>\n",
      "<generator object myfun at 0x0000015BBF244430>\n",
      "inside myfun\t 15\n"
     ]
    },
    {
     "ename": "StopIteration",
     "evalue": "15",
     "output_type": "error",
     "traceback": [
      "\u001b[1;31m---------------------------------------------------------------------------\u001b[0m",
      "\u001b[1;31mStopIteration\u001b[0m                             Traceback (most recent call last)",
      "Cell \u001b[1;32mIn[9], line 11\u001b[0m\n\u001b[0;32m      9\u001b[0m \u001b[38;5;28mprint\u001b[39m(\u001b[38;5;28mtype\u001b[39m(temp))\n\u001b[0;32m     10\u001b[0m \u001b[38;5;28mprint\u001b[39m(temp)\n\u001b[1;32m---> 11\u001b[0m \u001b[38;5;28mprint\u001b[39m(\u001b[43mtemp\u001b[49m\u001b[38;5;241;43m.\u001b[39;49m\u001b[38;5;21;43m__next__\u001b[39;49m\u001b[43m(\u001b[49m\u001b[43m)\u001b[49m)\n\u001b[0;32m     12\u001b[0m \u001b[38;5;28mprint\u001b[39m(temp\u001b[38;5;241m.\u001b[39m\u001b[38;5;21m__next__\u001b[39m())\n\u001b[0;32m     13\u001b[0m \u001b[38;5;28mprint\u001b[39m(\u001b[38;5;124m\"\u001b[39m\u001b[38;5;124mdone\u001b[39m\u001b[38;5;124m\"\u001b[39m)\n",
      "\u001b[1;31mStopIteration\u001b[0m: 15"
     ]
    }
   ],
   "source": [
    "# if a function has got both \"yield\" and \"return\", function returns \"generator object\"\n",
    "\n",
    "def myfun(val): \n",
    "    print(\"inside myfun\\t\",val)\n",
    "    return val\n",
    "    yield val \n",
    "   \n",
    "temp=myfun(15)\n",
    "print(type(temp))\n",
    "print(temp)\n",
    "print(temp.__next__())\n",
    "print(temp.__next__())\n",
    "print(\"done\")"
   ]
  },
  {
   "cell_type": "markdown",
   "metadata": {},
   "source": [
    "## **Iterator Info**"
   ]
  },
  {
   "cell_type": "markdown",
   "metadata": {},
   "source": [
    "### **What are iterators and for loop**"
   ]
  },
  {
   "cell_type": "markdown",
   "metadata": {},
   "source": [
    "For loop implements Iterator in the background. Before the iteration starts in the for loop, it will create an Iterator object and iterate through all the elements until the StopIteration exception arise.\n",
    "\n",
    "A for loop is a type of iterator. More accurately, it instantiates an iterator object using the input object's ```__iter__()``` method.\n",
    "\n",
    "Iterators are objects that implement the iterator protocol, which essentially means they have a ```__next__()``` method that they can call on iteratable objects (like lists), and they raise a StopIteration exception when there are no more entries to iterate over.\n",
    "\n",
    "\n",
    "Related\n",
    "What are iterators in Python?\n",
    "Technically an Iterators are a class of objects in Python that support the ```__next__``` method. An iterator is called repeatedly by a for loop; and an iterator is returned when the ```__iter__``` method is called on a iterable.\n",
    "\n",
    "What that means is that an iterator is the thing that allows a for loop to move through any iterable (such as lists, sets, dictionaries for example. There are also functions that directly return iterators (such as zip, map, range and others)."
   ]
  },
  {
   "cell_type": "markdown",
   "metadata": {},
   "source": [
    "### **Python Iterators**"
   ]
  },
  {
   "cell_type": "markdown",
   "metadata": {},
   "source": [
    "Introduction to Python Iterators\n",
    "A Python iterator returns us an iterator object- one value at a time. Let’s take an example of an iterator in python.\n",
    "```\n",
    "iter_obj=iter([3,4,5])\n",
    "next(iter_obj)\n",
    "3\n",
    "next(iter_obj) \n",
    "4\n",
    "next(iter_obj)\n",
    "5\n",
    "next(iter_obj)\n",
    "```\n",
    "\terror:  StopIteration\n",
    "\n"
   ]
  },
  {
   "cell_type": "markdown",
   "metadata": {},
   "source": [
    "### **Some of the iterators example**"
   ]
  },
  {
   "cell_type": "code",
   "execution_count": null,
   "metadata": {},
   "outputs": [],
   "source": [
    "mytuple = (\"apple\", \"banana\", \"cherry\")\n",
    "for myit in mytuple:\n",
    "    print(myit)\n",
    "\n",
    "mylist=[10,20,30,40]\n",
    "for myit1 in mylist:\n",
    "    print(myit1)\n",
    "\n",
    "mystring=\"Vidyanidhi\"\n",
    "for i in mystring:\n",
    "    print(i)"
   ]
  },
  {
   "cell_type": "markdown",
   "metadata": {},
   "source": [
    "### **Without invoking __Iter__ and __next__ functions**"
   ]
  },
  {
   "cell_type": "code",
   "execution_count": 11,
   "metadata": {},
   "outputs": [
    {
     "name": "stdout",
     "output_type": "stream",
     "text": [
      "10\n",
      "20\n",
      "30\n"
     ]
    }
   ],
   "source": [
    "myiter=iter([10,20,30])\n",
    "for i in myiter:    #  for loop internally handles \"Stopiteration\"\n",
    "    print(i)"
   ]
  },
  {
   "cell_type": "markdown",
   "metadata": {},
   "source": [
    "### **Without invoking __Iter__ and __next__ functions**"
   ]
  },
  {
   "cell_type": "code",
   "execution_count": 12,
   "metadata": {},
   "outputs": [
    {
     "name": "stdout",
     "output_type": "stream",
     "text": [
      "10\n",
      "20\n",
      "30\n"
     ]
    }
   ],
   "source": [
    "myiter=iter([10,20,30])\n",
    "for i in myiter:    #  for loop internally handles \"Stopiteration\"\n",
    "    print(i)"
   ]
  },
  {
   "cell_type": "markdown",
   "metadata": {},
   "source": [
    "### **How to create your own iterator_1**"
   ]
  },
  {
   "cell_type": "code",
   "execution_count": null,
   "metadata": {},
   "outputs": [],
   "source": [
    "class MyNumber:\n",
    "    def __iter__(self):\n",
    "        print(\"inside __iter__\")\n",
    "        self.num=1\n",
    "        return self\n",
    "    def __next__(self):\n",
    "        print(\"inside __next__\")\n",
    "        if self.num<=10:\n",
    "            temp=self.num\n",
    "            self.num+=1\n",
    "            return temp\n",
    "        else:\n",
    "            raise StopIteration\n",
    "\n",
    "ref1=MyNumber()\n",
    "for i in ref1:\n",
    "   print(i)\n",
    "print(\"done\")"
   ]
  },
  {
   "cell_type": "markdown",
   "metadata": {},
   "source": [
    "### **How does for loop work here**"
   ]
  },
  {
   "cell_type": "markdown",
   "metadata": {},
   "source": [
    "how does \"for i in ref1:\" work here?\n",
    "\n",
    "it first invokes \"__iter__()\" method of MyNumber class.\n",
    "\n",
    "\t__iter__() method returns for loop the object of \"MyNumber\"\n",
    "\n",
    "now for loop invokes \"__next__()\" method of MyNumber class which returns a number every time.\n",
    "This number for loop stores inside \"i\" variable and then prints."
   ]
  },
  {
   "cell_type": "markdown",
   "metadata": {},
   "source": [
    "### **How to create your own iterator_2**"
   ]
  },
  {
   "cell_type": "code",
   "execution_count": null,
   "metadata": {},
   "outputs": [],
   "source": [
    "class MyNumber:\n",
    "    \"\"\" def __iter__(self):\n",
    "        print(\"inside iter\")\n",
    "        self.num=1\n",
    "        return self \"\"\"\n",
    "    def __next__(self):\n",
    "        print(\"inside next\")\n",
    "        if self.num<=10:\n",
    "            temp=self.num\n",
    "            self.num+=1\n",
    "            return temp\n",
    "        else:\n",
    "            raise StopIteration\n",
    "\n",
    "ref1=MyNumber()\n",
    "for i in ref1:          # TypeError: 'MyNumber' object is not iterable\n",
    "    print(i)\n",
    "print(\"done\")"
   ]
  },
  {
   "cell_type": "markdown",
   "metadata": {},
   "source": [
    "### **How to create your own iterator_3**"
   ]
  },
  {
   "cell_type": "code",
   "execution_count": null,
   "metadata": {},
   "outputs": [],
   "source": [
    "class MyNumber:\n",
    "    def __iter__(self):\n",
    "        print(\"inside iter\")\n",
    "        self.num=1\n",
    "        return self \n",
    "    \"\"\" def __next__(self):\n",
    "        print(\"inside next\")\n",
    "        if self.num<=10:\n",
    "            temp=self.num\n",
    "            self.num+=1\n",
    "            return temp\n",
    "        else:\n",
    "            raise StopIteration \"\"\"\n",
    "\n",
    "ref1=MyNumber()\n",
    "for i in ref1:           # TypeError: 'MyNumber' object is not iterable\n",
    "                            # TypeError: iter() returned non-iterator of type 'MyNumber'\n",
    "    print(i)\n",
    "print(\"done\")"
   ]
  },
  {
   "cell_type": "markdown",
   "metadata": {},
   "source": [
    "### **How to create your own iterator_4**"
   ]
  },
  {
   "cell_type": "code",
   "execution_count": null,
   "metadata": {},
   "outputs": [],
   "source": [
    "class MyNumber:\n",
    "    def __iter__(self):\n",
    "        print(\"inside iter\")\n",
    "        self.num=1\n",
    "        return self  \n",
    "    def __next__(self):\n",
    "        print(\"inside next\")\n",
    "        if self.num<=10:\n",
    "            temp=self.num\n",
    "            self.num+=1\n",
    "            return temp\n",
    "        \"\"\" else:\n",
    "            raise StopIteration \"\"\"    # infine loop\n",
    "\n",
    "ref1=MyNumber()\n",
    "for i in ref1:           \n",
    "    print(i)\n",
    "print(\"done\")"
   ]
  },
  {
   "cell_type": "markdown",
   "metadata": {},
   "source": [
    "### **How to create your own iterator_5**"
   ]
  },
  {
   "cell_type": "code",
   "execution_count": null,
   "metadata": {},
   "outputs": [],
   "source": [
    "# in the following code even if we write \"while\" loop, for loop doesn't know where to stop. Hence \"raise Stopiteration\" has to be there which is later handled automatically by \"for loop\"\n",
    "\n",
    "\n",
    "class MyNumber:\n",
    "    def __iter__(self):\n",
    "        self.num=1\n",
    "        return self\n",
    "    def __next__(self):\n",
    "        while self.num<=10:\n",
    "            print(\"inside while\")\n",
    "            temp=self.num\n",
    "            self.num+=1\n",
    "            return temp\n",
    "        \"\"\" else:\n",
    "            raise StopIteration \"\"\"\n",
    "\n",
    "ref1=MyNumber()\n",
    "myiter=iter(ref1)\n",
    "for i in myiter:\n",
    "    print(i)\n",
    "print(\"done\")"
   ]
  },
  {
   "cell_type": "markdown",
   "metadata": {},
   "source": [
    "### **What if you don't want to use for loop**"
   ]
  },
  {
   "cell_type": "code",
   "execution_count": null,
   "metadata": {},
   "outputs": [],
   "source": [
    "class MyNumber:\n",
    "    def __iter__(self):\n",
    "        print(\"inside iter\")\n",
    "        self.num=1\n",
    "        return self \n",
    "    def __next__(self):\n",
    "        print(\"inside next\")\n",
    "        if self.num<=10:\n",
    "            temp=self.num\n",
    "            self.num+=1\n",
    "            return temp\n",
    "        else:\n",
    "            raise StopIteration\n",
    "\n",
    "ref1=MyNumber()\n",
    "\"\"\" for i in ref1:          # here for loop invokes \"__iter__()\" first and then \"__next__()\" every time.\n",
    "    print(i) \"\"\"\n",
    "\n",
    "# if you don't want to use for loop\n",
    "\n",
    "try:\n",
    "    ref1.__iter__()\n",
    "    while 1:\n",
    "        print(ref1.__next__())\n",
    "except StopIteration as s:\n",
    "    print(\"done with next\")\n",
    "    \n",
    "print(\"done\")"
   ]
  },
  {
   "cell_type": "markdown",
   "metadata": {},
   "source": [
    "## **Multithreading**"
   ]
  },
  {
   "cell_type": "markdown",
   "metadata": {},
   "source": [
    "### **Condition acquire vs Lock acquire methods in Python**"
   ]
  },
  {
   "cell_type": "markdown",
   "metadata": {},
   "source": [
    "In Python's threading module, both condition.acquire() and lock.acquire() are used for synchronization but serve slightly different purposes.\n",
    "\n",
    "1. condition.acquire(): This method is used to acquire the lock associated with a Condition object. A Condition object in Python provides a way for one thread to wait until a particular condition is satisfied by another thread. It is typically used in conjunction with a Condition object's wait() and notify() methods to coordinate between threads based on certain conditions.\n",
    "\n",
    "Example:\n",
    "pythonCopy code\n",
    "import threading condition = threading.Condition() # Acquire the lock associated with the condition condition.acquire() # Perform operations... # Release the lock associated with the condition condition.release() \n",
    "\n",
    "2.\tlock.acquire(): This method is used to acquire a simple lock object. A lock in Python is a synchronization primitive used to ensure that only one thread accesses a shared resource at a time. It's a low-level synchronization mechanism compared to a Condition.\n",
    "\n",
    "Example:\n",
    "pythonCopy code\n",
    "import threading lock = threading.Lock() # Acquire the lock lock.acquire() # Perform operations... # Release the lock lock.release() \n",
    "\n",
    "In summary, while both methods are used for synchronization, condition.acquire() is specifically tailored for use with Condition objects to coordinate between threads based on certain conditions, whereas lock.acquire() is a lower-level mechanism used to manage access to shared resources in a multi-threaded environment.\n",
    "\n"
   ]
  },
  {
   "cell_type": "markdown",
   "metadata": {},
   "source": [
    "### **E1**"
   ]
  },
  {
   "cell_type": "code",
   "execution_count": null,
   "metadata": {},
   "outputs": [],
   "source": [
    "import threading\n",
    "\n",
    "def mytarget(message):\n",
    "    current_thread=threading.current_thread()\n",
    "    for i in range(0,5):\n",
    "        print(message)\n",
    "    print(\"Above message displayed by \\t\",current_thread)\n",
    "\n",
    "t1 = threading.Thread(target=mytarget,args=(\"Welcome\",))\n",
    "t2 = threading.Thread(target=mytarget,args=(\"Hi\",))\n",
    "\n",
    "t1.start()\n",
    "t2.start()\n",
    "\n",
    "print(\"Done\")\n",
    "print(\"\\nDone is printed by\\t\",threading.current_thread())"
   ]
  },
  {
   "cell_type": "markdown",
   "metadata": {},
   "source": [
    "### **E2**"
   ]
  },
  {
   "cell_type": "code",
   "execution_count": null,
   "metadata": {},
   "outputs": [],
   "source": [
    "import threading\n",
    "\n",
    "def mytarget(message):\n",
    "    current_thread=threading.current_thread()\n",
    "    for i in range(0,5):\n",
    "        print(message)\n",
    "    print(\"Above message displayed by \\t\",current_thread)\n",
    "\n",
    "t1 = threading.Thread(target=mytarget,args=(\"Welcome\",))\n",
    "t2 = threading.Thread(target=mytarget,args=(\"Hi\",))\n",
    "\n",
    "t1.start()\n",
    "t2.start()\n",
    "\n",
    "t1.join()   # main thread will wait till t1 finishes\n",
    "t2.join()   # main thread will wait till t2 finishes\n",
    "\n",
    "print(\"Done\")\n",
    "print(\"\\nDone is printed by\\t\",threading.current_thread())"
   ]
  },
  {
   "cell_type": "markdown",
   "metadata": {},
   "source": [
    "### **E3**"
   ]
  },
  {
   "cell_type": "code",
   "execution_count": null,
   "metadata": {},
   "outputs": [],
   "source": [
    "import threading\n",
    "import time\n",
    "\n",
    "def mytarget(message):\n",
    "    current_thread=threading.current_thread()\n",
    "    for i in range(0,5):\n",
    "        print(message)\n",
    "        time.sleep(0.5)\n",
    "    print(\"Above message displayed by \\t\",current_thread)\n",
    "\n",
    "t1 = threading.Thread(target=mytarget,args=(\"Welcome\",))\n",
    "t2 = threading.Thread(target=mytarget,args=(\"Hi\",))\n",
    "\n",
    "t1.start()\n",
    "t2.start()\n",
    "\n",
    "t1.join()   # main thread will wait till t1 finishes\n",
    "t2.join()   # main thread will wait till t2 finishes\n",
    "\n",
    "print(\"Done\")\n",
    "print(\"\\nDone is printed by\\t\",threading.current_thread())"
   ]
  },
  {
   "cell_type": "markdown",
   "metadata": {},
   "source": [
    "### **E4_Synchronization**"
   ]
  },
  {
   "cell_type": "code",
   "execution_count": null,
   "metadata": {},
   "outputs": [],
   "source": [
    "# example of  synchronization\n",
    "\n",
    "import threading\n",
    "import time\n",
    "\n",
    "lock=threading.Lock()\n",
    "def mytarget(message):\n",
    "    lock.acquire()\n",
    "    current_thread=threading.current_thread()\n",
    "    for i in range(0,5):\n",
    "        print(message)\n",
    "        # time.sleep(0.5) # it's of no use in synchronization\n",
    "    print(\"Above message displayed by \\t\",current_thread)\n",
    "    lock.release()\n",
    "\n",
    "t1 = threading.Thread(target=mytarget,args=(\"Welcome\",))\n",
    "t2 = threading.Thread(target=mytarget,args=(\"Hi\",))\n",
    "\n",
    "t1.start()\n",
    "t2.start()\n",
    "\n",
    "t1.join()   # main thread will wait till t1 finishes\n",
    "t2.join()   # main thread will wait till t2 finishes\n",
    "\n",
    "print(\"Done\")\n",
    "print(\"\\nDone is printed by\\t\",threading.current_thread())"
   ]
  },
  {
   "cell_type": "markdown",
   "metadata": {},
   "source": [
    "### **E5_Synchronization**"
   ]
  },
  {
   "cell_type": "code",
   "execution_count": null,
   "metadata": {},
   "outputs": [],
   "source": [
    "# example of  synchronization\n",
    "\n",
    "import threading\n",
    "\n",
    "\n",
    "lock=threading.Lock()\n",
    "def production():\n",
    "    lock.acquire()\n",
    "    print(\"\\nLet's produce\\n\")\n",
    "    for i in range(1,6):\n",
    "        print(\"producing\\t\",i)\n",
    "    lock.release()\n",
    "\n",
    "def consumption():\n",
    "    lock.acquire()\n",
    "    print(\"\\nLet's consume\\n\")\n",
    "    for i in range(1,6):\n",
    "        print(\"consuming\\t\",i)\n",
    "    lock.release()\n",
    "\n",
    "t1 = threading.Thread(target=production)\n",
    "t2 = threading.Thread(target=consumption)\n",
    "\n",
    "t1.start()\n",
    "t2.start()\n",
    "\n",
    "t1.join()   # main thread will wait till t1 finishes\n",
    "t2.join()   # main thread will wait till t2 finishes\n",
    "\n",
    "print(\"Done\")\n",
    "print(\"\\nDone is printed by\\t\",threading.current_thread())"
   ]
  },
  {
   "cell_type": "markdown",
   "metadata": {},
   "source": [
    "### **E6_Inter thread communication**"
   ]
  },
  {
   "cell_type": "code",
   "execution_count": null,
   "metadata": {},
   "outputs": [],
   "source": [
    "# example of  inter-thread communication\n",
    "\n",
    "import threading\n",
    "\n",
    "\n",
    "condition=threading.Condition()\n",
    "def production():\n",
    "    condition.acquire()\n",
    "    print(\"\\nLet's produce\\n\")\n",
    "    for i in range(1,6):\n",
    "        print(\"producing\\t\",i)\n",
    "        if i==3:\n",
    "            condition.wait()\n",
    "    condition.notify_all()\n",
    "    condition.release()\n",
    "\n",
    "def consumption():\n",
    "    condition.acquire()\n",
    "    condition.notify_all()\n",
    "    print(\"\\nLet's consume\\n\")\n",
    "    for i in range(1,6):\n",
    "        print(\"consuming\\t\",i)\n",
    "        if i==3:\n",
    "            condition.wait()\n",
    "    condition.release()\n",
    "\n",
    "t1 = threading.Thread(target=production)\n",
    "t2 = threading.Thread(target=consumption)\n",
    "\n",
    "t1.start()\n",
    "t2.start()\n",
    "\n",
    "t1.join()   # main thread will wait till t1 finishes\n",
    "t2.join()   # main thread will wait till t2 finishes\n",
    "\n",
    "print(\"Done\")\n",
    "print(\"\\nDone is printed by\\t\",threading.current_thread())"
   ]
  },
  {
   "cell_type": "markdown",
   "metadata": {},
   "source": [
    "## **Operator_Overloading**"
   ]
  },
  {
   "cell_type": "markdown",
   "metadata": {},
   "source": [
    "### **E1**"
   ]
  },
  {
   "cell_type": "code",
   "execution_count": null,
   "metadata": {},
   "outputs": [],
   "source": [
    "class First:\n",
    "    def __init__(self,num1):\n",
    "        self.num1=num1\n",
    "class Second:\n",
    "    def __init__(self,num2):\n",
    "        self.num2=num2\n",
    "\n",
    "f1=First(100)\n",
    "f2=Second(200)\n",
    "\n",
    "print(f1.num1,\"\\t\",f2.num2)\n",
    "print(f1.num1+f2.num2)"
   ]
  },
  {
   "cell_type": "markdown",
   "metadata": {},
   "source": [
    "### **E2**"
   ]
  },
  {
   "cell_type": "code",
   "execution_count": null,
   "metadata": {},
   "outputs": [],
   "source": [
    "class First:\n",
    "    def __init__(self,num1):\n",
    "        self.num1=num1\n",
    "class Second:\n",
    "    def __init__(self,num2):\n",
    "        self.num2=num2\n",
    "\n",
    "f1=First(100)\n",
    "f2=Second(200)\n",
    "\n",
    "print(f1.num1,\"\\t\",f2.num2)\n",
    "print(f1+f2)             #    TypeError: unsupported operand type(s) for +: 'First' and 'Second'"
   ]
  },
  {
   "cell_type": "markdown",
   "metadata": {},
   "source": [
    "### **E3**"
   ]
  },
  {
   "cell_type": "code",
   "execution_count": null,
   "metadata": {},
   "outputs": [],
   "source": [
    "class First:\n",
    "    def __init__(self,num1):\n",
    "        self.num1=num1\n",
    "    def __add__(self,obj):\n",
    "        print(\"inside __add__ method of First\")\n",
    "        return self.num1+obj.num2\n",
    "    def __sub__(self,obj):\n",
    "        print(\"inside __mul__ method of first\")\n",
    "        return self.num1-obj.num2\n",
    "\n",
    "class Second:\n",
    "    def __init__(self,num2):\n",
    "        self.num2=num2\n",
    "    def __add__(self,obj):\n",
    "        print(\"inside __add__ of num2\")\n",
    "        return self.num2+obj.num1\n",
    "\n",
    "f1=First(100)\n",
    "f2=Second(200)\n",
    "\n",
    "print(f1.num1,\"\\t\",f2.num2)\n",
    "print(f1+f2)     # f1.__add__(f2)      \n",
    "print(f2+f1)   # won't work"
   ]
  },
  {
   "cell_type": "markdown",
   "metadata": {},
   "source": [
    "### **E4**"
   ]
  },
  {
   "cell_type": "code",
   "execution_count": null,
   "metadata": {},
   "outputs": [],
   "source": [
    "class First:\n",
    "    def __init__(self,num1):\n",
    "        self.num1=num1\n",
    "    def __add__(self,obj):\n",
    "        print(\"inside __add__ method of First\")\n",
    "        return self.num1+obj.num2\n",
    "\n",
    "class Second:\n",
    "    def __init__(self,num2):\n",
    "        self.num2=num2\n",
    "\n",
    "f1=First(100)\n",
    "f2=Second(200)\n",
    "\n",
    "print(f1.num1,\"\\t\",f2.num2)\n",
    "# print(f1+f2)     # will work\n",
    "print(f1.__add__(f2))      # will also work \n",
    "# print(f2+f1)   # won't work\n",
    "\n"
   ]
  },
  {
   "cell_type": "markdown",
   "metadata": {},
   "source": [
    "### **E5**"
   ]
  },
  {
   "cell_type": "code",
   "execution_count": null,
   "metadata": {},
   "outputs": [],
   "source": [
    "class First:\n",
    "    def __init__(self,num1):\n",
    "        self.num1=num1\n",
    "    def __add__(self,temp):\n",
    "        return self.num1+temp\n",
    "\n",
    "f1=First(50)\n",
    "print(f1+100)"
   ]
  },
  {
   "cell_type": "markdown",
   "metadata": {},
   "source": [
    "### **E6**"
   ]
  },
  {
   "cell_type": "code",
   "execution_count": null,
   "metadata": {},
   "outputs": [],
   "source": [
    "class Number1:\n",
    "    def __init__(self,num):\n",
    "        self.num=num\n",
    "    def __str__(self):\n",
    "        return str(self.num)\n",
    "    def __iadd__(self,temp):\n",
    "        print(\"inside iadd method\\t\",temp)\n",
    "        self.num+=temp\n",
    "        return self\n",
    "\n",
    "n1=Number1(100)\n",
    "n1+=10  #n=n+10  ->  n1.__iadd(10)\n",
    "print(n1.num)"
   ]
  },
  {
   "cell_type": "markdown",
   "metadata": {},
   "source": [
    "## **Regular Expressions**"
   ]
  },
  {
   "cell_type": "markdown",
   "metadata": {},
   "source": [
    "### **Match function info**"
   ]
  },
  {
   "cell_type": "markdown",
   "metadata": {},
   "source": [
    "Match function\n",
    "\n",
    "Match function determines if the Regular Expression matches at the beginning of the string.\n",
    "```\n",
    "syntax \n",
    "re.match(pattern,string)\n",
    "```\n",
    "here \"pattern\" is the regular expression to be matched.\n",
    "\"string\" is the one which will be searched to match the pattern at the beginning of the string.\n",
    "\n"
   ]
  },
  {
   "cell_type": "markdown",
   "metadata": {},
   "source": [
    "### **match vs search**"
   ]
  },
  {
   "cell_type": "markdown",
   "metadata": {},
   "source": [
    "re.match() searches only from the beginning of the string and return match object if found. But if a match of substring is found somewhere in the middle of the string, it returns none. \n",
    "While re.search() searches for the whole string even if the string contains multi-lines and tries to find a match of the substring in all the lines of string."
   ]
  },
  {
   "cell_type": "markdown",
   "metadata": {},
   "source": [
    "### **Search function info**"
   ]
  },
  {
   "cell_type": "markdown",
   "metadata": {},
   "source": [
    "Search function\n",
    "\n",
    "Search function is used to search a string in the entire file e.g.\n",
    "\n",
    "it scans through a string , looks for any location where this RE matches.\n",
    "\n",
    "syntax\n",
    "\n",
    "re.search(pattern,string)"
   ]
  },
  {
   "cell_type": "markdown",
   "metadata": {},
   "source": [
    "### **Meaning of 'r'**"
   ]
  },
  {
   "cell_type": "markdown",
   "metadata": {},
   "source": [
    "r means raw string"
   ]
  },
  {
   "cell_type": "markdown",
   "metadata": {},
   "source": [
    "### **E1**"
   ]
  },
  {
   "cell_type": "code",
   "execution_count": null,
   "metadata": {},
   "outputs": [],
   "source": [
    "import re\n",
    "# Both re.search() and re.match() returns only the first occurrence of a substring in the string and ignore others.\n",
    "#  re.match() only works if the match is found at the beginning of the string. \n",
    "\n",
    "mystring1=\"123abc123\"\n",
    "print(re.match(\"123\",mystring1))\n",
    "print(re.search(\"123\",mystring1))\n",
    "\n",
    "mystring2=\"abc123\"\n",
    "print(re.match(\"123\",mystring2))  #  None\n",
    "print(re.search(\"123\",mystring2))\n",
    "\n",
    "\"\"\"\n",
    "output:\n",
    "<re.Match object; span=(0, 3), match='123'>\n",
    "<re.Match object; span=(0, 3), match='123'>\n",
    "None\n",
    "<re.Match object; span=(3, 6), match='123'>\n",
    "\"\"\""
   ]
  },
  {
   "cell_type": "markdown",
   "metadata": {},
   "source": [
    "### **E2**"
   ]
  },
  {
   "cell_type": "code",
   "execution_count": null,
   "metadata": {},
   "outputs": [],
   "source": [
    "#   findall() module is used to search for “all” occurrences that match a given pattern\n",
    "\n",
    "import re\n",
    "\n",
    "mystring1=\"abc123xyz123\"\n",
    "print(re.match(\"123\",mystring1))\n",
    "print(re.search(\"123\",mystring1).span())\n",
    "print(re.findall(\"123\",mystring1))\n",
    "\n",
    "\n",
    "\n",
    "\"\"\"\n",
    "output:\n",
    "None\n",
    "<re.Match object; span=(3, 6), match='123'>\n",
    "['123', '123']\n",
    "\n",
    "\"\"\""
   ]
  },
  {
   "cell_type": "markdown",
   "metadata": {},
   "source": [
    "### **E3**"
   ]
  },
  {
   "cell_type": "code",
   "execution_count": null,
   "metadata": {},
   "outputs": [],
   "source": [
    "import re\n",
    "\n",
    "pattern1=\"Vidya\"\n",
    "mystring1=\"Vidyanidhi\"\n",
    "print(re.match(pattern1, mystring1))\n",
    "mystring2=\"vidyanidhi\"\n",
    "print(re.match(pattern1,mystring2))\n",
    "print(re.match(pattern1, mystring2,re.IGNORECASE))"
   ]
  },
  {
   "cell_type": "markdown",
   "metadata": {},
   "source": [
    "### **E4**"
   ]
  },
  {
   "cell_type": "code",
   "execution_count": 16,
   "metadata": {},
   "outputs": [
    {
     "name": "stdout",
     "output_type": "stream",
     "text": [
      "True\n",
      "False\n",
      "True\n",
      "False\n"
     ]
    }
   ],
   "source": [
    "\"\"\"\n",
    "\n",
    "r'^[\\w\\.-]+@[a-zA-Z0-9-]+\\.[a-zA-Z]{2,}$'\n",
    "\n",
    "^: Start of the string.\n",
    "[\\w\\.-]+: Matches one or more word characters (\\w), dots (.), or hyphens (-) before the @ symbol.\n",
    "@: Matches the @ symbol.\n",
    "[a-zA-Z0-9-]+: Matches one or more alphanumeric characters or hyphens after the @ symbol (in the domain name).\n",
    "\\.: Matches the dot (.) before the top-level domain.\n",
    "[a-zA-Z]{2,}: Matches two or more alphabetic characters for the top-level domain (e.g., com, net, org).\n",
    "$: End of the string.\n",
    "\n",
    "\"\"\"\n",
    "\n",
    "import re\n",
    "email_pattern = r'^[\\w\\.-]+@[a-zA-Z0-9-]+\\.[a-zA-Z]{2,}$'\n",
    "\n",
    "\n",
    "emails = ['nitin.javastudent@gmail.com', 'Guido.russom@example.co.uk', '123@python.com', 'python.masters']\n",
    "\n",
    "for email in emails:\n",
    "    print(re.match(email_pattern,email) is not None)"
   ]
  },
  {
   "cell_type": "markdown",
   "metadata": {},
   "source": [
    "### **E5**"
   ]
  },
  {
   "cell_type": "code",
   "execution_count": null,
   "metadata": {},
   "outputs": [],
   "source": [
    "import re\n",
    "\n",
    "pattern1=r\"\\d\"     # int\n",
    "str1=\"abcd\"\n",
    "str2=\"1abcd\"\n",
    "str3=\"ab5cd\"\n",
    "\n",
    "print(re.match(pattern1,str1) is not None)\n",
    "print(re.match(pattern1,str2) is not None)\n",
    "print(re.match(pattern1,str3) is not None)\n",
    "print(re.search(pattern1,str3) is not None)"
   ]
  },
  {
   "cell_type": "markdown",
   "metadata": {},
   "source": [
    "### **E6**"
   ]
  },
  {
   "cell_type": "code",
   "execution_count": null,
   "metadata": {},
   "outputs": [],
   "source": [
    "import re\n",
    "\n",
    "pattern1=r\"\\s\"\t\t #  \\s  means whitespace characters\n",
    "str1=\"Welcome to RE World\"\n",
    "\n",
    "mylist1=re.split(pattern1,str1)\n",
    "print(mylist1)\n",
    "print(type(mylist1))"
   ]
  },
  {
   "cell_type": "markdown",
   "metadata": {},
   "source": [
    "### **E7**"
   ]
  },
  {
   "cell_type": "code",
   "execution_count": 17,
   "metadata": {},
   "outputs": [
    {
     "name": "stdout",
     "output_type": "stream",
     "text": [
      "['Python', 'easy', 'python', 'Python', 'easy']\n",
      "Python\n",
      "easy\n",
      "python\n",
      "Python\n",
      "easy\n"
     ]
    }
   ],
   "source": [
    "# find out how many \"python\" or \"easy\" words are there in a text\n",
    "import re\n",
    "\n",
    "pattern1=\"python|easy\"          # | is used as OR here\n",
    "str1=\"There is a fun in learning Python. It is easy to code python program. Python makes programmer's life easy\"\n",
    "\n",
    "result=re.findall(pattern1,str1,re.IGNORECASE)\n",
    "\n",
    "print(result)\n",
    "\n",
    "for r in result:\n",
    "    print(r)"
   ]
  },
  {
   "cell_type": "markdown",
   "metadata": {},
   "source": [
    "### **E8**"
   ]
  },
  {
   "cell_type": "code",
   "execution_count": 18,
   "metadata": {},
   "outputs": [
    {
     "name": "stdout",
     "output_type": "stream",
     "text": [
      "<re.Match object; span=(27, 33), match='Python'>\n",
      "(27, 33)\n",
      "<re.Match object; span=(54, 60), match='python'>\n",
      "(54, 60)\n",
      "<re.Match object; span=(70, 76), match='Python'>\n",
      "(70, 76)\n"
     ]
    }
   ],
   "source": [
    "# find out index of \"python\"  in a text\n",
    "import re\n",
    "\n",
    "pattern1=\"python\"\n",
    "str1=\"There is a fun in learning Python. It is easy to code python program. Python makes programmer's life easy\"\n",
    "\n",
    "for result in re.finditer(pattern1,str1,re.IGNORECASE):\n",
    "    print(result)\n",
    "    mytuple=result.span()\n",
    "    print(mytuple)"
   ]
  },
  {
   "cell_type": "markdown",
   "metadata": {},
   "source": [
    "### **E9**"
   ]
  },
  {
   "cell_type": "code",
   "execution_count": 19,
   "metadata": {},
   "outputs": [
    {
     "name": "stdout",
     "output_type": "stream",
     "text": [
      "There is a fun in learning Java. It is easy to code Java program. Java makes programmer's life easy\n",
      "There is a fun in learning Java. It is tough to code Java program. Java makes programmer's life tough\n"
     ]
    }
   ],
   "source": [
    "# replace \"python\"  with \"Java\"\n",
    "import re\n",
    "\n",
    "str1=\"There is a fun in learning Python. It is easy to code python program. Python makes programmer's life easy\"\n",
    "\n",
    "\n",
    "regex=re.compile(\"python\",re.IGNORECASE)\n",
    "result=regex.sub(\"Java\",str1)\n",
    "print(result)\n",
    "\n",
    "regex=re.compile(\"easy\",re.IGNORECASE)\n",
    "result=regex.sub(\"tough\",result)\n",
    "\n",
    "print(result)\n"
   ]
  },
  {
   "cell_type": "markdown",
   "metadata": {},
   "source": [
    "### **E10**"
   ]
  },
  {
   "cell_type": "code",
   "execution_count": 20,
   "metadata": {},
   "outputs": [
    {
     "name": "stdout",
     "output_type": "stream",
     "text": [
      "Welcome to Python Programming World\n",
      "Welcome\n",
      "to\n",
      "Python\n",
      "Programming\n",
      "World\n"
     ]
    }
   ],
   "source": [
    "# replace space  with newline\n",
    "import re\n",
    "\n",
    "str1=\"Welcome to Python Programming World\"\n",
    "\n",
    "print(str1)\n",
    "regex=re.compile(\" \",re.IGNORECASE)\n",
    "result=regex.sub(\"\\n\",str1)\n",
    "\n",
    "print(result)"
   ]
  },
  {
   "cell_type": "markdown",
   "metadata": {},
   "source": [
    "### **E11**"
   ]
  },
  {
   "cell_type": "code",
   "execution_count": null,
   "metadata": {},
   "outputs": [],
   "source": [
    "# count how many digits ,characters and spaces are there inside string\n",
    "import re\n",
    "\n",
    "str1=\"abc4xy6z p8qrst1py\"\n",
    "\n",
    "print(\"No of digits inside the string are \\t\",len(re.findall('\\d',str1)))\n",
    "print(\"No of characters inside the string are \\t\",len(re.findall('\\D',str1)))       # In this it is counting space also as character\n",
    "print(\"No of white spaces inside the string are \\t\",len(re.findall(' ',str1)))"
   ]
  },
  {
   "cell_type": "markdown",
   "metadata": {},
   "source": [
    "### **E12**"
   ]
  },
  {
   "cell_type": "code",
   "execution_count": null,
   "metadata": {},
   "outputs": [],
   "source": [
    "import re\n",
    "\n",
    "phone_no=\"445-889-1478\"\n",
    "#phone_no=\"44r-7p9-2345\"\n",
    "if(re.search(\"\\d{3}-\\d{3}-\\d{4}\", phone_no)):\n",
    "    print(\"it's valid phone no.\")\n",
    "else:\n",
    "    print(\"it's not a valid phone no\")\n",
    "\n",
    "fullname=\"Sachin Tendulkar\"\n",
    "#fullname=\"RahulDravid\"\n",
    "if(re.search(\"\\w{2,20}\\s\\w{2,20}\", fullname)):\n",
    "    print(\"it's a valid fullname\")\n",
    "else:\n",
    "    print(\"it's not a valid fullname\")\n"
   ]
  },
  {
   "cell_type": "markdown",
   "metadata": {},
   "source": [
    "### **E13**"
   ]
  },
  {
   "cell_type": "code",
   "execution_count": null,
   "metadata": {},
   "outputs": [],
   "source": [
    "# find out all the modules in the given string\n",
    "#  * is for zero or more occurences\n",
    "\n",
    "import re\n",
    "\n",
    "message=\"Java3.4 is the first platform independent language whereas Python4 is the prefered choice for machine learning.Oracle is the best database technology.\"\n",
    "\n",
    "pattern=r\"[A-Z][a-z]*[0-9].[0-9]\"\n",
    "modules=re.findall(pattern, message)\n",
    "print(modules)"
   ]
  },
  {
   "cell_type": "markdown",
   "metadata": {},
   "source": [
    "### **E14**"
   ]
  },
  {
   "cell_type": "code",
   "execution_count": null,
   "metadata": {},
   "outputs": [],
   "source": [
    "# find out all the modules and their no. of days in the given string\n",
    "#  * is for zero or more occurences\n",
    "\n",
    "import re\n",
    "\n",
    "message=\"Java is the first platform independent language which takes 20 days whereas Python is the prefered choice for machine learning which takes 15 days.Mysql which takes 12 days is the best database technology.\"\n",
    "\n",
    "pattern=r\"[A-Z][a-z]*\"\n",
    "modules=re.findall(pattern, message)\n",
    "print(modules)\n",
    "no_of_days=re.findall(r\"\\d{2}\",message)\n",
    "print(no_of_days)\n",
    "\n",
    "module_wise_no_of_days={}\n",
    "\n",
    "module_wise_no_of_days={key:value for (key,value) in zip(modules,no_of_days)}\n",
    "\n",
    "print(module_wise_no_of_days)"
   ]
  },
  {
   "cell_type": "markdown",
   "metadata": {},
   "source": [
    "### **E15**"
   ]
  },
  {
   "cell_type": "code",
   "execution_count": null,
   "metadata": {},
   "outputs": [],
   "source": [
    "# names start with s or r or v\n",
    "#  names start with character starts from p to t\n",
    "#  \\w means word character\n",
    "\n",
    "\n",
    "import re\n",
    "\n",
    "name=\"sachin\"\n",
    "name=\"rahul\"\n",
    "name=\"chetan\"\n",
    "name=\"Vishal\"\n",
    "name1=\"Pandit\"\n",
    "\n",
    "list1=re.findall(r\"^[srv]\\w*\", name,re.IGNORECASE)\n",
    "list2=re.findall(r\"^[p-t]\\w*\", name1,re.IGNORECASE)\n",
    "\n",
    "print(list1)\n",
    "print(list2)"
   ]
  },
  {
   "cell_type": "code",
   "execution_count": 25,
   "metadata": {},
   "outputs": [
    {
     "name": "stdout",
     "output_type": "stream",
     "text": [
      "{'1': 2, '2': 3, '3': 4, '5': 3, '6': 2, '7': 2, '8': 3, '9': 2, '10': 1, '11': 2, '12': 2, '13': 1, '14': 1, '16': 2, '18': 3, '19': 2, '20': 1}\n"
     ]
    }
   ],
   "source": [
    "arr = [3, 5, 2, 2, 2, 18, 9, 20, 6, 3, 1, 3, 5, 6, 7, 18, 9, 19, 8, 7, 8, 8, 16, 11, 12, 12, 3, 13, 11, 1, 16, 19, 5, 18, 14, 10]\n",
    "\n",
    "my_dict={}\n",
    "count=0\n",
    "arr.sort()\n",
    "sort_arr=list(set(arr))\n",
    "for no in sort_arr:\n",
    "    for x in arr:\n",
    "        if no==x:\n",
    "            count+=1\n",
    "    key=f\"{no}\"\n",
    "    value=count\n",
    "    my_dict[key]=value\n",
    "    count=0\n",
    "print(my_dict)\n"
   ]
  },
  {
   "cell_type": "code",
   "execution_count": 33,
   "metadata": {},
   "outputs": [
    {
     "name": "stdout",
     "output_type": "stream",
     "text": [
      "1: 2\n",
      "2: 3\n",
      "3: 4\n",
      "5: 3\n",
      "6: 2\n",
      "7: 2\n",
      "8: 3\n",
      "9: 2\n",
      "10: 1\n",
      "11: 2\n",
      "12: 2\n",
      "13: 1\n",
      "14: 1\n",
      "16: 2\n",
      "18: 3\n",
      "19: 2\n",
      "20: 1\n"
     ]
    }
   ],
   "source": [
    "for key, value in zip(my_dict.keys(), my_dict.values()):\n",
    "    print(f\"{key}: {value}\")\n",
    "    "
   ]
  },
  {
   "cell_type": "code",
   "execution_count": 47,
   "metadata": {},
   "outputs": [
    {
     "name": "stdout",
     "output_type": "stream",
     "text": [
      "11 10 1111 1212 13 14 1616 181818 1919 222 20 3333 555 66 77 888 99 "
     ]
    }
   ],
   "source": [
    "myKeys = list(my_dict.keys())\n",
    "myKeys.sort()\n",
    "sorted_dict = {i: my_dict[i] for i in myKeys}\n",
    "\n",
    "for key, value in zip(sorted_dict.keys(), sorted_dict.values()):\n",
    "    # print(f\"{key}: {value}\")\n",
    "    print(f\"{key}\"*value,end=\" \")\n",
    "# print(sorted_dict)"
   ]
  },
  {
   "cell_type": "code",
   "execution_count": 32,
   "metadata": {},
   "outputs": [
    {
     "name": "stdout",
     "output_type": "stream",
     "text": [
      "112223333555667788899101111121213141616181818191920"
     ]
    }
   ],
   "source": [
    "for key, value in zip(my_dict.keys(), my_dict.values()):\n",
    "    # print(f\"{key}: {value}\")\n",
    "    print(f\"{key}\"*value,end=\"\")"
   ]
  },
  {
   "cell_type": "code",
   "execution_count": null,
   "metadata": {},
   "outputs": [],
   "source": [
    "\n",
    "# print(my_dict.keys())\n",
    "for i in sort_arr:\n",
    "    va=my_dict.values()\n",
    "    print(va)\n",
    "# for i in my_dict:\n",
    "#     print(f\"{my_dict.keys()}\"*my_dict.values(),end=\"\")"
   ]
  },
  {
   "cell_type": "code",
   "execution_count": null,
   "metadata": {},
   "outputs": [],
   "source": []
  }
 ],
 "metadata": {
  "kernelspec": {
   "display_name": "venv",
   "language": "python",
   "name": "python3"
  },
  "language_info": {
   "codemirror_mode": {
    "name": "ipython",
    "version": 3
   },
   "file_extension": ".py",
   "mimetype": "text/x-python",
   "name": "python",
   "nbconvert_exporter": "python",
   "pygments_lexer": "ipython3",
   "version": "3.10.2"
  }
 },
 "nbformat": 4,
 "nbformat_minor": 2
}
