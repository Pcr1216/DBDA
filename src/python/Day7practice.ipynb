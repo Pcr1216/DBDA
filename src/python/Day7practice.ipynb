{
 "cells": [
  {
   "cell_type": "markdown",
   "metadata": {},
   "source": [
    "# **Numpy Folder**"
   ]
  },
  {
   "cell_type": "markdown",
   "metadata": {},
   "source": [
    "## **Numpy Info**"
   ]
  },
  {
   "cell_type": "markdown",
   "metadata": {},
   "source": [
    "### **Numpy**"
   ]
  },
  {
   "cell_type": "markdown",
   "metadata": {},
   "source": [
    "NumPy stands for Numerical Python and is used to perform a wide variety of mathematical operations on arrays. It adds powerful data structures to Python that guarantee efficient calculations with arrays and matrices and it supplies an enormous library of high-level mathematical functions that operate on these arrays and matrices.\n",
    "\n",
    "How to install NumPy?\n",
    "\n",
    "pip install numpy"
   ]
  },
  {
   "cell_type": "markdown",
   "metadata": {},
   "source": [
    "### **Prerequisite**"
   ]
  },
  {
   "cell_type": "markdown",
   "metadata": {},
   "source": [
    "1 d array  1 dimension\n",
    "\n",
    "2 d array  2 dimensions  axis=0 and axis=1\n",
    "\n",
    "3 d array  3 dimensions axis=0  , axis=1  and axis=2\n",
    "\n",
    "diagrams"
   ]
  },
  {
   "cell_type": "markdown",
   "metadata": {},
   "source": [
    "axis=0   chopping something vertically from top to bottom\n",
    "\n",
    "\taxis=0 should be used when you want to work on columns.\n",
    "\n",
    "axis=1   chopping something horizontly from left to right\n",
    "\n",
    "\taxis=1 should be used when you want to work on rows."
   ]
  },
  {
   "cell_type": "code",
   "execution_count": 6,
   "metadata": {},
   "outputs": [],
   "source": [
    "# pip install numpy"
   ]
  },
  {
   "cell_type": "markdown",
   "metadata": {},
   "source": [
    "### **E1**"
   ]
  },
  {
   "cell_type": "code",
   "execution_count": 2,
   "metadata": {},
   "outputs": [
    {
     "name": "stdout",
     "output_type": "stream",
     "text": [
      "[[ 1  2  3  4]\n",
      " [ 5 42 10 30]]\n",
      "[1 2 3 4]\n",
      "[ 5 42 10 30]\n",
      "<class 'numpy.ndarray'>\n",
      "Dimension of array is  2\n",
      "Shape of array is  (2, 4)\n"
     ]
    }
   ],
   "source": [
    "# Create single dimensional array\n",
    "import numpy as np\n",
    "\n",
    "first=np.array([[1,2,3,4],[5,42,10,30]])\n",
    "# first=np.array([1,2,3,4])\n",
    "print(first)\n",
    "\n",
    "for i in range(0,first.__len__()):\n",
    "    print(first[i])\n",
    "\n",
    "print(type(first))\n",
    "print(\"Dimension of array is \",first.ndim)\n",
    "print(\"Shape of array is \",first.shape)"
   ]
  },
  {
   "cell_type": "markdown",
   "metadata": {},
   "source": [
    "### **E1a**"
   ]
  },
  {
   "cell_type": "code",
   "execution_count": 3,
   "metadata": {},
   "outputs": [
    {
     "name": "stdout",
     "output_type": "stream",
     "text": [
      "[1 2 3 4]\n",
      "1\n",
      "2\n",
      "3\n",
      "4\n",
      "<class 'numpy.ndarray'>\n",
      "Dimension of array is  1\n",
      "Shape of array is  (4,)\n"
     ]
    }
   ],
   "source": [
    "\n",
    "import numpy as np\n",
    "\n",
    "first=np.array((1,2,3,4))\n",
    "print(first)\n",
    "\n",
    "for i in range(0, first.__len__()):\n",
    "    print(first[i])\n",
    "\n",
    "print(type(first))\n",
    "print(\"Dimension of array is \",first.ndim)\n",
    "print(\"Shape of array is \",first.shape)"
   ]
  },
  {
   "cell_type": "markdown",
   "metadata": {},
   "source": [
    "### **E1b**"
   ]
  },
  {
   "cell_type": "code",
   "execution_count": 10,
   "metadata": {},
   "outputs": [
    {
     "name": "stdout",
     "output_type": "stream",
     "text": [
      "['100' '3.4' 'hello' 'True']\n",
      "100\n",
      "3.4\n",
      "hello\n",
      "True\n",
      "<class 'numpy.ndarray'>\n",
      "dimension of array is\t 1\n",
      "shape of array is\t (4,)\n"
     ]
    }
   ],
   "source": [
    "# create single dimensional array\n",
    "\n",
    "import numpy as np         \n",
    "\n",
    "# The elements of a NumPy array can also be booleans, strings, or other objects.\n",
    "\n",
    "first=np.array([100,3.4,\"hello\",True])\n",
    "print(first)\n",
    "\n",
    "for i in range(0,first.__len__()):\n",
    "    print(first[i])\n",
    "\n",
    "print(type(first))\n",
    "print(\"dimension of array is\\t\",first.ndim)\n",
    "print(\"shape of array is\\t\",first.shape)\n",
    "\n",
    "# first[4]=500     #  arrays are fixed\n",
    "\n"
   ]
  },
  {
   "cell_type": "markdown",
   "metadata": {},
   "source": [
    "### **E1c**"
   ]
  },
  {
   "cell_type": "code",
   "execution_count": 4,
   "metadata": {},
   "outputs": [
    {
     "name": "stdout",
     "output_type": "stream",
     "text": [
      "[1 2 3 5 4]\n",
      "1\n",
      "4\n",
      "From the beginning\n",
      "1\n",
      "2\n",
      "3\n",
      "5\n",
      "4\n",
      "From the end\n",
      "4\n",
      "5\n",
      "3\n",
      "2\n",
      "1\n"
     ]
    }
   ],
   "source": [
    "import numpy as k\n",
    "\n",
    "arr1=k.array([1,2,3,5,4])\n",
    "print(arr1)\n",
    "print(arr1[0])\n",
    "print(arr1[-1])\n",
    "print(\"From the beginning\")\n",
    "for i in range(0, arr1.__len__()):\n",
    "    print(arr1[i])\n",
    "print(\"From the end\")\n",
    "for i in range(-1,-(arr1.__len__()+1),-1):\n",
    "    print(arr1[i])\n"
   ]
  },
  {
   "cell_type": "markdown",
   "metadata": {},
   "source": [
    "### **E2**\n"
   ]
  },
  {
   "cell_type": "code",
   "execution_count": 6,
   "metadata": {},
   "outputs": [
    {
     "name": "stdout",
     "output_type": "stream",
     "text": [
      "[0 1 2 3 4]\n",
      "enter 5 numbers\n",
      "Displaying all the numbers\n",
      "4\n",
      "5\n",
      "6\n",
      "1\n",
      "2\n",
      "dimension of array is\t 1\n",
      "shape of array is\t (5,)\n"
     ]
    }
   ],
   "source": [
    "# How to accept input in array\n",
    "\n",
    "import numpy as np\n",
    "\n",
    "secon=np.arange(5)\n",
    "print(secon)\n",
    "print(\"enter 5 numbers\")\n",
    "for i in range(0,secon.__len__()):\n",
    "    secon[i]=int(input())\n",
    "print(\"Displaying all the numbers\")\n",
    "for i in range(0,secon.__len__()):\n",
    "    print(secon[i])\n",
    "print(\"dimension of array is\\t\",secon.ndim)\n",
    "print(\"shape of array is\\t\",secon.shape)"
   ]
  },
  {
   "cell_type": "markdown",
   "metadata": {},
   "source": [
    "### **E3**"
   ]
  },
  {
   "cell_type": "code",
   "execution_count": 7,
   "metadata": {},
   "outputs": [
    {
     "name": "stdout",
     "output_type": "stream",
     "text": [
      "[[10 20 30]\n",
      " [ 2  3  4]]\n",
      "10 \t20 \t30 \t\n",
      "\n",
      "2 \t3 \t4 \t\n",
      "\n",
      "Type of array is  <class 'numpy.ndarray'>\n",
      "Dimension of array is  2\n",
      "Shape of array is  (2, 3)\n"
     ]
    }
   ],
   "source": [
    "# 2D array\n",
    "\n",
    "import numpy as np\n",
    "first=np.array([[10,20,30],[2,3,4]])\n",
    "print(first)\n",
    "for i in range(0,first.__len__()):\n",
    "    for j in range(0,first[i].__len__()):\n",
    "        print(first[i][j],'\\t',end=\"\")\n",
    "    print(\"\\n\")\n",
    "\n",
    "print(\"Type of array is \",type(first))\n",
    "print(\"Dimension of array is \",first.ndim)\n",
    "print(\"Shape of array is \",first.shape)"
   ]
  },
  {
   "cell_type": "code",
   "execution_count": 8,
   "metadata": {},
   "outputs": [
    {
     "name": "stdout",
     "output_type": "stream",
     "text": [
      "[[10 20 30]\n",
      " [ 2  3  4]]\n",
      "10 \t20 \t30 \t\n",
      "\n",
      "2 \t3 \t4 \t\n",
      "\n",
      "Type of array is  <class 'numpy.ndarray'>\n",
      "Dimension of array is  2\n",
      "Shape of array is  (2, 3)\n"
     ]
    }
   ],
   "source": [
    "\n",
    "import numpy as np\n",
    "first=np.array([[10,20,30],[2,3,4]])\n",
    "print(first)\n",
    "for i in range(0,first.__len__()):\n",
    "    for j in range(0,first[i].__len__()):\n",
    "        print(first[i][j],'\\t',end=\"\")\n",
    "    print(\"\\n\")\n",
    "\n",
    "print(\"Type of array is \",type(first))\n",
    "print(\"Dimension of array is \",first.ndim)\n",
    "print(\"Shape of array is \",first.shape)"
   ]
  },
  {
   "cell_type": "markdown",
   "metadata": {},
   "source": [
    "### **E3a**"
   ]
  },
  {
   "cell_type": "code",
   "execution_count": 10,
   "metadata": {},
   "outputs": [
    {
     "name": "stdout",
     "output_type": "stream",
     "text": [
      "How many rows\n",
      "how many cols\n",
      "Enter  4  values\n",
      "[[4 3 2 1]]\n",
      "[[4 3]\n",
      " [2 1]]\n"
     ]
    }
   ],
   "source": [
    "# accept values from user inside 2D array\n",
    "\n",
    "from numpy import *\n",
    "list=[]\n",
    "print(\"How many rows\")\n",
    "rownum=int(input())\n",
    "print(\"how many cols\")\n",
    "colnum=int(input())\n",
    "print(\"Enter \",rownum*colnum,' values')\n",
    "for i in range(1, (rownum*colnum)+1):\n",
    "    num=int(input())\n",
    "    list.append(num)\n",
    "\n",
    "mainarray=array([list])\n",
    "print(mainarray)\n",
    "mainarray=mainarray.reshape(rownum,colnum)\n",
    "print(mainarray)"
   ]
  },
  {
   "cell_type": "markdown",
   "metadata": {},
   "source": [
    "### **E4**"
   ]
  },
  {
   "cell_type": "code",
   "execution_count": 11,
   "metadata": {},
   "outputs": [
    {
     "name": "stdout",
     "output_type": "stream",
     "text": [
      "[[0. 0. 0. 0.]]\n",
      "[[0. 0.]\n",
      " [0. 0.]]\n"
     ]
    }
   ],
   "source": [
    "# initialize one-d array with zero\n",
    "\n",
    "import numpy as np\n",
    "first=np.zeros((1,4))\n",
    "print(first)\n",
    "second=np.zeros((2,2))\n",
    "print(second)"
   ]
  },
  {
   "cell_type": "markdown",
   "metadata": {},
   "source": [
    "### **E4a**"
   ]
  },
  {
   "cell_type": "code",
   "execution_count": 12,
   "metadata": {},
   "outputs": [
    {
     "name": "stdout",
     "output_type": "stream",
     "text": [
      "[[1. 1. 1. 1.]]\n",
      "[[1. 1.]\n",
      " [1. 1.]]\n"
     ]
    }
   ],
   "source": [
    "# initialize one-d array with one\n",
    "\n",
    "first=np.ones((1,4))\n",
    "print(first)\n",
    "\n",
    "second=np.ones((2,2))\n",
    "print(second)\n"
   ]
  },
  {
   "cell_type": "markdown",
   "metadata": {},
   "source": [
    "### **E5**\n"
   ]
  },
  {
   "cell_type": "code",
   "execution_count": 13,
   "metadata": {},
   "outputs": [
    {
     "name": "stdout",
     "output_type": "stream",
     "text": [
      "[69 69]\n",
      "[[69 69]\n",
      " [69 69]]\n"
     ]
    }
   ],
   "source": [
    "# initialize one-d array with specific number\n",
    "\n",
    "first=np.full((2,),69)\n",
    "print(first)\n",
    "\n",
    "second=np.full((2,2),69)\n",
    "print(second)"
   ]
  },
  {
   "cell_type": "markdown",
   "metadata": {},
   "source": [
    "### **E6**\n"
   ]
  },
  {
   "cell_type": "code",
   "execution_count": 14,
   "metadata": {},
   "outputs": [
    {
     "name": "stdout",
     "output_type": "stream",
     "text": [
      "[10 11 12 13 14]\n",
      "[ 1  3  5  7  9 11 13 15 17 19]\n"
     ]
    }
   ],
   "source": [
    "first=np.arange(10,15)\n",
    "print(first)\n",
    "\n",
    "second=np.arange(1,20,2)\n",
    "print(second)"
   ]
  },
  {
   "cell_type": "markdown",
   "metadata": {},
   "source": [
    "### **E7** "
   ]
  },
  {
   "cell_type": "code",
   "execution_count": 17,
   "metadata": {},
   "outputs": [
    {
     "name": "stdout",
     "output_type": "stream",
     "text": [
      "[[10 12]\n",
      " [14 16]\n",
      " [18 20]]\n"
     ]
    }
   ],
   "source": [
    "\"\"\" If you only use the arange function, it will output a one-dimensional array. To make it a two-dimensional array, chain its output with the reshape function. \"\"\"\n",
    "\n",
    "first=np.arange(10,21,2).reshape(3,2)\n",
    "print(first)"
   ]
  },
  {
   "cell_type": "markdown",
   "metadata": {},
   "source": [
    "### **E8**\n"
   ]
  },
  {
   "cell_type": "code",
   "execution_count": 18,
   "metadata": {},
   "outputs": [
    {
     "name": "stdout",
     "output_type": "stream",
     "text": [
      "['hello' 'hello' 'hello']\n",
      "['A' 'B' 'C' 'D' 'E']\n",
      "[['A' 'A']\n",
      " ['A' 'A']\n",
      " ['A' 'A']]\n"
     ]
    }
   ],
   "source": [
    "\n",
    "first=np.full((3,),'hello')\n",
    "print(first)\n",
    "second=np.array(['A','B','C','D','E'])\n",
    "print(second)\n",
    "third=np.full((3,2),'A')\n",
    "print(third)"
   ]
  },
  {
   "cell_type": "markdown",
   "metadata": {},
   "source": [
    "### **E9**"
   ]
  },
  {
   "cell_type": "code",
   "execution_count": 22,
   "metadata": {},
   "outputs": [
    {
     "name": "stdout",
     "output_type": "stream",
     "text": [
      "Hstack\n",
      "[1 2 3 7 8 9 4 5 6]\n",
      "[[1 2 3]\n",
      " [4 5 6]\n",
      " [7 8 9]]\n"
     ]
    }
   ],
   "source": [
    "import numpy as np\n",
    "\n",
    "ar1=np.array([1,2,3])\n",
    "ar2=np.array([7,8,9])\n",
    "ar3=np.array([4,5,6])\n",
    "hstack=np.hstack((ar1,ar2,ar3))\n",
    "print(\"Hstack\")\n",
    "print(hstack)\n",
    "vestack=np.vstack((ar1,ar3,ar2))\n",
    "print(vestack)"
   ]
  },
  {
   "cell_type": "markdown",
   "metadata": {},
   "source": [
    "### **E10**"
   ]
  },
  {
   "cell_type": "code",
   "execution_count": 24,
   "metadata": {},
   "outputs": [
    {
     "name": "stdout",
     "output_type": "stream",
     "text": [
      "[100 200 300 400 500 600]\n",
      "(6,)\n",
      "let's check with double dimension array\n",
      "[[10 20 30]\n",
      " [40 50 60]]\n",
      "(2, 3)\n",
      "Let's convert one-d array's shapes\n",
      "[[100 200 300]\n",
      " [400 500 600]]\n",
      "Let's convert two-d array's shape\n",
      "[[10 20]\n",
      " [30 40]\n",
      " [50 60]]\n",
      "2\n"
     ]
    }
   ],
   "source": [
    "# checking the shape of numpy array\n",
    "\n",
    "import numpy as np\n",
    "first=np.array([100,200,300,400,500,600])\n",
    "print(first)\n",
    "print(first.shape)\n",
    "\n",
    "print(\"let's check with double dimension array\")\n",
    "second=np.array([[10,20,30],[40,50,60]])\n",
    "print(second)\n",
    "print(second.shape)\n",
    "\n",
    "print(\"Let's convert one-d array's shapes\")\n",
    "first.shape=(2,3)\n",
    "print(first)\n",
    "print(\"Let's convert two-d array's shape\")\n",
    "second.shape=(3,2)\n",
    "print(second)\n",
    "print(second.ndim)"
   ]
  },
  {
   "cell_type": "markdown",
   "metadata": {},
   "source": [
    "### **E12**"
   ]
  },
  {
   "cell_type": "code",
   "execution_count": 25,
   "metadata": {},
   "outputs": [
    {
     "name": "stdout",
     "output_type": "stream",
     "text": [
      "[ 4  8 15]\n"
     ]
    }
   ],
   "source": [
    "#  \"intersect1d()\" to find out common elements between two arrays\n",
    "\n",
    "import numpy as np\n",
    "first=np.array([4,5,8,12,15])\n",
    "second=np.array([11,15,4,8,9])\n",
    "third=np.intersect1d(first,second)\n",
    "print(third)\n"
   ]
  },
  {
   "cell_type": "markdown",
   "metadata": {},
   "source": [
    "### **E13**"
   ]
  },
  {
   "cell_type": "code",
   "execution_count": 26,
   "metadata": {},
   "outputs": [
    {
     "name": "stdout",
     "output_type": "stream",
     "text": [
      "[15 32]\n",
      "\n",
      "\n",
      "[ 1  2  9 11]\n"
     ]
    }
   ],
   "source": [
    "#  \"setdiff1d()\" to find out unique elements in first array\n",
    "# result is always sorted\n",
    "\n",
    "import numpy as np\n",
    "first=np.array([4,25,8,32,15])\n",
    "second=np.array([11,25,1,2,4,8,9])\n",
    "third=np.setdiff1d(first,second)      #  unique elements inside \"first\"  array\n",
    "print(third)\n",
    "print(\"\\n\")\n",
    "fourth=np.setdiff1d(second,first)     # unique elements inside \"second\" array\n",
    "print(fourth)\n"
   ]
  },
  {
   "cell_type": "markdown",
   "metadata": {},
   "source": [
    "### **E26**"
   ]
  },
  {
   "cell_type": "code",
   "execution_count": 27,
   "metadata": {},
   "outputs": [
    {
     "name": "stdout",
     "output_type": "stream",
     "text": [
      "[10 20 30 40]\n",
      "None\n",
      "[10 20 30 40]\n"
     ]
    }
   ],
   "source": [
    "# save and load numpy array\n",
    "import numpy as np\n",
    "\n",
    "first=np.array([10,20,30,40])\n",
    "print(first)                    #  array will be printed\n",
    "np.save(\"myarray\",first)\n",
    "first=None\n",
    "print(first)                    # None, no need to worry, we can load the saved array\n",
    "second=np.load(\"myarray.npy\")   # extension \"npy\" mandatory\n",
    "print(second)"
   ]
  },
  {
   "cell_type": "markdown",
   "metadata": {},
   "source": [
    "### **Linspace**"
   ]
  },
  {
   "cell_type": "code",
   "execution_count": 28,
   "metadata": {},
   "outputs": [
    {
     "name": "stdout",
     "output_type": "stream",
     "text": [
      "[1. 2. 3. 4. 5. 6. 7. 8.]\n",
      "\n",
      "\n",
      "[1.         1.36842105 1.73684211 2.10526316 2.47368421 2.84210526\n",
      " 3.21052632 3.57894737 3.94736842 4.31578947 4.68421053 5.05263158\n",
      " 5.42105263 5.78947368 6.15789474 6.52631579 6.89473684 7.26315789\n",
      " 7.63157895 8.        ]\n"
     ]
    }
   ],
   "source": [
    "\"\"\" The NumPy linspace function creates sequences of evenly spaced values within a defined interval. Essentally, you specify a starting point and an ending point of an interval, and then specify the total number of breakpoints you want within that interval (including the start and end points). \"\"\"\n",
    "\n",
    "from numpy import *\n",
    "\n",
    "first=linspace(1,8,num=8)\n",
    "print(first)\n",
    "print(\"\\n\")\n",
    "second=linspace(1,8,num=20)     #  num is by default 50  , inclusive of 8\n",
    "\n",
    "print(second)\n"
   ]
  },
  {
   "cell_type": "markdown",
   "metadata": {},
   "source": [
    "### **Difference between shape and reshape**"
   ]
  },
  {
   "cell_type": "code",
   "execution_count": 29,
   "metadata": {},
   "outputs": [
    {
     "name": "stdout",
     "output_type": "stream",
     "text": [
      "[10 20 30 40 50 60 70 80 90]\n",
      "[[10 20 30]\n",
      " [40 50 60]\n",
      " [70 80 90]]\n",
      "************\n",
      "[[10 20 30]\n",
      " [40 50 60]\n",
      " [70 80 90]]\n",
      "***************\n",
      "[[10]\n",
      " [20]\n",
      " [30]\n",
      " [40]\n",
      " [50]\n",
      " [60]\n",
      " [70]\n",
      " [80]\n",
      " [90]]\n"
     ]
    }
   ],
   "source": [
    "import numpy as np\n",
    "first=np.arange(10,91,10) # 3 rows,3 cols ,  10 to 90 values with 10 as a skip value\n",
    "# without shape or reshape\n",
    "print(first)\n",
    "first.shape=(3,3)  # changes the shape of original array\n",
    "print(first)\n",
    "print(\"************\")\n",
    "second=first.reshape(9,1)  # creates a new array with the new shape\n",
    "print(first)\n",
    "print(\"***************\")\n",
    "print(second)"
   ]
  },
  {
   "cell_type": "markdown",
   "metadata": {},
   "source": [
    "## **About axis 0 ,1 and 2**"
   ]
  },
  {
   "cell_type": "markdown",
   "metadata": {},
   "source": [
    "### **With 2d array**"
   ]
  },
  {
   "attachments": {
    "image.png": {
     "image/png": "[encoded data removed]"
    }
   },
   "cell_type": "markdown",
   "metadata": {},
   "source": [
    "![image.png](attachment:image.png)"
   ]
  },
  {
   "cell_type": "code",
   "execution_count": 30,
   "metadata": {},
   "outputs": [
    {
     "name": "stdout",
     "output_type": "stream",
     "text": [
      "entire sum\n",
      "450\n",
      "axis 0 sum\n",
      "[120 150 180]\n",
      "axis 1 sum\n",
      "[ 60 150 240]\n"
     ]
    }
   ],
   "source": [
    "import numpy  as np\n",
    "\n",
    "myar=np.array([[10,20,30],[40,50,60],[70,80,90]])\n",
    "\n",
    "print(\"entire sum\")\n",
    "print(np.sum(myar))\n",
    "print(\"axis 0 sum\")\n",
    "print(np.sum(myar,axis=0))\n",
    "print(\"axis 1 sum\")\n",
    "print(np.sum(myar,axis=1))"
   ]
  },
  {
   "cell_type": "markdown",
   "metadata": {},
   "source": [
    "### **With 3d array**"
   ]
  },
  {
   "attachments": {
    "image.png": {
     "image/png": "[encoded data removed]"
    }
   },
   "cell_type": "markdown",
   "metadata": {},
   "source": [
    "![image.png](attachment:image.png)"
   ]
  },
  {
   "cell_type": "code",
   "execution_count": 16,
   "metadata": {},
   "outputs": [
    {
     "name": "stdout",
     "output_type": "stream",
     "text": [
      "[[[10 11 12]\n",
      "  [13 14 15]\n",
      "  [16 17 18]]\n",
      "\n",
      " [[19 20 21]\n",
      "  [22 23 24]\n",
      "  [25 26 27]]]\n",
      "333\n",
      "[[29 31 33]\n",
      " [35 37 39]\n",
      " [41 43 45]]\n",
      "with axis 1\n",
      "[[39 42 45]\n",
      " [66 69 72]]\n",
      "with axis 2\n",
      "[[33 42 51]\n",
      " [60 69 78]]\n"
     ]
    }
   ],
   "source": [
    "import numpy  as np\n",
    "\n",
    "myar=np.array([10,11,12,13,14,15,16,17,18,19,20,21,22,23,24,25,26,27])\n",
    "\n",
    "myar.shape=(2,3,3)\n",
    "\n",
    "# [[[10 11 12]\n",
    "#   [13 14 15]\n",
    "#   [16 17 18]]\n",
    "\n",
    "#  [[19 20 21]\n",
    "#   [22 23 24]\n",
    "#   [25 26 27]]]\n",
    "print(myar)\n",
    "\n",
    "print(np.sum(myar))\n",
    "# [[29 31 33]\n",
    "#  [35 37 39]\n",
    "#  [41 43 45]]\n",
    "\n",
    "print(np.sum(myar,axis=0)) # put 2nd two d array after first 2d array and then sum\n",
    "# [[29 31 33]\n",
    "#  [35 37 39]\n",
    "#  [41 43 45]]\n",
    "\n",
    "print(\"with axis 1\")\n",
    "print(np.sum(myar,axis=1)) # it's like axis=0 in 2d array , column-wise total of each 2d array\n",
    "# [[39 42 45]\n",
    "#  [66 69 72]]\n",
    "\n",
    "print(\"with axis 2\")\n",
    "print(np.sum(myar,axis=2)) # it's like axis=1 in 2d array, row-wise total of each 2d array\n",
    "# [[33 42 51]\n",
    "#  [60 69 78]]"
   ]
  },
  {
   "cell_type": "markdown",
   "metadata": {},
   "source": [
    "## **Example_11_All_about_stack**"
   ]
  },
  {
   "cell_type": "markdown",
   "metadata": {},
   "source": [
    "#### **1d arrays with hstack,vstack,dstack,zero,one axis stack**"
   ]
  },
  {
   "cell_type": "code",
   "execution_count": 17,
   "metadata": {},
   "outputs": [
    {
     "name": "stdout",
     "output_type": "stream",
     "text": [
      "Let's print horizontal stack\n",
      "[10 20 30 40 50 60 70 80 90]\n",
      "Let's print vertical stack\n",
      "[[10 20 30]\n",
      " [40 50 60]\n",
      " [70 80 90]]\n",
      "Let's print d stack\n",
      "[[[10 40 70]\n",
      "  [20 50 80]\n",
      "  [30 60 90]]]\n",
      "let's print axis-0 stack\n",
      "[[10 20 30]\n",
      " [40 50 60]\n",
      " [70 80 90]]\n",
      "let's print axis-1 stack\n",
      "[[10 40 70]\n",
      " [20 50 80]\n",
      " [30 60 90]]\n"
     ]
    },
    {
     "data": {
      "text/plain": [
       "'\\n[[10 40 70]\\n [20 50 80]\\n [30 60 90]]\\n\\t\\tit like first array is taken and stacked at 0th column and second is \\t\\tstacked at 1st column\\n'"
      ]
     },
     "execution_count": 17,
     "metadata": {},
     "output_type": "execute_result"
    }
   ],
   "source": [
    "import numpy as np\n",
    "\n",
    "arr1= np.array([10,20,30])\n",
    "arr2=np.array([40,50,60])\n",
    "arr3=np.array([70,80,90])\n",
    "\n",
    "hstack1=np.hstack((arr1,arr2,arr3))\n",
    "print(\"Let's print horizontal stack\")\n",
    "print(hstack1)\n",
    "\"\"\"\n",
    "[10 20 30 40 50 60 70 80 90]   horizontally stacked\n",
    "\"\"\"\n",
    "vstack1=np.vstack((arr1,arr2,arr3))\n",
    "print(\"Let's print vertical stack\")\n",
    "print(vstack1)\n",
    "\"\"\"\n",
    "[[10 20 30]\n",
    " [40 50 60]\n",
    " [70 80 90]]        vertically stacked\n",
    "\n",
    "\"\"\"\n",
    "dstack1=np.dstack((arr1,arr2,arr3))\n",
    "print(\"Let's print d stack\")\n",
    "print(dstack1)\n",
    "\n",
    "\"\"\"\n",
    "[[[10 40 70]\n",
    "  [20 50 80]\n",
    "  [30 60 90]]]   depth i.e. 0th element of both the arrays will be joined ,then 1st \t\telement of both the arrays will be joined and so on\n",
    "\"\"\"\n",
    "\n",
    "zerostack=np.stack((arr1,arr2,arr3),axis=0)  # row-wise stack\n",
    "print(\"let's print axis-0 stack\")\n",
    "print(zerostack)\n",
    "\n",
    "\"\"\"\n",
    "[[10 20 30]\n",
    " [40 50 60]\n",
    " [70 80 90]]  it's a double dimension array, first array goes at 0th row and second \t\tat 1st row\n",
    "\n",
    "\"\"\"\n",
    "\n",
    "onestack=np.stack((arr1,arr2,arr3),axis=1)  # column-wise stack\n",
    "print(\"let's print axis-1 stack\")\n",
    "print(onestack)\n",
    "\n",
    "\"\"\"\n",
    "[[10 40 70]\n",
    " [20 50 80]\n",
    " [30 60 90]]\n",
    "\t\tit like first array is taken and stacked at 0th column and second is \t\tstacked at 1st column\n",
    "\"\"\"\n",
    "\n",
    "#  np.stack((arr1,arr2),axis=2)  # not possible\n"
   ]
  },
  {
   "cell_type": "markdown",
   "metadata": {},
   "source": [
    "#### **2d arrays with hstack,vstack,dstack,zero,one and two axis stack**"
   ]
  },
  {
   "cell_type": "code",
   "execution_count": 18,
   "metadata": {},
   "outputs": [
    {
     "name": "stdout",
     "output_type": "stream",
     "text": [
      "[[10 20 30]\n",
      " [40 50 60]]\n",
      "[[ 70  80  90]\n",
      " [100 110 120]]\n",
      "Let's print horizontal stack\n",
      "[[ 10  20  30  70  80  90]\n",
      " [ 40  50  60 100 110 120]]\n",
      "Let's print vertical stack\n",
      "[[ 10  20  30]\n",
      " [ 40  50  60]\n",
      " [ 70  80  90]\n",
      " [100 110 120]]\n",
      "Let's print d stack\n",
      "[[[ 10  70]\n",
      "  [ 20  80]\n",
      "  [ 30  90]]\n",
      "\n",
      " [[ 40 100]\n",
      "  [ 50 110]\n",
      "  [ 60 120]]]\n",
      "let's print axis-0 stack\n",
      "[[[ 10  20  30]\n",
      "  [ 40  50  60]]\n",
      "\n",
      " [[ 70  80  90]\n",
      "  [100 110 120]]]\n",
      "let's print axis-1 stack\n",
      "[[[ 10  20  30]\n",
      "  [ 70  80  90]]\n",
      "\n",
      " [[ 40  50  60]\n",
      "  [100 110 120]]]\n",
      "let's print axis-2 stack\n",
      "[[[ 10  70]\n",
      "  [ 20  80]\n",
      "  [ 30  90]]\n",
      "\n",
      " [[ 40 100]\n",
      "  [ 50 110]\n",
      "  [ 60 120]]]\n"
     ]
    },
    {
     "data": {
      "text/plain": [
       "'\\n\\nsince it is going to create 3d array, in 3d array third is no. of cols\\nhence 1st 2d arrays 0th row and 2nd 2d arrays 0th row are placed in the columns 0 and 1 respectively. Similarly 1st 2d arrays 1st row and 2nd 2d arrays 1st row are placed in the columns 0 and 1 respectively.\\n\\n[[[ 10  70]\\n  [ 20  80]\\n  [ 30  90]]\\n\\n [[ 40 100]\\n  [ 50 110]\\n  [ 60 120]]]\\n'"
      ]
     },
     "execution_count": 18,
     "metadata": {},
     "output_type": "execute_result"
    }
   ],
   "source": [
    "import numpy as np\n",
    "\n",
    "arr1= np.array([[10,20,30],[40,50,60]])\n",
    "arr2=np.array([[70,80,90],[100,110,120]])\n",
    "print(arr1)\n",
    "print(arr2)\n",
    "\n",
    "hstack1=np.hstack((arr1,arr2))\n",
    "print(\"Let's print horizontal stack\")\n",
    "print(hstack1)\n",
    "\"\"\"\n",
    "[[ 10  20  30  70  80  90]     horizontally stacked\n",
    " [ 40  50  60 100 110 120]]\n",
    "\"\"\"\n",
    "vstack1=np.vstack((arr1,arr2))\n",
    "print(\"Let's print vertical stack\")\n",
    "print(vstack1)\n",
    "\"\"\"\n",
    "[[ 10  20  30]\t\t\tvertically stacked\n",
    " [ 40  50  60]\n",
    " [ 70  80  90]\n",
    " [100 110 120]]\n",
    "\n",
    "\"\"\"\n",
    "dstack1=np.dstack((arr1,arr2))\n",
    "print(\"Let's print d stack\")\n",
    "print(dstack1)\n",
    "\n",
    "\"\"\"\n",
    "[[[ 10  70]    first array's 0th element second's 0th element and so on....\n",
    "  [ 20  80]\n",
    "  [ 30  90]]\n",
    "\n",
    " [[ 40 100]\n",
    "  [ 50 110]\n",
    "  [ 60 120]]]\n",
    "\"\"\"\n",
    "\n",
    "zerostack=np.stack((arr1,arr2),axis=0)\n",
    "print(\"let's print axis-0 stack\")\n",
    "print(zerostack)\n",
    "\n",
    "\"\"\"\n",
    "since it is going to create 3d array, in 3d array first is no. of 2d arrays\n",
    "so both 2d arrays are just stacked one below another\n",
    "\n",
    "[[[ 10  20  30]\n",
    "  [ 40  50  60]]\n",
    "\n",
    " [[ 70  80  90]\n",
    "  [100 110 120]]]\n",
    "\"\"\"\n",
    "\n",
    "onestack=np.stack((arr1,arr2),axis=1)\n",
    "print(\"let's print axis-1 stack\")\n",
    "print(onestack)\n",
    "\n",
    "\"\"\"\n",
    "\n",
    "since it is going to create 3d array, in 3d array second is no. of rows\n",
    "so both 2d arrays 0th rows and 1st rows are stacked one below another\n",
    "\n",
    "[[[ 10  20  30]        # 0th row of first 2d array\n",
    "  [ 70  80  90]]       # 0th row of second 2d array\n",
    "\n",
    " [[ 40  50  60]        # 1st row of first 2d array\n",
    "  [100 110 120]]]      # 1st row of second 2d array\n",
    "\n",
    "\"\"\"\n",
    "\n",
    "twostack=np.stack((arr1,arr2),axis=2)\n",
    "print(\"let's print axis-2 stack\")\n",
    "print(twostack)\n",
    "\n",
    "\"\"\"\n",
    "\n",
    "since it is going to create 3d array, in 3d array third is no. of cols\n",
    "hence 1st 2d arrays 0th row and 2nd 2d arrays 0th row are placed in the columns 0 and 1 respectively. Similarly 1st 2d arrays 1st row and 2nd 2d arrays 1st row are placed in the columns 0 and 1 respectively.\n",
    "\n",
    "[[[ 10  70]\n",
    "  [ 20  80]\n",
    "  [ 30  90]]\n",
    "\n",
    " [[ 40 100]\n",
    "  [ 50 110]\n",
    "  [ 60 120]]]\n",
    "\"\"\""
   ]
  },
  {
   "cell_type": "markdown",
   "metadata": {},
   "source": [
    "#### **One more Example**"
   ]
  },
  {
   "cell_type": "code",
   "execution_count": 19,
   "metadata": {},
   "outputs": [
    {
     "name": "stdout",
     "output_type": "stream",
     "text": [
      "[[1 2 3]\n",
      " [4 5 6]]\n",
      "[[ 7  8  9]\n",
      " [10 11 12]]\n",
      "[[13 14 15]\n",
      " [16 17 18]]\n",
      "this is hstack\n",
      "[[ 1  2  3  7  8  9 13 14 15]\n",
      " [ 4  5  6 10 11 12 16 17 18]]\n",
      "this is vstack\n",
      "[[ 1  2  3]\n",
      " [ 4  5  6]\n",
      " [ 7  8  9]\n",
      " [10 11 12]\n",
      " [13 14 15]\n",
      " [16 17 18]]\n",
      "this is dstack\n",
      "[[[ 1  7 13]\n",
      "  [ 2  8 14]\n",
      "  [ 3  9 15]]\n",
      "\n",
      " [[ 4 10 16]\n",
      "  [ 5 11 17]\n",
      "  [ 6 12 18]]]\n",
      "this is 0 stack\n",
      "[[[ 1  2  3]\n",
      "  [ 4  5  6]]\n",
      "\n",
      " [[ 7  8  9]\n",
      "  [10 11 12]]\n",
      "\n",
      " [[13 14 15]\n",
      "  [16 17 18]]]\n",
      "this is 1 stack\n",
      "[[[ 1  2  3]\n",
      "  [ 7  8  9]\n",
      "  [13 14 15]]\n",
      "\n",
      " [[ 4  5  6]\n",
      "  [10 11 12]\n",
      "  [16 17 18]]]\n",
      "this is 2 stack\n",
      "[[[ 1  7 13]\n",
      "  [ 2  8 14]\n",
      "  [ 3  9 15]]\n",
      "\n",
      " [[ 4 10 16]\n",
      "  [ 5 11 17]\n",
      "  [ 6 12 18]]]\n"
     ]
    },
    {
     "data": {
      "text/plain": [
       "'\\nthis is hstack\\n[[ 1  2  3  7  8  9 13 14 15]\\n [ 4  5  6 10 11 12 16 17 18]]\\nthis is vstack\\n[[ 1  2  3]\\n [ 4  5  6]\\n [ 7  8  9]\\n [10 11 12]\\n [13 14 15]\\n [16 17 18]]\\nthis is dstack\\n[[[ 1  7 13]\\n  [ 2  8 14]\\n  [ 3  9 15]]\\n\\n [[ 4 10 16]\\n  [ 5 11 17]\\n  [ 6 12 18]]]\\nthis is 0 stack\\n[[[ 1  2  3]\\n  [ 4  5  6]]\\n\\n [[ 7  8  9]\\n  [10 11 12]]\\n\\n [[13 14 15]\\n  [16 17 18]]]\\nthis is 1 stack\\n[[[ 1  2  3]\\n  [ 7  8  9]\\n  [13 14 15]]\\n\\n [[ 4  5  6]\\n  [10 11 12]\\n  [16 17 18]]]\\nthis is 2 stack\\n[[[ 1  7 13]\\n  [ 2  8 14]\\n  [ 3  9 15]]\\n\\n [[ 4 10 16]\\n  [ 5 11 17]\\n  [ 6 12 18]]]\\n'"
      ]
     },
     "execution_count": 19,
     "metadata": {},
     "output_type": "execute_result"
    }
   ],
   "source": [
    "import numpy as np\n",
    "\n",
    "arr1=np.array([[1,2,3],[4,5,6]])\n",
    "arr2=np.array([[7,8,9],[10,11,12]])\n",
    "arr3=np.array([[13,14,15],[16,17,18]])\n",
    "print(arr1)\n",
    "print(arr2)\n",
    "print(arr3)\n",
    "\n",
    "hstack=np.hstack((arr1,arr2,arr3))\n",
    "print(\"this is hstack\")\n",
    "print(hstack)\n",
    "vstack=np.vstack((arr1,arr2,arr3))\n",
    "print(\"this is vstack\")\n",
    "print(vstack)\n",
    "dstack=np.dstack((arr1,arr2,arr3))\n",
    "print(\"this is dstack\")\n",
    "print(dstack)\n",
    "stack_0=np.stack((arr1,arr2,arr3),axis=0)\n",
    "print(\"this is 0 stack\")\n",
    "print(stack_0)\n",
    "stack_1=np.stack((arr1,arr2,arr3),axis=1)\n",
    "print(\"this is 1 stack\")\n",
    "print(stack_1)\n",
    "stack_2=np.stack((arr1,arr2,arr3),axis=2)\n",
    "print(\"this is 2 stack\")\n",
    "print(stack_2)\n",
    "\n",
    "\"\"\"\n",
    "this is hstack\n",
    "[[ 1  2  3  7  8  9 13 14 15]\n",
    " [ 4  5  6 10 11 12 16 17 18]]\n",
    "this is vstack\n",
    "[[ 1  2  3]\n",
    " [ 4  5  6]\n",
    " [ 7  8  9]\n",
    " [10 11 12]\n",
    " [13 14 15]\n",
    " [16 17 18]]\n",
    "this is dstack\n",
    "[[[ 1  7 13]\n",
    "  [ 2  8 14]\n",
    "  [ 3  9 15]]\n",
    "\n",
    " [[ 4 10 16]\n",
    "  [ 5 11 17]\n",
    "  [ 6 12 18]]]\n",
    "this is 0 stack\n",
    "[[[ 1  2  3]\n",
    "  [ 4  5  6]]\n",
    "\n",
    " [[ 7  8  9]\n",
    "  [10 11 12]]\n",
    "\n",
    " [[13 14 15]\n",
    "  [16 17 18]]]\n",
    "this is 1 stack\n",
    "[[[ 1  2  3]\n",
    "  [ 7  8  9]\n",
    "  [13 14 15]]\n",
    "\n",
    " [[ 4  5  6]\n",
    "  [10 11 12]\n",
    "  [16 17 18]]]\n",
    "this is 2 stack\n",
    "[[[ 1  7 13]\n",
    "  [ 2  8 14]\n",
    "  [ 3  9 15]]\n",
    "\n",
    " [[ 4 10 16]\n",
    "  [ 5 11 17]\n",
    "  [ 6 12 18]]]\n",
    "\"\"\""
   ]
  },
  {
   "cell_type": "markdown",
   "metadata": {},
   "source": []
  }
 ],
 "metadata": {
  "kernelspec": {
   "display_name": "venv",
   "language": "python",
   "name": "python3"
  },
  "language_info": {
   "codemirror_mode": {
    "name": "ipython",
    "version": 3
   },
   "file_extension": ".py",
   "mimetype": "text/x-python",
   "name": "python",
   "nbconvert_exporter": "python",
   "pygments_lexer": "ipython3",
   "version": "3.10.2"
  }
 },
 "nbformat": 4,
 "nbformat_minor": 2
}
