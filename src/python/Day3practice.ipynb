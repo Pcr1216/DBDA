{
 "cells": [
  {
   "cell_type": "markdown",
   "metadata": {},
   "source": [
    "# **Day3**"
   ]
  },
  {
   "cell_type": "markdown",
   "metadata": {},
   "source": [
    "## **Function Demo**"
   ]
  },
  {
   "cell_type": "markdown",
   "metadata": {},
   "source": [
    "**What is function in Python?**\n",
    "\n",
    "A function is a block of code which only runs when it is called.\n",
    "\n",
    "You can pass data, known as parameters, into a function.\n",
    "\n",
    "A function can return data as a result."
   ]
  },
  {
   "cell_type": "markdown",
   "metadata": {},
   "source": [
    "\"ord()\" function  converts character to int   \n",
    "\"chr()\" function  converts int to character\n",
    "\n",
    "\"int()\" function converts string to int\n",
    "\n",
    "e.g\n",
    "\tmyvar=int(input(\"Enter number\"))\n",
    "\t\there \"int()\" function is required because \"input()\" always returns string. Even if user enters number , it is treated as a string by default.\n",
    "\n",
    "swapcase() function of string which toggles the invoking string\n",
    "\te.g\n",
    "\n"
   ]
  },
  {
   "cell_type": "code",
   "execution_count": 3,
   "metadata": {},
   "outputs": [
    {
     "name": "stdout",
     "output_type": "stream",
     "text": [
      "PeteR\n",
      "pETEr\n",
      "Peter\n",
      "PeteR\n"
     ]
    }
   ],
   "source": [
    "name=input(\"enter your name\")\n",
    "print(name)\n",
    "print(name.swapcase())  # returns different string\n",
    "print(name.capitalize())\n",
    "print(name)"
   ]
  },
  {
   "cell_type": "markdown",
   "metadata": {},
   "source": [
    "### **E1**"
   ]
  },
  {
   "cell_type": "code",
   "execution_count": 1,
   "metadata": {},
   "outputs": [
    {
     "name": "stdout",
     "output_type": "stream",
     "text": [
      "First\n",
      "Second\n",
      "Third\n",
      "<class 'function'>\n",
      "2303649678672\n"
     ]
    }
   ],
   "source": [
    "def myfun1():     # memory allocation happens here for the function\n",
    "    print(\"First\")\n",
    "    print(\"Second\")\n",
    "    print(\"Third\")\n",
    "myfun1() \n",
    "\n",
    "print(type(myfun1))\n",
    "print(id(myfun1))"
   ]
  },
  {
   "cell_type": "markdown",
   "metadata": {},
   "source": [
    "### **E2**"
   ]
  },
  {
   "cell_type": "code",
   "execution_count": 2,
   "metadata": {},
   "outputs": [
    {
     "name": "stdout",
     "output_type": "stream",
     "text": [
      "100\n",
      "hello\n",
      "A\n",
      "2.3\n",
      "4.5\n",
      "True\n",
      "well done\n",
      "Done\n"
     ]
    }
   ],
   "source": [
    "def myfun1():\n",
    "    num1=100\n",
    "    print(num1)\n",
    "    str=\"hello\"\n",
    "    print(str)\n",
    "    ch='A'\n",
    "    print(ch)\n",
    "    fl=2.3\n",
    "    print(fl)\n",
    "    dl=4.5\n",
    "    print(dl)\n",
    "    val=True\n",
    "    print(val)\n",
    "    num1=\"well done\"  # redeclaring a variable\n",
    "    print(num1)\n",
    "myfun1()\n",
    "print(\"Done\")"
   ]
  },
  {
   "cell_type": "markdown",
   "metadata": {},
   "source": [
    "### **E3**"
   ]
  },
  {
   "cell_type": "code",
   "execution_count": 3,
   "metadata": {},
   "outputs": [
    {
     "name": "stdout",
     "output_type": "stream",
     "text": [
      "Value of Num is\t100\n",
      "Value of Num is\t 100\n",
      "Done\n",
      "<class 'builtin_function_or_method'>\n",
      "2303573529664\n"
     ]
    }
   ],
   "source": [
    "# String concatenation\n",
    "\n",
    "def myfun():\n",
    "    num1=100\n",
    "    print(\"Value of Num is\\t\"+str(num1))\n",
    "    print(\"Value of Num is\\t\",num1)\n",
    "myfun()\n",
    "print(\"Done\")\n",
    "\n",
    "print(type(print))\n",
    "print(id(print))"
   ]
  },
  {
   "cell_type": "markdown",
   "metadata": {},
   "source": [
    "### **E4**"
   ]
  },
  {
   "cell_type": "code",
   "execution_count": 4,
   "metadata": {},
   "outputs": [
    {
     "name": "stdout",
     "output_type": "stream",
     "text": [
      "var inside main\t500\n",
      "val inside main\t100\n",
      "var inside disp1\t500\n"
     ]
    }
   ],
   "source": [
    "# Global Variable and Local variable\n",
    "var=500\n",
    "def myfun():\n",
    "    val=100\n",
    "    print(\"var inside main\\t\"+str(var))\n",
    "    print(\"val inside main\\t\"+str(val))\n",
    "myfun()\n",
    "\n",
    "def disp1():\n",
    "    print(\"var inside disp1\\t\"+str(var))\n",
    "  #   print(\"val inside disp1\\t\"+str(val))  cannot access val\n",
    "disp1()"
   ]
  },
  {
   "cell_type": "markdown",
   "metadata": {},
   "source": [
    "### **E4a**"
   ]
  },
  {
   "cell_type": "code",
   "execution_count": 5,
   "metadata": {},
   "outputs": [
    {
     "name": "stdout",
     "output_type": "stream",
     "text": [
      "value of var is\t 100\n",
      "value of var is\t 500\n"
     ]
    }
   ],
   "source": [
    "# global and local variable\n",
    "var=500     # Global variable\n",
    "\n",
    "def disp():\n",
    "    print(\"value of var is\\t\",var)\n",
    "\n",
    "def myfun():\n",
    "    var=100    # Local Variable\n",
    "    print(\"value of var is\\t\",var)\n",
    "    disp()\n",
    "myfun()"
   ]
  },
  {
   "cell_type": "markdown",
   "metadata": {},
   "source": [
    "### **E5**"
   ]
  },
  {
   "cell_type": "code",
   "execution_count": 6,
   "metadata": {},
   "outputs": [
    {
     "name": "stdout",
     "output_type": "stream",
     "text": [
      "var inside main\t 100\n",
      "var inside disp\t 500\n"
     ]
    }
   ],
   "source": [
    "# Global Variable and Local variable\n",
    "var=500  # global variable\n",
    "def myfun():\n",
    "    var=100  # local variable\n",
    "    print(\"var inside main\\t\",var) # by default local is given precedence\n",
    "myfun()\n",
    "\n",
    "def disp():\n",
    "    print(\"var inside disp\\t\",var)\n",
    "disp()"
   ]
  },
  {
   "cell_type": "markdown",
   "metadata": {},
   "source": [
    "### **E6**"
   ]
  },
  {
   "cell_type": "code",
   "execution_count": 7,
   "metadata": {},
   "outputs": [
    {
     "name": "stdout",
     "output_type": "stream",
     "text": [
      "var inside main\t 100\n",
      "global var is\t 500\n"
     ]
    }
   ],
   "source": [
    "# Global Variable and Local variable\n",
    "var=500  # global variable\n",
    "\n",
    "def disp():\n",
    "   return var  # global var\n",
    "\n",
    "def myfun():\n",
    "    var=100  # local variable\n",
    "    print(\"var inside main\\t\",var) # by default local is given precedence\n",
    "    print(\"global var is\\t\",disp())\n",
    "myfun()"
   ]
  },
  {
   "cell_type": "markdown",
   "metadata": {},
   "source": [
    "### **E7**"
   ]
  },
  {
   "cell_type": "code",
   "execution_count": 2,
   "metadata": {},
   "outputs": [
    {
     "name": "stdout",
     "output_type": "stream",
     "text": [
      "Value of global var is\t 500\n",
      "var inside main\t 300\n",
      "Value of global var is\t 300\n"
     ]
    }
   ],
   "source": [
    "# Global Variable and Local variable\n",
    "var=500  # global variable\n",
    "\n",
    "print(\"Value of global var is\\t\",var)\n",
    "def myfun():\n",
    "    global var     #  try commenting this line\n",
    "    var=300  # changing global variable\n",
    "    print(\"var inside main\\t\",var) # by default local is given precedence\n",
    "myfun()\n",
    "print(\"Value of global var is\\t\",var)"
   ]
  },
  {
   "cell_type": "markdown",
   "metadata": {},
   "source": [
    "<!-- ### **E8** -->"
   ]
  },
  {
   "cell_type": "code",
   "execution_count": 16,
   "metadata": {},
   "outputs": [
    {
     "name": "stdout",
     "output_type": "stream",
     "text": [
      "inside main\n",
      "inside disp\n"
     ]
    }
   ],
   "source": [
    "def disp():\n",
    "    print(\"inside disp\")\n",
    "\n",
    "def myfun():\n",
    "    print(\"inside main\")\n",
    "    disp()\n",
    "myfun()"
   ]
  },
  {
   "cell_type": "markdown",
   "metadata": {},
   "source": [
    "### **E9**"
   ]
  },
  {
   "cell_type": "code",
   "execution_count": 17,
   "metadata": {},
   "outputs": [
    {
     "name": "stdout",
     "output_type": "stream",
     "text": [
      "inside main\n",
      "inside disp\t 20\n"
     ]
    }
   ],
   "source": [
    "def disp(var):\n",
    "    print(\"inside disp\\t\",var)\n",
    "\n",
    "def myfun():\n",
    "    print(\"inside main\")\n",
    "    disp(20)\n",
    "myfun()"
   ]
  },
  {
   "cell_type": "markdown",
   "metadata": {},
   "source": [
    "### **E10**"
   ]
  },
  {
   "cell_type": "code",
   "execution_count": 18,
   "metadata": {},
   "outputs": [
    {
     "name": "stdout",
     "output_type": "stream",
     "text": [
      "Rahul \t 30\n"
     ]
    }
   ],
   "source": [
    "def show(var1,var2):\n",
    "    print(var1,\"\\t\",var2)\n",
    "\n",
    "\n",
    "def myfun():\n",
    "    show(\"Rahul\",30)\n",
    "myfun()"
   ]
  },
  {
   "cell_type": "markdown",
   "metadata": {},
   "source": [
    "### **E10a**"
   ]
  },
  {
   "cell_type": "code",
   "execution_count": 19,
   "metadata": {},
   "outputs": [
    {
     "name": "stdout",
     "output_type": "stream",
     "text": [
      "10 \t 20\n",
      "inside myfun\n"
     ]
    }
   ],
   "source": [
    "def show(var1,var2):\n",
    "    print(var1,\"\\t\",var2)\n",
    "    myfun()\n",
    "\n",
    "\n",
    "def myfun():\n",
    "    print(\"inside myfun\")\n",
    "\n",
    "show(10,20)"
   ]
  },
  {
   "cell_type": "markdown",
   "metadata": {},
   "source": [
    "### **E11**"
   ]
  },
  {
   "cell_type": "code",
   "execution_count": 20,
   "metadata": {},
   "outputs": [
    {
     "name": "stdout",
     "output_type": "stream",
     "text": [
      "100\n",
      "Sachin 200\n",
      "A 4.5\n"
     ]
    }
   ],
   "source": [
    "def myfun(val):\n",
    "\tprint(val)\n",
    "myfun(100)\n",
    "\n",
    "def myfun1(val1,val2):\n",
    "\tprint(val1, val2)\n",
    "myfun1(\"Sachin\",200)\n",
    "myfun1('A',4.5)"
   ]
  },
  {
   "cell_type": "markdown",
   "metadata": {},
   "source": [
    "### **E12**"
   ]
  },
  {
   "cell_type": "code",
   "execution_count": 21,
   "metadata": {},
   "outputs": [
    {
     "name": "stdout",
     "output_type": "stream",
     "text": [
      "30\n"
     ]
    }
   ],
   "source": [
    "def myfun(val1,val2):\n",
    "\treturn val1+val2\n",
    "\n",
    "print(myfun(10,20))"
   ]
  },
  {
   "cell_type": "markdown",
   "metadata": {},
   "source": [
    "### **Global and local variables have same name_1**"
   ]
  },
  {
   "cell_type": "code",
   "execution_count": 22,
   "metadata": {},
   "outputs": [
    {
     "name": "stdout",
     "output_type": "stream",
     "text": [
      "global var is   500\n",
      "local var is   200\n",
      "global var is    600\n",
      "Global variable is     600\n"
     ]
    }
   ],
   "source": [
    "# global and local variables have same name\n",
    "\n",
    "var=500\n",
    "def fun1():\n",
    "\tprint(\"global var is  \",var)\n",
    "def fun2():\n",
    "\tvar=200\n",
    "\tprint(\"local var is  \",var)\n",
    "def fun3():\n",
    "\tglobal var\n",
    "\tvar=600\n",
    "\tprint(\"global var is   \",var)\n",
    "\n",
    "fun1()\n",
    "fun2()\n",
    "fun3()\n",
    "\n",
    "print(\"Global variable is    \",var)\n"
   ]
  },
  {
   "cell_type": "markdown",
   "metadata": {},
   "source": [
    "### **Global and local variables have same name**"
   ]
  },
  {
   "cell_type": "code",
   "execution_count": 3,
   "metadata": {},
   "outputs": [
    {
     "name": "stdout",
     "output_type": "stream",
     "text": [
      "Local variable is\t 100\n",
      "Global variable is\t 500\n"
     ]
    }
   ],
   "source": [
    "# global and local variables have same name\n",
    "\n",
    "var=500\n",
    "def myfun():\n",
    "\tvar=100\n",
    "\tprint(\"Local variable is\\t\",var)\n",
    "myfun()\n",
    "print(\"Global variable is\\t\",var)\n"
   ]
  },
  {
   "cell_type": "markdown",
   "metadata": {},
   "source": [
    "### **How to return multiple values from a function**"
   ]
  },
  {
   "cell_type": "code",
   "execution_count": 24,
   "metadata": {},
   "outputs": [
    {
     "name": "stdout",
     "output_type": "stream",
     "text": [
      "100 200 300\n",
      "50 30\n"
     ]
    }
   ],
   "source": [
    "def myfun():\n",
    "    return 100 ,200,300\n",
    "\n",
    "a,b,c=myfun()\n",
    "print(a,b,c)\n",
    "\n",
    "\n",
    "def calculation(a, b):\n",
    "    return a + b, a - b\n",
    "\n",
    "# get result in tuple format\n",
    "# unpack tuple\n",
    "add, sub = calculation(40, 10)\n",
    "print(add, sub)\n"
   ]
  },
  {
   "cell_type": "markdown",
   "metadata": {},
   "source": [
    "### **How does interpreter treat functions**"
   ]
  },
  {
   "cell_type": "markdown",
   "metadata": {},
   "source": [
    "As we know Python interpreter interprets statements from the first line of the python file ( .pyc file )\n",
    "\n",
    "Suppose we write\n",
    "```\n",
    "def disp():\n",
    "\tprint(\"hello\")\n",
    "```\n",
    "now if we simply execute above file, there won't be any output.\n",
    "\n",
    "but if we add following line:\n",
    "\n",
    "disp()    # function call\n",
    "\n",
    "and execute , we'll get the output.\n",
    "\n",
    "Why it is so?\n",
    "\n",
    "\n",
    "\n",
    "Simple. Python sees def disp():, and simply reads the function, without executing it. A call to any function in this disp() e.g. \"print(\"hello\") \"  is just a string. It is not run yet, and it does not matter what it is and where it is defined - it is just text.\n",
    "\n",
    "Only when python sees a function call, it starts executing the function and looks where functions are. "
   ]
  },
  {
   "cell_type": "markdown",
   "metadata": {},
   "source": [
    "### **Keyword variable no. of arg functions**"
   ]
  },
  {
   "cell_type": "code",
   "execution_count": 4,
   "metadata": {},
   "outputs": [
    {
     "name": "stdout",
     "output_type": "stream",
     "text": [
      "<class 'tuple'>\n",
      "A\n",
      "hello\n",
      "5.6\n",
      "True\n",
      "500\n",
      "\n",
      "let's define keyworded argument function\n",
      "\n",
      "<class 'dict'>\n",
      "name \t Rohit\n",
      "age \t 30\n",
      "<class 'dict'>\n",
      "name \t Viraat\n",
      "age \t 34\n",
      "rollno \t 1\n",
      "address \t Mumbai\n"
     ]
    }
   ],
   "source": [
    "def myfun(*varg):\n",
    "    print(type(varg))\n",
    "    for i in varg:\n",
    "        print(i)\n",
    "\n",
    "myfun('A',\"hello\",5.6,True,500)\n",
    "\n",
    "#    myfun(name=\"Rohit\",age=30)     #    TypeError: myfun() got an unexpected keyword argument 'name'\n",
    "\n",
    "print(\"\\nlet's define keyworded argument function\\n\")\n",
    "def myfun1(**varg):         # keyworded argument function\n",
    "    print(type(varg))\n",
    "    for key,value in varg.items():\n",
    "        print(key,\"\\t\",value)\n",
    "\n",
    "myfun1(name=\"Rohit\",age=30)\n",
    "myfun1(name=\"Viraat\",age=34,rollno=1,address=\"Mumbai\")\n",
    "# myfun1('A',100,\"hello\",6,7)  # must be key-value pair"
   ]
  },
  {
   "cell_type": "markdown",
   "metadata": {},
   "source": [
    "### **Call by Reference**"
   ]
  },
  {
   "cell_type": "code",
   "execution_count": 5,
   "metadata": {},
   "outputs": [
    {
     "name": "stdout",
     "output_type": "stream",
     "text": [
      "Mainlist before calling function\t [1, 2, 3, 4]\n",
      "id of mainlist is\t 2888125948544\n",
      "id of mylist before changing var is\t 2888125948544\n",
      "id of mylist after changing var is\t 2888125948544\n",
      "Mainlist after calling function\t [1, 2, 3, 4, 5]\n"
     ]
    }
   ],
   "source": [
    "# call by reference concept\n",
    "def change(mylist):\n",
    "    print(\"id of mylist before changing var is\\t\",id(mylist))\n",
    "    mylist.append(5)\n",
    "    print(\"id of mylist after changing var is\\t\",id(mylist))\n",
    "\n",
    "mainlist=[1,2,3,4]\n",
    "print(\"Mainlist before calling function\\t\",mainlist)\n",
    "print(\"id of mainlist is\\t\",id(mainlist))\n",
    "\n",
    "change(mainlist)\n",
    "print(\"Mainlist after calling function\\t\",mainlist)\n",
    "\n"
   ]
  },
  {
   "cell_type": "markdown",
   "metadata": {},
   "source": [
    "### **Call by Value**"
   ]
  },
  {
   "cell_type": "code",
   "execution_count": 6,
   "metadata": {},
   "outputs": [
    {
     "name": "stdout",
     "output_type": "stream",
     "text": [
      "id of num is\t 140715811293912\n",
      "before\t 10\n",
      "id of var before changing var is\t 140715811293912\n",
      "Value of var is\t 11\n",
      "id of var after changing var is\t 140715811293944\n",
      "after\t 10\n"
     ]
    }
   ],
   "source": [
    "# call by value concept\n",
    "def change(var):\n",
    "    print(\"id of var before changing var is\\t\",id(var))\n",
    "    var+=1\n",
    "    print(\"Value of var is\\t\",var)\n",
    "    print(\"id of var after changing var is\\t\",id(var))\n",
    "num=10\n",
    "print(\"id of num is\\t\",id(num))\n",
    "print(\"before\\t\",num)\n",
    "change(num)\n",
    "print(\"after\\t\",num)\n"
   ]
  },
  {
   "cell_type": "markdown",
   "metadata": {},
   "source": [
    "### **Default arguments of the function**"
   ]
  },
  {
   "cell_type": "markdown",
   "metadata": {},
   "source": [
    "### **E1**"
   ]
  },
  {
   "cell_type": "code",
   "execution_count": 7,
   "metadata": {},
   "outputs": [
    {
     "name": "stdout",
     "output_type": "stream",
     "text": [
      "10 \t 20\n",
      "100 \t 200\n"
     ]
    }
   ],
   "source": [
    "# default arguments of the function\n",
    "\n",
    "def disp(var1,var2=20):\t\t# var2 - default argument it will override 20\n",
    "\tprint(var1,\"\\t\",var2)\n",
    "\t\n",
    "def fun():\n",
    "\tdisp(10)\n",
    "\tdisp(100,200)\n",
    "fun()"
   ]
  },
  {
   "cell_type": "markdown",
   "metadata": {},
   "source": [
    "### **E2**"
   ]
  },
  {
   "cell_type": "code",
   "execution_count": 8,
   "metadata": {},
   "outputs": [
    {
     "name": "stdout",
     "output_type": "stream",
     "text": [
      "10 \t 20\n",
      "30 \t 20\n",
      "100 \t 200\n"
     ]
    }
   ],
   "source": [
    "# default arguments of the function\n",
    "\n",
    "def disp(var1=10,var2=20):\n",
    "\tprint(var1,\"\\t\",var2)\n",
    "\n",
    "def fun():\n",
    "\tdisp()\n",
    "\tdisp(30)\n",
    "\tdisp(100,200)\n",
    "fun()"
   ]
  },
  {
   "cell_type": "markdown",
   "metadata": {},
   "source": [
    "### **E3**"
   ]
  },
  {
   "cell_type": "code",
   "execution_count": 4,
   "metadata": {},
   "outputs": [
    {
     "ename": "SyntaxError",
     "evalue": "non-default argument follows default argument (21970199.py, line 3)",
     "output_type": "error",
     "traceback": [
      "\u001b[1;36m  Cell \u001b[1;32mIn[4], line 3\u001b[1;36m\u001b[0m\n\u001b[1;33m    def disp(var1=10,var2):\u001b[0m\n\u001b[1;37m                     ^\u001b[0m\n\u001b[1;31mSyntaxError\u001b[0m\u001b[1;31m:\u001b[0m non-default argument follows default argument\n"
     ]
    }
   ],
   "source": [
    "# Error :  SyntaxError: non-default argument follows default argument\n",
    "\n",
    "def disp(var1=10,var2):\n",
    "\tprint(var1,\"\\t\",var2)\n",
    "\n",
    "def fun():\n",
    "\n",
    "fun()"
   ]
  },
  {
   "cell_type": "markdown",
   "metadata": {},
   "source": [
    "### **Variable_No_Of_Arg**"
   ]
  },
  {
   "cell_type": "code",
   "execution_count": 9,
   "metadata": {},
   "outputs": [
    {
     "name": "stdout",
     "output_type": "stream",
     "text": [
      "no argument passed\n",
      "10\n",
      "20\n",
      "30\n",
      "abc\n",
      "200\n",
      "True\n",
      "3.4\n",
      "[10, 30, 40]\n"
     ]
    }
   ],
   "source": [
    " # variable number of arguments to a function\n",
    "\n",
    "def disp(*vars):\n",
    "\tif(vars.__len__()==0):\n",
    "\t\tprint(\"no argument passed\")\n",
    "\telse:\n",
    "\t\tfor k in vars:\n",
    "\t\t\tprint(k)\n",
    "\n",
    "def fun():\n",
    "\tdisp()\n",
    "\tdisp(10,20,30)\n",
    "\tdisp(\"abc\",200,True,3.4)\n",
    "\tdisp([10,30,40])\n",
    "fun()\n"
   ]
  },
  {
   "cell_type": "markdown",
   "metadata": {},
   "source": [
    "## **Function Continue**"
   ]
  },
  {
   "cell_type": "markdown",
   "metadata": {},
   "source": [
    "### **Function_accepts_another_function_as_an_argument**"
   ]
  },
  {
   "cell_type": "markdown",
   "metadata": {},
   "source": [
    "#### **E1**"
   ]
  },
  {
   "cell_type": "code",
   "execution_count": 2,
   "metadata": {},
   "outputs": [
    {
     "name": "stdout",
     "output_type": "stream",
     "text": [
      "inside disp function\n",
      "inside outer function\n"
     ]
    }
   ],
   "source": [
    "def main(fun):\n",
    "    fun()\n",
    "    print(\"inside outer function\")\n",
    "\n",
    "def disp():\n",
    "    print(\"inside disp function\")\n",
    "\n",
    "main(disp)\n",
    "\n",
    "\n",
    "# place the breakpoint at both the print statements,debug and check the call stack"
   ]
  },
  {
   "cell_type": "markdown",
   "metadata": {},
   "source": [
    "#### **E2**"
   ]
  },
  {
   "cell_type": "code",
   "execution_count": null,
   "metadata": {},
   "outputs": [],
   "source": [
    "def main(fun):\n",
    "    fun()     #  TypeError: 'int' object is not callable, so how will you ensure that \"fun\" is callable or not\n",
    "    print(\"inside outer function\")\n",
    "\n",
    "def disp():\n",
    "    print(\"inside disp function\")\n",
    "\n",
    "temp=100\n",
    "main(temp)  "
   ]
  },
  {
   "cell_type": "markdown",
   "metadata": {},
   "source": [
    "#### **E3**"
   ]
  },
  {
   "cell_type": "code",
   "execution_count": 12,
   "metadata": {},
   "outputs": [
    {
     "name": "stdout",
     "output_type": "stream",
     "text": [
      "inside disp function\n",
      "inside outer function\n",
      "You passed non-callable argument to main function\n",
      "inside outer function\n"
     ]
    }
   ],
   "source": [
    "\"\"\" \n",
    "Python provides a built-in function, to determine which objects are callable. The function is callable(). \n",
    "If the object passed as a parameter to the callable() prints TRUE then that object is callable. \n",
    "If it displays FALSE then it is not callable in Python.\n",
    " \"\"\"\n",
    "\n",
    "def main(fun):\n",
    "    if callable(fun):\n",
    "        fun()\n",
    "    else:\n",
    "        print(\"You passed non-callable argument to main function\")\n",
    "    print(\"inside outer function\")\n",
    "\n",
    "def disp():\n",
    "    print(\"inside disp function\")\n",
    "\n",
    "main(disp)    # works\n",
    "temp=100\n",
    "main(temp)    # you won't get TypeError"
   ]
  },
  {
   "cell_type": "markdown",
   "metadata": {},
   "source": [
    "### **Function_returns_another_function**"
   ]
  },
  {
   "cell_type": "markdown",
   "metadata": {},
   "source": [
    "#### **E1**"
   ]
  },
  {
   "cell_type": "code",
   "execution_count": 3,
   "metadata": {},
   "outputs": [
    {
     "name": "stdout",
     "output_type": "stream",
     "text": [
      "inside disp1\n",
      "inside disp2\n",
      "inside show\n"
     ]
    }
   ],
   "source": [
    "# def disp1():\n",
    "#     print(\"inside disp1\")\n",
    "#     return disp2\n",
    "\n",
    "# def disp2():\n",
    "#     print(\"inside disp2\")\n",
    "\n",
    "# var1=disp1()\n",
    "# var1()  # here \"disp2()\" will be called\n",
    "\n",
    "# name=\"Sachin\"\n",
    "def disp1():\n",
    "    print(\"inside disp1\")\n",
    "    return disp2,show\n",
    "    # return name\n",
    "\n",
    "def disp2():\n",
    "    print(\"inside disp2\")\n",
    "\n",
    "def show():\n",
    "    print(\"inside show\")\n",
    "\n",
    "var1,var2=disp1()\n",
    "var1()\n",
    "var2()\n",
    "# if callable(var1):\n",
    "#     var1()\n",
    "# else:\n",
    "#     print(\"var1 is not callable\")"
   ]
  },
  {
   "cell_type": "markdown",
   "metadata": {},
   "source": [
    "<!-- #### **E2** -->"
   ]
  },
  {
   "cell_type": "code",
   "execution_count": 5,
   "metadata": {},
   "outputs": [
    {
     "name": "stdout",
     "output_type": "stream",
     "text": [
      "inside disp1\n",
      "inside disp2\n"
     ]
    }
   ],
   "source": [
    "def disp1():\n",
    "    print(\"inside disp1\")\n",
    "    return disp2\n",
    "\n",
    "def disp2():\n",
    "    print(\"inside disp2\")\n",
    "\n",
    "disp1()()    # no need to collect the returned function in any variable\n"
   ]
  },
  {
   "cell_type": "markdown",
   "metadata": {},
   "source": [
    "### **Nested_Functions_in_Python**"
   ]
  },
  {
   "cell_type": "markdown",
   "metadata": {},
   "source": [
    "#### **E1**"
   ]
  },
  {
   "cell_type": "code",
   "execution_count": 8,
   "metadata": {},
   "outputs": [
    {
     "name": "stdout",
     "output_type": "stream",
     "text": [
      "inside outer function\n"
     ]
    }
   ],
   "source": [
    "def outer():\n",
    "    def inner():\n",
    "        print(\"inside inner function\")\n",
    "    print(\"inside outer function\")\n",
    "\n",
    "outer()\n",
    "\n",
    "# place the breakpoint at both the print statements,debug and check the call stackz"
   ]
  },
  {
   "cell_type": "markdown",
   "metadata": {},
   "source": [
    "#### **E2**"
   ]
  },
  {
   "cell_type": "code",
   "execution_count": 9,
   "metadata": {},
   "outputs": [
    {
     "name": "stdout",
     "output_type": "stream",
     "text": [
      "inside outer function\n",
      "inside inner function\n"
     ]
    }
   ],
   "source": [
    "\"\"\"\n",
    "Closure in Python is an inner function object, a function that behaves like an object, that remembers and has access to variables in the local scope in which it was created even after the outer function has finished executing.\n",
    "\"\"\"\n",
    "\n",
    "def outer():\n",
    "    def inner():     # it's a closure\n",
    "        print(\"inside inner function\")\n",
    "    print(\"inside outer function\")\n",
    "    return inner\n",
    "\n",
    "var1=outer()\n",
    "var1()\n",
    "\n",
    "# place the breakpoint at both the print statements,debug and check the call stack"
   ]
  },
  {
   "cell_type": "markdown",
   "metadata": {},
   "source": [
    "#### **E3**"
   ]
  },
  {
   "cell_type": "code",
   "execution_count": 11,
   "metadata": {},
   "outputs": [
    {
     "name": "stdout",
     "output_type": "stream",
     "text": [
      "inside outer function\n",
      "inside inner function\t 400\n"
     ]
    }
   ],
   "source": [
    "def outer():\n",
    "    num=100\n",
    "    def inner():     # it's a closure\n",
    "        print(\"inside inner function\\t\",num)\n",
    "    num=400\n",
    "    print(\"inside outer function\")\n",
    "    return inner\n",
    "\n",
    "var1=outer()\n",
    "var1()"
   ]
  },
  {
   "cell_type": "markdown",
   "metadata": {},
   "source": [
    "#### **Lexical Environment**"
   ]
  },
  {
   "cell_type": "markdown",
   "metadata": {},
   "source": [
    "lexical scope=local scope+lexical environment of parent function [ outer function ]\n",
    "\n",
    "inner function is lexically sitting inside outer function. That means inner function will have access to the lexical environment of outer function. outer function is lexically sitting inside the global scope.\n"
   ]
  },
  {
   "cell_type": "markdown",
   "metadata": {},
   "source": [
    "##### **Study**"
   ]
  },
  {
   "cell_type": "code",
   "execution_count": null,
   "metadata": {},
   "outputs": [],
   "source": [
    "def outer():\n",
    "    print(x)\n",
    "\n",
    "x=100\n",
    "\n",
    "outer()\n",
    "\n",
    "\n",
    "\n",
    "\n",
    "def outer():\n",
    "    def inner():\n",
    "        print(\"inside inner function\\t\",x)\n",
    "\n",
    "    inner()\n",
    "x=100\n",
    "\n",
    "outer()\n",
    "\n",
    "\n",
    "\n",
    "\n",
    "\n",
    "def outer():\n",
    "    x = 100\n",
    "    def inner():\n",
    "        print(\"inside inner function\\t\",x)\n",
    "\n",
    "    inner()\n",
    "\n",
    "\n",
    "outer()\n",
    "\n",
    "\n",
    "\n",
    "\n",
    "\n",
    "\n",
    "def outer():\n",
    "    x = 100\n",
    "    def inner():\n",
    "        print(\"inside inner function\\t\",x)\n",
    "\n",
    "    inner()\n",
    "\n",
    "\n",
    "outer()\n",
    "print(\"outside outer function\\t\",x)    #  NameError: name 'x' is not defined\n",
    "\n",
    "\n",
    "\n",
    "\n",
    "# scope means where you can access a specific variable or a function in our code.\n",
    "\n",
    "in the above code snippet we have a question\n",
    "\n",
    "what is the scope of a variable \"x\" ?\n",
    "\tor\n",
    "is \"x\" inside scope of a function \"inner()\" ?\n",
    "\n",
    "both these questions are same.\n",
    "\n",
    "\n",
    "scope is dependent on the \"lexical environment\"\n",
    "\n",
    "what is \"lexical environment\" ?\n",
    "\n",
    "\n",
    "when we run the above code , call stack gets created\n",
    "\n",
    "\n",
    "\n",
    "global execution context [ pushed to the call stack ]\n",
    "\twhere global variables/functions are stored\n",
    "\treference = value\n",
    "\n",
    "when you invoke a function \"outer\" [ pushed to the call stack ]\n",
    "\texecution context is created for \"outer\"\n",
    "\t\tinside which \"x\" and \"inner\" will get memory\n",
    "\n",
    "when you invoke \"inner()\" [ pushed to the call stack ]\n",
    "\texecution context is created for \"inner()\"\n",
    "\t\tthere is no variable defined inside \"inner()\"\n",
    "\n",
    "\n",
    "imp:- wherever an \"execution context\" is created, a \"lexical environment\" is also created. \n",
    "The meaning of \"lexical environment\" is \n",
    "\tlocal memory + lexical environment of parent\n",
    "\n",
    "what is lexical exactly?\n",
    "\tlexical means in hierarchy or in a sequence.\n",
    "\n",
    "\"inner()\" function is lexically sitting inside \"outer()\" function.\n",
    "in simple language where exactly \"inner()\" function is physically present. \"inner()\" function is physically present inside \"outer()\" function.\n",
    "That means \"inner()\" is lexically inside the \"outer()\"\n",
    "and \"outer()\" is lexically inside \"global scope\"\n",
    "\n",
    "so what is exactly stored inside the \"execution context\" created for each function?\n",
    "\tits local members + reference to the lexical environment of parent \n",
    "\n",
    "so, \"execution context\" of \"inner\" has\n",
    "\tits local members ( we don't have any local member inside \"inner\")\n",
    "\t\t+\n",
    "\treference to the lexical environment of its parent i.e. \"outer\"\n",
    "\n",
    "\"execution context\" of \"outer\" has\n",
    "\tits local members ( variable \"x\")\n",
    "\t\t+\n",
    "\treference to the lexical environment of its parent i.e. global scope\n",
    "\n",
    "\"execution context\" of \"global\" has\n",
    "\tits  members ( global variables)\n",
    "\t\t+\n",
    "\treference to the lexical environment of its parent (since there is no parent to global, the reference is \"null\")\n",
    "\n",
    "\n",
    "[ draw the diagram , and discuss this is how lexical environment looks like in the memory ]\n",
    "\n",
    "\n",
    "Let's discuss how this (lexical environment) is used.\n",
    "\n",
    "e.g.\n",
    "\n",
    "\n",
    "def outer():\n",
    "    x = 100\n",
    "    def inner():\n",
    "        print(\"inside inner function\\t\",x)\n",
    "\n",
    "    inner()\n",
    "\n",
    "\n",
    "outer()\n",
    "\n",
    "in the above code , when the statement\n",
    "\t\tprint(\"inside inner function\\t\",x)   is executed,\n",
    "python interpreter tries to find out \"x\" in the local memory of \"inner()\"\n",
    "\tit won't find because there is no \"x\" variable defined inside \"inner()\" function. so now, python interpreter goes to the \"lexical environment of inner()'s parent \" i.e the lexical environment of \"outer\" and try to search \"x\" in the lexical environment of \"outer\". since interpreter finds \"x\" in the lexical scope of \"outer\" , it goes back to inner() and prints the value of \"x\"\n",
    "\n",
    "suppose \"x\" variable were not there in \"outer\" , in that case interpreter would have accessed \"lexical environment of parent of outer\" i.e. global environment. If \"x\" is defined globally then it will print \"x\" inside \"inner\".\n",
    "\n",
    "And if \"x\" is also not globally available (suppose we havn't declared \"x\" anywhere in the code), interpreter would have given\n",
    "\tNameError: name 'x' is not defined\n",
    "for the statement :\n",
    "\tprint(\"inside inner function\\t\",x)  inside \"inner()\" function.\n",
    "\n",
    "this process of searching variable \n",
    "\tfrom a local scope to the parent's lexical environment , from parent's lexical environment to its parent lexical environment and so on ........ is called as \"scope chain\"\n",
    "\n",
    "\n",
    "place the breakpoints at\n",
    "\n",
    "\tx = 100\n",
    "\n",
    "\tprint(\"inside inner function\\t\",x)\n",
    "\n",
    "\t\tand\n",
    "\tinner\n",
    "\n",
    "\n",
    "and debug the code\n",
    "\n",
    "after clicking \"step over\" when control goes inside \"inner\"\n",
    "\tobserve \"Frames\" section in the debug window\n",
    "\tyou will observe\n",
    "\t\ta call stack\n",
    "\n",
    "\t\t\tinner\n",
    "\t\t\touter\n",
    "\t\t\tmodule [trial.py]  # the name of .py file\n",
    "\n",
    "\n",
    "when the \"inner\" is selected , observ the right side window\n",
    "\tyou will notice \"x\" over there\n",
    "\n",
    "click on \"step over\" when control goes to \"outer\"\n",
    "\tyou will notice \"x\" and \"inner\" over there.\n",
    "\n",
    "click on \"step over\" when control goes to \"module [trial.py]\"\n",
    "\tyou will notice \"outer\" along with other things\n"
   ]
  },
  {
   "cell_type": "markdown",
   "metadata": {},
   "source": [
    "#### **What are Closures in Python**"
   ]
  },
  {
   "attachments": {
    "image-2.png": {
     "image/png": "[encoded data removed]"
    },
    "image.png": {
     "image/png": "[encoded data removed]"
    }
   },
   "cell_type": "markdown",
   "metadata": {},
   "source": [
    "What are Closures in Python?\n",
    "\n",
    "A closure is a function object that has access to variables in its enclosing lexical scope, even when the function is called outside that scope. A closure can “remember” the values of the variables in the enclosing scope, and use them each time it is called. The concept of closures is based on the concept of lexical scoping.\n",
    "  \n",
    "  ![image.png](attachment:image.png)\n",
    "\n",
    "To understand closures, let’s look at an example. Consider the following code snippet:\n",
    "![image-2.png](attachment:image-2.png)\n",
    "\n",
    "In the above example, we have defined a function outer_func that takes an argument x. Inside outer_func, we have defined another function inner_func that takes an argument y and returns the sum of x and y. Finally, outer_func returns inner_func. We then call outer_func with an argument of 10 and assign the result to closure_func. We can then call closure_func with an argument of 5 and get the output 15.\n",
    "\n",
    "In this example, inner_func is a closure because it has access to the variable x in the enclosing scope of outer_func, even though outer_func has returned and is no longer executing. Each time we call closure_func, it “remembers” the value of x that was passed to outer_func.\n",
    "\n",
    "How Closures in Python Work?\n",
    "In Python, when a function is defined inside another function, it creates a closure. The inner function has access to the variables in the outer function’s scope.\n",
    "When the outer function returns, the inner function is still able to access those variables because they are “closed over” by the closure.\n",
    "In our example above, when outer_func is called with an argument of 10, it creates a closure that “closes over” the variable x with a value of 10. When inner_func is called with an argument of 5, it adds 5 to the value of x and returns the result.\n",
    "\n"
   ]
  },
  {
   "cell_type": "markdown",
   "metadata": {},
   "source": [
    "### **Decorator_info**"
   ]
  },
  {
   "cell_type": "markdown",
   "metadata": {},
   "source": [
    " Decorator is a function which accepts another function as an argument , modifies it and returns.\n",
    "\n",
    "In Python, a decorator is a design pattern that allows you to modify the functionality of a function by wrapping it in another function. The outer function is called the decorator, which takes the original function as an argument and returns a modified version of it."
   ]
  },
  {
   "cell_type": "markdown",
   "metadata": {},
   "source": [
    "#### **Discussion1**"
   ]
  },
  {
   "cell_type": "markdown",
   "metadata": {},
   "source": [
    "##### **first**"
   ]
  },
  {
   "cell_type": "code",
   "execution_count": 7,
   "metadata": {},
   "outputs": [
    {
     "name": "stdout",
     "output_type": "stream",
     "text": [
      "Important task1\n",
      "Important task2\n",
      "Important task3\n",
      "Important task4\n"
     ]
    }
   ],
   "source": [
    "# let's write some functions which do some imp. task\n",
    "\n",
    "def fun1():\n",
    "    print(\"Important task1\")\n",
    "\n",
    "def fun2():\n",
    "    print(\"Important task2\")\n",
    "\n",
    "def fun3():\n",
    "    print(\"Important task3\")\n",
    "\n",
    "def fun4():\n",
    "    print(\"Important task4\") \n",
    "\n",
    "fun1()\n",
    "fun2()\n",
    "fun3()\n",
    "fun4()\n"
   ]
  },
  {
   "cell_type": "markdown",
   "metadata": {},
   "source": [
    "##### **Second**"
   ]
  },
  {
   "cell_type": "code",
   "execution_count": 8,
   "metadata": {},
   "outputs": [
    {
     "name": "stdout",
     "output_type": "stream",
     "text": [
      "Initialising Resources\n",
      "Important task1\n",
      "Releasing Resources\n",
      "Initialising Resources\n",
      "Important task2\n",
      "Releasing Resources\n",
      "Initialising Resources\n",
      "Important task3\n",
      "Releasing Resources\n",
      "Initialising Resources\n",
      "Important task4\n",
      "Releasing Resources\n"
     ]
    }
   ],
   "source": [
    "# let's write initialization and release \n",
    "\n",
    "def fun1():\n",
    "    print(\"Initialising Resources\")\n",
    "    print(\"Important task1\")\n",
    "    print(\"Releasing Resources\")\n",
    "\n",
    "def fun2():\n",
    "    print(\"Initialising Resources\")\n",
    "    print(\"Important task2\")\n",
    "    print(\"Releasing Resources\")\n",
    "\n",
    "def fun3():\n",
    "    print(\"Initialising Resources\")\n",
    "    print(\"Important task3\")\n",
    "    print(\"Releasing Resources\")\n",
    "\n",
    "def fun4():\n",
    "    print(\"Initialising Resources\")\n",
    "    print(\"Important task4\") \n",
    "    print(\"Releasing Resources\")\n",
    "\n",
    "fun1()\n",
    "fun2()\n",
    "fun3()\n",
    "fun4()\n"
   ]
  },
  {
   "cell_type": "markdown",
   "metadata": {},
   "source": [
    "##### **Third**"
   ]
  },
  {
   "cell_type": "code",
   "execution_count": 9,
   "metadata": {},
   "outputs": [
    {
     "name": "stdout",
     "output_type": "stream",
     "text": [
      "Important task1\n",
      "Releasing Resources\n",
      "Initialising Resources\n",
      "Important task2\n",
      "Initialising Resources\n",
      "Important task3\n",
      "Initialising Resources\n",
      "Important task4\n",
      "Releasing Resources\n"
     ]
    }
   ],
   "source": [
    "\"\"\" now suppose I don't want  initialization and release in each code or rather I am not so sure when exactly I need them\n",
    "In that case either I will comment initialization and release or put them in If condition.\n",
    "but that will give me maintenance drawback. \"\"\"\n",
    "\n",
    "def fun1():\n",
    "   # print(\"Initialising Resources\")\n",
    "    print(\"Important task1\")\n",
    "    print(\"Releasing Resources\")\n",
    "\n",
    "def fun2():\n",
    "    print(\"Initialising Resources\")\n",
    "    print(\"Important task2\")\n",
    " #   print(\"Releasing Resources\")\n",
    "\n",
    "def fun3():\n",
    "    print(\"Initialising Resources\")\n",
    "    print(\"Important task3\")\n",
    " #   print(\"Releasing Resources\")\n",
    "\n",
    "def fun4():\n",
    "    print(\"Initialising Resources\")\n",
    "    print(\"Important task4\") \n",
    "    print(\"Releasing Resources\")\n",
    "\n",
    "fun1()\n",
    "fun2()\n",
    "fun3()\n",
    "fun4()\n"
   ]
  },
  {
   "cell_type": "markdown",
   "metadata": {},
   "source": [
    "##### **Fifth**"
   ]
  },
  {
   "cell_type": "code",
   "execution_count": 10,
   "metadata": {},
   "outputs": [
    {
     "name": "stdout",
     "output_type": "stream",
     "text": [
      "Initialising Resources\n",
      "Important task1\n",
      "Releasing Resources\n",
      "Important task2\n",
      "Initialising Resources\n",
      "Important task3\n",
      "Releasing Resources\n",
      "Initialising Resources\n",
      "Important task4\n",
      "Releasing Resources\n"
     ]
    }
   ],
   "source": [
    "# we have a solution for this. We can go for \"Decorator\" function.\n",
    "# let's write initialization and release \n",
    "\n",
    "def decor_function(myfun):  # decorator function\n",
    "    def with_init_release():  # closure\n",
    "        print(\"Initialising Resources\")\n",
    "        myfun()\n",
    "        print(\"Releasing Resources\")\n",
    "    return with_init_release\n",
    "\n",
    "\n",
    "def fun1():\n",
    "    print(\"Important task1\")\n",
    "\n",
    "\n",
    "def fun2():\n",
    "    print(\"Important task2\")\n",
    "\n",
    "\n",
    "def fun3():\n",
    "    print(\"Important task3\")\n",
    "\n",
    "\n",
    "def fun4():\n",
    "    print(\"Important task4\") \n",
    "    \n",
    "var1=decor_function(fun1)\n",
    "var1()\n",
    "fun2()  # we don't want to do initialization and clean up\n",
    "var2=decor_function(fun3)\n",
    "var2()\n",
    "\"\"\" var3=decor_function(fun4)\n",
    "# var3() \"\"\"\n",
    "decor_function(fun4)()   # no need to collect function in any variable\n",
    "\n",
    "# place breakpoint at all the print statements and at the \"return\" statement and observe the call stack"
   ]
  },
  {
   "cell_type": "markdown",
   "metadata": {},
   "source": [
    "#### **Discussion2**"
   ]
  },
  {
   "cell_type": "markdown",
   "metadata": {},
   "source": [
    "##### **E1**"
   ]
  },
  {
   "cell_type": "code",
   "execution_count": 11,
   "metadata": {},
   "outputs": [
    {
     "name": "stdout",
     "output_type": "stream",
     "text": [
      "2.0\n"
     ]
    }
   ],
   "source": [
    "def div(a,b):\n",
    "    print(a/b)\n",
    "\n",
    "div(8,4)"
   ]
  },
  {
   "cell_type": "markdown",
   "metadata": {},
   "source": [
    "##### **E2**"
   ]
  },
  {
   "cell_type": "code",
   "execution_count": 12,
   "metadata": {},
   "outputs": [
    {
     "name": "stdout",
     "output_type": "stream",
     "text": [
      "0.5\n"
     ]
    }
   ],
   "source": [
    "def div(a,b):\n",
    "    print(a/b)\n",
    "\n",
    "div(4,8)   # what if numerator is less than denominator, how will you change the function?"
   ]
  },
  {
   "cell_type": "markdown",
   "metadata": {},
   "source": [
    "##### **E3**"
   ]
  },
  {
   "cell_type": "code",
   "execution_count": 12,
   "metadata": {},
   "outputs": [
    {
     "name": "stdout",
     "output_type": "stream",
     "text": [
      "2.0\n"
     ]
    }
   ],
   "source": [
    "def div(a,b):\n",
    "    if(a<b):\n",
    "        a,b=b,a   # logic to swap numerator and denominator if former is less that later\n",
    "    print(a/b)\n",
    "\n",
    "div(4,8)   \n",
    "\n",
    "# But what if \"div\" function is not written by us i.e. the source code of \"div\" is not available?"
   ]
  },
  {
   "cell_type": "markdown",
   "metadata": {},
   "source": [
    "##### **E4**"
   ]
  },
  {
   "cell_type": "code",
   "execution_count": 19,
   "metadata": {},
   "outputs": [
    {
     "name": "stdout",
     "output_type": "stream",
     "text": [
      "2.0\n"
     ]
    }
   ],
   "source": [
    "def div(a,b):\n",
    "    print(a/b)\n",
    "\n",
    "def my_div(fun):        # this is the decorator function which takes another function as an argument, invoke it and return it\n",
    "    def actual_logic(a,b):  # closure\n",
    "        if a<b:\n",
    "            a,b=b,a\n",
    "        fun(a,b)\n",
    "    return actual_logic\n",
    "\n",
    "div1=my_div(div) \n",
    "div1(8,4)  \n",
    "\n",
    "# place the breakpoints at \"print\",\"if\",both the \"return\" statements and observe the call stack\n",
    "# also observe varibles \"a\" and \"b\" inside variables section"
   ]
  },
  {
   "cell_type": "markdown",
   "metadata": {},
   "source": [
    "#### **Discussion3**"
   ]
  },
  {
   "cell_type": "markdown",
   "metadata": {},
   "source": [
    "##### **E1**"
   ]
  },
  {
   "cell_type": "code",
   "execution_count": 17,
   "metadata": {},
   "outputs": [
    {
     "name": "stdout",
     "output_type": "stream",
     "text": [
      "Initialising Resources\n",
      "Important task1\n",
      "Releasing Resources\n",
      "Initialising Resources\n",
      "Important task2\n",
      "Releasing Resources\n",
      "Initialising Resources\n",
      "Important task3\n",
      "Releasing Resources\n",
      "Initialising Resources\n",
      "Important task4\n",
      "Releasing Resources\n"
     ]
    }
   ],
   "source": [
    "# we have a solution for this. We can go for \"Decorator\" function.\n",
    "# let's write initialization and release \n",
    "\n",
    "def decor_function(myfun):\n",
    "    def with_init_release():\n",
    "        print(\"Initialising Resources\")\n",
    "        myfun()\n",
    "        print(\"Releasing Resources\")\n",
    "    return with_init_release\n",
    "\n",
    "@decor_function                  #  when you don't want to initialize or release remove the annotation\n",
    "def fun1():\n",
    "    print(\"Important task1\")\n",
    "\n",
    "@decor_function\n",
    "def fun2():\n",
    "    print(\"Important task2\")\n",
    "\n",
    "@decor_function\n",
    "def fun3():\n",
    "    print(\"Important task3\")\n",
    "\n",
    "@decor_function\n",
    "def fun4():\n",
    "    print(\"Important task4\") \n",
    "    \n",
    "fun1   # The moment \"fun1\" statement is encountered, \"decor_function\" gets called which returns \"with_init_release\" function. but we do not invoke it, hence there is no output. Same for all the following statements.\n",
    "\n",
    "fun2\n",
    "fun3\n",
    "fun4\n",
    "\n",
    "# place breakpoint at all the print statements and at the \"return\" statement and observe the call stack"
   ]
  },
  {
   "cell_type": "markdown",
   "metadata": {},
   "source": [
    "#### **E2**"
   ]
  },
  {
   "cell_type": "code",
   "execution_count": 20,
   "metadata": {},
   "outputs": [
    {
     "name": "stdout",
     "output_type": "stream",
     "text": [
      "Initialising Resources\n",
      "Important task1\n",
      "Releasing Resources\n",
      "Important task2\n",
      "Initialising Resources\n",
      "Important task3\n",
      "Releasing Resources\n",
      "Initialising Resources\n",
      "Important task4\n",
      "Releasing Resources\n"
     ]
    }
   ],
   "source": [
    "# we have a solution for this. We can go for \"Decorator\" function.\n",
    "# let's write initialization and release \n",
    "\n",
    "def decor_function(myfun):\n",
    "    def with_init_release():\n",
    "        print(\"Initialising Resources\")\n",
    "        myfun()\n",
    "        print(\"Releasing Resources\")\n",
    "    return with_init_release\n",
    "\n",
    "@decor_function                  #  when you don't want to initialize or release remove the annotation\n",
    "def fun1():\n",
    "    print(\"Important task1\")\n",
    "\n",
    "# @decor_function\n",
    "def fun2():\n",
    "    print(\"Important task2\")\n",
    "\n",
    "@decor_function\n",
    "def fun3():\n",
    "    print(\"Important task3\")\n",
    "\n",
    "@decor_function\n",
    "def fun4():\n",
    "    print(\"Important task4\") \n",
    "    \n",
    "fun1()  # The moment \"fun1\" statement is encountered, \"decor_function\" gets called which returns \"with_init_release\" function.\n",
    "# here we invoke it using (), hence \"with_init_release\" function gets called and we get the output.Same for all the \n",
    "# following statements.\n",
    "\n",
    "fun2()\n",
    "fun3()\n",
    "fun4()\n",
    "\n",
    "# place breakpoint at all the print statements and at the \"return\" statement and observe the call stack"
   ]
  },
  {
   "cell_type": "markdown",
   "metadata": {},
   "source": [
    "## **Function Overloading**"
   ]
  },
  {
   "cell_type": "markdown",
   "metadata": {},
   "source": [
    "Like other languages (for example, method overloading in C++) do, python does not support method overloading by default. But there are different ways to achieve method overloading in Python. \n",
    "The problem with method overloading in Python is that we may overload the methods but can only use the latest defined method."
   ]
  },
  {
   "cell_type": "markdown",
   "metadata": {},
   "source": [
    "####  **First way of overloading**"
   ]
  },
  {
   "cell_type": "code",
   "execution_count": 17,
   "metadata": {},
   "outputs": [
    {
     "name": "stdout",
     "output_type": "stream",
     "text": [
      "Type of args is\t <class 'tuple'>\n",
      "Arguments passed are \t 2\n",
      "10 20 \n",
      "\n",
      "Type of args is\t <class 'tuple'>\n",
      "Arguments passed are \t 3\n",
      "30 40 50 \n",
      "\n",
      "Type of args is\t <class 'tuple'>\n",
      "Arguments passed are \t 0\n",
      "\n",
      "\n",
      "Type of args is\t <class 'tuple'>\n",
      "Arguments passed are \t 4\n",
      "hello 100 4.5 True \n",
      "\n"
     ]
    }
   ],
   "source": [
    "def disp(*args):\n",
    "    print(\"Type of args is\\t\",type(args))\n",
    "    print(\"Arguments passed are \\t\",args.__len__())\n",
    "    for i in args:\n",
    "        print(i,end=\" \")\n",
    "    print(\"\\n\")\n",
    "disp(10,20)\n",
    "disp(30,40,50)\n",
    "disp()\n",
    "disp(\"hello\",100,4.5,True)"
   ]
  },
  {
   "cell_type": "markdown",
   "metadata": {},
   "source": [
    "####  **What if we overload function in Python**"
   ]
  },
  {
   "cell_type": "code",
   "execution_count": 21,
   "metadata": {},
   "outputs": [
    {
     "name": "stdout",
     "output_type": "stream",
     "text": [
      "fun1 with 2 args\n"
     ]
    }
   ],
   "source": [
    "# The problem with method overloading in Python is that we may # overload the methods \n",
    "# but can only use the latest defined method.\n",
    "\n",
    "def fun1():\n",
    "    print(\"fun1 with 0 arg\")\n",
    "def fun1(num1):\n",
    "    print(\"fun1 with 1 arg\")\n",
    "def fun1(num1,num2):\n",
    "    print(\"fun1 with 2 args\")\n",
    "\n",
    "# fun1()   #  TypeError: fun1() missing 2 required positional arguments: 'num1' and 'num2'\n",
    "\n",
    "# fun1(10) #  TypeError: fun1() missing 2 required positional arguments: 'num1' and 'num2'\n",
    "\n",
    "fun1(30,40) # No problem"
   ]
  },
  {
   "cell_type": "markdown",
   "metadata": {},
   "source": [
    "#### **Another way of overloading**"
   ]
  },
  {
   "cell_type": "markdown",
   "metadata": {},
   "source": [
    "Method 2 (Efficient One):\n",
    "By Using Multiple Dispatch Decorator \n",
    "\n",
    "Multiple Dispatch Decorator Can be installed by: \n",
    "\n",
    "pip install multipledispatch\n",
    "\n",
    "the @dispatch(int) statement suggests that the Dispatcher ‘disp’ is created and then allocates the ‘int’ type as the key and dispatcher ‘disp’ as the value and allocates it to the i th index in the namespace (dictionary).\n",
    "\n",
    "Namespace\n",
    "A namespace is nothing but a dictionary that is used by the dispatch decorator. The dispatch decorator creates a dispatcher object with the name of the function and stores this object as a key-value pair. This dictionary is used to map a functions like disp in the above example to a dispatcher object like Disptacher('disp').\n",
    "\n"
   ]
  },
  {
   "cell_type": "markdown",
   "metadata": {},
   "source": [
    "##### **E1**"
   ]
  },
  {
   "cell_type": "code",
   "execution_count": 19,
   "metadata": {},
   "outputs": [
    {
     "name": "stdout",
     "output_type": "stream",
     "text": [
      "Collecting multipledispatch\n",
      "  Using cached multipledispatch-1.0.0-py3-none-any.whl.metadata (3.8 kB)\n",
      "Using cached multipledispatch-1.0.0-py3-none-any.whl (12 kB)\n",
      "Installing collected packages: multipledispatch\n",
      "Successfully installed multipledispatch-1.0.0\n",
      "Note: you may need to restart the kernel to use updated packages.\n"
     ]
    }
   ],
   "source": [
    "pip install multipledispatch"
   ]
  },
  {
   "cell_type": "code",
   "execution_count": 20,
   "metadata": {},
   "outputs": [
    {
     "name": "stdout",
     "output_type": "stream",
     "text": [
      "80\n",
      "12\n",
      "17.204\n",
      "13.200000000000001\n"
     ]
    }
   ],
   "source": [
    "# When a function decorated with @dispatch is called, \n",
    "# the library inspects the arguments passed to the function \n",
    "# and dispatches the call to the appropriate implementation \n",
    "# based on the type and number of arguments.\n",
    "\n",
    "from multipledispatch import dispatch\n",
    "  \n",
    "#passing two parameters\n",
    "@dispatch(int,int)\n",
    "def product(first,second):\n",
    "    result = first*second\n",
    "    print(result)\n",
    "  \n",
    "#passing three parameters\n",
    "@dispatch(int,int,int)\n",
    "def product(first,second,third):\n",
    "    result  = first * second * third\n",
    "    print(result)\n",
    "  \n",
    "#you can also pass data type of any value as per requirement\n",
    "@dispatch(float,float,float)\n",
    "def product(first,second,third):\n",
    "    result  = first * second * third\n",
    "    print(result)\n",
    "  \n",
    "@dispatch(float,int,int)\n",
    "def product(first,second,third):\n",
    "    result  = first * second * third\n",
    "    print(result)  \n",
    "\n",
    "#calling product method with 2 arguments\n",
    "product(20,4)\n",
    "product(2,3,2) \n",
    "product(2.2,3.4,2.3)\n",
    "product(2.2,3,2)\n",
    "\n"
   ]
  },
  {
   "cell_type": "markdown",
   "metadata": {},
   "source": [
    "##### **E2**"
   ]
  },
  {
   "cell_type": "code",
   "execution_count": 21,
   "metadata": {},
   "outputs": [
    {
     "name": "stdout",
     "output_type": "stream",
     "text": [
      "Inside str method\t hello \t world\n",
      "Inside int method\t 100 \t 200\n"
     ]
    }
   ],
   "source": [
    "from multipledispatch import dispatch\n",
    "\n",
    "@dispatch(int,int)\n",
    "def disp(val1,val2):\n",
    "    print(\"Inside int method\\t\",val1,\"\\t\",val2)\n",
    "\n",
    "@dispatch(str,str)\n",
    "def disp(val1,val2):\n",
    "    print(\"Inside str method\\t\",val1,\"\\t\",val2)\n",
    "\n",
    "disp(\"hello\",\"world\")\n",
    "disp(100,200)"
   ]
  }
 ],
 "metadata": {
  "kernelspec": {
   "display_name": "venv",
   "language": "python",
   "name": "python3"
  },
  "language_info": {
   "codemirror_mode": {
    "name": "ipython",
    "version": 3
   },
   "file_extension": ".py",
   "mimetype": "text/x-python",
   "name": "python",
   "nbconvert_exporter": "python",
   "pygments_lexer": "ipython3",
   "version": "3.10.2"
  }
 },
 "nbformat": 4,
 "nbformat_minor": 2
}
