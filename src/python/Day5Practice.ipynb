{
 "cells": [
  {
   "cell_type": "markdown",
   "metadata": {},
   "source": [
    "# **Day5**"
   ]
  },
  {
   "cell_type": "markdown",
   "metadata": {},
   "source": [
    "## **Dataclasses module in Python**"
   ]
  },
  {
   "cell_type": "markdown",
   "metadata": {},
   "source": [
    "### **E1**"
   ]
  },
  {
   "cell_type": "code",
   "execution_count": 1,
   "metadata": {},
   "outputs": [
    {
     "name": "stdout",
     "output_type": "stream",
     "text": [
      "Person(name='Rohit', age=35, height=5.8, email='rohit@gmail.com')\n"
     ]
    }
   ],
   "source": [
    "# with *dataclasses* module we no longer need to define *__init__* and *__str__* methods in our class, they are provided implicitly.\n",
    "\n",
    "\n",
    "from dataclasses import dataclass\n",
    "\n",
    "@dataclass\n",
    "class Person:\n",
    "    name: str\n",
    "    age: int\n",
    "    height: float\n",
    "    email: str\n",
    "\n",
    "\n",
    "# p=Person() # TypeError: Person.__init__() missing 4 required positional arguments: 'name', 'age', 'height', and 'email'\n",
    "# it's because , inside Person class __init__() method is internally provided which needs 4 arguments while\n",
    "# creating an object\n",
    "\n",
    "p=Person(\"Rohit\",35,5.8,\"rohit@gmail.com\")  # __init__ method which is internally provided gets invoked here\n",
    "print(p)  # also __str__() method is internally provided"
   ]
  },
  {
   "cell_type": "markdown",
   "metadata": {},
   "source": [
    "### **E2**"
   ]
  },
  {
   "cell_type": "code",
   "execution_count": 8,
   "metadata": {},
   "outputs": [
    {
     "name": "stdout",
     "output_type": "stream",
     "text": [
      "Person(name='Rohit', age=35, height=5.8, email='Rohit@gmail.com')\n",
      "Person(name='Sachin', age=50, height=5.1, email='sachin@gmail.com')\n"
     ]
    }
   ],
   "source": [
    "from dataclasses import dataclass\n",
    "\n",
    "@dataclass\n",
    "class Person:\n",
    "    name: str =\"Rohit\"\n",
    "    age: int  = 35\n",
    "    height: float =5.8\n",
    "    email: str = \"Rohit@gmail.com\"\n",
    "\n",
    "\n",
    "p=Person() # now there is __init__() methods with default values which are provided in the class\n",
    "\n",
    "p1=Person(\"Sachin\",50,5.1,\"sachin@gmail.com\")  # you can pass also explicitly\n",
    "print(p)  \n",
    "print(p1) "
   ]
  },
  {
   "cell_type": "markdown",
   "metadata": {},
   "source": [
    "### **E3**"
   ]
  },
  {
   "cell_type": "code",
   "execution_count": 11,
   "metadata": {},
   "outputs": [
    {
     "name": "stdout",
     "output_type": "stream",
     "text": [
      "Person(name='Rohit', age=35, height=5.8, email='Rohit@gmail.com')\n",
      "Person(name='Sachin', age=50, height=5.1, email='sachin@gmail.com')\n"
     ]
    }
   ],
   "source": [
    "from dataclasses import dataclass\n",
    "\n",
    "@dataclass\n",
    "class Person:\n",
    "    name: str      \n",
    "    age: int \n",
    "    height: float =5.8\n",
    "    email: str = \"Rohit@gmail.com\"\n",
    "\n",
    "\n",
    "# p=Person() # Error you must pass values for \"name\" and \"age\"\n",
    "\n",
    "p1=Person(\"Sachin\",50,5.1,\"sachin@gmail.com\")  # you can pass also explicitly\n",
    "print(p)  \n",
    "print(p1) "
   ]
  },
  {
   "cell_type": "markdown",
   "metadata": {},
   "source": [
    "### **E4**"
   ]
  },
  {
   "cell_type": "code",
   "execution_count": null,
   "metadata": {},
   "outputs": [],
   "source": [
    "from dataclasses import dataclass\n",
    "\n",
    "@dataclass\n",
    "class Person:\n",
    "    name: str      \n",
    "    age: int \n",
    "    height: float =5.8\n",
    "    email: str = \"Rohit@gmail.com\"\n",
    "\n",
    "\n",
    "p=Person(\"Rohit\",35) # other values would be the ones which are provided inside the class\n",
    "\n",
    "p1=Person(\"Sachin\",50,5.1,\"sachin@gmail.com\")  # you can pass also explicitly\n",
    "print(p)  \n",
    "print(p1) "
   ]
  },
  {
   "cell_type": "markdown",
   "metadata": {},
   "source": [
    "### **E5**"
   ]
  },
  {
   "cell_type": "code",
   "execution_count": 6,
   "metadata": {},
   "outputs": [
    {
     "ename": "TypeError",
     "evalue": "Person.__init__() takes from 2 to 4 positional arguments but 5 were given",
     "output_type": "error",
     "traceback": [
      "\u001b[1;31m---------------------------------------------------------------------------\u001b[0m",
      "\u001b[1;31mTypeError\u001b[0m                                 Traceback (most recent call last)",
      "Cell \u001b[1;32mIn[6], line 13\u001b[0m\n\u001b[0;32m      8\u001b[0m     email: \u001b[38;5;28mstr\u001b[39m \u001b[38;5;241m=\u001b[39m \u001b[38;5;124m\"\u001b[39m\u001b[38;5;124mRohit@gmail.com\u001b[39m\u001b[38;5;124m\"\u001b[39m\n\u001b[0;32m     11\u001b[0m \u001b[38;5;66;03m#p=Person(\"Rohit\",5.8) # other values would be the ones which are provided inside the class\u001b[39;00m\n\u001b[1;32m---> 13\u001b[0m p1\u001b[38;5;241m=\u001b[39m\u001b[43mPerson\u001b[49m\u001b[43m(\u001b[49m\u001b[38;5;124;43m\"\u001b[39;49m\u001b[38;5;124;43mSachin\u001b[39;49m\u001b[38;5;124;43m\"\u001b[39;49m\u001b[43m,\u001b[49m\u001b[38;5;241;43m50\u001b[39;49m\u001b[43m,\u001b[49m\u001b[38;5;241;43m5.1\u001b[39;49m\u001b[43m,\u001b[49m\u001b[38;5;124;43m\"\u001b[39;49m\u001b[38;5;124;43msachin@gmail.com\u001b[39;49m\u001b[38;5;124;43m\"\u001b[39;49m\u001b[43m)\u001b[49m  \u001b[38;5;66;03m# you can pass also explicitly\u001b[39;00m\n\u001b[0;32m     14\u001b[0m \u001b[38;5;66;03m#print(p)  \u001b[39;00m\n\u001b[0;32m     15\u001b[0m \u001b[38;5;28mprint\u001b[39m(p1) \n",
      "\u001b[1;31mTypeError\u001b[0m: Person.__init__() takes from 2 to 4 positional arguments but 5 were given"
     ]
    }
   ],
   "source": [
    "from dataclasses import dataclass\n",
    "\n",
    "@dataclass\n",
    "class Person:\n",
    "    name: str      \n",
    "    age: int = 35\n",
    "    # height: float       # Error,  after default argument , you cannot have non-default argument\n",
    "    email: str = \"Rohit@gmail.com\"\n",
    "\n",
    "\n",
    "#p=Person(\"Rohit\",5.8) # other values would be the ones which are provided inside the class\n",
    "\n",
    "p1=Person(\"Sachin\",50,5.1,\"sachin@gmail.com\")  # you can pass also explicitly\n",
    "#print(p)  \n",
    "print(p1) "
   ]
  },
  {
   "cell_type": "markdown",
   "metadata": {},
   "source": [
    "### **E6ClassVariables**"
   ]
  },
  {
   "cell_type": "code",
   "execution_count": 13,
   "metadata": {},
   "outputs": [
    {
     "name": "stdout",
     "output_type": "stream",
     "text": [
      "Person(name='Rohit', age=35, height=5.1, email='Rohit@gmail.com', counter=5)\n",
      "Person(name='Sachin', age=38, height=4.1, email='Sachin@gmail.com', counter=5)\n",
      "5\n",
      "address of counter\n",
      "2029719388528\n",
      "2029719388528\n",
      "2029719388528\n",
      "address of name\n",
      "2029817170480\n",
      "2029817783664\n"
     ]
    }
   ],
   "source": [
    "from dataclasses import dataclass,field\n",
    "\n",
    "@dataclass\n",
    "class Person:\n",
    "    name: str\n",
    "    age: int\n",
    "    height: float\n",
    "    email: str\n",
    "    counter:int=field(default=5)     # class variable\n",
    "\n",
    "p1=Person(\"Rohit\",35,5.1,\"Rohit@gmail.com\")\n",
    "p2=Person(\"Sachin\",38,4.1,\"Sachin@gmail.com\")\n",
    "print(p1)\n",
    "print(p2)\n",
    "print(Person.counter)\n",
    "print(\"address of counter\")\n",
    "print(id(Person.counter))\n",
    "print(id(p1.counter))\n",
    "print(id(p2.counter))\n",
    "print(\"address of name\")\n",
    "print(id(p1.name))\n",
    "print(id(p2.name))"
   ]
  },
  {
   "cell_type": "markdown",
   "metadata": {},
   "source": [
    "### **Without dataclasses module**"
   ]
  },
  {
   "cell_type": "code",
   "execution_count": 14,
   "metadata": {},
   "outputs": [
    {
     "name": "stdout",
     "output_type": "stream",
     "text": [
      "Rohit\t35\t5.8\trohit@gmail.com\n"
     ]
    }
   ],
   "source": [
    "# Code without dataclasses module\n",
    "\n",
    "class Person:\n",
    "    def __init__(self,name,age,height,email):\n",
    "        self.name=name\n",
    "        self.age=age\n",
    "        self.height=height\n",
    "        self.email=email\n",
    "    \n",
    "    def __str__(self):\n",
    "        return self.name+\"\\t\"+str(self.age)+\"\\t\"+str(self.height)+\"\\t\"+self.email\n",
    "\n",
    "\n",
    "p=Person(\"Rohit\",35,5.8,\"rohit@gmail.com\") \n",
    "print(p) "
   ]
  },
  {
   "cell_type": "markdown",
   "metadata": {},
   "source": [
    "## **Object_Oriented_Python**"
   ]
  },
  {
   "cell_type": "markdown",
   "metadata": {},
   "source": [
    "### **Address of cls**"
   ]
  },
  {
   "cell_type": "code",
   "execution_count": 15,
   "metadata": {},
   "outputs": [
    {
     "name": "stdout",
     "output_type": "stream",
     "text": [
      "Type of temp is\t <class 'type'>\n",
      "\n",
      "\n",
      "\n",
      "address of temp is\t 2029781086688\n",
      "\n",
      "\n",
      "\n",
      "address of Account is\t 2029781086688\n",
      "address of cls is\t 2029781086688\n"
     ]
    },
    {
     "data": {
      "text/plain": [
       "9"
      ]
     },
     "execution_count": 15,
     "metadata": {},
     "output_type": "execute_result"
    }
   ],
   "source": [
    "\n",
    "class Account:\n",
    "    rate=9                  # class variable\n",
    "    def __init__(self,accid,name,balance):\n",
    "        self.accid=accid                   \n",
    "        self.name=name                      \n",
    "        self.balance=balance               \n",
    "    def getAccid(self):              # instance method\n",
    "        return self.accid\n",
    "    def getName(self):               # instance method\n",
    "        return self.name\n",
    "    def getBalance(self):            # instance method\n",
    "        return self.balance\n",
    "\n",
    "    @classmethod\n",
    "    def getRate(cls):\n",
    "        print(\"address of cls is\\t\",id(cls))\n",
    "        return cls.rate\n",
    "    \n",
    "    @staticmethod\n",
    "    def calculateEMI(no_of_years,load_amt):\n",
    "        return \"calculated EMI per month\"\n",
    "\n",
    "c1=Account(1,\"Abc\",40000)       # instance object\n",
    "c2=Account(2,\"Xyz\",70000)       # instance object\n",
    "\n",
    "\n",
    "temp=Account        # class object\n",
    "print(\"Type of temp is\\t\",type(temp))\n",
    "print(\"\\n\\n\")\n",
    "print(\"address of temp is\\t\",id(temp))\n",
    "print(\"\\n\\n\")\n",
    "print(\"address of Account is\\t\",id(Account))\n",
    "Account.getRate()"
   ]
  },
  {
   "cell_type": "markdown",
   "metadata": {},
   "source": [
    "### **Inheritance**"
   ]
  },
  {
   "cell_type": "markdown",
   "metadata": {},
   "source": [
    "Inheritance is the capability of one class to derive or inherit the properties from another class. The benefits of inheritance are: \n",
    " \n",
    "1.\tIt represents real-world relationships well.\n",
    "2.\tIt provides reusability of a code. We don’t have to write the same code again and again. Also, it allows us to add more features to a class without modifying it.\n",
    "3.\tIt is transitive in nature, which means that if class B inherits from another class A, then all the subclasses of B would automatically inherit from class A.\n",
    "\n"
   ]
  },
  {
   "cell_type": "markdown",
   "metadata": {},
   "source": [
    "#### **Abstract_class**"
   ]
  },
  {
   "cell_type": "markdown",
   "metadata": {},
   "source": [
    "##### **How Abstract Base classes work**"
   ]
  },
  {
   "cell_type": "markdown",
   "metadata": {},
   "source": [
    "By default, Python does not provide abstract classes. Python comes with a module (abc) that provides the base for defining Abstract Base classes(ABC). ABC class works by decorating methods of the base class as abstract and then registering concrete classes as implementations of the abstract base. A method becomes abstract when decorated with the keyword @abstractmethod. \n",
    "\n",
    "ABC class itself is not an abstract class. It’s helper class which allows you to create your class as an abstract class.\n",
    "\n",
    "What if your class has got abstract method but not derived from “ABC” ?\n",
    "\tThe class is not considered as an abstract class.\n",
    "\n",
    "What if your class is derived from “ABC” but  doesn’t have any abstract method?\n",
    "\tThe class is not considered as an abstract class.\n"
   ]
  },
  {
   "cell_type": "markdown",
   "metadata": {},
   "source": [
    "##### **When to use abstract class**"
   ]
  },
  {
   "cell_type": "markdown",
   "metadata": {},
   "source": [
    "while designing Parent class, if u realize that there is some functionality compulsorily required in child classes but Parent class is not able to define it. This functionality is a contract or abstract function. Since abstract function can not be declared inside non-abstract class, u have to make class as abstract.\n",
    "\n",
    "abstract class cannot be instantiated.\n",
    ">because abstract class is incomplete i.e. it has at least one contract [abstract method]\n",
    "\n",
    "can abstract class have a constructor?\n",
    "\n",
    ">yes, it will be invoked from sub class constructor when sub class gets instantiated.\n"
   ]
  },
  {
   "cell_type": "markdown",
   "metadata": {},
   "source": [
    "##### **E1**"
   ]
  },
  {
   "cell_type": "code",
   "execution_count": 28,
   "metadata": {},
   "outputs": [
    {
     "name": "stdout",
     "output_type": "stream",
     "text": [
      "I can walk\n",
      "I can talk\n",
      "I can eat\n",
      "I can sleep\n",
      "Perform teacher's duties\n",
      "I can walk\n",
      "I can talk\n",
      "I can eat\n",
      "I can sleep\n",
      "Perform Soldier's duties\n",
      "I can walk\n",
      "I can talk\n",
      "I can eat\n",
      "I can sleep\n",
      "Perform HouseWife's duties\n"
     ]
    }
   ],
   "source": [
    "# \"abc\"  is a module\n",
    "# \"ABC\" is a class inside \"abc\" module\n",
    "# \"abstractmethod\" is a function inside \"abc\" module\n",
    "\n",
    "from abc import ABC, abstractmethod\n",
    "class Person(ABC):\n",
    "    def walk(self):\n",
    "        print(\"I can walk\")\n",
    "    def talk(self):\n",
    "        print(\"I can talk\")\n",
    "    def eat(self):\n",
    "        print(\"I can eat\")\n",
    "    def sleep(self):\n",
    "        print(\"I can sleep\")\n",
    "    @abstractmethod\n",
    "    def performduties(self):\n",
    "        pass\n",
    "\n",
    "class Teacher(Person):\n",
    "    def performduties(self):\n",
    "        print(\"Perform teacher's duties\")\n",
    "\n",
    "class HouseWife(Person):\n",
    "    def performduties(self):\n",
    "        print(\"Perform HouseWife's duties\")\n",
    "\n",
    "class Soldier(Person):\n",
    "    def performduties(self):\n",
    "        print(\"Perform Soldier's duties\")\n",
    "\n",
    "\n",
    "def perform(ref):\n",
    "    ref.walk()\n",
    "    ref.talk()\n",
    "    ref.eat()\n",
    "    ref.sleep()\n",
    "    ref.performduties()\n",
    "\n",
    "\n",
    "perform(Teacher())\n",
    "perform(Soldier())\n",
    "perform(HouseWife())\n",
    "\n",
    "#ob = Person()   #  TypeError: Can't instantiate abstract class Person with abstract method performduties"
   ]
  },
  {
   "cell_type": "markdown",
   "metadata": {},
   "source": [
    "##### **E1_a**"
   ]
  },
  {
   "cell_type": "code",
   "execution_count": 30,
   "metadata": {},
   "outputs": [
    {
     "name": "stdout",
     "output_type": "stream",
     "text": [
      "Perform teacher's duties for\t Maths\n"
     ]
    }
   ],
   "source": [
    "# \"abc\"  is a module\n",
    "# \"ABC\" is a class inside \"abc\" module\n",
    "# \"abstractmethod\" is a function inside \"abc\" module\n",
    "\n",
    "from abc import ABC, abstractmethod\n",
    "\n",
    "class Person(ABC):\n",
    "    def walk(self):\n",
    "        print(\"I can walk\")\n",
    "    def talk(self):\n",
    "        print(\"I can talk\")\n",
    "    def eat(self):\n",
    "        print(\"I can eat\")\n",
    "    def sleep(self):\n",
    "        print(\"I can sleep\")\n",
    "    @abstractmethod\n",
    "    def performduties(self):\n",
    "        pass\n",
    "\n",
    "class Teacher(Person):\n",
    "    def performduties(self,department): # it's ok if you change the parameter\n",
    "        self.department=department\n",
    "        print(\"Perform teacher's duties for\\t\",self.department)\n",
    "\n",
    "\n",
    "\n",
    "#ob = Person()   #  TypeError: Can't instantiate abstract class Person with abstract method performduties\n",
    "\n",
    "t1=Teacher()\n",
    "t1.performduties(\"Maths\")"
   ]
  },
  {
   "cell_type": "markdown",
   "metadata": {},
   "source": [
    "##### **E2**"
   ]
  },
  {
   "cell_type": "code",
   "execution_count": 31,
   "metadata": {},
   "outputs": [
    {
     "name": "stdout",
     "output_type": "stream",
     "text": [
      "in disp1\n",
      "in disp2\n"
     ]
    }
   ],
   "source": [
    "from abc import ABC,abstractmethod\n",
    "\n",
    "class Parent(ABC):\n",
    "    def disp1(self):\n",
    "        print(\"in disp1\")\n",
    "    def disp2(self):\n",
    "        print(\"in disp2\")\n",
    "\n",
    "p1=Parent()    # No error because the class is not yet an abstract class\n",
    "p1.disp1()\n",
    "p1.disp2()"
   ]
  },
  {
   "cell_type": "markdown",
   "metadata": {},
   "source": [
    "##### **E3**"
   ]
  },
  {
   "cell_type": "code",
   "execution_count": 20,
   "metadata": {},
   "outputs": [],
   "source": [
    "from abc import ABC,abstractmethod\n",
    "\n",
    "class Parent(ABC):\n",
    "    def disp1(self):\n",
    "        print(\"in disp1\")\n",
    "    def disp2(self):\n",
    "        print(\"in disp2\")\n",
    "    @abstractmethod\n",
    "    def disp3(self):\n",
    "        pass\n",
    "\n",
    "p1=Parent()    # TypeError: Can't instantiate abstract class Parent with abstract method disp3"
   ]
  },
  {
   "cell_type": "markdown",
   "metadata": {},
   "source": [
    "##### **E4**"
   ]
  },
  {
   "cell_type": "code",
   "execution_count": 33,
   "metadata": {},
   "outputs": [
    {
     "name": "stdout",
     "output_type": "stream",
     "text": [
      "done\n"
     ]
    }
   ],
   "source": [
    "from abc import abstractmethod\n",
    "\n",
    "class Parent:\n",
    "    def disp1(self):\n",
    "        print(\"in disp1\")\n",
    "    def disp2(self):\n",
    "        print(\"in disp2\")\n",
    "    @abstractmethod\n",
    "    def disp3(self):\n",
    "        pass\n",
    "\n",
    "p1=Parent()    # No error , because though we have abstract method in the class, the class is not abstract\n",
    "print(\"done\")"
   ]
  },
  {
   "cell_type": "markdown",
   "metadata": {},
   "source": [
    "##### **E5**"
   ]
  },
  {
   "cell_type": "code",
   "execution_count": 35,
   "metadata": {},
   "outputs": [
    {
     "name": "stdout",
     "output_type": "stream",
     "text": [
      "done\n"
     ]
    }
   ],
   "source": [
    "from abc import abstractmethod\n",
    "\n",
    "class Parent:\n",
    "    def disp1(self):\n",
    "        print(\"in disp1\")\n",
    "    def disp2(self):\n",
    "        print(\"in disp2\")\n",
    "    @abstractmethod\n",
    "    def disp3(self):\n",
    "        pass\n",
    "class Child(Parent):\n",
    "    pass\n",
    "\n",
    "p1=Parent()    # No error , because though we have abstract method in the class, the class is not abstract\n",
    "c1=Child()     # No error \n",
    "print(\"done\")"
   ]
  },
  {
   "cell_type": "markdown",
   "metadata": {},
   "source": [
    "##### **E6**"
   ]
  },
  {
   "cell_type": "code",
   "execution_count": 36,
   "metadata": {},
   "outputs": [
    {
     "name": "stdout",
     "output_type": "stream",
     "text": [
      "done\n"
     ]
    }
   ],
   "source": [
    "from abc import ABC,abstractmethod\n",
    "\n",
    "class Parent(ABC):\n",
    "    def disp1(self):\n",
    "        print(\"in disp1\")\n",
    "    def disp2(self):\n",
    "        print(\"in disp2\")\n",
    "    @abstractmethod\n",
    "    def disp3(self):\n",
    "        pass\n",
    "class Child(Parent):\n",
    "    pass\n",
    "\n",
    "# p1=Parent()    # TypeError: Can't instantiate abstract class Parent with abstract method disp3\n",
    "# c1=Child()     # TypeError: Can't instantiate abstract class Child with abstract method disp3\n",
    "\n",
    "print(\"done\")"
   ]
  },
  {
   "cell_type": "markdown",
   "metadata": {},
   "source": [
    "##### **E7**"
   ]
  },
  {
   "cell_type": "code",
   "execution_count": 37,
   "metadata": {},
   "outputs": [
    {
     "name": "stdout",
     "output_type": "stream",
     "text": [
      "inside Person default constructor\n",
      "Teacher default constructor\n",
      "I can walk\n",
      "I can talk\n",
      "I can eat\n",
      "I can sleep\n",
      "Perform teacher's duties\n",
      "inside Person default constructor\n",
      "Soldier default constructor\n",
      "I can walk\n",
      "I can talk\n",
      "I can eat\n",
      "I can sleep\n",
      "Perform Soldier's duties\n",
      "inside Person default constructor\n",
      "HouseWife default constructor\n",
      "I can walk\n",
      "I can talk\n",
      "I can eat\n",
      "I can sleep\n",
      "Perform HouseWife's duties\n"
     ]
    }
   ],
   "source": [
    "from abc import ABC, abstractmethod\n",
    "\n",
    "class Person(ABC):\n",
    "    def __init__(self):\n",
    "        print(\"inside Person default constructor\")\n",
    "    def walk(self):\n",
    "        print(\"I can walk\")\n",
    "    def talk(self):\n",
    "        print(\"I can talk\")\n",
    "    def eat(self):\n",
    "        print(\"I can eat\")\n",
    "    def sleep(self):\n",
    "        print(\"I can sleep\")\n",
    "    @abstractmethod\n",
    "    def performduties(self):\n",
    "        pass\n",
    "\n",
    "class Teacher(Person):\n",
    "    def __init__(self):\n",
    "        super().__init__()\n",
    "        print(\"Teacher default constructor\")\n",
    "    def performduties(self):\n",
    "        print(\"Perform teacher's duties\")\n",
    "\n",
    "\n",
    "class HouseWife(Person):\n",
    "    def __init__(self):\n",
    "        super().__init__()\n",
    "        print(\"HouseWife default constructor\")\n",
    "    def performduties(self):\n",
    "        print(\"Perform HouseWife's duties\")\n",
    "\n",
    "\n",
    "class Soldier(Person):\n",
    "    def __init__(self):\n",
    "        super().__init__()\n",
    "        print(\"Soldier default constructor\")\n",
    "    def performduties(self):\n",
    "        print(\"Perform Soldier's duties\")\n",
    "\n",
    "\n",
    "def perform(ref):\n",
    "    ref.walk()\n",
    "    ref.talk()\n",
    "    ref.eat()\n",
    "    ref.sleep()\n",
    "    ref.performduties()\n",
    "\n",
    "\n",
    "perform(Teacher())\n",
    "perform(Soldier())\n",
    "perform(HouseWife())\n",
    "\n",
    "# ob = Person()   #  TypeError: Can't instantiate abstract class Person with abstract method performduties"
   ]
  },
  {
   "cell_type": "markdown",
   "metadata": {},
   "source": [
    "##### **E8**"
   ]
  },
  {
   "cell_type": "code",
   "execution_count": 38,
   "metadata": {},
   "outputs": [
    {
     "name": "stdout",
     "output_type": "stream",
     "text": [
      "in disp1 of Child\n",
      "in disp2 of Child\n"
     ]
    }
   ],
   "source": [
    "# interface in Python\n",
    "\n",
    "from abc import ABC,abstractmethod\n",
    "\n",
    "class MyInterface(ABC):                 #  interface in Python\n",
    "    @abstractmethod\n",
    "    def disp1(self):\n",
    "        pass\n",
    "    @abstractmethod\n",
    "    def disp2(self):\n",
    "        pass\n",
    "class Child(MyInterface):\n",
    "    def disp1(self):\n",
    "        print(\"in disp1 of Child\")\n",
    "    def disp2(self):\n",
    "        print(\"in disp2 of Child\")\n",
    "c1=Child()\n",
    "c1.disp1()\n",
    "c1.disp2()\n"
   ]
  },
  {
   "cell_type": "markdown",
   "metadata": {},
   "source": [
    "#### **Polymorphism**"
   ]
  },
  {
   "cell_type": "markdown",
   "metadata": {},
   "source": [
    "##### **What is Polymorphism**"
   ]
  },
  {
   "cell_type": "markdown",
   "metadata": {},
   "source": [
    "The word polymorphism means having many forms. In programming, polymorphism means the same function name (but different signatures) being used for different types.\n",
    "\n",
    "In python polymorphism can be achieved using following ways:\n",
    "\n",
    "1. Duck Typing\n",
    "2. Operator overloading\n",
    "3. method overloading\n",
    "4. method overriding"
   ]
  },
  {
   "cell_type": "markdown",
   "metadata": {},
   "source": [
    "##### **Polymorphism with Inheritance**"
   ]
  },
  {
   "cell_type": "markdown",
   "metadata": {},
   "source": [
    "In Python, Polymorphism lets us define methods in the child class that have the same name as the methods in the parent class. In inheritance, the child class inherits the methods from the parent class. However, it is possible to modify a method in a child class that it has inherited from the parent class. This is particularly useful in cases where the method inherited from the parent class doesn’t quite fit the child class. In such cases, we re-implement the method in the child class. This process of re-implementing a method in the child class is known as Method Overriding. "
   ]
  },
  {
   "cell_type": "markdown",
   "metadata": {},
   "source": [
    "##### **E1**"
   ]
  },
  {
   "cell_type": "code",
   "execution_count": 40,
   "metadata": {},
   "outputs": [
    {
     "name": "stdout",
     "output_type": "stream",
     "text": [
      "New Delhi is the capital of India\n",
      "Hindi is the most widely spoken language of India\n",
      "India is developing country\n",
      "Let's pass USA\n",
      "Washington, D.C. is the capital of USA\n",
      "English is the primary language of USA\n",
      "USA is a developed country\n"
     ]
    }
   ],
   "source": [
    "# Polymorphism with member functions  # Duck Typing\n",
    "\n",
    "class India:\n",
    "    def capital(self):\n",
    "        print(\"New Delhi is the capital of India\")\n",
    "    def language(self):\n",
    "        print(\"Hindi is the most widely spoken language of India\")\n",
    "    def type(self):\n",
    "        print(\"India is developing country\")\n",
    "\n",
    "class USA:\n",
    "    def capital(self):\n",
    "        print(\"Washington, D.C. is the capital of USA\")\n",
    "    def language(self):\n",
    "        print(\"English is the primary language of USA\")\n",
    "    def type(self):\n",
    "        print(\"USA is a developed country\")\n",
    "\n",
    "\n",
    "def perform(obj):\n",
    "    obj.capital()\n",
    "    obj.language()\n",
    "    obj.type()\n",
    "\n",
    "perform(India())\n",
    "print(\"Let's pass USA\")\n",
    "perform(USA())"
   ]
  },
  {
   "cell_type": "markdown",
   "metadata": {},
   "source": [
    "##### **E2**"
   ]
  },
  {
   "cell_type": "code",
   "execution_count": 23,
   "metadata": {},
   "outputs": [
    {
     "name": "stdout",
     "output_type": "stream",
     "text": [
      "Attack with Gun\n",
      "Attack with Bomb\n",
      "Attack with Sword\n"
     ]
    }
   ],
   "source": [
    "# Polymorphism with inheritance , i.e. using overriding\n",
    "\n",
    "class Weapon:\n",
    "    def attack(self):    # overridden method\n",
    "        pass\n",
    "\n",
    "class Gun(Weapon):\n",
    "    def attack(self):    # overriding method\n",
    "        print(\"Attack with Gun\")\n",
    "\n",
    "\n",
    "class Sword(Weapon):     # overriding method\n",
    "    def attack(self):\n",
    "        print(\"Attack with Sword\")\n",
    "\n",
    "\n",
    "class Bomb(Weapon):\n",
    "    def attack(self):    # overriding method\n",
    "        print(\"Attack with Bomb\")\n",
    "\n",
    "\n",
    "def perform(ref):\n",
    "    ref.attack()\n",
    "\n",
    "\n",
    "perform(Gun())\n",
    "perform(Bomb())\n",
    "perform(Sword())"
   ]
  },
  {
   "cell_type": "markdown",
   "metadata": {},
   "source": [
    "##### **E3**"
   ]
  },
  {
   "cell_type": "code",
   "execution_count": 43,
   "metadata": {},
   "outputs": [
    {
     "name": "stdout",
     "output_type": "stream",
     "text": [
      "Attack with Sword\n"
     ]
    }
   ],
   "source": [
    "# Polymorphism with inheritance , i.e. using overriding\n",
    "# Check if \"ref\" contains \"Sword\" then only invoke \"attack()\"\n",
    "\n",
    "class Weapon:\n",
    "    def attack(self):    # overridden method\n",
    "        pass\n",
    "\n",
    "class Gun(Weapon):\n",
    "    def attack(self):    # overriding method\n",
    "        print(\"Attack with Gun\")\n",
    "\n",
    "\n",
    "class Sword(Weapon):     # overriding method\n",
    "    def attack(self):\n",
    "        print(\"Attack with Sword\")\n",
    "\n",
    "\n",
    "class Bomb(Weapon):\n",
    "    def attack(self):    # overriding method\n",
    "        print(\"Attack with Bomb\")\n",
    "\n",
    "\n",
    "def perform(ref):\n",
    "    if isinstance(ref,Sword):\n",
    "        ref.attack()\n",
    "\n",
    "\n",
    "perform(Gun())\n",
    "perform(Bomb())\n",
    "perform(Sword())"
   ]
  },
  {
   "cell_type": "markdown",
   "metadata": {},
   "source": [
    "##### **E4**"
   ]
  },
  {
   "cell_type": "code",
   "execution_count": 25,
   "metadata": {},
   "outputs": [
    {
     "name": "stdout",
     "output_type": "stream",
     "text": [
      "Fill bullets in the Gun\n",
      "Attack with Gun\n"
     ]
    }
   ],
   "source": [
    "# Polymorphism with inheritance , i.e. using overriding\n",
    "\n",
    "class Weapon:\n",
    "    def attack(self):    # overridden method\n",
    "        pass\n",
    "\n",
    "class Gun(Weapon):\n",
    "    def attack(self):    # overriding method\n",
    "        print(\"Attack with Gun\")\n",
    "    def fillbullets(self):\n",
    "        print(\"Fill bullets in the Gun\")\n",
    "\n",
    "\n",
    "\n",
    "class Sword(Weapon):     # overriding method\n",
    "    def attack(self):\n",
    "        print(\"Attack with Sword\")\n",
    "\n",
    "\n",
    "class Bomb(Weapon):\n",
    "    def attack(self):    # overriding method\n",
    "        print(\"Attack with Bomb\")\n",
    "\n",
    "\n",
    "def perform(ref):\n",
    "    ref.fillbullets()   # it will not work when we pass \"Bomb\" or \"Sword\"\n",
    "    ref.attack()\n",
    "\n",
    "\n",
    "perform(Gun())\n",
    "perform(Bomb())  # AttributeError: 'Bomb' object has no attribute 'fillbullets'\n",
    "perform(Sword())  # AttributeError: 'Sword' object has no attribute 'fillbullets'"
   ]
  },
  {
   "cell_type": "markdown",
   "metadata": {},
   "source": [
    "##### **E5**"
   ]
  },
  {
   "cell_type": "code",
   "execution_count": 45,
   "metadata": {},
   "outputs": [
    {
     "name": "stdout",
     "output_type": "stream",
     "text": [
      "Fill bullets in the Gun\n",
      "Attack with Gun\n",
      "Attack with Bomb\n",
      "Attack with Sword\n"
     ]
    }
   ],
   "source": [
    "# Polymorphism with inheritance , i.e. using overriding\n",
    "# Check if \"ref\" contains \"Gun\" then only invoke \"fillbullets()\" along with \"attack()\"\n",
    "\n",
    "class Weapon:\n",
    "    def attack(self):    # overridden method\n",
    "        pass\n",
    "\n",
    "class Gun(Weapon):\n",
    "    def attack(self):    # overriding method\n",
    "        print(\"Attack with Gun\")\n",
    "    def fillbullets(self):\n",
    "        print(\"Fill bullets in the Gun\")\n",
    "\n",
    "\n",
    "\n",
    "class Sword(Weapon):     # overriding method\n",
    "    def attack(self):\n",
    "        print(\"Attack with Sword\")\n",
    "\n",
    "\n",
    "class Bomb(Weapon):\n",
    "    def attack(self):    # overriding method\n",
    "        print(\"Attack with Bomb\")\n",
    "\n",
    "\n",
    "def perform(ref):\n",
    "    if isinstance(ref,Gun):  # checks whether ref contains \"Gun\" object\n",
    "        ref.fillbullets()\n",
    "        \n",
    "    ref.attack()\n",
    "\n",
    "\n",
    "perform(Gun())\n",
    "perform(Bomb())  \n",
    "perform(Sword())  "
   ]
  },
  {
   "cell_type": "markdown",
   "metadata": {},
   "source": [
    "#### **E1**"
   ]
  },
  {
   "cell_type": "code",
   "execution_count": 27,
   "metadata": {},
   "outputs": [
    {
     "name": "stdout",
     "output_type": "stream",
     "text": [
      "<class '__main__.MyClass'>\n",
      "{'num': 10}\n",
      "<class '__main__.MyClass'>\n",
      "<class 'object'>\n"
     ]
    }
   ],
   "source": [
    "# By default \"object\" is the parent class of all the classes\n",
    "class MyClass:\n",
    "    def __init__(self,num):\n",
    "        self.num=num\n",
    "\n",
    "\n",
    "m1 = MyClass(10)\n",
    "print(type(m1))\n",
    "print(m1.__dict__)\n",
    "print(m1.__class__)\n",
    "print(m1.__class__.__base__)"
   ]
  },
  {
   "cell_type": "markdown",
   "metadata": {},
   "source": [
    "#### **E2**"
   ]
  },
  {
   "cell_type": "code",
   "execution_count": 2,
   "metadata": {},
   "outputs": [
    {
     "name": "stdout",
     "output_type": "stream",
     "text": [
      "Sub class constructor\n",
      "1339258001616\n",
      "<class '__main__.Base'>\n",
      "<class 'object'>\n"
     ]
    }
   ],
   "source": [
    "# constructor overriding in Python\n",
    "\n",
    "class Base:\n",
    "    def __init__(self):\n",
    "        print(\"Base class constructor\")\n",
    "\n",
    "\n",
    "class Sub(Base):\n",
    "    def __init__(self):       # since this is available , init of Base won't be invoked when we instantiate Sub\n",
    "        print(\"Sub class constructor\")\n",
    "       \n",
    "\n",
    "s1 = Sub()\n",
    "print(id(s1))\n",
    "print(s1.__class__.__base__)\n",
    "print(s1.__class__.__base__.__base__)\n"
   ]
  },
  {
   "cell_type": "markdown",
   "metadata": {},
   "source": [
    "#### **E2_a**"
   ]
  },
  {
   "cell_type": "code",
   "execution_count": 3,
   "metadata": {},
   "outputs": [
    {
     "name": "stdout",
     "output_type": "stream",
     "text": [
      "Sub class constructor\n",
      "1339258007856\n",
      "<class '__main__.Base'>\n",
      "<class 'object'>\n",
      "100\n",
      "\n",
      "\n",
      "in base disp\n"
     ]
    }
   ],
   "source": [
    "# constructor overriding\n",
    "\n",
    "class Base:\n",
    "    def __init__(self):\n",
    "        self.num1=20\n",
    "        print(\"Base class constructor\")\n",
    "    def disp(self):\n",
    "        print(\"in base disp\")\n",
    "\n",
    "\n",
    "class Sub(Base):\n",
    "    def __init__(self,num2):\n",
    "        self.num2=num2\n",
    "        print(\"Sub class constructor\")\n",
    "       \n",
    "\n",
    "s1 = Sub(100)\n",
    "print(id(s1))\n",
    "print(s1.__class__.__base__)\n",
    "print(s1.__class__.__base__.__base__)\n",
    "print(s1.num2)\n",
    "print(\"\\n\")\n",
    "# print(s1.num1)   # cannot access because \"Base\" class \"init\" is not called \n",
    "s1.disp()\n"
   ]
  },
  {
   "cell_type": "markdown",
   "metadata": {},
   "source": [
    "#### **E3**"
   ]
  },
  {
   "cell_type": "code",
   "execution_count": 4,
   "metadata": {},
   "outputs": [
    {
     "name": "stdout",
     "output_type": "stream",
     "text": [
      "Base class constructor\n",
      "Sub class constructor\n",
      "1339258009680\n",
      "<class '__main__.Base'>\n",
      "<class 'object'>\n"
     ]
    }
   ],
   "source": [
    "class Base:\n",
    "    def __init__(self):\n",
    "        print(\"Base class constructor\")\n",
    "\n",
    "\n",
    "class Sub(Base):\n",
    "    def __init__(self):\n",
    "        super().__init__()    # invoking parent class constructor explicitly, can be on any line\n",
    "        print(\"Sub class constructor\")\n",
    "       \n",
    "\n",
    "s1 = Sub()\n",
    "print(id(s1))\n",
    "print(s1.__class__.__base__)\n",
    "print(s1.__class__.__base__.__base__)\n"
   ]
  },
  {
   "cell_type": "markdown",
   "metadata": {},
   "source": [
    "#### **E4**"
   ]
  },
  {
   "cell_type": "code",
   "execution_count": 5,
   "metadata": {},
   "outputs": [
    {
     "name": "stdout",
     "output_type": "stream",
     "text": [
      "Base class constructor\n",
      "Sub class constructor\n",
      "1339258003920\n",
      "100\n",
      "\n",
      "\n",
      "110\n"
     ]
    }
   ],
   "source": [
    "# By default \"object\" is the parent class of all the classes\n",
    "\n",
    "class Base:\n",
    "    def __init__(self,num1):\n",
    "        self.num1=num1\n",
    "        print(\"Base class constructor\")\n",
    "\n",
    "\n",
    "class Sub(Base):\n",
    "    def __init__(self,num2):\n",
    "        super().__init__(num2+10)    # invoking parent class constructor explicitly\n",
    "        self.num2=num2\n",
    "        print(\"Sub class constructor\")\n",
    "       \n",
    "\n",
    "s1 = Sub(100)\n",
    "print(id(s1))\n",
    "print(s1.num2)\n",
    "print(\"\\n\")\n",
    "print(s1.num1)\n",
    "\n"
   ]
  },
  {
   "cell_type": "markdown",
   "metadata": {},
   "source": [
    "#### **E4_a**"
   ]
  },
  {
   "cell_type": "code",
   "execution_count": 6,
   "metadata": {},
   "outputs": [
    {
     "name": "stdout",
     "output_type": "stream",
     "text": [
      "Sub class constructor\n",
      "Base class constructor\n",
      "1339258006032\n",
      "100\n",
      "\n",
      "\n",
      "110\n"
     ]
    }
   ],
   "source": [
    "# By default \"object\" is the parent class of all the classes\n",
    "\n",
    "class Base:\n",
    "    def __init__(self,num1):\n",
    "        self.num1=num1\n",
    "        print(\"Base class constructor\")\n",
    "\n",
    "\n",
    "class Sub(Base):\n",
    "    def __init__(self,num2):\n",
    "        self.num2=num2\n",
    "        print(\"Sub class constructor\")\n",
    "        super().__init__(num2+10)    # super can be on any line\n",
    "       \n",
    "\n",
    "s1 = Sub(100)\n",
    "print(id(s1))\n",
    "print(s1.num2)\n",
    "print(\"\\n\")\n",
    "print(s1.num1)\n",
    "\n"
   ]
  },
  {
   "cell_type": "markdown",
   "metadata": {},
   "source": [
    "#### **E5**"
   ]
  },
  {
   "cell_type": "code",
   "execution_count": 7,
   "metadata": {},
   "outputs": [
    {
     "name": "stdout",
     "output_type": "stream",
     "text": [
      "Sub class constructor\n",
      "Base class constructor\n",
      "1339258007088\n",
      "100\n",
      "\n",
      "\n",
      "110\n"
     ]
    }
   ],
   "source": [
    "# By default \"object\" is the parent class of all the classes\n",
    "\n",
    "class Base:\n",
    "    def __init__(self,num1):\n",
    "        self.num1=num1\n",
    "        print(\"Base class constructor\")\n",
    "\n",
    "\n",
    "class Sub(Base):\n",
    "    def __init__(self,num2):\n",
    "        self.num2=num2\n",
    "        print(\"Sub class constructor\")\n",
    "        super().__init__(num2+10)    # super can be on any line\n",
    "       \n",
    "\n",
    "s1 = Sub(100)\n",
    "print(id(s1))\n",
    "print(s1.num2)\n",
    "print(\"\\n\")\n",
    "print(s1.num1)\n",
    "\n"
   ]
  },
  {
   "cell_type": "markdown",
   "metadata": {},
   "source": [
    "#### **E6**"
   ]
  },
  {
   "cell_type": "code",
   "execution_count": 11,
   "metadata": {},
   "outputs": [
    {
     "name": "stdout",
     "output_type": "stream",
     "text": [
      "Base class constructor  100\n",
      "Sub class constructor\n",
      "1339258000416\n"
     ]
    }
   ],
   "source": [
    "# We do not have method overloading in Python\n",
    "\n",
    "class Base:\n",
    "    def __init__(self,num1):\n",
    "        self.num1=num1\n",
    "        print(\"Base class constructor \",self.num1)\n",
    "    def disp1(self):\n",
    "        print(\"Base class disp1 method\")\n",
    "\n",
    "\n",
    "class Sub(Base):\n",
    "    def __init__(self):\n",
    "        super().__init__(100)    # invoking Base class parameterized constructor explicitly\n",
    "        print(\"Sub class constructor\")\n",
    "    def disp1(self,val1):\n",
    "        print(\"Sub class disp1 method \",val1)\n",
    "\n",
    "\n",
    "s1 = Sub()\n",
    "print(id(s1))\n",
    "\n",
    "# s1.disp1()    # TypeError: Sub.disp1() missing 1 required positional argument: 'val1'\n",
    "# i.e. now \"disp1()\" method is not available to Sub class as it has got its own \"disp1(val1)\" method"
   ]
  },
  {
   "cell_type": "markdown",
   "metadata": {},
   "source": [
    "#### **E7**"
   ]
  },
  {
   "cell_type": "code",
   "execution_count": 9,
   "metadata": {},
   "outputs": [
    {
     "name": "stdout",
     "output_type": "stream",
     "text": [
      "Base class constructor  100\n",
      "Sub class constructor\n",
      "1339278576992\n",
      "Sub class disp1 method  200\n"
     ]
    }
   ],
   "source": [
    "# We do not have method overloading in Python\n",
    "\n",
    "class Base:\n",
    "    def __init__(self,num1):\n",
    "        self.num1=num1\n",
    "        print(\"Base class constructor \",self.num1)\n",
    "    def disp1(self):\n",
    "        print(\"Base class disp1 method\")\n",
    "\n",
    "\n",
    "class Sub(Base):\n",
    "    def __init__(self):\n",
    "        super().__init__(100)    # invoking Base class parameterized constructor explicitly\n",
    "        print(\"Sub class constructor\")\n",
    "    def disp1(self,val1):      # method hiding\n",
    "        print(\"Sub class disp1 method \",val1)\n",
    "\n",
    "\n",
    "s1 = Sub()\n",
    "print(id(s1))\n",
    "\n",
    "s1.disp1(200)"
   ]
  },
  {
   "cell_type": "markdown",
   "metadata": {},
   "source": [
    "#### **E8**"
   ]
  },
  {
   "cell_type": "code",
   "execution_count": 12,
   "metadata": {},
   "outputs": [
    {
     "name": "stdout",
     "output_type": "stream",
     "text": [
      "Base class constructor  100\n",
      "Sub class constructor\n",
      "1339278666688\n",
      "Sub class disp1 method\n"
     ]
    }
   ],
   "source": [
    "# Method overriding\n",
    "\n",
    "class Base:\n",
    "    def __init__(self,num1):\n",
    "        self.num1=num1\n",
    "        print(\"Base class constructor \",self.num1)\n",
    "    def disp1(self):       # overridden method\n",
    "        print(\"Base class disp1 method\")\n",
    "\n",
    "\n",
    "class Sub(Base):\n",
    "    def __init__(self):\n",
    "        super().__init__(100)    # invoking Base class parameterized constructor explicitly\n",
    "        print(\"Sub class constructor\")\n",
    "\n",
    "    def disp1(self):      #  overriding method\n",
    "        print(\"Sub class disp1 method\")\n",
    "\n",
    "\n",
    "s1 = Sub()\n",
    "print(id(s1))\n",
    "\n",
    "s1.disp1()"
   ]
  },
  {
   "cell_type": "markdown",
   "metadata": {},
   "source": [
    "#### **E9**"
   ]
  },
  {
   "cell_type": "code",
   "execution_count": 13,
   "metadata": {},
   "outputs": [
    {
     "name": "stdout",
     "output_type": "stream",
     "text": [
      "Base class constructor  100\n",
      "Sub class constructor\n",
      "Base class disp1 method\n",
      "Sub class disp1 method\n"
     ]
    }
   ],
   "source": [
    "# Method overriding\n",
    "\n",
    "class Base:\n",
    "    def __init__(self,num1):\n",
    "        self.num1=num1\n",
    "        print(\"Base class constructor \",self.num1)\n",
    "    def disp1(self):       # overridden method\n",
    "        print(\"Base class disp1 method\")\n",
    "\n",
    "\n",
    "class Sub(Base):\n",
    "    def __init__(self):\n",
    "        super().__init__(100)    # invoking Base class parameterized constructor explicitly\n",
    "        print(\"Sub class constructor\")\n",
    "\n",
    "    def disp1(self):      #  overriding method\n",
    "        super().disp1()    # explicitly invoking overridden method from overriding method\n",
    "        print(\"Sub class disp1 method\")\n",
    "\n",
    "\n",
    "s1 = Sub()\n",
    "\n",
    "s1.disp1()"
   ]
  },
  {
   "cell_type": "markdown",
   "metadata": {},
   "source": [
    "#### **E10_Multi-Level**"
   ]
  },
  {
   "cell_type": "code",
   "execution_count": 14,
   "metadata": {},
   "outputs": [
    {
     "name": "stdout",
     "output_type": "stream",
     "text": [
      "Base class disp1\n",
      "Sub1 class disp2\n",
      "Sub2 class disp3\n"
     ]
    }
   ],
   "source": [
    "# multilevel inheritance\n",
    "\n",
    "class Base:\n",
    "    def disp1(self):\n",
    "        print(\"Base class disp1\")\n",
    "\n",
    "\n",
    "class Sub1(Base):\n",
    "    def disp2(self):\n",
    "        print(\"Sub1 class disp2\")\n",
    "\n",
    "class Sub2(Sub1):\n",
    "    def disp3(self):\n",
    "        print(\"Sub2 class disp3\")\n",
    "\n",
    "s2 = Sub2()\n",
    "s2.disp1()\n",
    "s2.disp2()\n",
    "s2.disp3()"
   ]
  },
  {
   "cell_type": "markdown",
   "metadata": {},
   "source": [
    "#### **E11_Hierarchical**"
   ]
  },
  {
   "cell_type": "code",
   "execution_count": 15,
   "metadata": {},
   "outputs": [
    {
     "name": "stdout",
     "output_type": "stream",
     "text": [
      "Base class disp1\n",
      "Sub1 class disp2\n",
      "Base class disp1\n",
      "Sub2 class disp3\n"
     ]
    }
   ],
   "source": [
    "# hierarchical inheritance\n",
    "\n",
    "class Base:\n",
    "    def disp1(self):\n",
    "        print(\"Base class disp1\")\n",
    "\n",
    "\n",
    "class Sub1(Base):\n",
    "    def disp2(self):\n",
    "        print(\"Sub1 class disp2\")\n",
    "\n",
    "class Sub2(Base):\n",
    "    def disp3(self):\n",
    "        print(\"Sub2 class disp3\")\n",
    "\n",
    "\n",
    "s1 = Sub1()\n",
    "s1.disp1()\n",
    "s1.disp2()\n",
    "s2 = Sub2()\n",
    "s2.disp1()\n",
    "s2.disp3()\n"
   ]
  },
  {
   "cell_type": "markdown",
   "metadata": {},
   "source": [
    "#### **Example 12_ Multiple_a**"
   ]
  },
  {
   "cell_type": "code",
   "execution_count": 29,
   "metadata": {},
   "outputs": [
    {
     "name": "stdout",
     "output_type": "stream",
     "text": [
      "Sub class constructor\n",
      "Base1 disp1\n",
      "Base2 disp2\n",
      "Sub disp3\n"
     ]
    }
   ],
   "source": [
    "# multiple inheritance\n",
    "\n",
    "class Base1:\n",
    "    def __init__(self,num1):\n",
    "        self.num1=num1\n",
    "        print(\"Base1 class constructor  \",self.num1)\n",
    "    def disp1(self):\n",
    "        print(\"Base1 disp1\")\n",
    "\n",
    "class Base2:\n",
    "    def __init__(self,num2):\n",
    "        self.num2=num2\n",
    "        print(\"Base1 class constructor   \",self.num2)\n",
    "    def disp2(self):\n",
    "        print(\"Base2 disp2\")\n",
    "\n",
    "class Sub(Base1,Base2):\n",
    "    def __init__(self):\n",
    "        print(\"Sub class constructor\")\n",
    "    def disp3(self):\n",
    "        print(\"Sub disp3\")\n",
    "\n",
    "\n",
    "s1 = Sub()\n",
    "s1.disp1()\n",
    "s1.disp2()\n",
    "s1.disp3()\n"
   ]
  },
  {
   "cell_type": "markdown",
   "metadata": {},
   "source": [
    "#### **Example 12_ Multiple_b**"
   ]
  },
  {
   "cell_type": "code",
   "execution_count": 17,
   "metadata": {},
   "outputs": [
    {
     "name": "stdout",
     "output_type": "stream",
     "text": [
      "Base1 class constructor   100\n",
      "Sub class constructor\n",
      "Base1 disp1\n",
      "Base2 disp2\n",
      "Sub disp3\n"
     ]
    }
   ],
   "source": [
    "# multiple inheritance , constructor invocation\n",
    "\n",
    "class Base1:\n",
    "    def __init__(self,num1):\n",
    "        self.num1=num1\n",
    "        print(\"Base1 class constructor  \",self.num1)\n",
    "    def disp1(self):\n",
    "        print(\"Base1 disp1\")\n",
    "\n",
    "class Base2:\n",
    "    def __init__(self,num2):\n",
    "        self.num2=num2\n",
    "        print(\"Base1 class constructor   \",self.num2)\n",
    "    def disp2(self):\n",
    "        print(\"Base2 disp2\")\n",
    "\n",
    "class Sub(Base1,Base2):\n",
    "    def __init__(self):\n",
    "        super().__init__(100)   # By default Base1 constructor will be invoked\n",
    "        print(\"Sub class constructor\")\n",
    "    def disp3(self):\n",
    "        print(\"Sub disp3\")\n",
    "\n",
    "\n",
    "s1 = Sub()\n",
    "s1.disp1()\n",
    "s1.disp2()\n",
    "s1.disp3()\n"
   ]
  },
  {
   "cell_type": "markdown",
   "metadata": {},
   "source": [
    "#### **Example 12_ Multiple_b1**"
   ]
  },
  {
   "cell_type": "code",
   "execution_count": 19,
   "metadata": {},
   "outputs": [
    {
     "name": "stdout",
     "output_type": "stream",
     "text": [
      "Base1 init\n"
     ]
    }
   ],
   "source": [
    "class Base1:\n",
    "    def __init__(self):\n",
    "        print(\"Base1 init\")\n",
    "\n",
    "class Base2:\n",
    "    def __init__(self):\n",
    "        print(\"Base2 init\")\n",
    "\n",
    "class Sub(Base1,Base2):\n",
    "    pass\n",
    "\n",
    "s=Sub()    # only Base1 init gets inherited"
   ]
  },
  {
   "cell_type": "markdown",
   "metadata": {},
   "source": [
    "#### **Example 12_ Multiple_b2**"
   ]
  },
  {
   "cell_type": "code",
   "execution_count": 20,
   "metadata": {},
   "outputs": [
    {
     "name": "stdout",
     "output_type": "stream",
     "text": [
      "Base1 init\n",
      "in disp\n"
     ]
    }
   ],
   "source": [
    "class Base1:\n",
    "    def __init__(self):\n",
    "        print(\"Base1 init\")\n",
    "\n",
    "class Base2:\n",
    "    def __init__(self):\n",
    "        print(\"Base2 init\")\n",
    "    def disp(self):\n",
    "        print(\"in disp\")\n",
    "\n",
    "class Sub(Base1,Base2):\n",
    "    pass\n",
    "\n",
    "s=Sub()    # only Base1 init gets inherited\n",
    "s.disp()  # no problem"
   ]
  },
  {
   "cell_type": "markdown",
   "metadata": {},
   "source": [
    "#### **Example 12_ Multiple_b3**"
   ]
  },
  {
   "cell_type": "code",
   "execution_count": 30,
   "metadata": {},
   "outputs": [
    {
     "name": "stdout",
     "output_type": "stream",
     "text": [
      "Base1 init\n"
     ]
    },
    {
     "ename": "AttributeError",
     "evalue": "'Sub' object has no attribute 'num'",
     "output_type": "error",
     "traceback": [
      "\u001b[1;31m---------------------------------------------------------------------------\u001b[0m",
      "\u001b[1;31mAttributeError\u001b[0m                            Traceback (most recent call last)",
      "Cell \u001b[1;32mIn[30], line 17\u001b[0m\n\u001b[0;32m     14\u001b[0m     \u001b[38;5;28;01mpass\u001b[39;00m\n\u001b[0;32m     16\u001b[0m s\u001b[38;5;241m=\u001b[39mSub()    \u001b[38;5;66;03m# only Base1 init gets inherited\u001b[39;00m\n\u001b[1;32m---> 17\u001b[0m \u001b[43ms\u001b[49m\u001b[38;5;241;43m.\u001b[39;49m\u001b[43mdisp\u001b[49m\u001b[43m(\u001b[49m\u001b[43m)\u001b[49m\n",
      "Cell \u001b[1;32mIn[30], line 10\u001b[0m, in \u001b[0;36mBase2.disp\u001b[1;34m(self)\u001b[0m\n\u001b[0;32m      9\u001b[0m \u001b[38;5;28;01mdef\u001b[39;00m \u001b[38;5;21mdisp\u001b[39m(\u001b[38;5;28mself\u001b[39m):\n\u001b[1;32m---> 10\u001b[0m     \u001b[38;5;28mprint\u001b[39m(\u001b[38;5;124m\"\u001b[39m\u001b[38;5;124min disp\u001b[39m\u001b[38;5;130;01m\\t\u001b[39;00m\u001b[38;5;124m\"\u001b[39m,\u001b[38;5;28;43mself\u001b[39;49m\u001b[38;5;241;43m.\u001b[39;49m\u001b[43mnum\u001b[49m)\n",
      "\u001b[1;31mAttributeError\u001b[0m: 'Sub' object has no attribute 'num'"
     ]
    }
   ],
   "source": [
    "class Base1:\n",
    "    def __init__(self):\n",
    "        print(\"Base1 init\")\n",
    "\n",
    "class Base2:\n",
    "    def __init__(self,num=6):\n",
    "        self.num=num\n",
    "        print(\"Base2 init\")\n",
    "    def disp(self):\n",
    "        print(\"in disp\\t\",self.num)     #  AttributeError: 'Sub' object has no attribute 'num'\n",
    "        # it's because Base2 __init__ was not called\n",
    "\n",
    "class Sub(Base1,Base2):\n",
    "    pass\n",
    "\n",
    "s=Sub()    # only Base1 init gets inherited\n",
    "s.disp()"
   ]
  },
  {
   "cell_type": "markdown",
   "metadata": {},
   "source": [
    "#### **Example 12_ Multiple_c**"
   ]
  },
  {
   "cell_type": "code",
   "execution_count": 21,
   "metadata": {},
   "outputs": [
    {
     "name": "stdout",
     "output_type": "stream",
     "text": [
      "Base1 class constructor   100\n",
      "Base1 class constructor   200\n",
      "Sub class constructor\n",
      "Base1 disp1\n",
      "Base2 disp2\n",
      "Sub disp3\n"
     ]
    }
   ],
   "source": [
    "# multiple inheritance , constructor invocation\n",
    "\n",
    "class Base1:\n",
    "    def __init__(self,num1):\n",
    "        self.num1=num1\n",
    "        print(\"Base1 class constructor  \",self.num1)\n",
    "    def disp1(self):\n",
    "        print(\"Base1 disp1\")\n",
    "\n",
    "class Base2:\n",
    "    def __init__(self,num2):\n",
    "        self.num2=num2\n",
    "        print(\"Base2 class constructor   \",self.num2)\n",
    "    def disp2(self):\n",
    "        print(\"Base2 disp2\")\n",
    "\n",
    "class Sub(Base1,Base2):\n",
    "    def __init__(self):\n",
    "        super().__init__(100)   # By default Base1 constructor will be invoked\n",
    "        super().__init__(200)    # it's of no use, it will again call Base1 constructor\n",
    "        print(\"Sub class constructor\")\n",
    "    def disp3(self):\n",
    "        print(\"Sub disp3\")\n",
    "\n",
    "\n",
    "s1 = Sub()\n",
    "s1.disp1()\n",
    "s1.disp2()\n",
    "s1.disp3()\n"
   ]
  },
  {
   "cell_type": "markdown",
   "metadata": {},
   "source": [
    "#### **Example 12_ Multiple_d**"
   ]
  },
  {
   "cell_type": "code",
   "execution_count": 22,
   "metadata": {},
   "outputs": [
    {
     "name": "stdout",
     "output_type": "stream",
     "text": [
      "Base1 class constructor   100\n",
      "Base2 class constructor    300\n",
      "Sub class constructor\n",
      "Base1 disp1\n",
      "Base2 disp2\n",
      "Sub disp3\n"
     ]
    }
   ],
   "source": [
    "# multiple inheritance , explicitly invoking both the parent class constructors\n",
    "\n",
    "class Base1:\n",
    "    def __init__(self,num1):\n",
    "        self.num1=num1\n",
    "        print(\"Base1 class constructor  \",self.num1)\n",
    "    def disp1(self):\n",
    "        print(\"Base1 disp1\")\n",
    "\n",
    "class Base2:\n",
    "    def __init__(self,num2):\n",
    "        self.num2=num2\n",
    "        print(\"Base2 class constructor   \",self.num2)\n",
    "    def disp2(self):\n",
    "        print(\"Base2 disp2\")\n",
    "\n",
    "class Sub(Base1,Base2):\n",
    "    def __init__(self):\n",
    "       Base1.__init__(self,100)\n",
    "       Base2.__init__(self,300)\n",
    "       print(\"Sub class constructor\")\n",
    "    def disp3(self):\n",
    "        print(\"Sub disp3\")\n",
    "\n",
    "\n",
    "s1 = Sub()\n",
    "s1.disp1()\n",
    "s1.disp2()\n",
    "s1.disp3()\n"
   ]
  },
  {
   "cell_type": "markdown",
   "metadata": {},
   "source": [
    "#### **Example 12_ Multiple_e**"
   ]
  },
  {
   "cell_type": "code",
   "execution_count": 23,
   "metadata": {},
   "outputs": [
    {
     "name": "stdout",
     "output_type": "stream",
     "text": [
      "Base1 class constructor   100\n",
      "Base2 class constructor    300\n",
      "Sub class constructor\n",
      "Base1 disp2\n",
      "Sub disp3\n"
     ]
    }
   ],
   "source": [
    "# multiple inheritance , multiple parents have same method name\n",
    "\n",
    "class Base1:\n",
    "    def __init__(self,num1):\n",
    "        self.num1=num1\n",
    "        print(\"Base1 class constructor  \",self.num1)\n",
    "    def disp2(self):\n",
    "        print(\"Base1 disp2\")\n",
    "\n",
    "class Base2:\n",
    "    def __init__(self,num2):\n",
    "        self.num2=num2\n",
    "        print(\"Base2 class constructor   \",self.num2)\n",
    "    def disp2(self):\n",
    "        print(\"Base2 disp2\")\n",
    "\n",
    "class Sub(Base1,Base2):\n",
    "    def __init__(self):\n",
    "       Base1.__init__(self,100)\n",
    "       Base2.__init__(self,300)\n",
    "       print(\"Sub class constructor\")\n",
    "    def disp3(self):\n",
    "        print(\"Sub disp3\")\n",
    "\n",
    "\n",
    "s1 = Sub()\n",
    "s1.disp2()  \n",
    "s1.disp3()\n"
   ]
  },
  {
   "cell_type": "markdown",
   "metadata": {},
   "source": [
    "#### **Example 12_ Multiple_f**"
   ]
  },
  {
   "cell_type": "code",
   "execution_count": 24,
   "metadata": {},
   "outputs": [
    {
     "name": "stdout",
     "output_type": "stream",
     "text": [
      "Base1 class constructor   100\n",
      "Base2 class constructor    300\n",
      "Sub class constructor\n",
      "Base2 disp2\n",
      "Sub disp3\n"
     ]
    }
   ],
   "source": [
    "# multiple inheritance , multiple parents have same method name\n",
    "\n",
    "class Base1:\n",
    "    def __init__(self,num1):\n",
    "        self.num1=num1\n",
    "        print(\"Base1 class constructor  \",self.num1)\n",
    "    \n",
    "\n",
    "class Base2:\n",
    "    def __init__(self,num2):\n",
    "        self.num2=num2\n",
    "        print(\"Base2 class constructor   \",self.num2)\n",
    "    def disp2(self):\n",
    "        print(\"Base2 disp2\")\n",
    "\n",
    "class Sub(Base1,Base2):\n",
    "    def __init__(self):\n",
    "       Base1.__init__(self,100)\n",
    "       Base2.__init__(self,300)\n",
    "       print(\"Sub class constructor\")\n",
    "    def disp3(self):\n",
    "        print(\"Sub disp3\")\n",
    "\n",
    "\n",
    "s1 = Sub()\n",
    "s1.disp2()  \n",
    "s1.disp3()\n"
   ]
  },
  {
   "cell_type": "markdown",
   "metadata": {},
   "source": [
    "#### **Example 12_ Multiple_g**"
   ]
  },
  {
   "cell_type": "code",
   "execution_count": 25,
   "metadata": {},
   "outputs": [
    {
     "name": "stdout",
     "output_type": "stream",
     "text": [
      "Base1 class constructor   100\n",
      "Base2 class constructor    300\n",
      "Sub class constructor\n",
      "Base1 disp2\n",
      "Base2 disp2\n",
      "Sub disp2\n",
      "Sub disp3\n"
     ]
    }
   ],
   "source": [
    "# multiple inheritance , multiple parents have same method name\n",
    "\n",
    "class Base1:\n",
    "    def __init__(self,num1):\n",
    "        self.num1=num1\n",
    "        print(\"Base1 class constructor  \",self.num1)\n",
    "    def disp2(self):\n",
    "        print(\"Base1 disp2\")\n",
    "\n",
    "class Base2:\n",
    "    def __init__(self,num2):\n",
    "        self.num2=num2\n",
    "        print(\"Base2 class constructor   \",self.num2)\n",
    "    def disp2(self):\n",
    "        print(\"Base2 disp2\")\n",
    "\n",
    "class Sub(Base1,Base2):\n",
    "    def __init__(self):\n",
    "       Base1.__init__(self,100)\n",
    "       Base2.__init__(self,300)\n",
    "       print(\"Sub class constructor\")\n",
    "    def disp3(self):\n",
    "        print(\"Sub disp3\")\n",
    "    def disp2(self):\n",
    "        Base1.disp2(self)\n",
    "        Base2.disp2(self)\n",
    "        print(\"Sub disp2\")\n",
    "\n",
    "\n",
    "s1 = Sub()\n",
    "s1.disp2()  \n",
    "s1.disp3()"
   ]
  },
  {
   "cell_type": "markdown",
   "metadata": {},
   "source": [
    "#### **Example 12_ Trial_e**"
   ]
  },
  {
   "cell_type": "code",
   "execution_count": 26,
   "metadata": {},
   "outputs": [
    {
     "name": "stdout",
     "output_type": "stream",
     "text": [
      "Base1 class constructor   100\n",
      "Base2 class constructor    300\n",
      "Sub class constructor\n",
      "Base1 class constructor   500\n",
      "Sub disp3\n"
     ]
    }
   ],
   "source": [
    "# multiple inheritance , explicitly invoking both the parent class constructors\n",
    "\n",
    "class Base1:\n",
    "    def __init__(self,num1):\n",
    "        self.num1=num1\n",
    "        print(\"Base1 class constructor  \",self.num1)\n",
    "    def disp1(self):\n",
    "        print(\"Base1 disp1\")\n",
    "\n",
    "class Base2:\n",
    "    def __init__(self,num2):\n",
    "        self.num2=num2\n",
    "        print(\"Base2 class constructor   \",self.num2)\n",
    "    def disp2(self):\n",
    "        print(\"Base2 disp2\")\n",
    "\n",
    "class Sub:\n",
    "    def __init__(self):\n",
    "       Base1.__init__(self,100)  # even if Base1 and Base2 are not parent classes, we can invoke their constructors\n",
    "       Base2.__init__(self,300)\n",
    "       print(\"Sub class constructor\")\n",
    "    def disp3(self):\n",
    "        Base1.__init__(self,500)  # from here also it's possible\n",
    "        print(\"Sub disp3\")\n",
    "\n",
    "\n",
    "s1 = Sub()\n",
    "s1.disp3()"
   ]
  },
  {
   "cell_type": "markdown",
   "metadata": {},
   "source": [
    "#### **Example 13_Hybrid**"
   ]
  },
  {
   "cell_type": "code",
   "execution_count": 27,
   "metadata": {},
   "outputs": [
    {
     "name": "stdout",
     "output_type": "stream",
     "text": [
      "GP disp1\n",
      "Parent1 disp2\n",
      "Parent2 disp3\n",
      "Child disp4\n"
     ]
    }
   ],
   "source": [
    "# Hybrid inheritance\n",
    "\n",
    "class GP:\n",
    "    def disp1(self):\n",
    "        print(\"GP disp1\")\n",
    "\n",
    "\n",
    "class Parent1(GP):\n",
    "    def disp2(self):\n",
    "        print(\"Parent1 disp2\")\n",
    "\n",
    "\n",
    "class Parent2(GP):\n",
    "    def disp3(self):\n",
    "        print(\"Parent2 disp3\")\n",
    "\n",
    "class Child(Parent1,Parent2):\n",
    "    def disp4(self):\n",
    "        print(\"Child disp4\")\n",
    "\n",
    "c = Child()\n",
    "c.disp1()  # no problem here\n",
    "'''\n",
    "In some languages, because of how inheritance is implemented, when you call \"c.disp1()\", \n",
    "it is ambiguous whether you actually want the overridden \"disp1()\" from Parent1, or the one from Parent2.\n",
    "\n",
    "Python doesn't have this problem because of the Method Resolution Order (MRO). \n",
    "Briefly, when you inherit from multiple classes, if their method names conflict, the first one named takes precedence. \n",
    "Since we have specified Child(Parent1,Parent2), Parent1.disp1 is called before Parent2.disp1.\n",
    "'''\n",
    "c.disp2()\n",
    "c.disp3()\n",
    "c.disp4()"
   ]
  },
  {
   "cell_type": "markdown",
   "metadata": {},
   "source": [
    "### **OOPS**"
   ]
  },
  {
   "cell_type": "markdown",
   "metadata": {},
   "source": [
    "#### **Class object vs Instance object**"
   ]
  },
  {
   "cell_type": "code",
   "execution_count": 46,
   "metadata": {},
   "outputs": [
    {
     "name": "stdout",
     "output_type": "stream",
     "text": [
      "['__class__', '__delattr__', '__dict__', '__dir__', '__doc__', '__eq__', '__format__', '__ge__', '__getattribute__', '__gt__', '__hash__', '__init__', '__init_subclass__', '__le__', '__lt__', '__module__', '__ne__', '__new__', '__reduce__', '__reduce_ex__', '__repr__', '__setattr__', '__sizeof__', '__str__', '__subclasshook__', '__weakref__', 'x']\n",
      "\n",
      "\n",
      "True\n",
      "\n",
      "\n",
      "['__class__', '__delattr__', '__dict__', '__dir__', '__doc__', '__eq__', '__format__', '__ge__', '__getattribute__', '__gt__', '__hash__', '__init__', '__init_subclass__', '__le__', '__lt__', '__module__', '__ne__', '__new__', '__reduce__', '__reduce_ex__', '__repr__', '__setattr__', '__sizeof__', '__str__', '__subclasshook__', '__weakref__', 'a', 'b', 'x']\n",
      "\n",
      "\n",
      "False\n"
     ]
    }
   ],
   "source": [
    "class Test:\n",
    "    x=10\n",
    "    def __init__(self,a,b):\n",
    "        self.a=a\n",
    "        self.b=b\n",
    "\n",
    "ref=Test   #  \"ref\"  refers to class object\n",
    "print(dir(ref))    #  observe that \"x\" is a member of class object because it's a static member\n",
    "ref1=Test  #  \"ref1\" refers to class object\n",
    "print(\"\\n\")\n",
    "print(id(ref)==id(ref1))   # true , as class object is one only and both \"ref\" and \"ref1\" refer to the same class object\n",
    "t1=Test(10,20)  # instance object\n",
    "t2=Test(30,40)  # instance object\n",
    "print(\"\\n\")\n",
    "print(dir(t1))   #  a and b also will be displayed\n",
    "print(\"\\n\")\n",
    "print(id(t1)==id(t2))   #  false"
   ]
  },
  {
   "cell_type": "markdown",
   "metadata": {},
   "source": [
    "#### **Class_Variable_discussion**"
   ]
  },
  {
   "cell_type": "code",
   "execution_count": 1,
   "metadata": {},
   "outputs": [
    {
     "name": "stdout",
     "output_type": "stream",
     "text": [
      "20\n",
      "20\n",
      "20\n",
      "2180923786064\n",
      "2180923786064\n",
      "2180923786064\n"
     ]
    }
   ],
   "source": [
    "class First:\n",
    "    var=20  # class variable\n",
    "\n",
    "f1=First()\n",
    "f2=First()\n",
    "\n",
    "print(First.var)        # highly recommended\n",
    "print(f1.var)           # not recommended\n",
    "print(f2.var)           # not recommended\n",
    "\n",
    "# proves that class variable has got only one copy in the memory\n",
    "print(id(First.var))\n",
    "print(id(f1.var))\n",
    "print(id(f2.var))"
   ]
  },
  {
   "cell_type": "markdown",
   "metadata": {},
   "source": [
    "#### **Duck Typing Python**"
   ]
  },
  {
   "cell_type": "markdown",
   "metadata": {},
   "source": [
    "##### **What is Duck Typing**"
   ]
  },
  {
   "cell_type": "markdown",
   "metadata": {},
   "source": [
    "Python doesn't care about which class of object it is, if it is an object and required behavior (method) is present for that object then it will work. The type of object is distinguished only at runtime. This is called as \"Duck Typing\"."
   ]
  },
  {
   "cell_type": "markdown",
   "metadata": {},
   "source": [
    "##### **E1**"
   ]
  },
  {
   "cell_type": "code",
   "execution_count": 2,
   "metadata": {},
   "outputs": [
    {
     "name": "stdout",
     "output_type": "stream",
     "text": [
      "Type of obj is\t <class '__main__.Bird'>\n",
      "Bird is flying\n",
      "Type of obj is\t <class '__main__.SuperMan'>\n",
      "Superman is flying\n"
     ]
    }
   ],
   "source": [
    "class Bird:\n",
    "    def fly(self):\n",
    "        print(\"Bird is flying\")\n",
    "class SuperMan:\n",
    "    def fly(self):\n",
    "        print(\"Superman is flying\")\n",
    "class Person:\n",
    "    def talk(self):\n",
    "        print(\"Person is talking\")\n",
    "\n",
    "def perform(obj):\n",
    "    print(\"Type of obj is\\t\",type(obj))\n",
    "    obj.fly()\n",
    "\n",
    "b1=Bird()\n",
    "perform(b1)\n",
    "s1=SuperMan()\n",
    "perform(s1)"
   ]
  },
  {
   "cell_type": "markdown",
   "metadata": {},
   "source": [
    "##### **E2**"
   ]
  },
  {
   "cell_type": "code",
   "execution_count": 3,
   "metadata": {},
   "outputs": [
    {
     "name": "stdout",
     "output_type": "stream",
     "text": [
      "Type of obj is\t <class '__main__.Bird'>\n",
      "Bird is flying\n",
      "Type of obj is\t <class '__main__.SuperMan'>\n",
      "Superman is flying\n",
      "Type of obj is\t <class '__main__.Person'>\n"
     ]
    },
    {
     "ename": "AttributeError",
     "evalue": "'Person' object has no attribute 'fly'",
     "output_type": "error",
     "traceback": [
      "\u001b[1;31m---------------------------------------------------------------------------\u001b[0m",
      "\u001b[1;31mAttributeError\u001b[0m                            Traceback (most recent call last)",
      "Cell \u001b[1;32mIn[3], line 20\u001b[0m\n\u001b[0;32m     18\u001b[0m perform(s1)\n\u001b[0;32m     19\u001b[0m p1\u001b[38;5;241m=\u001b[39mPerson()\n\u001b[1;32m---> 20\u001b[0m \u001b[43mperform\u001b[49m\u001b[43m(\u001b[49m\u001b[43mp1\u001b[49m\u001b[43m)\u001b[49m   \u001b[38;5;66;03m#  AttributeError: 'Person' object has no attribute 'fly'\u001b[39;00m\n",
      "Cell \u001b[1;32mIn[3], line 13\u001b[0m, in \u001b[0;36mperform\u001b[1;34m(obj)\u001b[0m\n\u001b[0;32m     11\u001b[0m \u001b[38;5;28;01mdef\u001b[39;00m \u001b[38;5;21mperform\u001b[39m(obj):\n\u001b[0;32m     12\u001b[0m     \u001b[38;5;28mprint\u001b[39m(\u001b[38;5;124m\"\u001b[39m\u001b[38;5;124mType of obj is\u001b[39m\u001b[38;5;130;01m\\t\u001b[39;00m\u001b[38;5;124m\"\u001b[39m,\u001b[38;5;28mtype\u001b[39m(obj))\n\u001b[1;32m---> 13\u001b[0m     \u001b[43mobj\u001b[49m\u001b[38;5;241;43m.\u001b[39;49m\u001b[43mfly\u001b[49m()\n",
      "\u001b[1;31mAttributeError\u001b[0m: 'Person' object has no attribute 'fly'"
     ]
    }
   ],
   "source": [
    "class Bird:\n",
    "    def fly(self):\n",
    "        print(\"Bird is flying\")\n",
    "class SuperMan:\n",
    "    def fly(self):\n",
    "        print(\"Superman is flying\")\n",
    "class Person:\n",
    "    def talk(self):\n",
    "        print(\"Person is flying\")\n",
    "\n",
    "def perform(obj):\n",
    "    print(\"Type of obj is\\t\",type(obj))\n",
    "    obj.fly()\n",
    "\n",
    "b1=Bird()\n",
    "perform(b1)\n",
    "s1=SuperMan()\n",
    "perform(s1)\n",
    "p1=Person()\n",
    "perform(p1)   #  AttributeError: 'Person' object has no attribute 'fly'"
   ]
  },
  {
   "cell_type": "markdown",
   "metadata": {},
   "source": [
    "##### **E3**"
   ]
  },
  {
   "cell_type": "code",
   "execution_count": 4,
   "metadata": {},
   "outputs": [
    {
     "name": "stdout",
     "output_type": "stream",
     "text": [
      "Type of obj is\t <class '__main__.Bird'>\n",
      "Bird is flying\n",
      "Type of obj is\t <class '__main__.SuperMan'>\n",
      "Superman is flying\n",
      "Type of obj is\t <class '__main__.Person'>\n",
      "can't fly\n"
     ]
    }
   ],
   "source": [
    "# Strong Typing\n",
    "\n",
    "class Bird:\n",
    "    def fly(self):\n",
    "        print(\"Bird is flying\")\n",
    "class SuperMan:\n",
    "    def fly(self):\n",
    "        print(\"Superman is flying\")\n",
    "class Person:\n",
    "    def talk(self):\n",
    "        print(\"Person is flying\")\n",
    "\n",
    "def perform(obj):\n",
    "    print(\"Type of obj is\\t\",type(obj))\n",
    "    if(hasattr(obj,\"fly\")):             # Strong Typing happens here\n",
    "        obj.fly()\n",
    "    else:\n",
    "        print(\"can't fly\")\n",
    "\n",
    "b1=Bird()\n",
    "perform(b1)\n",
    "s1=SuperMan()\n",
    "perform(s1)\n",
    "p1=Person()\n",
    "perform(p1)   #  AttributeError: 'Person' object has no attribute 'fly'"
   ]
  },
  {
   "cell_type": "markdown",
   "metadata": {},
   "source": [
    "#### **Garbage Collection**"
   ]
  },
  {
   "cell_type": "markdown",
   "metadata": {},
   "source": [
    "##### **What is destructor in Python**"
   ]
  },
  {
   "cell_type": "markdown",
   "metadata": {},
   "source": [
    "A destructor method is called when all references to an object have been destroyed. In Python, the __del__() method is referred to as a destructor method. "
   ]
  },
  {
   "cell_type": "markdown",
   "metadata": {},
   "source": [
    "##### **Garbage Collection in Python**"
   ]
  },
  {
   "cell_type": "markdown",
   "metadata": {},
   "source": [
    "Garbage collection is simply the process of freeing memory when it is not used/reached by any reference/pointer anymore. Python performs garbage collection via a technique called reference counting. Using reference counting, GC collects the objects as soon as they become unreachable which happens when the number of references to the object is 0. "
   ]
  },
  {
   "cell_type": "markdown",
   "metadata": {},
   "source": [
    "##### **E1**"
   ]
  },
  {
   "cell_type": "code",
   "execution_count": null,
   "metadata": {},
   "outputs": [],
   "source": [
    "var=100\n",
    "print(var)\n",
    "del var\n",
    "print(var)    #  NameError: name 'var' is not defined. Did you mean: 'vars'?"
   ]
  },
  {
   "cell_type": "markdown",
   "metadata": {},
   "source": [
    "##### **E2**"
   ]
  },
  {
   "cell_type": "code",
   "execution_count": 6,
   "metadata": {},
   "outputs": [
    {
     "name": "stdout",
     "output_type": "stream",
     "text": [
      "2181000224368\n",
      "10\n",
      "No Reference is left for <__main__.MyClass object at 0x000001FBCDBE5E70>\n",
      "2181000228400\n",
      "10\n",
      "done\n"
     ]
    }
   ],
   "source": [
    "class MyClass:\n",
    "    var=0\n",
    "    def __init__(self,var):\n",
    "        self.var=var\n",
    "    def getvar(self):\n",
    "        return self.var\n",
    "    def __del__(self):\n",
    "        print(\"No Reference is left for {}\".format(self))\n",
    "\n",
    "m1 = MyClass(10)\n",
    "print(id(m1))\n",
    "print(m1.getvar())\n",
    "m1 = MyClass(10)\n",
    "print(id(m1))\n",
    "print(m1.getvar())\n",
    "print(\"done\")"
   ]
  },
  {
   "cell_type": "markdown",
   "metadata": {},
   "source": [
    "##### **E3**"
   ]
  },
  {
   "cell_type": "code",
   "execution_count": 7,
   "metadata": {},
   "outputs": [
    {
     "name": "stdout",
     "output_type": "stream",
     "text": [
      "No Reference is left for <__main__.MyClass object at 0x000001FBCDBE6E30>\n",
      "2181021141696\n",
      "10\n",
      "No Reference is left for <__main__.MyClass object at 0x000001FBCEFD8AC0>\n",
      "2181002099728\n",
      "10\n",
      "No Reference is left for <__main__.MyClass object at 0x000001FBCDDAFC10>\n",
      "done\n"
     ]
    }
   ],
   "source": [
    "class MyClass:\n",
    "    var=0\n",
    "    def __init__(self,var):\n",
    "        self.var=var\n",
    "    def getvar(self):\n",
    "        return self.var\n",
    "    def __del__(self):\n",
    "        print(\"No Reference is left for {}\".format(self))\n",
    "\n",
    "m1 = MyClass(10)\n",
    "print(id(m1))\n",
    "print(m1.getvar())\n",
    "m1 = MyClass(10)\n",
    "print(id(m1))\n",
    "print(m1.getvar())\n",
    "del m1     # use of del statement to delete the object\n",
    "print(\"done\")"
   ]
  },
  {
   "cell_type": "markdown",
   "metadata": {},
   "source": [
    "##### **E4**"
   ]
  },
  {
   "cell_type": "code",
   "execution_count": 8,
   "metadata": {},
   "outputs": [
    {
     "name": "stdout",
     "output_type": "stream",
     "text": [
      "2181020979344\n",
      "10\n",
      "2181020979344\n",
      "10\n",
      "done\n"
     ]
    }
   ],
   "source": [
    "class MyClass:\n",
    "    var=0\n",
    "    def __init__(self,var):\n",
    "        self.var=var\n",
    "    def getvar(self):\n",
    "        return self.var\n",
    "    def __del__(self):\n",
    "        print(\"No Reference is left for {}\".format(self))\n",
    "\n",
    "m1 = MyClass(10)\n",
    "print(id(m1))\n",
    "print(m1.getvar())\n",
    "m2 = m1\n",
    "print(id(m1))\n",
    "print(m1.getvar())\n",
    "del m1     # it will not delete the object as m2 reference is also referring to the same object\n",
    "print(\"done\")\n"
   ]
  },
  {
   "cell_type": "markdown",
   "metadata": {},
   "source": [
    "##### **E5**"
   ]
  },
  {
   "cell_type": "code",
   "execution_count": 9,
   "metadata": {},
   "outputs": [
    {
     "name": "stdout",
     "output_type": "stream",
     "text": [
      "2181021043584\n",
      "10\n",
      "No Reference is left for <__main__.MyClass object at 0x000001FBCEFB1090>\n",
      "2181021043584\n",
      "10\n",
      "After deleting m1   10\n",
      "done\n"
     ]
    }
   ],
   "source": [
    "class MyClass:\n",
    "    var=0\n",
    "    def __init__(self,var):\n",
    "        self.var=var\n",
    "    def getvar(self):\n",
    "        return self.var\n",
    "    def __del__(self):\n",
    "        print(\"No Reference is left for {}\".format(self))\n",
    "\n",
    "m1 = MyClass(10)\n",
    "print(id(m1))\n",
    "print(m1.getvar())\n",
    "m2 = m1\n",
    "print(id(m1))\n",
    "print(m1.getvar())\n",
    "del m1     # it will not delete the object as m2 reference is also referring to the same object\n",
    "# print(\"After deleting m1  \",m1.getvar())   # not possible\n",
    "print(\"After deleting m1  \", m2.getvar())\n",
    "print(\"done\")"
   ]
  },
  {
   "cell_type": "markdown",
   "metadata": {},
   "source": [
    "#### **Init_method_info**"
   ]
  },
  {
   "cell_type": "markdown",
   "metadata": {},
   "source": [
    "The __init__ method is the Python equivalent of the C++ constructor in an object-oriented approach. The __init__  function is called every time an object is created from a class. The __init__ method lets the class initialize the object’s attributes and serves no other purpose. It is only used within classes. \n",
    "\n",
    "If a Python class has no __init__ method, then creating a new instance of the class will just create an empty instance of the class. That may be completely OK. However, if the need all new instances of a class to have some values, then an __init__ method should be created.\n",
    "\n",
    "What happens when your class does not explicitly define an __init__ method?\n",
    "\n",
    "Short answer; nothing happens.\n",
    "\n",
    "Long answer;\n",
    "\n",
    " if you have a class B, which inherits from a class A, and if B has no __init__ method defined, then the parent's (in this case, A) __init__ is invoked.\n",
    "\n",
    "\n",
    "It means that the __init__ method is inherited\n",
    "\n",
    "If you actually specified a parent class, then the __init__ of this parent class will be called\n",
    "\n",
    "If you didn't, it will use the object __init__ method, which doesn't do anything significant for you\n",
    "\n",
    "This behavior is the same as non-special methods."
   ]
  },
  {
   "cell_type": "markdown",
   "metadata": {},
   "source": [
    "##### **E1**"
   ]
  },
  {
   "cell_type": "code",
   "execution_count": 10,
   "metadata": {},
   "outputs": [
    {
     "name": "stdout",
     "output_type": "stream",
     "text": [
      "<__main__.Base object at 0x000001FBCDBE70D0>\n",
      "<class 'method'>\n",
      "<class 'method'>\n"
     ]
    }
   ],
   "source": [
    "class Base:\n",
    "    def __init__(self,num):\n",
    "       self.num=num\n",
    "    def disp(self):\n",
    "        print(self.num)\n",
    "s1=Base(10)\n",
    "print(s1)\n",
    "print(type(s1.__init__))\n",
    "print(type(s1.disp))\n"
   ]
  },
  {
   "cell_type": "markdown",
   "metadata": {},
   "source": [
    "##### **E2**"
   ]
  },
  {
   "cell_type": "code",
   "execution_count": 11,
   "metadata": {},
   "outputs": [
    {
     "name": "stdout",
     "output_type": "stream",
     "text": [
      "<__main__.Base object at 0x000001FBCEEC7C70>\n",
      "True\n",
      "True\n"
     ]
    }
   ],
   "source": [
    "class Base:\n",
    "    def __init__(self,num):\n",
    "       self.num=num\n",
    "    def disp(self):\n",
    "        print(self.num)\n",
    "s1=Base(10)\n",
    "print(s1)\n",
    "print(hasattr(s1,'disp'))\n",
    "print(hasattr(s1,'__init__'))"
   ]
  },
  {
   "cell_type": "markdown",
   "metadata": {},
   "source": [
    "##### **E3**"
   ]
  },
  {
   "cell_type": "code",
   "execution_count": 12,
   "metadata": {},
   "outputs": [
    {
     "name": "stdout",
     "output_type": "stream",
     "text": [
      "in disp\n",
      "True\n",
      "True\n"
     ]
    }
   ],
   "source": [
    "class Base:\n",
    "    def disp(self):\n",
    "        print(\"in disp\")\n",
    "s1=Base()\n",
    "s1.disp()\n",
    "print(hasattr(s1,'disp'))\n",
    "print(hasattr(s1,'__init__'))\n",
    "\n",
    "# This example proves that if you don't define \"__init__\" inside the class, it is always inherited from the parent class, \n",
    "# i.e. \"object\" class here. Also in the absense of \"__init__\" method , object is created here but it is empty."
   ]
  },
  {
   "cell_type": "markdown",
   "metadata": {},
   "source": [
    "##### **E4**"
   ]
  },
  {
   "cell_type": "code",
   "execution_count": 13,
   "metadata": {},
   "outputs": [
    {
     "name": "stdout",
     "output_type": "stream",
     "text": [
      "inside init method of Base\n",
      "60\n",
      "True\n",
      "True\n"
     ]
    }
   ],
   "source": [
    "class Base:\n",
    "    def __init__(self,num):\n",
    "        print(\"inside init method of Base\")\n",
    "        super().__init__()\n",
    "        self.num=num\n",
    "    def disp(self):\n",
    "        print(self.num)\n",
    "s1=Base(60)\n",
    "s1.disp()\n",
    "print(hasattr(s1,'disp'))\n",
    "print(hasattr(s1,'__init__'))\n",
    "\n",
    "# In this example, \"super().__init__()\" doesn't give any error which proves that the parent class i.e. \"object\" class has \n",
    "# \"__init__()\" method which does not take any parameter."
   ]
  },
  {
   "cell_type": "markdown",
   "metadata": {},
   "source": [
    "#### **instance variable vs class variable**"
   ]
  },
  {
   "cell_type": "markdown",
   "metadata": {},
   "source": [
    "##### **How do you create static variable in Python**"
   ]
  },
  {
   "cell_type": "markdown",
   "metadata": {},
   "source": [
    "you create static variable in python just by defining or declaring it outside `\"__init__\"` i.e. a constructor."
   ]
  },
  {
   "cell_type": "markdown",
   "metadata": {},
   "source": [
    "##### **E1**"
   ]
  },
  {
   "cell_type": "markdown",
   "metadata": {},
   "source": [
    "instance variable/s are stored in the instance namespace which is different for different objects\n",
    "\n",
    "class variable/s (also called as \"static variables\") are stored in class namespace which is same (shared by all the objects) for all the objects"
   ]
  },
  {
   "cell_type": "code",
   "execution_count": 1,
   "metadata": {},
   "outputs": [
    {
     "name": "stdout",
     "output_type": "stream",
     "text": [
      "1 \t Abc \t 40000\n",
      "2 \t Xyz \t 70000\n",
      "1 \t Abc \t 43000\n",
      "2 \t Xyz \t 78000\n",
      "9 \t 9 \t 9\n",
      "12 \t 12 \t 12\n",
      "3177756461616 \t 3177756460720\n",
      "3177680470608 \t 3177680470608 \t 3177680470608\n"
     ]
    }
   ],
   "source": [
    "class Account:\n",
    "    rate=9                  # class variable\n",
    "    def __init__(self,accid,name,balance):\n",
    "        self.accid=accid                    # instance variable\n",
    "        self.name=name                      # instance variable\n",
    "        self.balance=balance                # instance variable\n",
    "\n",
    "c1=Account(1,\"Abc\",40000)\n",
    "c2=Account(2,\"Xyz\",70000)\n",
    "print(c1.accid,\"\\t\",c1.name,\"\\t\",c1.balance)\n",
    "print(c2.accid,\"\\t\",c2.name,\"\\t\",c2.balance)\n",
    "c1.balance=43000\n",
    "c2.balance=78000\n",
    "print(c1.accid,\"\\t\",c1.name,\"\\t\",c1.balance)\n",
    "print(c2.accid,\"\\t\",c2.name,\"\\t\",c2.balance)\n",
    "print(Account.rate,\"\\t\",c1.rate,\"\\t\",c2.rate)\n",
    "Account.rate=12\n",
    "print(Account.rate,\"\\t\",c1.rate,\"\\t\",c2.rate)\n",
    "print(id(c1.name),\"\\t\",id(c2.name))\n",
    "print(id(Account.rate),\"\\t\",id(c1.rate),\"\\t\",id(c2.rate))      # proves that rate has only one copy in the memory\n"
   ]
  },
  {
   "cell_type": "markdown",
   "metadata": {},
   "source": [
    "#### **instance_method_class_method_static_method**"
   ]
  },
  {
   "cell_type": "markdown",
   "metadata": {},
   "source": [
    "instance method is the one which works on instance members has got self as and argument\n",
    "\n",
    "class method is the one which works on the class members ( static members)\n",
    "\n",
    "static method is the one which neither works on instance members nor on class members. It's a utility\n",
    "\n",
    "method which takes some input parameters and return the result."
   ]
  },
  {
   "cell_type": "markdown",
   "metadata": {},
   "source": [
    "##### **E1**"
   ]
  },
  {
   "cell_type": "code",
   "execution_count": 2,
   "metadata": {},
   "outputs": [
    {
     "name": "stdout",
     "output_type": "stream",
     "text": [
      "1 \t Abc \t 40000\n",
      "2 \t Xyz \t 70000\n",
      "9\n",
      "calculated EMI per month\n"
     ]
    }
   ],
   "source": [
    "class Account:\n",
    "    rate=9                  # class variable\n",
    "    def __init__(self,accid,name,balance):\n",
    "        self.accid=accid                   \n",
    "        self.name=name                      \n",
    "        self.balance=balance               \n",
    "    def getAccid(self):              # instance method\n",
    "        return self.accid\n",
    "    def getName(self):               # instance method\n",
    "        return self.name\n",
    "    def getBalance(self):            # instance method\n",
    "        return self.balance\n",
    "\n",
    "    @classmethod\n",
    "    def getRate(cls):\n",
    "        return cls.rate\n",
    "    \n",
    "    @staticmethod\n",
    "    def calculateEMI(no_of_years,loan_amt):\n",
    "        return \"calculated EMI per month\"\n",
    "\n",
    "c1=Account(1,\"Abc\",40000)\n",
    "c2=Account(2,\"Xyz\",70000)\n",
    "\n",
    "print(c1.getAccid(),\"\\t\",c1.getName(),\"\\t\",c1.getBalance())\n",
    "print(c2.getAccid(),\"\\t\",c2.getName(),\"\\t\",c2.getBalance())\n",
    "\n",
    "print(Account.getRate())\n",
    "\n",
    "print(Account.calculateEMI(10,200000))"
   ]
  },
  {
   "cell_type": "markdown",
   "metadata": {},
   "source": [
    "##### **E2**"
   ]
  },
  {
   "cell_type": "code",
   "execution_count": 3,
   "metadata": {},
   "outputs": [
    {
     "name": "stdout",
     "output_type": "stream",
     "text": [
      "1 \t Abc \t 40000\n",
      "2 \t Xyz \t 70000\n",
      "9\n",
      "calculated EMI per month\n",
      "{'accid': 1, 'name': 'Abc', 'balance': 40000}\n",
      "{'__module__': '__main__', 'rate': 9, '__init__': <function Account.__init__ at 0x000002E3E108BBE0>, 'getAccid': <function Account.getAccid at 0x000002E3E10EC3A0>, 'getName': <function Account.getName at 0x000002E3E10EC9D0>, 'getBalance': <function Account.getBalance at 0x000002E3E10ECAF0>, 'getRate': <classmethod(<function Account.getRate at 0x000002E3E10EC820>)>, 'calculateEMI': <staticmethod(<function Account.calculateEMI at 0x000002E3E10EC670>)>, '__dict__': <attribute '__dict__' of 'Account' objects>, '__weakref__': <attribute '__weakref__' of 'Account' objects>, '__doc__': None}\n"
     ]
    }
   ],
   "source": [
    "class Account:\n",
    "    rate=9                  # class variable\n",
    "    def __init__(self,accid,name,balance):\n",
    "        self.accid=accid                   \n",
    "        self.name=name                      \n",
    "        self.balance=balance               \n",
    "    def getAccid(self):              # instance method\n",
    "        return self.accid\n",
    "    def getName(self):               # instance method\n",
    "        return self.name\n",
    "    def getBalance(self):            # instance method\n",
    "        return self.balance\n",
    "\n",
    "    @classmethod\n",
    "    def getRate(cls):\n",
    "        return cls.rate\n",
    "    \n",
    "    @staticmethod\n",
    "    def calculateEMI(no_of_years,load_amt):\n",
    "        return \"calculated EMI per month\"\n",
    "\n",
    "c1=Account(1,\"Abc\",40000)       # instance object\n",
    "c2=Account(2,\"Xyz\",70000)       # instance object\n",
    "\n",
    "print(c1.getAccid(),\"\\t\",c1.getName(),\"\\t\",c1.getBalance())\n",
    "print(c2.getAccid(),\"\\t\",c2.getName(),\"\\t\",c2.getBalance())\n",
    "\n",
    "print(Account.getRate())\n",
    "\n",
    "print(Account.calculateEMI(10,200000))\n",
    "print(c1.__dict__)\n",
    "temp=Account        # class object\n",
    "print(temp.__dict__)"
   ]
  },
  {
   "cell_type": "markdown",
   "metadata": {},
   "source": [
    "##### **E3**"
   ]
  },
  {
   "cell_type": "code",
   "execution_count": 4,
   "metadata": {},
   "outputs": [
    {
     "name": "stdout",
     "output_type": "stream",
     "text": [
      "1 \t Abc \t 40000\n",
      "2 \t Xyz \t 70000\n",
      "9\n",
      "calculated EMI per month\n",
      "{'accid': 1, 'name': 'Abc', 'balance': 40000}\n",
      "{'__module__': '__main__', 'rate': 9, '__init__': <function Account.__init__ at 0x000002E3E10EC5E0>, 'getAccid': <function Account.getAccid at 0x000002E3E10ECE50>, 'getName': <function Account.getName at 0x000002E3E10ECDC0>, 'getBalance': <function Account.getBalance at 0x000002E3E10EDAB0>, 'getRate': <classmethod(<function Account.getRate at 0x000002E3E10ED750>)>, 'calculateEMI': <staticmethod(<function Account.calculateEMI at 0x000002E3E10ED3F0>)>, '__dict__': <attribute '__dict__' of 'Account' objects>, '__weakref__': <attribute '__weakref__' of 'Account' objects>, '__doc__': None}\n",
      "let's display the types of instance object (c1) and class object(temp)\n",
      "<class '__main__.Account'>\n",
      "<class 'type'>\n"
     ]
    }
   ],
   "source": [
    "\n",
    "class Account:\n",
    "    rate=9                  # class variable\n",
    "    def __init__(self,accid,name,balance):\n",
    "        self.accid=accid                   \n",
    "        self.name=name                      \n",
    "        self.balance=balance               \n",
    "    def getAccid(self):              # instance method\n",
    "        return self.accid\n",
    "    def getName(self):               # instance method\n",
    "        return self.name\n",
    "    def getBalance(self):            # instance method\n",
    "        return self.balance\n",
    "\n",
    "    @classmethod\n",
    "    def getRate(cls):\n",
    "        return cls.rate\n",
    "    \n",
    "    @staticmethod\n",
    "    def calculateEMI(no_of_years,load_amt):\n",
    "        return \"calculated EMI per month\"\n",
    "\n",
    "c1=Account(1,\"Abc\",40000)       # instance object\n",
    "c2=Account(2,\"Xyz\",70000)       # instance object\n",
    "\n",
    "print(c1.getAccid(),\"\\t\",c1.getName(),\"\\t\",c1.getBalance())\n",
    "print(c2.getAccid(),\"\\t\",c2.getName(),\"\\t\",c2.getBalance())\n",
    "\n",
    "print(Account.getRate())\n",
    "\n",
    "print(Account.calculateEMI(10,200000))\n",
    "print(c1.__dict__)\n",
    "temp=Account        # class object\n",
    "print(temp.__dict__)\n",
    "\n",
    "print(\"let's display the types of instance object (c1) and class object(temp)\")\n",
    "print(type(c1))\n",
    "print(type(temp))"
   ]
  },
  {
   "cell_type": "markdown",
   "metadata": {},
   "source": [
    "#### **Magic or Dunder Methods**"
   ]
  },
  {
   "cell_type": "markdown",
   "metadata": {},
   "source": [
    "Python - Magic or Dunder Methods. Magic methods in Python are the special methods that start and end with the double underscores. They are also called dunder methods. Magic methods are not meant to be invoked directly by you, but the invocation happens internally from the class on a certain action.\n",
    "For example, when you add two numbers using the + operator, internally, the `__add__()`method will be called.\n",
    "\n",
    "Built-in classes in Python define many magic methods. Use the dir() function to see the number of magic methods inherited by a class. For example, in order to display all the attributes and methods defined in the \"int\" class, give following command and check\n",
    "\n",
    "dir(int)"
   ]
  },
  {
   "cell_type": "markdown",
   "metadata": {},
   "source": [
    "##### **E1**"
   ]
  },
  {
   "cell_type": "code",
   "execution_count": 1,
   "metadata": {},
   "outputs": [
    {
     "name": "stdout",
     "output_type": "stream",
     "text": [
      "['__abs__', '__add__', '__and__', '__bool__', '__ceil__', '__class__', '__delattr__', '__dir__', '__divmod__', '__doc__', '__eq__', '__float__', '__floor__', '__floordiv__', '__format__', '__ge__', '__getattribute__', '__getnewargs__', '__gt__', '__hash__', '__index__', '__init__', '__init_subclass__', '__int__', '__invert__', '__le__', '__lshift__', '__lt__', '__mod__', '__mul__', '__ne__', '__neg__', '__new__', '__or__', '__pos__', '__pow__', '__radd__', '__rand__', '__rdivmod__', '__reduce__', '__reduce_ex__', '__repr__', '__rfloordiv__', '__rlshift__', '__rmod__', '__rmul__', '__ror__', '__round__', '__rpow__', '__rrshift__', '__rshift__', '__rsub__', '__rtruediv__', '__rxor__', '__setattr__', '__sizeof__', '__str__', '__sub__', '__subclasshook__', '__truediv__', '__trunc__', '__xor__', 'as_integer_ratio', 'bit_count', 'bit_length', 'conjugate', 'denominator', 'from_bytes', 'imag', 'numerator', 'real', 'to_bytes']\n",
      "['__add__', '__class__', '__contains__', '__delattr__', '__dir__', '__doc__', '__eq__', '__format__', '__ge__', '__getattribute__', '__getitem__', '__getnewargs__', '__gt__', '__hash__', '__init__', '__init_subclass__', '__iter__', '__le__', '__len__', '__lt__', '__mod__', '__mul__', '__ne__', '__new__', '__reduce__', '__reduce_ex__', '__repr__', '__rmod__', '__rmul__', '__setattr__', '__sizeof__', '__str__', '__subclasshook__', 'capitalize', 'casefold', 'center', 'count', 'encode', 'endswith', 'expandtabs', 'find', 'format', 'format_map', 'index', 'isalnum', 'isalpha', 'isascii', 'isdecimal', 'isdigit', 'isidentifier', 'islower', 'isnumeric', 'isprintable', 'isspace', 'istitle', 'isupper', 'join', 'ljust', 'lower', 'lstrip', 'maketrans', 'partition', 'removeprefix', 'removesuffix', 'replace', 'rfind', 'rindex', 'rjust', 'rpartition', 'rsplit', 'rstrip', 'split', 'splitlines', 'startswith', 'strip', 'swapcase', 'title', 'translate', 'upper', 'zfill']\n",
      "['__add__', '__class__', '__class_getitem__', '__contains__', '__delattr__', '__delitem__', '__dir__', '__doc__', '__eq__', '__format__', '__ge__', '__getattribute__', '__getitem__', '__gt__', '__hash__', '__iadd__', '__imul__', '__init__', '__init_subclass__', '__iter__', '__le__', '__len__', '__lt__', '__mul__', '__ne__', '__new__', '__reduce__', '__reduce_ex__', '__repr__', '__reversed__', '__rmul__', '__setattr__', '__setitem__', '__sizeof__', '__str__', '__subclasshook__', 'append', 'clear', 'copy', 'count', 'extend', 'index', 'insert', 'pop', 'remove', 'reverse', 'sort']\n",
      "3000\n"
     ]
    }
   ],
   "source": [
    "print(dir(int))\n",
    "print(dir(str))\n",
    "print(dir(list))\n",
    "\n",
    "nu=2000\n",
    "print(nu.__add__(1000))"
   ]
  },
  {
   "cell_type": "markdown",
   "metadata": {},
   "source": [
    "##### **E2**"
   ]
  },
  {
   "cell_type": "code",
   "execution_count": 2,
   "metadata": {},
   "outputs": [
    {
     "name": "stdout",
     "output_type": "stream",
     "text": [
      "['__abs__', '__add__', '__and__', '__bool__', '__ceil__', '__class__', '__delattr__', '__dir__', '__divmod__', '__doc__', '__eq__', '__float__', '__floor__', '__floordiv__', '__format__', '__ge__', '__getattribute__', '__getnewargs__', '__gt__', '__hash__', '__index__', '__init__', '__init_subclass__', '__int__', '__invert__', '__le__', '__lshift__', '__lt__', '__mod__', '__mul__', '__ne__', '__neg__', '__new__', '__or__', '__pos__', '__pow__', '__radd__', '__rand__', '__rdivmod__', '__reduce__', '__reduce_ex__', '__repr__', '__rfloordiv__', '__rlshift__', '__rmod__', '__rmul__', '__ror__', '__round__', '__rpow__', '__rrshift__', '__rshift__', '__rsub__', '__rtruediv__', '__rxor__', '__setattr__', '__sizeof__', '__str__', '__sub__', '__subclasshook__', '__truediv__', '__trunc__', '__xor__', 'as_integer_ratio', 'bit_count', 'bit_length', 'conjugate', 'denominator', 'from_bytes', 'imag', 'numerator', 'real', 'to_bytes']\n",
      "['__add__', '__class__', '__contains__', '__delattr__', '__dir__', '__doc__', '__eq__', '__format__', '__ge__', '__getattribute__', '__getitem__', '__getnewargs__', '__gt__', '__hash__', '__init__', '__init_subclass__', '__iter__', '__le__', '__len__', '__lt__', '__mod__', '__mul__', '__ne__', '__new__', '__reduce__', '__reduce_ex__', '__repr__', '__rmod__', '__rmul__', '__setattr__', '__sizeof__', '__str__', '__subclasshook__', 'capitalize', 'casefold', 'center', 'count', 'encode', 'endswith', 'expandtabs', 'find', 'format', 'format_map', 'index', 'isalnum', 'isalpha', 'isascii', 'isdecimal', 'isdigit', 'isidentifier', 'islower', 'isnumeric', 'isprintable', 'isspace', 'istitle', 'isupper', 'join', 'ljust', 'lower', 'lstrip', 'maketrans', 'partition', 'removeprefix', 'removesuffix', 'replace', 'rfind', 'rindex', 'rjust', 'rpartition', 'rsplit', 'rstrip', 'split', 'splitlines', 'startswith', 'strip', 'swapcase', 'title', 'translate', 'upper', 'zfill']\n",
      "['__add__', '__class__', '__class_getitem__', '__contains__', '__delattr__', '__delitem__', '__dir__', '__doc__', '__eq__', '__format__', '__ge__', '__getattribute__', '__getitem__', '__gt__', '__hash__', '__iadd__', '__imul__', '__init__', '__init_subclass__', '__iter__', '__le__', '__len__', '__lt__', '__mul__', '__ne__', '__new__', '__reduce__', '__reduce_ex__', '__repr__', '__reversed__', '__rmul__', '__setattr__', '__setitem__', '__sizeof__', '__str__', '__subclasshook__', 'append', 'clear', 'copy', 'count', 'extend', 'index', 'insert', 'pop', 'remove', 'reverse', 'sort']\n",
      "3000\n"
     ]
    }
   ],
   "source": [
    "print(dir(int))\n",
    "print(dir(str))\n",
    "print(dir(list))\n",
    "\n",
    "nu=2000\n",
    "print(nu.__add__(1000))"
   ]
  },
  {
   "cell_type": "markdown",
   "metadata": {},
   "source": [
    "##### **E3**"
   ]
  },
  {
   "cell_type": "code",
   "execution_count": 34,
   "metadata": {},
   "outputs": [
    {
     "name": "stdout",
     "output_type": "stream",
     "text": [
      "<__main__.Person object at 0x000001D8995BC730>\n"
     ]
    }
   ],
   "source": [
    "class Person:\n",
    "    def __init__(self,name,age):\n",
    "        self.name=name\n",
    "        self.age=age\n",
    "\n",
    "p1=Person(\"Sachin\",25)\n",
    "print(p1)"
   ]
  },
  {
   "cell_type": "markdown",
   "metadata": {},
   "source": [
    "##### **E4**"
   ]
  },
  {
   "cell_type": "code",
   "execution_count": 4,
   "metadata": {},
   "outputs": [
    {
     "name": "stdout",
     "output_type": "stream",
     "text": [
      "I am a Person\n"
     ]
    }
   ],
   "source": [
    "class Person:\n",
    "    def __init__(self,name,age):\n",
    "        self.name=name\n",
    "        self.age=age\n",
    "    def __str__(self):\n",
    "        return \"I am a Person\"\n",
    "\n",
    "p1=Person(\"Sachin\",25)\n",
    "print(p1)    #  proves that internally __str__ magic or dunder function gets called"
   ]
  },
  {
   "cell_type": "markdown",
   "metadata": {},
   "source": [
    "##### **E5**"
   ]
  },
  {
   "cell_type": "code",
   "execution_count": 5,
   "metadata": {},
   "outputs": [
    {
     "name": "stdout",
     "output_type": "stream",
     "text": [
      "Sachin\t25\n"
     ]
    }
   ],
   "source": [
    "class Person:\n",
    "    def __init__(self,name,age):\n",
    "        self.name=name\n",
    "        self.age=age\n",
    "    def __str__(self):\n",
    "        return self.name+\"\\t\"+str(self.age)\n",
    "\n",
    "p1=Person(\"Sachin\",25)\n",
    "print(p1)    #  proves that internally __str__ magic or dunder function gets called"
   ]
  },
  {
   "cell_type": "markdown",
   "metadata": {},
   "source": [
    "#### **Nested Class**"
   ]
  },
  {
   "cell_type": "markdown",
   "metadata": {},
   "source": [
    "##### **E1**"
   ]
  },
  {
   "cell_type": "code",
   "execution_count": 35,
   "metadata": {},
   "outputs": [
    {
     "name": "stdout",
     "output_type": "stream",
     "text": [
      "Rahul\n",
      "\n",
      "\n",
      "AK47\t75 Rounds\t34.3 in\n"
     ]
    }
   ],
   "source": [
    "class Army:\n",
    "    def __init__(self):\n",
    "        self.name=\"Rahul\"\n",
    "    def show(self):\n",
    "        print(self.name)\n",
    "    class Gun:\n",
    "        def __init__(self):\n",
    "            self.name=\"AK47\"\n",
    "            self.capacity=\"75 Rounds\"\n",
    "            self.length=\"34.3 in\"\n",
    "        def __str__(self):\n",
    "            return self.name+\"\\t\"+self.capacity+\"\\t\"+self.length\n",
    "\n",
    "a1=Army()\n",
    "a1.show()\n",
    "g1=Army.Gun()\n",
    "print(\"\\n\")\n",
    "print(g1)"
   ]
  },
  {
   "cell_type": "markdown",
   "metadata": {},
   "source": [
    "##### **E2**"
   ]
  },
  {
   "cell_type": "code",
   "execution_count": 7,
   "metadata": {},
   "outputs": [
    {
     "name": "stdout",
     "output_type": "stream",
     "text": [
      "Rahul\n",
      "\n",
      "\n",
      "Rahul\tAK47\t75 Rounds\t34.3 in\n"
     ]
    }
   ],
   "source": [
    "class Army:\n",
    "    def __init__(self):\n",
    "        self.name=\"Rahul\"\n",
    "    def show(self):\n",
    "        print(self.name)\n",
    "    class Gun:\n",
    "        def __init__(self,ref):\n",
    "            self.name=\"AK47\"\n",
    "            self.capacity=\"75 Rounds\"\n",
    "            self.length=\"34.3 in\"\n",
    "            self.ref=ref\n",
    "        def __str__(self):\n",
    "            return self.ref.name+\"\\t\"+self.name+\"\\t\"+self.capacity+\"\\t\"+self.length\n",
    "\n",
    "a1=Army()\n",
    "a1.show()\n",
    "g1=Army.Gun(a1)\n",
    "print(\"\\n\")\n",
    "print(g1)"
   ]
  },
  {
   "cell_type": "markdown",
   "metadata": {},
   "source": [
    "#### **Overloading inside the class**"
   ]
  },
  {
   "cell_type": "markdown",
   "metadata": {},
   "source": [
    "##### **E1**"
   ]
  },
  {
   "cell_type": "code",
   "execution_count": 36,
   "metadata": {},
   "outputs": [
    {
     "ename": "ModuleNotFoundError",
     "evalue": "No module named 'multipledispatch'",
     "output_type": "error",
     "traceback": [
      "\u001b[1;31m---------------------------------------------------------------------------\u001b[0m",
      "\u001b[1;31mModuleNotFoundError\u001b[0m                       Traceback (most recent call last)",
      "Cell \u001b[1;32mIn[36], line 1\u001b[0m\n\u001b[1;32m----> 1\u001b[0m \u001b[38;5;28;01mfrom\u001b[39;00m \u001b[38;5;21;01mmultipledispatch\u001b[39;00m \u001b[38;5;28;01mimport\u001b[39;00m dispatch\n\u001b[0;32m      3\u001b[0m \u001b[38;5;28;01mclass\u001b[39;00m \u001b[38;5;21;01mFirst\u001b[39;00m:\n\u001b[0;32m      4\u001b[0m     \u001b[38;5;129m@dispatch\u001b[39m(\u001b[38;5;28mint\u001b[39m)\n\u001b[0;32m      5\u001b[0m     \u001b[38;5;28;01mdef\u001b[39;00m \u001b[38;5;21mdisp\u001b[39m(\u001b[38;5;28mself\u001b[39m,val):\n",
      "\u001b[1;31mModuleNotFoundError\u001b[0m: No module named 'multipledispatch'"
     ]
    }
   ],
   "source": [
    "from multipledispatch import dispatch\n",
    "\n",
    "class First:\n",
    "    @dispatch(int)\n",
    "    def disp(self,val):\n",
    "        print(val)\n",
    "    @dispatch(str)\n",
    "    def disp(self,val):\n",
    "        print(val)\n",
    "\n",
    "f1=First()\n",
    "f1.disp(\"hello\")\n",
    "f1.disp(100)"
   ]
  },
  {
   "cell_type": "markdown",
   "metadata": {},
   "source": [
    "##### **E2 Overloading init**"
   ]
  },
  {
   "cell_type": "code",
   "execution_count": 9,
   "metadata": {},
   "outputs": [
    {
     "ename": "ModuleNotFoundError",
     "evalue": "No module named 'multipledispatch'",
     "output_type": "error",
     "traceback": [
      "\u001b[1;31m---------------------------------------------------------------------------\u001b[0m",
      "\u001b[1;31mModuleNotFoundError\u001b[0m                       Traceback (most recent call last)",
      "Cell \u001b[1;32mIn[9], line 1\u001b[0m\n\u001b[1;32m----> 1\u001b[0m \u001b[38;5;28;01mfrom\u001b[39;00m \u001b[38;5;21;01mmultipledispatch\u001b[39;00m \u001b[38;5;28;01mimport\u001b[39;00m dispatch\n\u001b[0;32m      3\u001b[0m \u001b[38;5;28;01mclass\u001b[39;00m \u001b[38;5;21;01mSample\u001b[39;00m:\n\u001b[0;32m      4\u001b[0m     \u001b[38;5;129m@dispatch\u001b[39m(\u001b[38;5;28mint\u001b[39m)\n\u001b[0;32m      5\u001b[0m     \u001b[38;5;28;01mdef\u001b[39;00m \u001b[38;5;21m__init__\u001b[39m(\u001b[38;5;28mself\u001b[39m,num):\n",
      "\u001b[1;31mModuleNotFoundError\u001b[0m: No module named 'multipledispatch'"
     ]
    }
   ],
   "source": [
    "from multipledispatch import dispatch\n",
    "\n",
    "class Sample:\n",
    "    @dispatch(int)\n",
    "    def __init__(self,num):\n",
    "        self.num=num\n",
    "    @dispatch(str)\n",
    "    def __init__(self,name):\n",
    "        self.name=name\n",
    "    \n",
    "\n",
    "a1=Sample(10)\n",
    "a2=Sample(\"Kunal\")\n",
    "print(a1.num)\n",
    "print(a2.name)"
   ]
  },
  {
   "cell_type": "markdown",
   "metadata": {},
   "source": [
    "#### **Reference_count_in_Python**"
   ]
  },
  {
   "cell_type": "markdown",
   "metadata": {},
   "source": [
    "##### **E1**"
   ]
  },
  {
   "cell_type": "code",
   "execution_count": 11,
   "metadata": {},
   "outputs": [
    {
     "name": "stdout",
     "output_type": "stream",
     "text": [
      "100\n",
      "2\n"
     ]
    },
    {
     "data": {
      "text/plain": [
       "\" When you call getrefcount(), the reference is copied by value into the function's argument, temporarily bumping up the object's reference count. This is where the second reference comes from. \""
      ]
     },
     "execution_count": 11,
     "metadata": {},
     "output_type": "execute_result"
    }
   ],
   "source": [
    "\"\"\" sys.getrefcount(object)\n",
    "\n",
    "Returns the reference count of the object. The count returned is generally one higher than you might expect, because it includes the (temporary) reference as an argument to getrefcount(). \"\"\"\n",
    "\n",
    "import sys\n",
    "class First:\n",
    "    def __init__(self,num):\n",
    "        self.num=num\n",
    "\n",
    "f1=First(100)\n",
    "print(f1.num)\n",
    "print(sys.getrefcount(f1))    #  2 \n",
    "\n",
    "\"\"\" When you call getrefcount(), the reference is copied by value into the function's argument, temporarily bumping up the object's reference count. This is where the second reference comes from. \"\"\""
   ]
  },
  {
   "cell_type": "markdown",
   "metadata": {},
   "source": [
    "##### **E2**"
   ]
  },
  {
   "cell_type": "code",
   "execution_count": 10,
   "metadata": {},
   "outputs": [
    {
     "name": "stdout",
     "output_type": "stream",
     "text": [
      "100\n",
      "4\n",
      "3\n"
     ]
    },
    {
     "data": {
      "text/plain": [
       "\" When you call getrefcount(), the reference is copied by value into the function's argument, temporarily bumping up the object's reference count. This is where the second reference comes from. \""
      ]
     },
     "execution_count": 10,
     "metadata": {},
     "output_type": "execute_result"
    }
   ],
   "source": [
    "\"\"\" sys.getrefcount(object)\n",
    "\n",
    "Returns the reference count of the object. The count returned is generally one higher than you might expect, because it includes the (temporary) reference as an argument to getrefcount(). \"\"\"\n",
    "\n",
    "import sys\n",
    "class First:\n",
    "    def __init__(self,num):\n",
    "        self.num=num\n",
    "\n",
    "f1=First(100)\n",
    "f2=f1\n",
    "f3=f2\n",
    "print(f1.num)\n",
    "print(sys.getrefcount(f1))    #  4\n",
    "del f2\n",
    "print(sys.getrefcount(f3))    #  3\n",
    "\n",
    "\"\"\" When you call getrefcount(), the reference is copied by value into the function's argument, temporarily bumping up the object's reference count. This is where the second reference comes from. \"\"\""
   ]
  },
  {
   "cell_type": "markdown",
   "metadata": {},
   "source": [
    "#### **Types of methods in Python**"
   ]
  },
  {
   "cell_type": "markdown",
   "metadata": {},
   "source": [
    "##### **Types**"
   ]
  },
  {
   "cell_type": "markdown",
   "metadata": {},
   "source": [
    "instance method\n",
    "\n",
    "class method\n",
    "\n",
    "static method"
   ]
  },
  {
   "cell_type": "markdown",
   "metadata": {},
   "source": [
    "##### **Imp Point**"
   ]
  },
  {
   "cell_type": "markdown",
   "metadata": {},
   "source": [
    "class variable and static variables are same but class methods and static methods are not same."
   ]
  },
  {
   "cell_type": "markdown",
   "metadata": {},
   "source": [
    "#### **What is self**"
   ]
  },
  {
   "cell_type": "markdown",
   "metadata": {},
   "source": [
    "##### **E1**"
   ]
  },
  {
   "cell_type": "code",
   "execution_count": 12,
   "metadata": {},
   "outputs": [
    {
     "name": "stdout",
     "output_type": "stream",
     "text": [
      "address of f1 is\t 2265435455792\n",
      "address of self is\t 2265435455792\n",
      "type of self is\t <class '__main__.First'>\n",
      "inside main function\n",
      "address of f2 is\t 2265435463424\n",
      "let's invoke mainfunction with f2\n",
      "address of self is\t 2265435463424\n",
      "type of self is\t <class '__main__.First'>\n",
      "inside main function\n"
     ]
    }
   ],
   "source": [
    "class First:\n",
    "    def mainfunction(self):\n",
    "        print(\"address of self is\\t\",id(self))\n",
    "        print(\"type of self is\\t\",type(self))\n",
    "        print(\"inside main function\")\n",
    "f1=First()\n",
    "print(\"address of f1 is\\t\",id(f1))\n",
    "f1.mainfunction()\n",
    "\n",
    "f2=First()\n",
    "print(\"address of f2 is\\t\",id(f2))\n",
    "print(\"let's invoke mainfunction with f2\")\n",
    "f2.mainfunction()"
   ]
  },
  {
   "cell_type": "markdown",
   "metadata": {},
   "source": [
    "### **Overloading init in python**"
   ]
  },
  {
   "cell_type": "code",
   "execution_count": 13,
   "metadata": {},
   "outputs": [
    {
     "ename": "ModuleNotFoundError",
     "evalue": "No module named 'multipledispatch'",
     "output_type": "error",
     "traceback": [
      "\u001b[1;31m---------------------------------------------------------------------------\u001b[0m",
      "\u001b[1;31mModuleNotFoundError\u001b[0m                       Traceback (most recent call last)",
      "Cell \u001b[1;32mIn[13], line 1\u001b[0m\n\u001b[1;32m----> 1\u001b[0m \u001b[38;5;28;01mfrom\u001b[39;00m \u001b[38;5;21;01mmultipledispatch\u001b[39;00m \u001b[38;5;28;01mimport\u001b[39;00m dispatch\n\u001b[0;32m      3\u001b[0m \u001b[38;5;28;01mclass\u001b[39;00m \u001b[38;5;21;01mSample\u001b[39;00m:\n\u001b[0;32m      4\u001b[0m     \u001b[38;5;129m@dispatch\u001b[39m(\u001b[38;5;28mint\u001b[39m)\n\u001b[0;32m      5\u001b[0m     \u001b[38;5;28;01mdef\u001b[39;00m \u001b[38;5;21m__init__\u001b[39m(\u001b[38;5;28mself\u001b[39m,num1):\n",
      "\u001b[1;31mModuleNotFoundError\u001b[0m: No module named 'multipledispatch'"
     ]
    }
   ],
   "source": [
    "from multipledispatch import dispatch\n",
    "\n",
    "class Sample:\n",
    "    @dispatch(int)\n",
    "    def __init__(self,num1):\n",
    "        self.num1=num1\n",
    "        print(\"inside one param init\")\n",
    "    @dispatch(int,int)\n",
    "    def __init__(self,num1,num2):\n",
    "        self.num1=num1\n",
    "        self.num2=num2\n",
    "        print(\"inside two params init\")\n",
    "\n",
    "s1=Sample(100)\n",
    "s2=Sample(5,8)\n",
    "print(s1)\n",
    "print(s2)"
   ]
  },
  {
   "cell_type": "markdown",
   "metadata": {},
   "source": [
    "### **private and protected members in Python**"
   ]
  },
  {
   "cell_type": "code",
   "execution_count": 14,
   "metadata": {},
   "outputs": [
    {
     "name": "stdout",
     "output_type": "stream",
     "text": [
      "10\n",
      "20\n",
      "30\n",
      "10\n",
      "30\n"
     ]
    }
   ],
   "source": [
    "class MyClass:\n",
    "    def __init__(self):\n",
    "        self.a=10         #  public\n",
    "        self.__b=20       #  private\n",
    "        self._c=30        #  protected\n",
    "\n",
    "    def disp(self):\n",
    "        print(self.a)\n",
    "        print(self.__b)\n",
    "        print(self._c)\n",
    "\n",
    "m=MyClass()\n",
    "m.disp()\n",
    "print(m.a)\n",
    "# print(m.__b)     #  AttributeError: 'MyClass' object has no attribute '__b'\n",
    "print(m._c)\n"
   ]
  },
  {
   "cell_type": "markdown",
   "metadata": {},
   "source": [
    "### **Class method vs Static Method**"
   ]
  },
  {
   "cell_type": "markdown",
   "metadata": {},
   "source": [
    "Class methods are bound to a class rather than an object. Class methods can be called by both class and object. These methods can be called with a class or with an object. \n",
    "Class method vs Static Method\n",
    "\n",
    "•\tA class method takes cls as the first parameter while a static method needs no specific parameters.\n",
    "\n",
    "•\tA class method can access or modify the class state while a static method can’t access or modify it.\n",
    "\n",
    "•\tIn general, static methods know nothing about the class state. They are utility-type methods that take some parameters and work upon those parameters. On the other hand class methods must have class as a parameter.\n",
    "\n",
    "•\tWe use @classmethod decorator in python to create a class method and we use @staticmethod decorator to create a static method in python.\n"
   ]
  },
  {
   "cell_type": "markdown",
   "metadata": {},
   "source": []
  }
 ],
 "metadata": {
  "kernelspec": {
   "display_name": "venv",
   "language": "python",
   "name": "python3"
  },
  "language_info": {
   "codemirror_mode": {
    "name": "ipython",
    "version": 3
   },
   "file_extension": ".py",
   "mimetype": "text/x-python",
   "name": "python",
   "nbconvert_exporter": "python",
   "pygments_lexer": "ipython3",
   "version": "3.10.2"
  }
 },
 "nbformat": 4,
 "nbformat_minor": 2
}
