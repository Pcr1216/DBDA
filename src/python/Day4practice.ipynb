{
 "cells": [
  {
   "cell_type": "markdown",
   "metadata": {},
   "source": [
    "# **Day4**"
   ]
  },
  {
   "cell_type": "markdown",
   "metadata": {},
   "source": [
    "## **Format_function**"
   ]
  },
  {
   "cell_type": "markdown",
   "metadata": {},
   "source": [
    "Python string format() function has been introduced for handling complex string formatting more efficiently. Sometimes we want to make generalized print statements in that case instead of writing print statement every time we use the concept of formatting."
   ]
  },
  {
   "cell_type": "markdown",
   "metadata": {},
   "source": [
    "#### **E1**"
   ]
  },
  {
   "cell_type": "code",
   "execution_count": 1,
   "metadata": {},
   "outputs": [
    {
     "name": "stdout",
     "output_type": "stream",
     "text": [
      "Hello , I am 20 years old\n",
      "My name is peter\n"
     ]
    }
   ],
   "source": [
    "age=int(input(\"what is your age?\"))\n",
    "print(\"Hello , I am {} years old\".format(age))\n",
    "\n",
    "message=\"My name is {}\"\n",
    "name=input(\"Enter your name\")\n",
    "print(message.format(name))"
   ]
  },
  {
   "cell_type": "markdown",
   "metadata": {},
   "source": [
    "#### **E2**"
   ]
  },
  {
   "cell_type": "code",
   "execution_count": 2,
   "metadata": {},
   "outputs": [
    {
     "name": "stdout",
     "output_type": "stream",
     "text": [
      "peter's age is 45\n"
     ]
    }
   ],
   "source": [
    "name=input(\"enter your name\")\n",
    "age=int(input(\"enter your age\"))\n",
    "message=\"{}'s age is {}\"\n",
    "print(message.format(name,age))"
   ]
  },
  {
   "cell_type": "markdown",
   "metadata": {},
   "source": [
    "#### **E3**"
   ]
  },
  {
   "cell_type": "code",
   "execution_count": 3,
   "metadata": {},
   "outputs": [
    {
     "name": "stdout",
     "output_type": "stream",
     "text": [
      "big data is Pet's big preference\n"
     ]
    }
   ],
   "source": [
    "name=input(\"enter your name\")\n",
    "technology=input(\"enter technology name\")\n",
    "preference=input(\"enter 'first' or 'second' as a preference\")\n",
    "message=\"{} is {}'s {} preference\"\n",
    "print(message.format(technology,name,preference))"
   ]
  },
  {
   "cell_type": "markdown",
   "metadata": {},
   "source": [
    "#### **E4**"
   ]
  },
  {
   "cell_type": "code",
   "execution_count": 4,
   "metadata": {},
   "outputs": [
    {
     "name": "stdout",
     "output_type": "stream",
     "text": [
      "Everyone loves Python!!\n",
      "Python is platform  independent programming  language\n",
      "Every Operating Systems should have PVM in order to execute Python\n"
     ]
    }
   ],
   "source": [
    "print(\"{} loves {}!!\".format(\"Everyone\",\n",
    "                              \"Python\"))\n",
    " \n",
    " \n",
    "print(\"Python is {1}  {0} {2}  {3}\"\n",
    "      .format(\"independent\", \"platform\", \"programming\",\n",
    "              \"language\"))\n",
    " \n",
    " \n",
    "print(\"Every {3} should have {0} in order to {1} {2}\"\n",
    "      .format(\"PVM\", \"execute\", \"Python\", \"Operating Systems\"))\n",
    " "
   ]
  },
  {
   "cell_type": "markdown",
   "metadata": {},
   "source": [
    "### **f_string()**"
   ]
  },
  {
   "cell_type": "markdown",
   "metadata": {},
   "source": [
    "f-strings are string literals that have an f at the beginning and curly braces containing expressions that will be replaced with their values."
   ]
  },
  {
   "cell_type": "code",
   "execution_count": 1,
   "metadata": {},
   "outputs": [
    {
     "name": "stdout",
     "output_type": "stream",
     "text": [
      "My Name is Sachin  and I am 50 years old\n",
      "Hello, My name is Sachin and I'm 50 years old.\n"
     ]
    }
   ],
   "source": [
    "name = 'Sachin'\n",
    "age = 50\n",
    "\n",
    "# using format function\n",
    "\n",
    "print(\"My Name is {}  and I am {} years old\".format(name,age))\n",
    "\n",
    "# using f_string\n",
    "\n",
    "print(f\"Hello, My name is {name} and I'm {age} years old.\")"
   ]
  },
  {
   "cell_type": "markdown",
   "metadata": {},
   "source": [
    "## **help() Function**"
   ]
  },
  {
   "cell_type": "markdown",
   "metadata": {},
   "source": [
    "help() function is used to display the documentation of modules,functions, classes, keywords etc."
   ]
  },
  {
   "cell_type": "code",
   "execution_count": 1,
   "metadata": {},
   "outputs": [
    {
     "name": "stdout",
     "output_type": "stream",
     "text": [
      "hello\n",
      "Help on built-in function print in module builtins:\n",
      "\n",
      "print(...)\n",
      "    print(value, ..., sep=' ', end='\\n', file=sys.stdout, flush=False)\n",
      "    \n",
      "    Prints the values to a stream, or to sys.stdout by default.\n",
      "    Optional keyword arguments:\n",
      "    file:  a file-like object (stream); defaults to the current sys.stdout.\n",
      "    sep:   string inserted between values, default a space.\n",
      "    end:   string appended after the last value, default a newline.\n",
      "    flush: whether to forcibly flush the stream.\n",
      "\n",
      "Help on class int in module builtins:\n",
      "\n",
      "class int(object)\n",
      " |  int([x]) -> integer\n",
      " |  int(x, base=10) -> integer\n",
      " |  \n",
      " |  Convert a number or string to an integer, or return 0 if no arguments\n",
      " |  are given.  If x is a number, return x.__int__().  For floating point\n",
      " |  numbers, this truncates towards zero.\n",
      " |  \n",
      " |  If x is not a number or if base is given, then x must be a string,\n",
      " |  bytes, or bytearray instance representing an integer literal in the\n",
      " |  given base.  The literal can be preceded by '+' or '-' and be surrounded\n",
      " |  by whitespace.  The base defaults to 10.  Valid bases are 0 and 2-36.\n",
      " |  Base 0 means to interpret the base from the string as an integer literal.\n",
      " |  >>> int('0b100', base=0)\n",
      " |  4\n",
      " |  \n",
      " |  Built-in subclasses:\n",
      " |      bool\n",
      " |  \n",
      " |  Methods defined here:\n",
      " |  \n",
      " |  __abs__(self, /)\n",
      " |      abs(self)\n",
      " |  \n",
      " |  __add__(self, value, /)\n",
      " |      Return self+value.\n",
      " |  \n",
      " |  __and__(self, value, /)\n",
      " |      Return self&value.\n",
      " |  \n",
      " |  __bool__(self, /)\n",
      " |      self != 0\n",
      " |  \n",
      " |  __ceil__(...)\n",
      " |      Ceiling of an Integral returns itself.\n",
      " |  \n",
      " |  __divmod__(self, value, /)\n",
      " |      Return divmod(self, value).\n",
      " |  \n",
      " |  __eq__(self, value, /)\n",
      " |      Return self==value.\n",
      " |  \n",
      " |  __float__(self, /)\n",
      " |      float(self)\n",
      " |  \n",
      " |  __floor__(...)\n",
      " |      Flooring an Integral returns itself.\n",
      " |  \n",
      " |  __floordiv__(self, value, /)\n",
      " |      Return self//value.\n",
      " |  \n",
      " |  __format__(self, format_spec, /)\n",
      " |      Default object formatter.\n",
      " |  \n",
      " |  __ge__(self, value, /)\n",
      " |      Return self>=value.\n",
      " |  \n",
      " |  __getattribute__(self, name, /)\n",
      " |      Return getattr(self, name).\n",
      " |  \n",
      " |  __getnewargs__(self, /)\n",
      " |  \n",
      " |  __gt__(self, value, /)\n",
      " |      Return self>value.\n",
      " |  \n",
      " |  __hash__(self, /)\n",
      " |      Return hash(self).\n",
      " |  \n",
      " |  __index__(self, /)\n",
      " |      Return self converted to an integer, if self is suitable for use as an index into a list.\n",
      " |  \n",
      " |  __int__(self, /)\n",
      " |      int(self)\n",
      " |  \n",
      " |  __invert__(self, /)\n",
      " |      ~self\n",
      " |  \n",
      " |  __le__(self, value, /)\n",
      " |      Return self<=value.\n",
      " |  \n",
      " |  __lshift__(self, value, /)\n",
      " |      Return self<<value.\n",
      " |  \n",
      " |  __lt__(self, value, /)\n",
      " |      Return self<value.\n",
      " |  \n",
      " |  __mod__(self, value, /)\n",
      " |      Return self%value.\n",
      " |  \n",
      " |  __mul__(self, value, /)\n",
      " |      Return self*value.\n",
      " |  \n",
      " |  __ne__(self, value, /)\n",
      " |      Return self!=value.\n",
      " |  \n",
      " |  __neg__(self, /)\n",
      " |      -self\n",
      " |  \n",
      " |  __or__(self, value, /)\n",
      " |      Return self|value.\n",
      " |  \n",
      " |  __pos__(self, /)\n",
      " |      +self\n",
      " |  \n",
      " |  __pow__(self, value, mod=None, /)\n",
      " |      Return pow(self, value, mod).\n",
      " |  \n",
      " |  __radd__(self, value, /)\n",
      " |      Return value+self.\n",
      " |  \n",
      " |  __rand__(self, value, /)\n",
      " |      Return value&self.\n",
      " |  \n",
      " |  __rdivmod__(self, value, /)\n",
      " |      Return divmod(value, self).\n",
      " |  \n",
      " |  __repr__(self, /)\n",
      " |      Return repr(self).\n",
      " |  \n",
      " |  __rfloordiv__(self, value, /)\n",
      " |      Return value//self.\n",
      " |  \n",
      " |  __rlshift__(self, value, /)\n",
      " |      Return value<<self.\n",
      " |  \n",
      " |  __rmod__(self, value, /)\n",
      " |      Return value%self.\n",
      " |  \n",
      " |  __rmul__(self, value, /)\n",
      " |      Return value*self.\n",
      " |  \n",
      " |  __ror__(self, value, /)\n",
      " |      Return value|self.\n",
      " |  \n",
      " |  __round__(...)\n",
      " |      Rounding an Integral returns itself.\n",
      " |      \n",
      " |      Rounding with an ndigits argument also returns an integer.\n",
      " |  \n",
      " |  __rpow__(self, value, mod=None, /)\n",
      " |      Return pow(value, self, mod).\n",
      " |  \n",
      " |  __rrshift__(self, value, /)\n",
      " |      Return value>>self.\n",
      " |  \n",
      " |  __rshift__(self, value, /)\n",
      " |      Return self>>value.\n",
      " |  \n",
      " |  __rsub__(self, value, /)\n",
      " |      Return value-self.\n",
      " |  \n",
      " |  __rtruediv__(self, value, /)\n",
      " |      Return value/self.\n",
      " |  \n",
      " |  __rxor__(self, value, /)\n",
      " |      Return value^self.\n",
      " |  \n",
      " |  __sizeof__(self, /)\n",
      " |      Returns size in memory, in bytes.\n",
      " |  \n",
      " |  __sub__(self, value, /)\n",
      " |      Return self-value.\n",
      " |  \n",
      " |  __truediv__(self, value, /)\n",
      " |      Return self/value.\n",
      " |  \n",
      " |  __trunc__(...)\n",
      " |      Truncating an Integral returns itself.\n",
      " |  \n",
      " |  __xor__(self, value, /)\n",
      " |      Return self^value.\n",
      " |  \n",
      " |  as_integer_ratio(self, /)\n",
      " |      Return integer ratio.\n",
      " |      \n",
      " |      Return a pair of integers, whose ratio is exactly equal to the original int\n",
      " |      and with a positive denominator.\n",
      " |      \n",
      " |      >>> (10).as_integer_ratio()\n",
      " |      (10, 1)\n",
      " |      >>> (-10).as_integer_ratio()\n",
      " |      (-10, 1)\n",
      " |      >>> (0).as_integer_ratio()\n",
      " |      (0, 1)\n",
      " |  \n",
      " |  bit_count(self, /)\n",
      " |      Number of ones in the binary representation of the absolute value of self.\n",
      " |      \n",
      " |      Also known as the population count.\n",
      " |      \n",
      " |      >>> bin(13)\n",
      " |      '0b1101'\n",
      " |      >>> (13).bit_count()\n",
      " |      3\n",
      " |  \n",
      " |  bit_length(self, /)\n",
      " |      Number of bits necessary to represent self in binary.\n",
      " |      \n",
      " |      >>> bin(37)\n",
      " |      '0b100101'\n",
      " |      >>> (37).bit_length()\n",
      " |      6\n",
      " |  \n",
      " |  conjugate(...)\n",
      " |      Returns self, the complex conjugate of any int.\n",
      " |  \n",
      " |  to_bytes(self, /, length, byteorder, *, signed=False)\n",
      " |      Return an array of bytes representing an integer.\n",
      " |      \n",
      " |      length\n",
      " |        Length of bytes object to use.  An OverflowError is raised if the\n",
      " |        integer is not representable with the given number of bytes.\n",
      " |      byteorder\n",
      " |        The byte order used to represent the integer.  If byteorder is 'big',\n",
      " |        the most significant byte is at the beginning of the byte array.  If\n",
      " |        byteorder is 'little', the most significant byte is at the end of the\n",
      " |        byte array.  To request the native byte order of the host system, use\n",
      " |        `sys.byteorder' as the byte order value.\n",
      " |      signed\n",
      " |        Determines whether two's complement is used to represent the integer.\n",
      " |        If signed is False and a negative integer is given, an OverflowError\n",
      " |        is raised.\n",
      " |  \n",
      " |  ----------------------------------------------------------------------\n",
      " |  Class methods defined here:\n",
      " |  \n",
      " |  from_bytes(bytes, byteorder, *, signed=False) from builtins.type\n",
      " |      Return the integer represented by the given array of bytes.\n",
      " |      \n",
      " |      bytes\n",
      " |        Holds the array of bytes to convert.  The argument must either\n",
      " |        support the buffer protocol or be an iterable object producing bytes.\n",
      " |        Bytes and bytearray are examples of built-in objects that support the\n",
      " |        buffer protocol.\n",
      " |      byteorder\n",
      " |        The byte order used to represent the integer.  If byteorder is 'big',\n",
      " |        the most significant byte is at the beginning of the byte array.  If\n",
      " |        byteorder is 'little', the most significant byte is at the end of the\n",
      " |        byte array.  To request the native byte order of the host system, use\n",
      " |        `sys.byteorder' as the byte order value.\n",
      " |      signed\n",
      " |        Indicates whether two's complement is used to represent the integer.\n",
      " |  \n",
      " |  ----------------------------------------------------------------------\n",
      " |  Static methods defined here:\n",
      " |  \n",
      " |  __new__(*args, **kwargs) from builtins.type\n",
      " |      Create and return a new object.  See help(type) for accurate signature.\n",
      " |  \n",
      " |  ----------------------------------------------------------------------\n",
      " |  Data descriptors defined here:\n",
      " |  \n",
      " |  denominator\n",
      " |      the denominator of a rational number in lowest terms\n",
      " |  \n",
      " |  imag\n",
      " |      the imaginary part of a complex number\n",
      " |  \n",
      " |  numerator\n",
      " |      the numerator of a rational number in lowest terms\n",
      " |  \n",
      " |  real\n",
      " |      the real part of a complex number\n",
      "\n",
      "Help on class object in module builtins:\n",
      "\n",
      "class object\n",
      " |  The base class of the class hierarchy.\n",
      " |  \n",
      " |  When called, it accepts no arguments and returns a new featureless\n",
      " |  instance that has no instance attributes and cannot be given any.\n",
      " |  \n",
      " |  Built-in subclasses:\n",
      " |      anext_awaitable\n",
      " |      async_generator\n",
      " |      async_generator_asend\n",
      " |      async_generator_athrow\n",
      " |      ... and 91 other subclasses\n",
      " |  \n",
      " |  Methods defined here:\n",
      " |  \n",
      " |  __delattr__(self, name, /)\n",
      " |      Implement delattr(self, name).\n",
      " |  \n",
      " |  __dir__(self, /)\n",
      " |      Default dir() implementation.\n",
      " |  \n",
      " |  __eq__(self, value, /)\n",
      " |      Return self==value.\n",
      " |  \n",
      " |  __format__(self, format_spec, /)\n",
      " |      Default object formatter.\n",
      " |  \n",
      " |  __ge__(self, value, /)\n",
      " |      Return self>=value.\n",
      " |  \n",
      " |  __getattribute__(self, name, /)\n",
      " |      Return getattr(self, name).\n",
      " |  \n",
      " |  __gt__(self, value, /)\n",
      " |      Return self>value.\n",
      " |  \n",
      " |  __hash__(self, /)\n",
      " |      Return hash(self).\n",
      " |  \n",
      " |  __init__(self, /, *args, **kwargs)\n",
      " |      Initialize self.  See help(type(self)) for accurate signature.\n",
      " |  \n",
      " |  __le__(self, value, /)\n",
      " |      Return self<=value.\n",
      " |  \n",
      " |  __lt__(self, value, /)\n",
      " |      Return self<value.\n",
      " |  \n",
      " |  __ne__(self, value, /)\n",
      " |      Return self!=value.\n",
      " |  \n",
      " |  __reduce__(self, /)\n",
      " |      Helper for pickle.\n",
      " |  \n",
      " |  __reduce_ex__(self, protocol, /)\n",
      " |      Helper for pickle.\n",
      " |  \n",
      " |  __repr__(self, /)\n",
      " |      Return repr(self).\n",
      " |  \n",
      " |  __setattr__(self, name, value, /)\n",
      " |      Implement setattr(self, name, value).\n",
      " |  \n",
      " |  __sizeof__(self, /)\n",
      " |      Size of object in memory, in bytes.\n",
      " |  \n",
      " |  __str__(self, /)\n",
      " |      Return str(self).\n",
      " |  \n",
      " |  ----------------------------------------------------------------------\n",
      " |  Class methods defined here:\n",
      " |  \n",
      " |  __init_subclass__(...) from builtins.type\n",
      " |      This method is called when a class is subclassed.\n",
      " |      \n",
      " |      The default implementation does nothing. It may be\n",
      " |      overridden to extend subclasses.\n",
      " |  \n",
      " |  __subclasshook__(...) from builtins.type\n",
      " |      Abstract classes can override this to customize issubclass().\n",
      " |      \n",
      " |      This is invoked early on by abc.ABCMeta.__subclasscheck__().\n",
      " |      It should return True, False or NotImplemented.  If it returns\n",
      " |      NotImplemented, the normal algorithm is used.  Otherwise, it\n",
      " |      overrides the normal algorithm (and the outcome is cached).\n",
      " |  \n",
      " |  ----------------------------------------------------------------------\n",
      " |  Static methods defined here:\n",
      " |  \n",
      " |  __new__(*args, **kwargs) from builtins.type\n",
      " |      Create and return a new object.  See help(type) for accurate signature.\n",
      " |  \n",
      " |  ----------------------------------------------------------------------\n",
      " |  Data and other attributes defined here:\n",
      " |  \n",
      " |  __class__ = <class 'type'>\n",
      " |      type(object) -> the object's type\n",
      " |      type(name, bases, dict, **kwds) -> a new type\n",
      "\n"
     ]
    }
   ],
   "source": [
    "print(\"hello\")\n",
    "help(print)\n",
    "help(int)\n",
    "help(object)"
   ]
  },
  {
   "cell_type": "markdown",
   "metadata": {},
   "source": [
    "## **Docstring**"
   ]
  },
  {
   "cell_type": "markdown",
   "metadata": {},
   "source": [
    "Python Comments vs Docstrings\n",
    "Python Comments\n",
    "\n",
    "Comments are descriptions that help programmers better understand the intent and functionality of the program. They are completely ignored by the Python interpreter.\n",
    "\n",
    "\n",
    "Python docstrings\n",
    "\n",
    "Python docstrings are strings used right after the definition of a function, method, class, or module. They are used to document our code.\n",
    "\n",
    "Python `__doc__` attribute\n",
    "\n",
    "Whenever string literals are present just after the definition of a function, module, class or method, they are associated with the object as their `__doc__` attribute. We can later use this attribute to retrieve this docstring."
   ]
  },
  {
   "cell_type": "markdown",
   "metadata": {},
   "source": [
    "### **First**"
   ]
  },
  {
   "cell_type": "code",
   "execution_count": 2,
   "metadata": {},
   "outputs": [
    {
     "name": "stdout",
     "output_type": "stream",
     "text": [
      "100\n",
      " this function accepts a number and return its square \n",
      "print(value, ..., sep=' ', end='\\n', file=sys.stdout, flush=False)\n",
      "\n",
      "Prints the values to a stream, or to sys.stdout by default.\n",
      "Optional keyword arguments:\n",
      "file:  a file-like object (stream); defaults to the current sys.stdout.\n",
      "sep:   string inserted between values, default a space.\n",
      "end:   string appended after the last value, default a newline.\n",
      "flush: whether to forcibly flush the stream.\n"
     ]
    }
   ],
   "source": [
    "# creating and accessing \"docstring\" for user defined functions\n",
    "\n",
    "def square(num):\n",
    "    ''' this function accepts a number and return its square '''\n",
    "    return num*num\n",
    "\n",
    "print(square(10))\n",
    "print(square.__doc__)\n",
    "print(print.__doc__)"
   ]
  },
  {
   "cell_type": "markdown",
   "metadata": {},
   "source": [
    "### **Second**"
   ]
  },
  {
   "cell_type": "code",
   "execution_count": 3,
   "metadata": {},
   "outputs": [
    {
     "name": "stdout",
     "output_type": "stream",
     "text": [
      "print(value, ..., sep=' ', end='\\n', file=sys.stdout, flush=False)\n",
      "\n",
      "Prints the values to a stream, or to sys.stdout by default.\n",
      "Optional keyword arguments:\n",
      "file:  a file-like object (stream); defaults to the current sys.stdout.\n",
      "sep:   string inserted between values, default a space.\n",
      "end:   string appended after the last value, default a newline.\n",
      "flush: whether to forcibly flush the stream.\n",
      "int([x]) -> integer\n",
      "int(x, base=10) -> integer\n",
      "\n",
      "Convert a number or string to an integer, or return 0 if no arguments\n",
      "are given.  If x is a number, return x.__int__().  For floating point\n",
      "numbers, this truncates towards zero.\n",
      "\n",
      "If x is not a number or if base is given, then x must be a string,\n",
      "bytes, or bytearray instance representing an integer literal in the\n",
      "given base.  The literal can be preceded by '+' or '-' and be surrounded\n",
      "by whitespace.  The base defaults to 10.  Valid bases are 0 and 2-36.\n",
      "Base 0 means to interpret the base from the string as an integer literal.\n",
      ">>> int('0b100', base=0)\n",
      "4\n"
     ]
    }
   ],
   "source": [
    "# invoking \"docstring\"  of inbuilt functions\n",
    "\n",
    "print(print.__doc__)\n",
    "print(int.__doc__)"
   ]
  },
  {
   "cell_type": "markdown",
   "metadata": {},
   "source": [
    "### **Third**"
   ]
  },
  {
   "cell_type": "code",
   "execution_count": 4,
   "metadata": {},
   "outputs": [
    {
     "name": "stdout",
     "output_type": "stream",
     "text": [
      "Hello\n",
      " \n",
      "        this is myfun \n",
      "        it prints hello message\n",
      "        it is a special function\n",
      "    \n"
     ]
    }
   ],
   "source": [
    "# creating and accessing multiline docstring\n",
    "\n",
    "\n",
    "def myfun():\n",
    "    \"\"\" \n",
    "        this is myfun \n",
    "        it prints hello message\n",
    "        it is a special function\n",
    "    \"\"\" \n",
    "    print(\"Hello\")\n",
    "\n",
    "myfun()\n",
    "print(myfun.__doc__)"
   ]
  },
  {
   "cell_type": "markdown",
   "metadata": {},
   "source": [
    "## **Module,Package,Library**"
   ]
  },
  {
   "cell_type": "markdown",
   "metadata": {},
   "source": [
    "### **Module ,Script,Package.Library**"
   ]
  },
  {
   "cell_type": "markdown",
   "metadata": {},
   "source": [
    "script:  A script is a python file that is intended to be run directly. If you run it , it should do something. This means that scripts contain code which invokes the functions, create objects of classes and invoke their member functions.\n",
    "\n",
    "module: A module is a python file that is intended to be imported into other scripts. It consists of classes,functions and variables to be used in other files.\n",
    "\n",
    "package: It's a collection of related modules that work together to provide certain functionality. Actually package is a folder in which there are many python files exist. One of the files is \"init.py\" which proves that the folder is a package. \n",
    "\n",
    "library: It's a collection of Python packages. \n"
   ]
  },
  {
   "cell_type": "markdown",
   "metadata": {},
   "source": [
    "### **Module_demos**"
   ]
  },
  {
   "cell_type": "markdown",
   "metadata": {},
   "source": [
    "#### **About Python import system**"
   ]
  },
  {
   "cell_type": "markdown",
   "metadata": {},
   "source": [
    "Python's import system has two conceptual objects called \"finder\" and \"loader\".\n",
    "\n",
    "finder's job is to locate a module and loader's job is to load the module.\n"
   ]
  },
  {
   "cell_type": "markdown",
   "metadata": {},
   "source": [
    "#### **How to check Python implementation**"
   ]
  },
  {
   "cell_type": "code",
   "execution_count": 5,
   "metadata": {},
   "outputs": [
    {
     "name": "stdout",
     "output_type": "stream",
     "text": [
      "CPython\n"
     ]
    }
   ],
   "source": [
    "import platform\n",
    "print(platform.python_implementation())"
   ]
  },
  {
   "cell_type": "markdown",
   "metadata": {},
   "source": [
    "#### **Two ways to use module**"
   ]
  },
  {
   "cell_type": "markdown",
   "metadata": {},
   "source": [
    "a) import `<modulename>`\n",
    "\n",
    "\tmodulename.function1()\n",
    "\t\t\tfunction2()\n",
    "\t        function n\n",
    "\n",
    "b) from `<modulename>` import `<functionname>`\n",
    "\n",
    "or\n",
    "\n",
    "from `<modulename>` import *"
   ]
  },
  {
   "cell_type": "markdown",
   "metadata": {},
   "source": [
    "#### **What is Module**"
   ]
  },
  {
   "cell_type": "markdown",
   "metadata": {},
   "source": [
    "In Python, Modules are simply files with the “. py” extension containing Python code that can be imported inside another Python Program. In simple terms, we can consider a module to be the same as a code library or a file that contains a set of functions that you want to include in your application."
   ]
  },
  {
   "cell_type": "markdown",
   "metadata": {},
   "source": [
    "#### **Why Modules**"
   ]
  },
  {
   "cell_type": "markdown",
   "metadata": {},
   "source": [
    "In any project, we have to write big programs. If we write everything in one python file (say about 1000 lines code) , we get drawbacks such as difficult to maintain, errorprone,  no reusability etc. So we break down big program into small, managable and organized files having some logic. These files are nothing but modules.\n",
    "\n",
    "e.g. in Calculator application we can use different modules such as Add.py\n",
    "Subtract.py\n",
    "Multiply.py\n",
    "Divide.py  etc.\n"
   ]
  },
  {
   "cell_type": "markdown",
   "metadata": {},
   "source": [
    "#### **Demo1**"
   ]
  },
  {
   "cell_type": "markdown",
   "metadata": {},
   "source": [
    "##### **Main**"
   ]
  },
  {
   "cell_type": "markdown",
   "metadata": {},
   "source": [
    "It won't work here cuz it is **not a file**. You need to have a file for this."
   ]
  },
  {
   "cell_type": "code",
   "execution_count": 10,
   "metadata": {},
   "outputs": [
    {
     "ename": "ModuleNotFoundError",
     "evalue": "No module named 'First'",
     "output_type": "error",
     "traceback": [
      "\u001b[1;31m---------------------------------------------------------------------------\u001b[0m",
      "\u001b[1;31mModuleNotFoundError\u001b[0m                       Traceback (most recent call last)",
      "Cell \u001b[1;32mIn[10], line 2\u001b[0m\n\u001b[0;32m      1\u001b[0m \u001b[38;5;66;03m# main is script first, second are modules\u001b[39;00m\n\u001b[1;32m----> 2\u001b[0m \u001b[38;5;28;01mimport\u001b[39;00m \u001b[38;5;21;01mFirst\u001b[39;00m\u001b[38;5;241m,\u001b[39m\u001b[38;5;21;01mSecond\u001b[39;00m\n\u001b[0;32m      5\u001b[0m First\u001b[38;5;241m.\u001b[39mdisp1(\u001b[38;5;241m100\u001b[39m)\n\u001b[0;32m      6\u001b[0m First\u001b[38;5;241m.\u001b[39mdisp2(\u001b[38;5;241m300\u001b[39m)\n",
      "\u001b[1;31mModuleNotFoundError\u001b[0m: No module named 'First'"
     ]
    }
   ],
   "source": [
    "# main is script first, second are modules\n",
    "import First,Second\n",
    "\n",
    "\n",
    "First.disp1(100)\n",
    "First.disp2(300)\n",
    "print(Second.fun2())"
   ]
  },
  {
   "cell_type": "markdown",
   "metadata": {},
   "source": [
    "##### **First**"
   ]
  },
  {
   "cell_type": "code",
   "execution_count": 9,
   "metadata": {},
   "outputs": [],
   "source": [
    "# this is written by developer or module for the further use\n",
    "def disp1(val1):\n",
    "\tprint(val1)\n",
    "def disp2(val2):\n",
    "\tprint(val2)"
   ]
  },
  {
   "cell_type": "markdown",
   "metadata": {},
   "source": [
    "##### **Second**"
   ]
  },
  {
   "cell_type": "code",
   "execution_count": 11,
   "metadata": {},
   "outputs": [],
   "source": [
    "def fun2():\n",
    "    return \"welcome to fun2\""
   ]
  },
  {
   "cell_type": "markdown",
   "metadata": {},
   "source": [
    "#### **Demo2**"
   ]
  },
  {
   "cell_type": "markdown",
   "metadata": {},
   "source": [
    "##### **Main**"
   ]
  },
  {
   "cell_type": "markdown",
   "metadata": {},
   "source": [
    "Advantage of using (from First import disp1,disp2 __ from second import fun2)  is we can directly call the funtion which are there in the different module"
   ]
  },
  {
   "cell_type": "code",
   "execution_count": 12,
   "metadata": {},
   "outputs": [
    {
     "ename": "ModuleNotFoundError",
     "evalue": "No module named 'First'",
     "output_type": "error",
     "traceback": [
      "\u001b[1;31m---------------------------------------------------------------------------\u001b[0m",
      "\u001b[1;31mModuleNotFoundError\u001b[0m                       Traceback (most recent call last)",
      "Cell \u001b[1;32mIn[12], line 2\u001b[0m\n\u001b[0;32m      1\u001b[0m \u001b[38;5;66;03m# advantage of using (from First import disp1,disp2 __ from second import fun2)  is we can directly call the funtion which are there in the different module\u001b[39;00m\n\u001b[1;32m----> 2\u001b[0m \u001b[38;5;28;01mfrom\u001b[39;00m \u001b[38;5;21;01mFirst\u001b[39;00m \u001b[38;5;28;01mimport\u001b[39;00m disp1,disp2\n\u001b[0;32m      3\u001b[0m \u001b[38;5;28;01mfrom\u001b[39;00m \u001b[38;5;21;01mSecond\u001b[39;00m \u001b[38;5;28;01mimport\u001b[39;00m fun2\n\u001b[0;32m      6\u001b[0m disp1(\u001b[38;5;241m100\u001b[39m)\n",
      "\u001b[1;31mModuleNotFoundError\u001b[0m: No module named 'First'"
     ]
    }
   ],
   "source": [
    "from First import disp1,disp2\n",
    "from Second import fun2\n",
    "\n",
    "\n",
    "disp1(100)\n",
    "disp2(300)\n",
    "print(fun2())\n"
   ]
  },
  {
   "cell_type": "markdown",
   "metadata": {},
   "source": [
    "##### **First**"
   ]
  },
  {
   "cell_type": "code",
   "execution_count": 13,
   "metadata": {},
   "outputs": [],
   "source": [
    "def disp1(val1):\n",
    "\tprint(val1)\n",
    "def disp2(val2):\n",
    "\tprint(val2)"
   ]
  },
  {
   "cell_type": "markdown",
   "metadata": {},
   "source": [
    "##### **Second**"
   ]
  },
  {
   "cell_type": "code",
   "execution_count": 14,
   "metadata": {},
   "outputs": [],
   "source": [
    "def fun2():\n",
    "    return \"welcome to fun2\""
   ]
  },
  {
   "cell_type": "markdown",
   "metadata": {},
   "source": [
    "#### **Demo3**"
   ]
  },
  {
   "cell_type": "markdown",
   "metadata": {},
   "source": [
    "##### **Main**"
   ]
  },
  {
   "cell_type": "markdown",
   "metadata": {},
   "source": [
    "`*` -> all i.e, import all from first, second if module contain any print statement it will also get executed in main program"
   ]
  },
  {
   "cell_type": "code",
   "execution_count": null,
   "metadata": {},
   "outputs": [],
   "source": [
    "from First import *\n",
    "from Second import *\n",
    "\n",
    "\n",
    "disp1(100)\n",
    "disp2(300)\n",
    "print(fun2())"
   ]
  },
  {
   "cell_type": "markdown",
   "metadata": {},
   "source": [
    "##### **First**"
   ]
  },
  {
   "cell_type": "code",
   "execution_count": 15,
   "metadata": {},
   "outputs": [
    {
     "name": "stdout",
     "output_type": "stream",
     "text": [
      "we are inside First.py\n"
     ]
    }
   ],
   "source": [
    "def disp1(val1):\n",
    "\tprint(val1)\n",
    "def disp2(val2):\n",
    "\tprint(val2)\n",
    "\n",
    "print(\"we are inside First.py\")"
   ]
  },
  {
   "cell_type": "markdown",
   "metadata": {},
   "source": [
    "##### **Second**"
   ]
  },
  {
   "cell_type": "code",
   "execution_count": 16,
   "metadata": {},
   "outputs": [
    {
     "name": "stdout",
     "output_type": "stream",
     "text": [
      "we are inside Second.py\n"
     ]
    }
   ],
   "source": [
    "def fun2():\n",
    "    return \"welcome to fun2\"\n",
    "\n",
    "print(\"we are inside Second.py\")"
   ]
  },
  {
   "cell_type": "markdown",
   "metadata": {},
   "source": [
    "#### **Demo_4_Alias_name**"
   ]
  },
  {
   "cell_type": "markdown",
   "metadata": {},
   "source": [
    "##### **Main**"
   ]
  },
  {
   "cell_type": "markdown",
   "metadata": {},
   "source": [
    "Alias is the short name given to a module so that we can easily call them it is written by as"
   ]
  },
  {
   "cell_type": "code",
   "execution_count": 17,
   "metadata": {},
   "outputs": [
    {
     "ename": "ModuleNotFoundError",
     "evalue": "No module named 'First'",
     "output_type": "error",
     "traceback": [
      "\u001b[1;31m---------------------------------------------------------------------------\u001b[0m",
      "\u001b[1;31mModuleNotFoundError\u001b[0m                       Traceback (most recent call last)",
      "Cell \u001b[1;32mIn[17], line 2\u001b[0m\n\u001b[0;32m      1\u001b[0m \u001b[38;5;66;03m# Alias is the short name given to a module so that we can easily call them it is written by as\u001b[39;00m\n\u001b[1;32m----> 2\u001b[0m \u001b[38;5;28;01mimport\u001b[39;00m \u001b[38;5;21;01mFirst\u001b[39;00m \u001b[38;5;28;01mas\u001b[39;00m \u001b[38;5;21;01mF\u001b[39;00m\n\u001b[0;32m      5\u001b[0m \u001b[38;5;28mprint\u001b[39m(F\u001b[38;5;241m.\u001b[39mfun1())\n\u001b[0;32m      6\u001b[0m \u001b[38;5;28mprint\u001b[39m(F\u001b[38;5;241m.\u001b[39mfun2())\n",
      "\u001b[1;31mModuleNotFoundError\u001b[0m: No module named 'First'"
     ]
    }
   ],
   "source": [
    "import First as F\n",
    "\n",
    "\n",
    "print(F.fun1())\n",
    "print(F.fun2())"
   ]
  },
  {
   "cell_type": "markdown",
   "metadata": {},
   "source": [
    "##### **First**"
   ]
  },
  {
   "cell_type": "code",
   "execution_count": 18,
   "metadata": {},
   "outputs": [],
   "source": [
    "def fun1():\n",
    "    return \"welcome to fun1\"\n",
    "\n",
    "def fun2():\n",
    "    return \"welcome to fun2\""
   ]
  },
  {
   "cell_type": "markdown",
   "metadata": {},
   "source": [
    "#### **Demo_7_platform_demo**"
   ]
  },
  {
   "cell_type": "markdown",
   "metadata": {},
   "source": [
    "platform is an in built module in python"
   ]
  },
  {
   "cell_type": "code",
   "execution_count": 20,
   "metadata": {},
   "outputs": [
    {
     "name": "stdout",
     "output_type": "stream",
     "text": [
      "Windows-10-10.0.22631-SP0\n"
     ]
    }
   ],
   "source": [
    "#import platform\n",
    "\n",
    "#print(platform.platform())\n",
    "\n",
    "from platform import platform\n",
    "print(platform())\n"
   ]
  },
  {
   "cell_type": "markdown",
   "metadata": {},
   "source": [
    "#### **Demo_8_time_module**"
   ]
  },
  {
   "cell_type": "code",
   "execution_count": 3,
   "metadata": {},
   "outputs": [
    {
     "name": "stdout",
     "output_type": "stream",
     "text": [
      "Name is madhu and Age is 25\n",
      "This program took\t 5.004178047180176 \tseconds\n"
     ]
    }
   ],
   "source": [
    "import time\n",
    "start=time.time()\n",
    "name=input(\"enter your name: \")\n",
    "age=int(input(\"enter your age: \"))\n",
    "message=\"Name is {} and Age is {}\"\n",
    "print(message.format(name,age))\n",
    "print(\"This program took\\t\",time.time()-start,\"\\tseconds\")"
   ]
  },
  {
   "cell_type": "markdown",
   "metadata": {},
   "source": [
    "### **Package_demos**"
   ]
  },
  {
   "cell_type": "markdown",
   "metadata": {},
   "source": [
    "go to \"D:\\Python_temp\"\n",
    "\n",
    "create a folder \"MyPackage\"\n",
    "\n",
    "go to \"MyPackage\" folder\n",
    "\n",
    "right click\n",
    "\topen folder as pycharm community folder\n",
    "\n",
    "\n",
    "create \"One.py\"\n",
    "\n",
    "def disp1():\n",
    "    print(\"this is disp1 of One_py\")\n",
    "\n",
    "\n",
    "create \"Two.py\"\n",
    "\n",
    "def disp2():\n",
    "    print(\"this is disp2 of Two_py\")\n",
    "\n",
    "\n",
    "close the pycharm window.\n",
    "\n",
    "now go to \"This PC\"\n",
    "\tright click\n",
    "\t\tproperties\n",
    "\t\t\tAdvanced system settings\n",
    "\t\t\t\tenvironment variables\n",
    "\n",
    "\tset pythonpath\n",
    "\t\t\"D:\\Python_temp\"\n",
    "\n",
    "now go to your normal working directory e.g.  \"e:\\\\work\"\n",
    "\tright click\n",
    "\t\topen folder as pycharm community folder\n",
    "\n",
    "[ note:- it's very imp. to restart the pycharm window once you set \"pythonpath\" ]\n",
    "\n",
    "create \"First.py\" where you would like to access \"MyPackage\" and invoke \"disp1()\" and \"disp2()\" of \"One.py\" and \"Two.py\" respectively.\n",
    "\n",
    "\tFirst.py\n",
    "\n",
    "from MyPackage import One,Two      # to access \"One.py\" and \"Two.py\" modules\n",
    "\n",
    "One.disp1()\n",
    "Two.disp2()\n",
    "\n",
    "\tor\n",
    "\n",
    "from MyPackage.One import *\n",
    "from MyPackage.Two import *\n",
    "\n",
    "disp1()\n",
    "disp2()\n",
    "\n",
    "\n",
    "Run this \"First.py\" to ensure that everything is working fine.\n",
    "\n",
    "\n"
   ]
  },
  {
   "cell_type": "markdown",
   "metadata": {},
   "source": [
    "#### **App**"
   ]
  },
  {
   "cell_type": "code",
   "execution_count": 22,
   "metadata": {},
   "outputs": [
    {
     "ename": "ModuleNotFoundError",
     "evalue": "No module named 'special'",
     "output_type": "error",
     "traceback": [
      "\u001b[1;31m---------------------------------------------------------------------------\u001b[0m",
      "\u001b[1;31mModuleNotFoundError\u001b[0m                       Traceback (most recent call last)",
      "Cell \u001b[1;32mIn[22], line 1\u001b[0m\n\u001b[1;32m----> 1\u001b[0m \u001b[38;5;28;01mfrom\u001b[39;00m \u001b[38;5;21;01mspecial\u001b[39;00m \u001b[38;5;28;01mimport\u001b[39;00m Arithmetic, Display\n\u001b[0;32m      3\u001b[0m n1\u001b[38;5;241m=\u001b[39m\u001b[38;5;28mint\u001b[39m(\u001b[38;5;28minput\u001b[39m(\u001b[38;5;124m\"\u001b[39m\u001b[38;5;124mEnter n1: \u001b[39m\u001b[38;5;124m\"\u001b[39m))\n\u001b[0;32m      4\u001b[0m n2\u001b[38;5;241m=\u001b[39m\u001b[38;5;28mint\u001b[39m(\u001b[38;5;28minput\u001b[39m(\u001b[38;5;124m\"\u001b[39m\u001b[38;5;124mEnter n1: \u001b[39m\u001b[38;5;124m\"\u001b[39m))\n",
      "\u001b[1;31mModuleNotFoundError\u001b[0m: No module named 'special'"
     ]
    }
   ],
   "source": [
    "from special import Arithmetic, Display\n",
    "\n",
    "n1=int(input(\"Enter n1: \"))\n",
    "n2=int(input(\"Enter n1: \"))\n",
    "print(f\"Your output is {Arithmetic.add(n1,n2)}\")\n",
    "\n",
    "name=input(\"Enter your name: \")\n",
    "print(Display.wish(name))"
   ]
  },
  {
   "cell_type": "markdown",
   "metadata": {},
   "source": [
    "#### **First**"
   ]
  },
  {
   "cell_type": "code",
   "execution_count": 23,
   "metadata": {},
   "outputs": [
    {
     "ename": "ModuleNotFoundError",
     "evalue": "No module named 'MyPackage'",
     "output_type": "error",
     "traceback": [
      "\u001b[1;31m---------------------------------------------------------------------------\u001b[0m",
      "\u001b[1;31mModuleNotFoundError\u001b[0m                       Traceback (most recent call last)",
      "Cell \u001b[1;32mIn[23], line 1\u001b[0m\n\u001b[1;32m----> 1\u001b[0m \u001b[38;5;28;01mfrom\u001b[39;00m \u001b[38;5;21;01mMyPackage\u001b[39;00m \u001b[38;5;28;01mimport\u001b[39;00m One,Two      \u001b[38;5;66;03m# to access \"One.py\" and \"Two.py\" modules\u001b[39;00m\n\u001b[0;32m      3\u001b[0m One\u001b[38;5;241m.\u001b[39mdisp1()\n\u001b[0;32m      4\u001b[0m Two\u001b[38;5;241m.\u001b[39mdisp2()\n",
      "\u001b[1;31mModuleNotFoundError\u001b[0m: No module named 'MyPackage'"
     ]
    }
   ],
   "source": [
    "from MyPackage import One,Two      # to access \"One.py\" and \"Two.py\" modules\n",
    "\n",
    "One.disp1()\n",
    "Two.disp2()\n"
   ]
  },
  {
   "cell_type": "markdown",
   "metadata": {},
   "source": [
    "#### **MyPackage**"
   ]
  },
  {
   "cell_type": "markdown",
   "metadata": {},
   "source": [
    "##### **One**"
   ]
  },
  {
   "cell_type": "code",
   "execution_count": 24,
   "metadata": {},
   "outputs": [],
   "source": [
    "def disp1():\n",
    "    print(\"this is disp1 of One_py\")"
   ]
  },
  {
   "cell_type": "markdown",
   "metadata": {},
   "source": [
    "##### **Two**"
   ]
  },
  {
   "cell_type": "code",
   "execution_count": 25,
   "metadata": {},
   "outputs": [],
   "source": [
    "def disp2():\n",
    "    print(\"this is disp2 of Two_py\")"
   ]
  },
  {
   "cell_type": "markdown",
   "metadata": {},
   "source": [
    "### **Imp for pythonpath**"
   ]
  },
  {
   "cell_type": "markdown",
   "metadata": {},
   "source": [
    "in order to access \"module/s\" you have to give the path of \n",
    "\tthe folder in which module/s are present.\n",
    "\n",
    "in order to access \"package/s\" you have to give the path of \n",
    "\tthe folder in which that package/s are present."
   ]
  },
  {
   "cell_type": "markdown",
   "metadata": {},
   "source": [
    "### **Module ,Script,Package.Library**"
   ]
  },
  {
   "cell_type": "markdown",
   "metadata": {},
   "source": [
    "script:  A script is a python file that is intended to be run directly. If you run it , it should do something. This means that scripts contain code which invokes the functions, create objects of classes and invoke their member functions.\n",
    "\n",
    "module: A module is a python file that is intended to be imported into other scripts. It consists of classes,functions and variables to be used in other files.\n",
    "\n",
    "package: It's a collection of related modules that work together to provide certain functionality. Actually package is a folder in which there are many python files exist. One of the files is \"init.py\" which proves that the folder is a package. \n",
    "\n",
    "library: It's a collection of Python packages. \n",
    "\n"
   ]
  },
  {
   "cell_type": "markdown",
   "metadata": {},
   "source": [
    "### **What is PYTHONPATH**"
   ]
  },
  {
   "cell_type": "markdown",
   "metadata": {},
   "source": [
    "It is an environment variable which is used when a module is imported. Whenever a module is imported, PYTHONPATH is also looked up to check for the presence of the imported modules in various directories. The interpreter uses it to determine which module to load."
   ]
  },
  {
   "cell_type": "markdown",
   "metadata": {},
   "source": [
    "## **Namespaces_in_Python**"
   ]
  },
  {
   "cell_type": "markdown",
   "metadata": {},
   "source": [
    "#### **Namespaces in Python**"
   ]
  },
  {
   "cell_type": "markdown",
   "metadata": {},
   "source": [
    "Virtually everything that a Python program uses or acts on is an object. Even a short program will create many different objects. In a more complex program, they’ll probably number in the thousands. Python has to keep track of all these objects and their names->references , and it does so with namespaces.\n",
    "You can think of a namespace as a dictionary in which the keys are the reference names and the values are the objects themselves. Each key-value pair maps a name to its corresponding object.\n",
    "\n",
    "In a Python program, there are four types of namespaces:\n",
    "1.\tBuilt-In\n",
    "2.\tGlobal\n",
    "3.\tEnclosing\n",
    "4.\tLocal\n",
    "These have different lifetimes. As Python executes a program, it creates namespaces as necessary and deletes them when they’re no longer needed. Typically, many namespaces will exist at any given time."
   ]
  },
  {
   "cell_type": "markdown",
   "metadata": {},
   "source": [
    "#### **The Built-In Namespace**"
   ]
  },
  {
   "cell_type": "markdown",
   "metadata": {},
   "source": [
    "The built-in namespace contains the names of all of Python’s built-in objects. These are available at all times when Python is running. You can list the objects in the built-in namespace with the following command:\n",
    "\n",
    " dir(`__builtins__`)\n",
    "\n",
    "The Python interpreter creates the built-in namespace when it starts up. This namespace remains in existence until the interpreter terminates.\n"
   ]
  },
  {
   "cell_type": "markdown",
   "metadata": {},
   "source": [
    "#### **The Global Namespace**"
   ]
  },
  {
   "cell_type": "markdown",
   "metadata": {},
   "source": [
    "The global namespace contains any names defined at the level of the main program. Python creates the global namespace when the main program body starts, and it remains in existence until the interpreter terminates.\n",
    "Strictly speaking, this may not be the only global namespace that exists. The interpreter also creates a global namespace for any module that your program loads with the import statement.\n",
    "The globals() function\n",
    "The built-in function globals() returns a reference to the current global namespace dictionary. You can use it to access the objects in the global namespace.\n",
    "The locals() function\n",
    "Python also provides a corresponding built-in function called locals(). It’s similar to globals() but accesses objects in the local namespace instead.\n",
    "\n",
    "e.g. if your code refers to the name x, then Python searches for x in the following namespaces in the order shown:\n",
    "1.\tLocal: If you refer to x inside a function, then the interpreter first searches for it in the innermost scope that’s local to that function.\n",
    "2.\tEnclosing: If x isn’t in the local scope but appears in a function that resides inside another function, then the interpreter searches in the enclosing function’s scope.\n",
    "3.\tGlobal: If neither of the above searches is fruitful, then the interpreter looks in the global scope next.\n",
    "4.\tBuilt-in: If it can’t find x anywhere else, then the interpreter tries the built-in scope.\n",
    "This is called as the LEGB rule . The interpreter searches for a name from the inside out, looking in the local, enclosing, global, and finally the built-in scope:"
   ]
  },
  {
   "attachments": {
    "image.png": {
     "image/png": "[encoded data removed]"
    }
   },
   "cell_type": "markdown",
   "metadata": {},
   "source": [
    "![image.png](attachment:image.png)"
   ]
  },
  {
   "cell_type": "markdown",
   "metadata": {},
   "source": [
    "If the interpreter doesn’t find the name in any of these locations, then Python raises a NameError exception."
   ]
  },
  {
   "cell_type": "markdown",
   "metadata": {},
   "source": [
    "#### **E1**"
   ]
  },
  {
   "cell_type": "code",
   "execution_count": 1,
   "metadata": {},
   "outputs": [
    {
     "name": "stdout",
     "output_type": "stream",
     "text": [
      "\n",
      "\n",
      "\n",
      "\n",
      "{'__name__': '__main__', '__doc__': 'Automatically created module for IPython interactive environment', '__package__': None, '__loader__': None, '__spec__': None, '__builtin__': <module 'builtins' (built-in)>, '__builtins__': <module 'builtins' (built-in)>, '_ih': ['', '# print(dir(__builtins__))        #   built-in namespace\\n# print(\"\\\\n\\\\n\")\\n# print(\"Type of builtins namespace is\\\\t\",type(__builtins__))\\n\\nk=100\\ndef disp():\\n    def inner():\\n        print(\"inside inner\")\\n    var=40\\n    print(\"hello\")\\n    print(locals())\\n    print(\"\\\\n\")\\n    print(\"Type of local namespace is\\\\t\",type(locals()))\\n\\nnum1=200\\nprint(\"\\\\n\\\\n\\\\n\")\\nprint(globals())\\nprint(\"\\\\n\\\\n\")\\nprint(\"Type of global namespace is\\\\t\",type(globals()))\\nprint(\"\\\\n\\\\n\")\\ndisp()'], '_oh': {}, '_dh': [WindowsPath('d:/PG-DBDA CDAC/Python/lectures/Day_4')], 'In': ['', '# print(dir(__builtins__))        #   built-in namespace\\n# print(\"\\\\n\\\\n\")\\n# print(\"Type of builtins namespace is\\\\t\",type(__builtins__))\\n\\nk=100\\ndef disp():\\n    def inner():\\n        print(\"inside inner\")\\n    var=40\\n    print(\"hello\")\\n    print(locals())\\n    print(\"\\\\n\")\\n    print(\"Type of local namespace is\\\\t\",type(locals()))\\n\\nnum1=200\\nprint(\"\\\\n\\\\n\\\\n\")\\nprint(globals())\\nprint(\"\\\\n\\\\n\")\\nprint(\"Type of global namespace is\\\\t\",type(globals()))\\nprint(\"\\\\n\\\\n\")\\ndisp()'], 'Out': {}, 'get_ipython': <bound method InteractiveShell.get_ipython of <ipykernel.zmqshell.ZMQInteractiveShell object at 0x000002038C276500>>, 'exit': <IPython.core.autocall.ZMQExitAutocall object at 0x000002038C276FB0>, 'quit': <IPython.core.autocall.ZMQExitAutocall object at 0x000002038C276FB0>, 'open': <function open at 0x000002038AC5C820>, '_': '', '__': '', '___': '', '__vsc_ipynb_file__': 'd:\\\\PG-DBDA CDAC\\\\Python\\\\lectures\\\\Day_4\\\\Day4practice.ipynb', '_i': '', '_ii': '', '_iii': '', '_i1': '# print(dir(__builtins__))        #   built-in namespace\\n# print(\"\\\\n\\\\n\")\\n# print(\"Type of builtins namespace is\\\\t\",type(__builtins__))\\n\\nk=100\\ndef disp():\\n    def inner():\\n        print(\"inside inner\")\\n    var=40\\n    print(\"hello\")\\n    print(locals())\\n    print(\"\\\\n\")\\n    print(\"Type of local namespace is\\\\t\",type(locals()))\\n\\nnum1=200\\nprint(\"\\\\n\\\\n\\\\n\")\\nprint(globals())\\nprint(\"\\\\n\\\\n\")\\nprint(\"Type of global namespace is\\\\t\",type(globals()))\\nprint(\"\\\\n\\\\n\")\\ndisp()', 'k': 100, 'disp': <function disp at 0x000002038C297640>, 'num1': 200}\n",
      "\n",
      "\n",
      "\n",
      "Type of global namespace is\t <class 'dict'>\n",
      "\n",
      "\n",
      "\n",
      "hello\n",
      "{'inner': <function disp.<locals>.inner at 0x000002038C2EDCF0>, 'var': 40}\n",
      "\n",
      "\n",
      "Type of local namespace is\t <class 'dict'>\n"
     ]
    }
   ],
   "source": [
    "# print(dir(__builtins__))        #   built-in namespace\n",
    "# print(\"\\n\\n\")\n",
    "# print(\"Type of builtins namespace is\\t\",type(__builtins__))\n",
    "\n",
    "k=100\n",
    "def disp():\n",
    "    def inner():\n",
    "        print(\"inside inner\")\n",
    "    var=40\n",
    "    print(\"hello\")\n",
    "    print(locals())\n",
    "    print(\"\\n\")\n",
    "    print(\"Type of local namespace is\\t\",type(locals()))\n",
    "\n",
    "num1=200\n",
    "print(\"\\n\\n\\n\")\n",
    "print(globals())\n",
    "print(\"\\n\\n\")\n",
    "print(\"Type of global namespace is\\t\",type(globals()))\n",
    "print(\"\\n\\n\")\n",
    "disp()\n"
   ]
  },
  {
   "cell_type": "markdown",
   "metadata": {},
   "source": [
    "#### **E2**"
   ]
  },
  {
   "cell_type": "code",
   "execution_count": 2,
   "metadata": {},
   "outputs": [
    {
     "name": "stdout",
     "output_type": "stream",
     "text": [
      "['ArithmeticError', 'AssertionError', 'AttributeError', 'BaseException', 'BlockingIOError', 'BrokenPipeError', 'BufferError', 'BytesWarning', 'ChildProcessError', 'ConnectionAbortedError', 'ConnectionError', 'ConnectionRefusedError', 'ConnectionResetError', 'DeprecationWarning', 'EOFError', 'Ellipsis', 'EncodingWarning', 'EnvironmentError', 'Exception', 'False', 'FileExistsError', 'FileNotFoundError', 'FloatingPointError', 'FutureWarning', 'GeneratorExit', 'IOError', 'ImportError', 'ImportWarning', 'IndentationError', 'IndexError', 'InterruptedError', 'IsADirectoryError', 'KeyError', 'KeyboardInterrupt', 'LookupError', 'MemoryError', 'ModuleNotFoundError', 'NameError', 'None', 'NotADirectoryError', 'NotImplemented', 'NotImplementedError', 'OSError', 'OverflowError', 'PendingDeprecationWarning', 'PermissionError', 'ProcessLookupError', 'RecursionError', 'ReferenceError', 'ResourceWarning', 'RuntimeError', 'RuntimeWarning', 'StopAsyncIteration', 'StopIteration', 'SyntaxError', 'SyntaxWarning', 'SystemError', 'SystemExit', 'TabError', 'TimeoutError', 'True', 'TypeError', 'UnboundLocalError', 'UnicodeDecodeError', 'UnicodeEncodeError', 'UnicodeError', 'UnicodeTranslateError', 'UnicodeWarning', 'UserWarning', 'ValueError', 'Warning', 'WindowsError', 'ZeroDivisionError', '__IPYTHON__', '__build_class__', '__debug__', '__doc__', '__import__', '__loader__', '__name__', '__package__', '__spec__', 'abs', 'aiter', 'all', 'anext', 'any', 'ascii', 'bin', 'bool', 'breakpoint', 'bytearray', 'bytes', 'callable', 'chr', 'classmethod', 'compile', 'complex', 'copyright', 'credits', 'delattr', 'dict', 'dir', 'display', 'divmod', 'enumerate', 'eval', 'exec', 'execfile', 'filter', 'float', 'format', 'frozenset', 'get_ipython', 'getattr', 'globals', 'hasattr', 'hash', 'help', 'hex', 'id', 'input', 'int', 'isinstance', 'issubclass', 'iter', 'len', 'license', 'list', 'locals', 'map', 'max', 'memoryview', 'min', 'next', 'object', 'oct', 'open', 'ord', 'pow', 'print', 'property', 'range', 'repr', 'reversed', 'round', 'runfile', 'set', 'setattr', 'slice', 'sorted', 'staticmethod', 'str', 'sum', 'super', 'tuple', 'type', 'vars', 'zip']\n",
      "\n",
      "\n",
      "\n",
      "Type of builtins namespace is\t <class 'module'>\n",
      "\n",
      "\n",
      "\n",
      "\n",
      "{'__name__': '__main__', '__doc__': 'Automatically created module for IPython interactive environment', '__package__': None, '__loader__': None, '__spec__': None, '__builtin__': <module 'builtins' (built-in)>, '__builtins__': <module 'builtins' (built-in)>, '_ih': ['', '# print(dir(__builtins__))        #   built-in namespace\\n# print(\"\\\\n\\\\n\")\\n# print(\"Type of builtins namespace is\\\\t\",type(__builtins__))\\n\\nk=100\\ndef disp():\\n    def inner():\\n        print(\"inside inner\")\\n    var=40\\n    print(\"hello\")\\n    print(locals())\\n    print(\"\\\\n\")\\n    print(\"Type of local namespace is\\\\t\",type(locals()))\\n\\nnum1=200\\nprint(\"\\\\n\\\\n\\\\n\")\\nprint(globals())\\nprint(\"\\\\n\\\\n\")\\nprint(\"Type of global namespace is\\\\t\",type(globals()))\\nprint(\"\\\\n\\\\n\")\\ndisp()', 'print(dir(__builtins__))        #   built-in namespace\\nprint(\"\\\\n\\\\n\")\\nprint(\"Type of builtins namespace is\\\\t\",type(__builtins__))\\n\\nk=100           # global for everyone \\ndef disp():\\n    k=30        # local for disp but enclosing for inner\\n    def inner():\\n        k=60    # local for inner\\n        print(\"inside inner\")\\n        print(\"local namespace for inner\\\\t\",locals())\\n    print(\"hello\")\\n    print(\"local namespace for disp\\\\t\",locals())\\n    print(\"\\\\n\")\\n    print(\"Type of local namespace is\\\\t\",type(locals()))\\n    inner()\\n\\nnum1=200\\nprint(\"\\\\n\\\\n\\\\n\")\\nprint(globals())\\nprint(\"\\\\n\\\\n\")\\nprint(\"Type of global namespace is\\\\t\",type(globals()))\\nprint(\"\\\\n\\\\n\")\\ndisp()'], '_oh': {}, '_dh': [WindowsPath('d:/PG-DBDA CDAC/Python/lectures/Day_4')], 'In': ['', '# print(dir(__builtins__))        #   built-in namespace\\n# print(\"\\\\n\\\\n\")\\n# print(\"Type of builtins namespace is\\\\t\",type(__builtins__))\\n\\nk=100\\ndef disp():\\n    def inner():\\n        print(\"inside inner\")\\n    var=40\\n    print(\"hello\")\\n    print(locals())\\n    print(\"\\\\n\")\\n    print(\"Type of local namespace is\\\\t\",type(locals()))\\n\\nnum1=200\\nprint(\"\\\\n\\\\n\\\\n\")\\nprint(globals())\\nprint(\"\\\\n\\\\n\")\\nprint(\"Type of global namespace is\\\\t\",type(globals()))\\nprint(\"\\\\n\\\\n\")\\ndisp()', 'print(dir(__builtins__))        #   built-in namespace\\nprint(\"\\\\n\\\\n\")\\nprint(\"Type of builtins namespace is\\\\t\",type(__builtins__))\\n\\nk=100           # global for everyone \\ndef disp():\\n    k=30        # local for disp but enclosing for inner\\n    def inner():\\n        k=60    # local for inner\\n        print(\"inside inner\")\\n        print(\"local namespace for inner\\\\t\",locals())\\n    print(\"hello\")\\n    print(\"local namespace for disp\\\\t\",locals())\\n    print(\"\\\\n\")\\n    print(\"Type of local namespace is\\\\t\",type(locals()))\\n    inner()\\n\\nnum1=200\\nprint(\"\\\\n\\\\n\\\\n\")\\nprint(globals())\\nprint(\"\\\\n\\\\n\")\\nprint(\"Type of global namespace is\\\\t\",type(globals()))\\nprint(\"\\\\n\\\\n\")\\ndisp()'], 'Out': {}, 'get_ipython': <bound method InteractiveShell.get_ipython of <ipykernel.zmqshell.ZMQInteractiveShell object at 0x000002038C276500>>, 'exit': <IPython.core.autocall.ZMQExitAutocall object at 0x000002038C276FB0>, 'quit': <IPython.core.autocall.ZMQExitAutocall object at 0x000002038C276FB0>, 'open': <function open at 0x000002038AC5C820>, '_': '', '__': '', '___': '', '__vsc_ipynb_file__': 'd:\\\\PG-DBDA CDAC\\\\Python\\\\lectures\\\\Day_4\\\\Day4practice.ipynb', '_i': '# print(dir(__builtins__))        #   built-in namespace\\n# print(\"\\\\n\\\\n\")\\n# print(\"Type of builtins namespace is\\\\t\",type(__builtins__))\\n\\nk=100\\ndef disp():\\n    def inner():\\n        print(\"inside inner\")\\n    var=40\\n    print(\"hello\")\\n    print(locals())\\n    print(\"\\\\n\")\\n    print(\"Type of local namespace is\\\\t\",type(locals()))\\n\\nnum1=200\\nprint(\"\\\\n\\\\n\\\\n\")\\nprint(globals())\\nprint(\"\\\\n\\\\n\")\\nprint(\"Type of global namespace is\\\\t\",type(globals()))\\nprint(\"\\\\n\\\\n\")\\ndisp()', '_ii': '', '_iii': '', '_i1': '# print(dir(__builtins__))        #   built-in namespace\\n# print(\"\\\\n\\\\n\")\\n# print(\"Type of builtins namespace is\\\\t\",type(__builtins__))\\n\\nk=100\\ndef disp():\\n    def inner():\\n        print(\"inside inner\")\\n    var=40\\n    print(\"hello\")\\n    print(locals())\\n    print(\"\\\\n\")\\n    print(\"Type of local namespace is\\\\t\",type(locals()))\\n\\nnum1=200\\nprint(\"\\\\n\\\\n\\\\n\")\\nprint(globals())\\nprint(\"\\\\n\\\\n\")\\nprint(\"Type of global namespace is\\\\t\",type(globals()))\\nprint(\"\\\\n\\\\n\")\\ndisp()', 'k': 100, 'disp': <function disp at 0x000002038C2EDEA0>, 'num1': 200, '_i2': 'print(dir(__builtins__))        #   built-in namespace\\nprint(\"\\\\n\\\\n\")\\nprint(\"Type of builtins namespace is\\\\t\",type(__builtins__))\\n\\nk=100           # global for everyone \\ndef disp():\\n    k=30        # local for disp but enclosing for inner\\n    def inner():\\n        k=60    # local for inner\\n        print(\"inside inner\")\\n        print(\"local namespace for inner\\\\t\",locals())\\n    print(\"hello\")\\n    print(\"local namespace for disp\\\\t\",locals())\\n    print(\"\\\\n\")\\n    print(\"Type of local namespace is\\\\t\",type(locals()))\\n    inner()\\n\\nnum1=200\\nprint(\"\\\\n\\\\n\\\\n\")\\nprint(globals())\\nprint(\"\\\\n\\\\n\")\\nprint(\"Type of global namespace is\\\\t\",type(globals()))\\nprint(\"\\\\n\\\\n\")\\ndisp()'}\n",
      "\n",
      "\n",
      "\n",
      "Type of global namespace is\t <class 'dict'>\n",
      "\n",
      "\n",
      "\n",
      "hello\n",
      "local namespace for disp\t {'k': 30, 'inner': <function disp.<locals>.inner at 0x000002038C297640>}\n",
      "\n",
      "\n",
      "Type of local namespace is\t <class 'dict'>\n",
      "inside inner\n",
      "local namespace for inner\t {'k': 60}\n"
     ]
    }
   ],
   "source": [
    "print(dir(__builtins__))        #   built-in namespace\n",
    "print(\"\\n\\n\")\n",
    "print(\"Type of builtins namespace is\\t\",type(__builtins__))\n",
    "\n",
    "k=100           # global for everyone \n",
    "def disp():\n",
    "    k=30        # local for disp but enclosing for inner\n",
    "    def inner():\n",
    "        k=60    # local for inner\n",
    "        print(\"inside inner\")\n",
    "        print(\"local namespace for inner\\t\",locals())\n",
    "    print(\"hello\")\n",
    "    print(\"local namespace for disp\\t\",locals())\n",
    "    print(\"\\n\")\n",
    "    print(\"Type of local namespace is\\t\",type(locals()))\n",
    "    inner()\n",
    "\n",
    "num1=200\n",
    "print(\"\\n\\n\\n\")\n",
    "print(globals())\n",
    "print(\"\\n\\n\")\n",
    "print(\"Type of global namespace is\\t\",type(globals()))\n",
    "print(\"\\n\\n\")\n",
    "disp()\n"
   ]
  },
  {
   "cell_type": "markdown",
   "metadata": {},
   "source": [
    "#### **E3**"
   ]
  },
  {
   "cell_type": "code",
   "execution_count": 3,
   "metadata": {},
   "outputs": [
    {
     "name": "stdout",
     "output_type": "stream",
     "text": [
      "\n",
      "\n",
      "\n",
      "\n",
      "{'__name__': '__main__', '__doc__': 'Automatically created module for IPython interactive environment', '__package__': None, '__loader__': None, '__spec__': None, '__builtin__': <module 'builtins' (built-in)>, '__builtins__': <module 'builtins' (built-in)>, '_ih': ['', '# print(dir(__builtins__))        #   built-in namespace\\n# print(\"\\\\n\\\\n\")\\n# print(\"Type of builtins namespace is\\\\t\",type(__builtins__))\\n\\nk=100\\ndef disp():\\n    def inner():\\n        print(\"inside inner\")\\n    var=40\\n    print(\"hello\")\\n    print(locals())\\n    print(\"\\\\n\")\\n    print(\"Type of local namespace is\\\\t\",type(locals()))\\n\\nnum1=200\\nprint(\"\\\\n\\\\n\\\\n\")\\nprint(globals())\\nprint(\"\\\\n\\\\n\")\\nprint(\"Type of global namespace is\\\\t\",type(globals()))\\nprint(\"\\\\n\\\\n\")\\ndisp()', 'print(dir(__builtins__))        #   built-in namespace\\nprint(\"\\\\n\\\\n\")\\nprint(\"Type of builtins namespace is\\\\t\",type(__builtins__))\\n\\nk=100           # global for everyone \\ndef disp():\\n    k=30        # local for disp but enclosing for inner\\n    def inner():\\n        k=60    # local for inner\\n        print(\"inside inner\")\\n        print(\"local namespace for inner\\\\t\",locals())\\n    print(\"hello\")\\n    print(\"local namespace for disp\\\\t\",locals())\\n    print(\"\\\\n\")\\n    print(\"Type of local namespace is\\\\t\",type(locals()))\\n    inner()\\n\\nnum1=200\\nprint(\"\\\\n\\\\n\\\\n\")\\nprint(globals())\\nprint(\"\\\\n\\\\n\")\\nprint(\"Type of global namespace is\\\\t\",type(globals()))\\nprint(\"\\\\n\\\\n\")\\ndisp()', '# print(dir(__builtins__))        #   built-in namespace\\n# print(\"\\\\n\\\\n\")\\n# print(\"Type of builtins namespace is\\\\t\",type(__builtins__))\\n\\nk=100           # global for everyone \\ndef disp():\\n    k=30        # local for disp but enclosing for inner\\n    r=60\\n    def inner():\\n        k=60    # local for inner\\n        print(\"inside inner\")\\n        print(\"local namespace for inner\\\\t\",locals())\\n    print(\"hello\")\\n    print(\"local namespace for disp\\\\t\",locals())\\n    print(\"\\\\n\")\\n    print(\"Type of local namespace is\\\\t\",type(locals()))\\n    inner()\\n\\nnum1=200\\nprint(\"\\\\n\\\\n\\\\n\")\\nprint(globals())\\nprint(\"\\\\n\\\\n\")\\nprint(\"Type of global namespace is\\\\t\",type(globals()))\\nprint(\"\\\\n\\\\n\")\\ndisp()'], '_oh': {}, '_dh': [WindowsPath('d:/PG-DBDA CDAC/Python/lectures/Day_4')], 'In': ['', '# print(dir(__builtins__))        #   built-in namespace\\n# print(\"\\\\n\\\\n\")\\n# print(\"Type of builtins namespace is\\\\t\",type(__builtins__))\\n\\nk=100\\ndef disp():\\n    def inner():\\n        print(\"inside inner\")\\n    var=40\\n    print(\"hello\")\\n    print(locals())\\n    print(\"\\\\n\")\\n    print(\"Type of local namespace is\\\\t\",type(locals()))\\n\\nnum1=200\\nprint(\"\\\\n\\\\n\\\\n\")\\nprint(globals())\\nprint(\"\\\\n\\\\n\")\\nprint(\"Type of global namespace is\\\\t\",type(globals()))\\nprint(\"\\\\n\\\\n\")\\ndisp()', 'print(dir(__builtins__))        #   built-in namespace\\nprint(\"\\\\n\\\\n\")\\nprint(\"Type of builtins namespace is\\\\t\",type(__builtins__))\\n\\nk=100           # global for everyone \\ndef disp():\\n    k=30        # local for disp but enclosing for inner\\n    def inner():\\n        k=60    # local for inner\\n        print(\"inside inner\")\\n        print(\"local namespace for inner\\\\t\",locals())\\n    print(\"hello\")\\n    print(\"local namespace for disp\\\\t\",locals())\\n    print(\"\\\\n\")\\n    print(\"Type of local namespace is\\\\t\",type(locals()))\\n    inner()\\n\\nnum1=200\\nprint(\"\\\\n\\\\n\\\\n\")\\nprint(globals())\\nprint(\"\\\\n\\\\n\")\\nprint(\"Type of global namespace is\\\\t\",type(globals()))\\nprint(\"\\\\n\\\\n\")\\ndisp()', '# print(dir(__builtins__))        #   built-in namespace\\n# print(\"\\\\n\\\\n\")\\n# print(\"Type of builtins namespace is\\\\t\",type(__builtins__))\\n\\nk=100           # global for everyone \\ndef disp():\\n    k=30        # local for disp but enclosing for inner\\n    r=60\\n    def inner():\\n        k=60    # local for inner\\n        print(\"inside inner\")\\n        print(\"local namespace for inner\\\\t\",locals())\\n    print(\"hello\")\\n    print(\"local namespace for disp\\\\t\",locals())\\n    print(\"\\\\n\")\\n    print(\"Type of local namespace is\\\\t\",type(locals()))\\n    inner()\\n\\nnum1=200\\nprint(\"\\\\n\\\\n\\\\n\")\\nprint(globals())\\nprint(\"\\\\n\\\\n\")\\nprint(\"Type of global namespace is\\\\t\",type(globals()))\\nprint(\"\\\\n\\\\n\")\\ndisp()'], 'Out': {}, 'get_ipython': <bound method InteractiveShell.get_ipython of <ipykernel.zmqshell.ZMQInteractiveShell object at 0x000002038C276500>>, 'exit': <IPython.core.autocall.ZMQExitAutocall object at 0x000002038C276FB0>, 'quit': <IPython.core.autocall.ZMQExitAutocall object at 0x000002038C276FB0>, 'open': <function open at 0x000002038AC5C820>, '_': '', '__': '', '___': '', '__vsc_ipynb_file__': 'd:\\\\PG-DBDA CDAC\\\\Python\\\\lectures\\\\Day_4\\\\Day4practice.ipynb', '_i': 'print(dir(__builtins__))        #   built-in namespace\\nprint(\"\\\\n\\\\n\")\\nprint(\"Type of builtins namespace is\\\\t\",type(__builtins__))\\n\\nk=100           # global for everyone \\ndef disp():\\n    k=30        # local for disp but enclosing for inner\\n    def inner():\\n        k=60    # local for inner\\n        print(\"inside inner\")\\n        print(\"local namespace for inner\\\\t\",locals())\\n    print(\"hello\")\\n    print(\"local namespace for disp\\\\t\",locals())\\n    print(\"\\\\n\")\\n    print(\"Type of local namespace is\\\\t\",type(locals()))\\n    inner()\\n\\nnum1=200\\nprint(\"\\\\n\\\\n\\\\n\")\\nprint(globals())\\nprint(\"\\\\n\\\\n\")\\nprint(\"Type of global namespace is\\\\t\",type(globals()))\\nprint(\"\\\\n\\\\n\")\\ndisp()', '_ii': '# print(dir(__builtins__))        #   built-in namespace\\n# print(\"\\\\n\\\\n\")\\n# print(\"Type of builtins namespace is\\\\t\",type(__builtins__))\\n\\nk=100\\ndef disp():\\n    def inner():\\n        print(\"inside inner\")\\n    var=40\\n    print(\"hello\")\\n    print(locals())\\n    print(\"\\\\n\")\\n    print(\"Type of local namespace is\\\\t\",type(locals()))\\n\\nnum1=200\\nprint(\"\\\\n\\\\n\\\\n\")\\nprint(globals())\\nprint(\"\\\\n\\\\n\")\\nprint(\"Type of global namespace is\\\\t\",type(globals()))\\nprint(\"\\\\n\\\\n\")\\ndisp()', '_iii': '', '_i1': '# print(dir(__builtins__))        #   built-in namespace\\n# print(\"\\\\n\\\\n\")\\n# print(\"Type of builtins namespace is\\\\t\",type(__builtins__))\\n\\nk=100\\ndef disp():\\n    def inner():\\n        print(\"inside inner\")\\n    var=40\\n    print(\"hello\")\\n    print(locals())\\n    print(\"\\\\n\")\\n    print(\"Type of local namespace is\\\\t\",type(locals()))\\n\\nnum1=200\\nprint(\"\\\\n\\\\n\\\\n\")\\nprint(globals())\\nprint(\"\\\\n\\\\n\")\\nprint(\"Type of global namespace is\\\\t\",type(globals()))\\nprint(\"\\\\n\\\\n\")\\ndisp()', 'k': 100, 'disp': <function disp at 0x000002038C297EB0>, 'num1': 200, '_i2': 'print(dir(__builtins__))        #   built-in namespace\\nprint(\"\\\\n\\\\n\")\\nprint(\"Type of builtins namespace is\\\\t\",type(__builtins__))\\n\\nk=100           # global for everyone \\ndef disp():\\n    k=30        # local for disp but enclosing for inner\\n    def inner():\\n        k=60    # local for inner\\n        print(\"inside inner\")\\n        print(\"local namespace for inner\\\\t\",locals())\\n    print(\"hello\")\\n    print(\"local namespace for disp\\\\t\",locals())\\n    print(\"\\\\n\")\\n    print(\"Type of local namespace is\\\\t\",type(locals()))\\n    inner()\\n\\nnum1=200\\nprint(\"\\\\n\\\\n\\\\n\")\\nprint(globals())\\nprint(\"\\\\n\\\\n\")\\nprint(\"Type of global namespace is\\\\t\",type(globals()))\\nprint(\"\\\\n\\\\n\")\\ndisp()', '_i3': '# print(dir(__builtins__))        #   built-in namespace\\n# print(\"\\\\n\\\\n\")\\n# print(\"Type of builtins namespace is\\\\t\",type(__builtins__))\\n\\nk=100           # global for everyone \\ndef disp():\\n    k=30        # local for disp but enclosing for inner\\n    r=60\\n    def inner():\\n        k=60    # local for inner\\n        print(\"inside inner\")\\n        print(\"local namespace for inner\\\\t\",locals())\\n    print(\"hello\")\\n    print(\"local namespace for disp\\\\t\",locals())\\n    print(\"\\\\n\")\\n    print(\"Type of local namespace is\\\\t\",type(locals()))\\n    inner()\\n\\nnum1=200\\nprint(\"\\\\n\\\\n\\\\n\")\\nprint(globals())\\nprint(\"\\\\n\\\\n\")\\nprint(\"Type of global namespace is\\\\t\",type(globals()))\\nprint(\"\\\\n\\\\n\")\\ndisp()'}\n",
      "\n",
      "\n",
      "\n",
      "Type of global namespace is\t <class 'dict'>\n",
      "\n",
      "\n",
      "\n",
      "hello\n",
      "local namespace for disp\t {'k': 30, 'r': 60, 'inner': <function disp.<locals>.inner at 0x000002038C2ED5A0>}\n",
      "\n",
      "\n",
      "Type of local namespace is\t <class 'dict'>\n",
      "inside inner\n",
      "local namespace for inner\t {'k': 60}\n"
     ]
    }
   ],
   "source": [
    "# print(dir(__builtins__))        #   built-in namespace\n",
    "# print(\"\\n\\n\")\n",
    "# print(\"Type of builtins namespace is\\t\",type(__builtins__))\n",
    "\n",
    "k=100           # global for everyone \n",
    "def disp():\n",
    "    k=30        # local for disp but enclosing for inner\n",
    "    r=60\n",
    "    def inner():\n",
    "        k=60    # local for inner\n",
    "        print(\"inside inner\")\n",
    "        print(\"local namespace for inner\\t\",locals())\n",
    "    print(\"hello\")\n",
    "    print(\"local namespace for disp\\t\",locals())\n",
    "    print(\"\\n\")\n",
    "    print(\"Type of local namespace is\\t\",type(locals()))\n",
    "    inner()\n",
    "\n",
    "num1=200\n",
    "print(\"\\n\\n\\n\")\n",
    "print(globals())\n",
    "print(\"\\n\\n\")\n",
    "print(\"Type of global namespace is\\t\",type(globals()))\n",
    "print(\"\\n\\n\")\n",
    "disp()\n"
   ]
  },
  {
   "cell_type": "markdown",
   "metadata": {},
   "source": [
    "#### **E4**"
   ]
  },
  {
   "cell_type": "code",
   "execution_count": 4,
   "metadata": {},
   "outputs": [
    {
     "name": "stdout",
     "output_type": "stream",
     "text": [
      "\n",
      "\n",
      "\n",
      "\n",
      "{'__name__': '__main__', '__doc__': 'Automatically created module for IPython interactive environment', '__package__': None, '__loader__': None, '__spec__': None, '__builtin__': <module 'builtins' (built-in)>, '__builtins__': <module 'builtins' (built-in)>, '_ih': ['', '# print(dir(__builtins__))        #   built-in namespace\\n# print(\"\\\\n\\\\n\")\\n# print(\"Type of builtins namespace is\\\\t\",type(__builtins__))\\n\\nk=100\\ndef disp():\\n    def inner():\\n        print(\"inside inner\")\\n    var=40\\n    print(\"hello\")\\n    print(locals())\\n    print(\"\\\\n\")\\n    print(\"Type of local namespace is\\\\t\",type(locals()))\\n\\nnum1=200\\nprint(\"\\\\n\\\\n\\\\n\")\\nprint(globals())\\nprint(\"\\\\n\\\\n\")\\nprint(\"Type of global namespace is\\\\t\",type(globals()))\\nprint(\"\\\\n\\\\n\")\\ndisp()', 'print(dir(__builtins__))        #   built-in namespace\\nprint(\"\\\\n\\\\n\")\\nprint(\"Type of builtins namespace is\\\\t\",type(__builtins__))\\n\\nk=100           # global for everyone \\ndef disp():\\n    k=30        # local for disp but enclosing for inner\\n    def inner():\\n        k=60    # local for inner\\n        print(\"inside inner\")\\n        print(\"local namespace for inner\\\\t\",locals())\\n    print(\"hello\")\\n    print(\"local namespace for disp\\\\t\",locals())\\n    print(\"\\\\n\")\\n    print(\"Type of local namespace is\\\\t\",type(locals()))\\n    inner()\\n\\nnum1=200\\nprint(\"\\\\n\\\\n\\\\n\")\\nprint(globals())\\nprint(\"\\\\n\\\\n\")\\nprint(\"Type of global namespace is\\\\t\",type(globals()))\\nprint(\"\\\\n\\\\n\")\\ndisp()', '# print(dir(__builtins__))        #   built-in namespace\\n# print(\"\\\\n\\\\n\")\\n# print(\"Type of builtins namespace is\\\\t\",type(__builtins__))\\n\\nk=100           # global for everyone \\ndef disp():\\n    k=30        # local for disp but enclosing for inner\\n    r=60\\n    def inner():\\n        k=60    # local for inner\\n        print(\"inside inner\")\\n        print(\"local namespace for inner\\\\t\",locals())\\n    print(\"hello\")\\n    print(\"local namespace for disp\\\\t\",locals())\\n    print(\"\\\\n\")\\n    print(\"Type of local namespace is\\\\t\",type(locals()))\\n    inner()\\n\\nnum1=200\\nprint(\"\\\\n\\\\n\\\\n\")\\nprint(globals())\\nprint(\"\\\\n\\\\n\")\\nprint(\"Type of global namespace is\\\\t\",type(globals()))\\nprint(\"\\\\n\\\\n\")\\ndisp()', '# print(dir(__builtins__))        #   built-in namespace\\n# print(\"\\\\n\\\\n\")\\n# print(\"Type of builtins namespace is\\\\t\",type(__builtins__))\\n\\nk=100           # global for everyone \\ndef disp():\\n    k=30        # local for disp but enclosing for inner\\n    r=60\\n    def inner():\\n        k=60    # local for inner\\n        print(\"inside inner\")\\n        print(\"let\\'s access \\'r\\' from enclosing scope\\\\t\",r)\\n        print(\"local namespace for inner\\\\t\",locals())    # not only \"k\" but \"r\" also\\n    print(\"hello\")\\n    print(\"local namespace for disp\\\\t\",locals())  \\n    print(\"\\\\n\")\\n    print(\"Type of local namespace is\\\\t\",type(locals()))\\n    inner()\\n\\nnum1=200\\nprint(\"\\\\n\\\\n\\\\n\")\\nprint(globals())\\nprint(\"\\\\n\\\\n\")\\nprint(\"Type of global namespace is\\\\t\",type(globals()))\\nprint(\"\\\\n\\\\n\")\\ndisp()'], '_oh': {}, '_dh': [WindowsPath('d:/PG-DBDA CDAC/Python/lectures/Day_4')], 'In': ['', '# print(dir(__builtins__))        #   built-in namespace\\n# print(\"\\\\n\\\\n\")\\n# print(\"Type of builtins namespace is\\\\t\",type(__builtins__))\\n\\nk=100\\ndef disp():\\n    def inner():\\n        print(\"inside inner\")\\n    var=40\\n    print(\"hello\")\\n    print(locals())\\n    print(\"\\\\n\")\\n    print(\"Type of local namespace is\\\\t\",type(locals()))\\n\\nnum1=200\\nprint(\"\\\\n\\\\n\\\\n\")\\nprint(globals())\\nprint(\"\\\\n\\\\n\")\\nprint(\"Type of global namespace is\\\\t\",type(globals()))\\nprint(\"\\\\n\\\\n\")\\ndisp()', 'print(dir(__builtins__))        #   built-in namespace\\nprint(\"\\\\n\\\\n\")\\nprint(\"Type of builtins namespace is\\\\t\",type(__builtins__))\\n\\nk=100           # global for everyone \\ndef disp():\\n    k=30        # local for disp but enclosing for inner\\n    def inner():\\n        k=60    # local for inner\\n        print(\"inside inner\")\\n        print(\"local namespace for inner\\\\t\",locals())\\n    print(\"hello\")\\n    print(\"local namespace for disp\\\\t\",locals())\\n    print(\"\\\\n\")\\n    print(\"Type of local namespace is\\\\t\",type(locals()))\\n    inner()\\n\\nnum1=200\\nprint(\"\\\\n\\\\n\\\\n\")\\nprint(globals())\\nprint(\"\\\\n\\\\n\")\\nprint(\"Type of global namespace is\\\\t\",type(globals()))\\nprint(\"\\\\n\\\\n\")\\ndisp()', '# print(dir(__builtins__))        #   built-in namespace\\n# print(\"\\\\n\\\\n\")\\n# print(\"Type of builtins namespace is\\\\t\",type(__builtins__))\\n\\nk=100           # global for everyone \\ndef disp():\\n    k=30        # local for disp but enclosing for inner\\n    r=60\\n    def inner():\\n        k=60    # local for inner\\n        print(\"inside inner\")\\n        print(\"local namespace for inner\\\\t\",locals())\\n    print(\"hello\")\\n    print(\"local namespace for disp\\\\t\",locals())\\n    print(\"\\\\n\")\\n    print(\"Type of local namespace is\\\\t\",type(locals()))\\n    inner()\\n\\nnum1=200\\nprint(\"\\\\n\\\\n\\\\n\")\\nprint(globals())\\nprint(\"\\\\n\\\\n\")\\nprint(\"Type of global namespace is\\\\t\",type(globals()))\\nprint(\"\\\\n\\\\n\")\\ndisp()', '# print(dir(__builtins__))        #   built-in namespace\\n# print(\"\\\\n\\\\n\")\\n# print(\"Type of builtins namespace is\\\\t\",type(__builtins__))\\n\\nk=100           # global for everyone \\ndef disp():\\n    k=30        # local for disp but enclosing for inner\\n    r=60\\n    def inner():\\n        k=60    # local for inner\\n        print(\"inside inner\")\\n        print(\"let\\'s access \\'r\\' from enclosing scope\\\\t\",r)\\n        print(\"local namespace for inner\\\\t\",locals())    # not only \"k\" but \"r\" also\\n    print(\"hello\")\\n    print(\"local namespace for disp\\\\t\",locals())  \\n    print(\"\\\\n\")\\n    print(\"Type of local namespace is\\\\t\",type(locals()))\\n    inner()\\n\\nnum1=200\\nprint(\"\\\\n\\\\n\\\\n\")\\nprint(globals())\\nprint(\"\\\\n\\\\n\")\\nprint(\"Type of global namespace is\\\\t\",type(globals()))\\nprint(\"\\\\n\\\\n\")\\ndisp()'], 'Out': {}, 'get_ipython': <bound method InteractiveShell.get_ipython of <ipykernel.zmqshell.ZMQInteractiveShell object at 0x000002038C276500>>, 'exit': <IPython.core.autocall.ZMQExitAutocall object at 0x000002038C276FB0>, 'quit': <IPython.core.autocall.ZMQExitAutocall object at 0x000002038C276FB0>, 'open': <function open at 0x000002038AC5C820>, '_': '', '__': '', '___': '', '__vsc_ipynb_file__': 'd:\\\\PG-DBDA CDAC\\\\Python\\\\lectures\\\\Day_4\\\\Day4practice.ipynb', '_i': '# print(dir(__builtins__))        #   built-in namespace\\n# print(\"\\\\n\\\\n\")\\n# print(\"Type of builtins namespace is\\\\t\",type(__builtins__))\\n\\nk=100           # global for everyone \\ndef disp():\\n    k=30        # local for disp but enclosing for inner\\n    r=60\\n    def inner():\\n        k=60    # local for inner\\n        print(\"inside inner\")\\n        print(\"local namespace for inner\\\\t\",locals())\\n    print(\"hello\")\\n    print(\"local namespace for disp\\\\t\",locals())\\n    print(\"\\\\n\")\\n    print(\"Type of local namespace is\\\\t\",type(locals()))\\n    inner()\\n\\nnum1=200\\nprint(\"\\\\n\\\\n\\\\n\")\\nprint(globals())\\nprint(\"\\\\n\\\\n\")\\nprint(\"Type of global namespace is\\\\t\",type(globals()))\\nprint(\"\\\\n\\\\n\")\\ndisp()', '_ii': 'print(dir(__builtins__))        #   built-in namespace\\nprint(\"\\\\n\\\\n\")\\nprint(\"Type of builtins namespace is\\\\t\",type(__builtins__))\\n\\nk=100           # global for everyone \\ndef disp():\\n    k=30        # local for disp but enclosing for inner\\n    def inner():\\n        k=60    # local for inner\\n        print(\"inside inner\")\\n        print(\"local namespace for inner\\\\t\",locals())\\n    print(\"hello\")\\n    print(\"local namespace for disp\\\\t\",locals())\\n    print(\"\\\\n\")\\n    print(\"Type of local namespace is\\\\t\",type(locals()))\\n    inner()\\n\\nnum1=200\\nprint(\"\\\\n\\\\n\\\\n\")\\nprint(globals())\\nprint(\"\\\\n\\\\n\")\\nprint(\"Type of global namespace is\\\\t\",type(globals()))\\nprint(\"\\\\n\\\\n\")\\ndisp()', '_iii': '# print(dir(__builtins__))        #   built-in namespace\\n# print(\"\\\\n\\\\n\")\\n# print(\"Type of builtins namespace is\\\\t\",type(__builtins__))\\n\\nk=100\\ndef disp():\\n    def inner():\\n        print(\"inside inner\")\\n    var=40\\n    print(\"hello\")\\n    print(locals())\\n    print(\"\\\\n\")\\n    print(\"Type of local namespace is\\\\t\",type(locals()))\\n\\nnum1=200\\nprint(\"\\\\n\\\\n\\\\n\")\\nprint(globals())\\nprint(\"\\\\n\\\\n\")\\nprint(\"Type of global namespace is\\\\t\",type(globals()))\\nprint(\"\\\\n\\\\n\")\\ndisp()', '_i1': '# print(dir(__builtins__))        #   built-in namespace\\n# print(\"\\\\n\\\\n\")\\n# print(\"Type of builtins namespace is\\\\t\",type(__builtins__))\\n\\nk=100\\ndef disp():\\n    def inner():\\n        print(\"inside inner\")\\n    var=40\\n    print(\"hello\")\\n    print(locals())\\n    print(\"\\\\n\")\\n    print(\"Type of local namespace is\\\\t\",type(locals()))\\n\\nnum1=200\\nprint(\"\\\\n\\\\n\\\\n\")\\nprint(globals())\\nprint(\"\\\\n\\\\n\")\\nprint(\"Type of global namespace is\\\\t\",type(globals()))\\nprint(\"\\\\n\\\\n\")\\ndisp()', 'k': 100, 'disp': <function disp at 0x000002038C2ED510>, 'num1': 200, '_i2': 'print(dir(__builtins__))        #   built-in namespace\\nprint(\"\\\\n\\\\n\")\\nprint(\"Type of builtins namespace is\\\\t\",type(__builtins__))\\n\\nk=100           # global for everyone \\ndef disp():\\n    k=30        # local for disp but enclosing for inner\\n    def inner():\\n        k=60    # local for inner\\n        print(\"inside inner\")\\n        print(\"local namespace for inner\\\\t\",locals())\\n    print(\"hello\")\\n    print(\"local namespace for disp\\\\t\",locals())\\n    print(\"\\\\n\")\\n    print(\"Type of local namespace is\\\\t\",type(locals()))\\n    inner()\\n\\nnum1=200\\nprint(\"\\\\n\\\\n\\\\n\")\\nprint(globals())\\nprint(\"\\\\n\\\\n\")\\nprint(\"Type of global namespace is\\\\t\",type(globals()))\\nprint(\"\\\\n\\\\n\")\\ndisp()', '_i3': '# print(dir(__builtins__))        #   built-in namespace\\n# print(\"\\\\n\\\\n\")\\n# print(\"Type of builtins namespace is\\\\t\",type(__builtins__))\\n\\nk=100           # global for everyone \\ndef disp():\\n    k=30        # local for disp but enclosing for inner\\n    r=60\\n    def inner():\\n        k=60    # local for inner\\n        print(\"inside inner\")\\n        print(\"local namespace for inner\\\\t\",locals())\\n    print(\"hello\")\\n    print(\"local namespace for disp\\\\t\",locals())\\n    print(\"\\\\n\")\\n    print(\"Type of local namespace is\\\\t\",type(locals()))\\n    inner()\\n\\nnum1=200\\nprint(\"\\\\n\\\\n\\\\n\")\\nprint(globals())\\nprint(\"\\\\n\\\\n\")\\nprint(\"Type of global namespace is\\\\t\",type(globals()))\\nprint(\"\\\\n\\\\n\")\\ndisp()', '_i4': '# print(dir(__builtins__))        #   built-in namespace\\n# print(\"\\\\n\\\\n\")\\n# print(\"Type of builtins namespace is\\\\t\",type(__builtins__))\\n\\nk=100           # global for everyone \\ndef disp():\\n    k=30        # local for disp but enclosing for inner\\n    r=60\\n    def inner():\\n        k=60    # local for inner\\n        print(\"inside inner\")\\n        print(\"let\\'s access \\'r\\' from enclosing scope\\\\t\",r)\\n        print(\"local namespace for inner\\\\t\",locals())    # not only \"k\" but \"r\" also\\n    print(\"hello\")\\n    print(\"local namespace for disp\\\\t\",locals())  \\n    print(\"\\\\n\")\\n    print(\"Type of local namespace is\\\\t\",type(locals()))\\n    inner()\\n\\nnum1=200\\nprint(\"\\\\n\\\\n\\\\n\")\\nprint(globals())\\nprint(\"\\\\n\\\\n\")\\nprint(\"Type of global namespace is\\\\t\",type(globals()))\\nprint(\"\\\\n\\\\n\")\\ndisp()'}\n",
      "\n",
      "\n",
      "\n",
      "Type of global namespace is\t <class 'dict'>\n",
      "\n",
      "\n",
      "\n",
      "hello\n",
      "local namespace for disp\t {'k': 30, 'inner': <function disp.<locals>.inner at 0x000002038C2ED900>, 'r': 60}\n",
      "\n",
      "\n",
      "Type of local namespace is\t <class 'dict'>\n",
      "inside inner\n",
      "let's access 'r' from enclosing scope\t 60\n",
      "local namespace for inner\t {'k': 60, 'r': 60}\n"
     ]
    }
   ],
   "source": [
    "# print(dir(__builtins__))        #   built-in namespace\n",
    "# print(\"\\n\\n\")\n",
    "# print(\"Type of builtins namespace is\\t\",type(__builtins__))\n",
    "\n",
    "k=100           # global for everyone \n",
    "def disp():\n",
    "    k=30        # local for disp but enclosing for inner\n",
    "    r=60\n",
    "    def inner():\n",
    "        k=60    # local for inner\n",
    "        print(\"inside inner\")\n",
    "        print(\"let's access 'r' from enclosing scope\\t\",r)\n",
    "        print(\"local namespace for inner\\t\",locals())    # not only \"k\" but \"r\" also\n",
    "    print(\"hello\")\n",
    "    print(\"local namespace for disp\\t\",locals())  \n",
    "    print(\"\\n\")\n",
    "    print(\"Type of local namespace is\\t\",type(locals()))\n",
    "    inner()\n",
    "\n",
    "num1=200\n",
    "print(\"\\n\\n\\n\")\n",
    "print(globals())\n",
    "print(\"\\n\\n\")\n",
    "print(\"Type of global namespace is\\t\",type(globals()))\n",
    "print(\"\\n\\n\")\n",
    "disp()\n"
   ]
  },
  {
   "cell_type": "markdown",
   "metadata": {},
   "source": [
    "#### **E5**"
   ]
  },
  {
   "cell_type": "code",
   "execution_count": 5,
   "metadata": {},
   "outputs": [
    {
     "name": "stdout",
     "output_type": "stream",
     "text": [
      "\n",
      "\n",
      "\n",
      "\n",
      "{'__name__': '__main__', '__doc__': 'Automatically created module for IPython interactive environment', '__package__': None, '__loader__': None, '__spec__': None, '__builtin__': <module 'builtins' (built-in)>, '__builtins__': <module 'builtins' (built-in)>, '_ih': ['', '# print(dir(__builtins__))        #   built-in namespace\\n# print(\"\\\\n\\\\n\")\\n# print(\"Type of builtins namespace is\\\\t\",type(__builtins__))\\n\\nk=100\\ndef disp():\\n    def inner():\\n        print(\"inside inner\")\\n    var=40\\n    print(\"hello\")\\n    print(locals())\\n    print(\"\\\\n\")\\n    print(\"Type of local namespace is\\\\t\",type(locals()))\\n\\nnum1=200\\nprint(\"\\\\n\\\\n\\\\n\")\\nprint(globals())\\nprint(\"\\\\n\\\\n\")\\nprint(\"Type of global namespace is\\\\t\",type(globals()))\\nprint(\"\\\\n\\\\n\")\\ndisp()', 'print(dir(__builtins__))        #   built-in namespace\\nprint(\"\\\\n\\\\n\")\\nprint(\"Type of builtins namespace is\\\\t\",type(__builtins__))\\n\\nk=100           # global for everyone \\ndef disp():\\n    k=30        # local for disp but enclosing for inner\\n    def inner():\\n        k=60    # local for inner\\n        print(\"inside inner\")\\n        print(\"local namespace for inner\\\\t\",locals())\\n    print(\"hello\")\\n    print(\"local namespace for disp\\\\t\",locals())\\n    print(\"\\\\n\")\\n    print(\"Type of local namespace is\\\\t\",type(locals()))\\n    inner()\\n\\nnum1=200\\nprint(\"\\\\n\\\\n\\\\n\")\\nprint(globals())\\nprint(\"\\\\n\\\\n\")\\nprint(\"Type of global namespace is\\\\t\",type(globals()))\\nprint(\"\\\\n\\\\n\")\\ndisp()', '# print(dir(__builtins__))        #   built-in namespace\\n# print(\"\\\\n\\\\n\")\\n# print(\"Type of builtins namespace is\\\\t\",type(__builtins__))\\n\\nk=100           # global for everyone \\ndef disp():\\n    k=30        # local for disp but enclosing for inner\\n    r=60\\n    def inner():\\n        k=60    # local for inner\\n        print(\"inside inner\")\\n        print(\"local namespace for inner\\\\t\",locals())\\n    print(\"hello\")\\n    print(\"local namespace for disp\\\\t\",locals())\\n    print(\"\\\\n\")\\n    print(\"Type of local namespace is\\\\t\",type(locals()))\\n    inner()\\n\\nnum1=200\\nprint(\"\\\\n\\\\n\\\\n\")\\nprint(globals())\\nprint(\"\\\\n\\\\n\")\\nprint(\"Type of global namespace is\\\\t\",type(globals()))\\nprint(\"\\\\n\\\\n\")\\ndisp()', '# print(dir(__builtins__))        #   built-in namespace\\n# print(\"\\\\n\\\\n\")\\n# print(\"Type of builtins namespace is\\\\t\",type(__builtins__))\\n\\nk=100           # global for everyone \\ndef disp():\\n    k=30        # local for disp but enclosing for inner\\n    r=60\\n    def inner():\\n        k=60    # local for inner\\n        print(\"inside inner\")\\n        print(\"let\\'s access \\'r\\' from enclosing scope\\\\t\",r)\\n        print(\"local namespace for inner\\\\t\",locals())    # not only \"k\" but \"r\" also\\n    print(\"hello\")\\n    print(\"local namespace for disp\\\\t\",locals())  \\n    print(\"\\\\n\")\\n    print(\"Type of local namespace is\\\\t\",type(locals()))\\n    inner()\\n\\nnum1=200\\nprint(\"\\\\n\\\\n\\\\n\")\\nprint(globals())\\nprint(\"\\\\n\\\\n\")\\nprint(\"Type of global namespace is\\\\t\",type(globals()))\\nprint(\"\\\\n\\\\n\")\\ndisp()', '# print(dir(__builtins__))        #   built-in namespace\\n# print(\"\\\\n\\\\n\")\\n# print(\"Type of builtins namespace is\\\\t\",type(__builtins__))\\n\\nk=100           # global for everyone \\ndef disp():\\n    k=30        # local for disp but enclosing for inner\\n    r=60\\n    def inner():\\n        k=60    # local for inner\\n        print(\"inside inner\")\\n        print(\"let\\'s access \\'r\\' from enclosing scope\\\\t\",r)\\n        print(\"let\\'s access \\'s\\' from enclosing scope\\\\t\",s) # no problem even if \\'s\\' is defined below\\n        print(\"local namespace for inner\\\\t\",locals())    # not only \"k\" but \"r\" also\\n    print(\"hello\")\\n    print(\"local namespace for disp\\\\t\",locals())  \\n    print(\"\\\\n\")\\n    print(\"Type of local namespace is\\\\t\",type(locals()))\\n    s=800\\n    inner()\\n\\nnum1=200\\nprint(\"\\\\n\\\\n\\\\n\")\\nprint(globals())\\nprint(\"\\\\n\\\\n\")\\nprint(\"Type of global namespace is\\\\t\",type(globals()))\\nprint(\"\\\\n\\\\n\")\\ndisp()'], '_oh': {}, '_dh': [WindowsPath('d:/PG-DBDA CDAC/Python/lectures/Day_4')], 'In': ['', '# print(dir(__builtins__))        #   built-in namespace\\n# print(\"\\\\n\\\\n\")\\n# print(\"Type of builtins namespace is\\\\t\",type(__builtins__))\\n\\nk=100\\ndef disp():\\n    def inner():\\n        print(\"inside inner\")\\n    var=40\\n    print(\"hello\")\\n    print(locals())\\n    print(\"\\\\n\")\\n    print(\"Type of local namespace is\\\\t\",type(locals()))\\n\\nnum1=200\\nprint(\"\\\\n\\\\n\\\\n\")\\nprint(globals())\\nprint(\"\\\\n\\\\n\")\\nprint(\"Type of global namespace is\\\\t\",type(globals()))\\nprint(\"\\\\n\\\\n\")\\ndisp()', 'print(dir(__builtins__))        #   built-in namespace\\nprint(\"\\\\n\\\\n\")\\nprint(\"Type of builtins namespace is\\\\t\",type(__builtins__))\\n\\nk=100           # global for everyone \\ndef disp():\\n    k=30        # local for disp but enclosing for inner\\n    def inner():\\n        k=60    # local for inner\\n        print(\"inside inner\")\\n        print(\"local namespace for inner\\\\t\",locals())\\n    print(\"hello\")\\n    print(\"local namespace for disp\\\\t\",locals())\\n    print(\"\\\\n\")\\n    print(\"Type of local namespace is\\\\t\",type(locals()))\\n    inner()\\n\\nnum1=200\\nprint(\"\\\\n\\\\n\\\\n\")\\nprint(globals())\\nprint(\"\\\\n\\\\n\")\\nprint(\"Type of global namespace is\\\\t\",type(globals()))\\nprint(\"\\\\n\\\\n\")\\ndisp()', '# print(dir(__builtins__))        #   built-in namespace\\n# print(\"\\\\n\\\\n\")\\n# print(\"Type of builtins namespace is\\\\t\",type(__builtins__))\\n\\nk=100           # global for everyone \\ndef disp():\\n    k=30        # local for disp but enclosing for inner\\n    r=60\\n    def inner():\\n        k=60    # local for inner\\n        print(\"inside inner\")\\n        print(\"local namespace for inner\\\\t\",locals())\\n    print(\"hello\")\\n    print(\"local namespace for disp\\\\t\",locals())\\n    print(\"\\\\n\")\\n    print(\"Type of local namespace is\\\\t\",type(locals()))\\n    inner()\\n\\nnum1=200\\nprint(\"\\\\n\\\\n\\\\n\")\\nprint(globals())\\nprint(\"\\\\n\\\\n\")\\nprint(\"Type of global namespace is\\\\t\",type(globals()))\\nprint(\"\\\\n\\\\n\")\\ndisp()', '# print(dir(__builtins__))        #   built-in namespace\\n# print(\"\\\\n\\\\n\")\\n# print(\"Type of builtins namespace is\\\\t\",type(__builtins__))\\n\\nk=100           # global for everyone \\ndef disp():\\n    k=30        # local for disp but enclosing for inner\\n    r=60\\n    def inner():\\n        k=60    # local for inner\\n        print(\"inside inner\")\\n        print(\"let\\'s access \\'r\\' from enclosing scope\\\\t\",r)\\n        print(\"local namespace for inner\\\\t\",locals())    # not only \"k\" but \"r\" also\\n    print(\"hello\")\\n    print(\"local namespace for disp\\\\t\",locals())  \\n    print(\"\\\\n\")\\n    print(\"Type of local namespace is\\\\t\",type(locals()))\\n    inner()\\n\\nnum1=200\\nprint(\"\\\\n\\\\n\\\\n\")\\nprint(globals())\\nprint(\"\\\\n\\\\n\")\\nprint(\"Type of global namespace is\\\\t\",type(globals()))\\nprint(\"\\\\n\\\\n\")\\ndisp()', '# print(dir(__builtins__))        #   built-in namespace\\n# print(\"\\\\n\\\\n\")\\n# print(\"Type of builtins namespace is\\\\t\",type(__builtins__))\\n\\nk=100           # global for everyone \\ndef disp():\\n    k=30        # local for disp but enclosing for inner\\n    r=60\\n    def inner():\\n        k=60    # local for inner\\n        print(\"inside inner\")\\n        print(\"let\\'s access \\'r\\' from enclosing scope\\\\t\",r)\\n        print(\"let\\'s access \\'s\\' from enclosing scope\\\\t\",s) # no problem even if \\'s\\' is defined below\\n        print(\"local namespace for inner\\\\t\",locals())    # not only \"k\" but \"r\" also\\n    print(\"hello\")\\n    print(\"local namespace for disp\\\\t\",locals())  \\n    print(\"\\\\n\")\\n    print(\"Type of local namespace is\\\\t\",type(locals()))\\n    s=800\\n    inner()\\n\\nnum1=200\\nprint(\"\\\\n\\\\n\\\\n\")\\nprint(globals())\\nprint(\"\\\\n\\\\n\")\\nprint(\"Type of global namespace is\\\\t\",type(globals()))\\nprint(\"\\\\n\\\\n\")\\ndisp()'], 'Out': {}, 'get_ipython': <bound method InteractiveShell.get_ipython of <ipykernel.zmqshell.ZMQInteractiveShell object at 0x000002038C276500>>, 'exit': <IPython.core.autocall.ZMQExitAutocall object at 0x000002038C276FB0>, 'quit': <IPython.core.autocall.ZMQExitAutocall object at 0x000002038C276FB0>, 'open': <function open at 0x000002038AC5C820>, '_': '', '__': '', '___': '', '__vsc_ipynb_file__': 'd:\\\\PG-DBDA CDAC\\\\Python\\\\lectures\\\\Day_4\\\\Day4practice.ipynb', '_i': '# print(dir(__builtins__))        #   built-in namespace\\n# print(\"\\\\n\\\\n\")\\n# print(\"Type of builtins namespace is\\\\t\",type(__builtins__))\\n\\nk=100           # global for everyone \\ndef disp():\\n    k=30        # local for disp but enclosing for inner\\n    r=60\\n    def inner():\\n        k=60    # local for inner\\n        print(\"inside inner\")\\n        print(\"let\\'s access \\'r\\' from enclosing scope\\\\t\",r)\\n        print(\"local namespace for inner\\\\t\",locals())    # not only \"k\" but \"r\" also\\n    print(\"hello\")\\n    print(\"local namespace for disp\\\\t\",locals())  \\n    print(\"\\\\n\")\\n    print(\"Type of local namespace is\\\\t\",type(locals()))\\n    inner()\\n\\nnum1=200\\nprint(\"\\\\n\\\\n\\\\n\")\\nprint(globals())\\nprint(\"\\\\n\\\\n\")\\nprint(\"Type of global namespace is\\\\t\",type(globals()))\\nprint(\"\\\\n\\\\n\")\\ndisp()', '_ii': '# print(dir(__builtins__))        #   built-in namespace\\n# print(\"\\\\n\\\\n\")\\n# print(\"Type of builtins namespace is\\\\t\",type(__builtins__))\\n\\nk=100           # global for everyone \\ndef disp():\\n    k=30        # local for disp but enclosing for inner\\n    r=60\\n    def inner():\\n        k=60    # local for inner\\n        print(\"inside inner\")\\n        print(\"local namespace for inner\\\\t\",locals())\\n    print(\"hello\")\\n    print(\"local namespace for disp\\\\t\",locals())\\n    print(\"\\\\n\")\\n    print(\"Type of local namespace is\\\\t\",type(locals()))\\n    inner()\\n\\nnum1=200\\nprint(\"\\\\n\\\\n\\\\n\")\\nprint(globals())\\nprint(\"\\\\n\\\\n\")\\nprint(\"Type of global namespace is\\\\t\",type(globals()))\\nprint(\"\\\\n\\\\n\")\\ndisp()', '_iii': 'print(dir(__builtins__))        #   built-in namespace\\nprint(\"\\\\n\\\\n\")\\nprint(\"Type of builtins namespace is\\\\t\",type(__builtins__))\\n\\nk=100           # global for everyone \\ndef disp():\\n    k=30        # local for disp but enclosing for inner\\n    def inner():\\n        k=60    # local for inner\\n        print(\"inside inner\")\\n        print(\"local namespace for inner\\\\t\",locals())\\n    print(\"hello\")\\n    print(\"local namespace for disp\\\\t\",locals())\\n    print(\"\\\\n\")\\n    print(\"Type of local namespace is\\\\t\",type(locals()))\\n    inner()\\n\\nnum1=200\\nprint(\"\\\\n\\\\n\\\\n\")\\nprint(globals())\\nprint(\"\\\\n\\\\n\")\\nprint(\"Type of global namespace is\\\\t\",type(globals()))\\nprint(\"\\\\n\\\\n\")\\ndisp()', '_i1': '# print(dir(__builtins__))        #   built-in namespace\\n# print(\"\\\\n\\\\n\")\\n# print(\"Type of builtins namespace is\\\\t\",type(__builtins__))\\n\\nk=100\\ndef disp():\\n    def inner():\\n        print(\"inside inner\")\\n    var=40\\n    print(\"hello\")\\n    print(locals())\\n    print(\"\\\\n\")\\n    print(\"Type of local namespace is\\\\t\",type(locals()))\\n\\nnum1=200\\nprint(\"\\\\n\\\\n\\\\n\")\\nprint(globals())\\nprint(\"\\\\n\\\\n\")\\nprint(\"Type of global namespace is\\\\t\",type(globals()))\\nprint(\"\\\\n\\\\n\")\\ndisp()', 'k': 100, 'disp': <function disp at 0x000002038C2ED900>, 'num1': 200, '_i2': 'print(dir(__builtins__))        #   built-in namespace\\nprint(\"\\\\n\\\\n\")\\nprint(\"Type of builtins namespace is\\\\t\",type(__builtins__))\\n\\nk=100           # global for everyone \\ndef disp():\\n    k=30        # local for disp but enclosing for inner\\n    def inner():\\n        k=60    # local for inner\\n        print(\"inside inner\")\\n        print(\"local namespace for inner\\\\t\",locals())\\n    print(\"hello\")\\n    print(\"local namespace for disp\\\\t\",locals())\\n    print(\"\\\\n\")\\n    print(\"Type of local namespace is\\\\t\",type(locals()))\\n    inner()\\n\\nnum1=200\\nprint(\"\\\\n\\\\n\\\\n\")\\nprint(globals())\\nprint(\"\\\\n\\\\n\")\\nprint(\"Type of global namespace is\\\\t\",type(globals()))\\nprint(\"\\\\n\\\\n\")\\ndisp()', '_i3': '# print(dir(__builtins__))        #   built-in namespace\\n# print(\"\\\\n\\\\n\")\\n# print(\"Type of builtins namespace is\\\\t\",type(__builtins__))\\n\\nk=100           # global for everyone \\ndef disp():\\n    k=30        # local for disp but enclosing for inner\\n    r=60\\n    def inner():\\n        k=60    # local for inner\\n        print(\"inside inner\")\\n        print(\"local namespace for inner\\\\t\",locals())\\n    print(\"hello\")\\n    print(\"local namespace for disp\\\\t\",locals())\\n    print(\"\\\\n\")\\n    print(\"Type of local namespace is\\\\t\",type(locals()))\\n    inner()\\n\\nnum1=200\\nprint(\"\\\\n\\\\n\\\\n\")\\nprint(globals())\\nprint(\"\\\\n\\\\n\")\\nprint(\"Type of global namespace is\\\\t\",type(globals()))\\nprint(\"\\\\n\\\\n\")\\ndisp()', '_i4': '# print(dir(__builtins__))        #   built-in namespace\\n# print(\"\\\\n\\\\n\")\\n# print(\"Type of builtins namespace is\\\\t\",type(__builtins__))\\n\\nk=100           # global for everyone \\ndef disp():\\n    k=30        # local for disp but enclosing for inner\\n    r=60\\n    def inner():\\n        k=60    # local for inner\\n        print(\"inside inner\")\\n        print(\"let\\'s access \\'r\\' from enclosing scope\\\\t\",r)\\n        print(\"local namespace for inner\\\\t\",locals())    # not only \"k\" but \"r\" also\\n    print(\"hello\")\\n    print(\"local namespace for disp\\\\t\",locals())  \\n    print(\"\\\\n\")\\n    print(\"Type of local namespace is\\\\t\",type(locals()))\\n    inner()\\n\\nnum1=200\\nprint(\"\\\\n\\\\n\\\\n\")\\nprint(globals())\\nprint(\"\\\\n\\\\n\")\\nprint(\"Type of global namespace is\\\\t\",type(globals()))\\nprint(\"\\\\n\\\\n\")\\ndisp()', '_i5': '# print(dir(__builtins__))        #   built-in namespace\\n# print(\"\\\\n\\\\n\")\\n# print(\"Type of builtins namespace is\\\\t\",type(__builtins__))\\n\\nk=100           # global for everyone \\ndef disp():\\n    k=30        # local for disp but enclosing for inner\\n    r=60\\n    def inner():\\n        k=60    # local for inner\\n        print(\"inside inner\")\\n        print(\"let\\'s access \\'r\\' from enclosing scope\\\\t\",r)\\n        print(\"let\\'s access \\'s\\' from enclosing scope\\\\t\",s) # no problem even if \\'s\\' is defined below\\n        print(\"local namespace for inner\\\\t\",locals())    # not only \"k\" but \"r\" also\\n    print(\"hello\")\\n    print(\"local namespace for disp\\\\t\",locals())  \\n    print(\"\\\\n\")\\n    print(\"Type of local namespace is\\\\t\",type(locals()))\\n    s=800\\n    inner()\\n\\nnum1=200\\nprint(\"\\\\n\\\\n\\\\n\")\\nprint(globals())\\nprint(\"\\\\n\\\\n\")\\nprint(\"Type of global namespace is\\\\t\",type(globals()))\\nprint(\"\\\\n\\\\n\")\\ndisp()'}\n",
      "\n",
      "\n",
      "\n",
      "Type of global namespace is\t <class 'dict'>\n",
      "\n",
      "\n",
      "\n",
      "hello\n",
      "local namespace for disp\t {'k': 30, 'inner': <function disp.<locals>.inner at 0x000002038C297A30>, 'r': 60}\n",
      "\n",
      "\n",
      "Type of local namespace is\t <class 'dict'>\n",
      "inside inner\n",
      "let's access 'r' from enclosing scope\t 60\n",
      "let's access 's' from enclosing scope\t 800\n",
      "local namespace for inner\t {'k': 60, 'r': 60, 's': 800}\n"
     ]
    }
   ],
   "source": [
    "# print(dir(__builtins__))        #   built-in namespace\n",
    "# print(\"\\n\\n\")\n",
    "# print(\"Type of builtins namespace is\\t\",type(__builtins__))\n",
    "\n",
    "k=100           # global for everyone \n",
    "def disp():\n",
    "    k=30        # local for disp but enclosing for inner\n",
    "    r=60\n",
    "    def inner():\n",
    "        k=60    # local for inner\n",
    "        print(\"inside inner\")\n",
    "        print(\"let's access 'r' from enclosing scope\\t\",r)\n",
    "        print(\"let's access 's' from enclosing scope\\t\",s) # no problem even if 's' is defined below\n",
    "        print(\"local namespace for inner\\t\",locals())    # not only \"k\" but \"r\" also\n",
    "    print(\"hello\")\n",
    "    print(\"local namespace for disp\\t\",locals())  \n",
    "    print(\"\\n\")\n",
    "    print(\"Type of local namespace is\\t\",type(locals()))\n",
    "    s=800\n",
    "    inner()\n",
    "\n",
    "num1=200\n",
    "print(\"\\n\\n\\n\")\n",
    "print(globals())\n",
    "print(\"\\n\\n\")\n",
    "print(\"Type of global namespace is\\t\",type(globals()))\n",
    "print(\"\\n\\n\")\n",
    "disp()\n"
   ]
  },
  {
   "cell_type": "markdown",
   "metadata": {},
   "source": [
    "#### **E6**"
   ]
  },
  {
   "cell_type": "code",
   "execution_count": null,
   "metadata": {},
   "outputs": [],
   "source": [
    "print(dir(__builtins__))        #   built-in namespace\n",
    "print(\"\\n\\n\")\n",
    "print(\"Type of builtins namespace is\\t\",type(__builtins__))\n",
    "\n",
    "k=100           # global for everyone \n",
    "def disp():\n",
    "    k=30        # local for disp but enclosing for inner\n",
    "    r=60\n",
    "    def inner():\n",
    "        k=60    # local for inner\n",
    "        print(\"inside inner\")\n",
    "        print(\"let's access 'r' from enclosing scope\\t\",r)\n",
    "        print(\"let's access 's' from enclosing scope\\t\",s) # NameError: free variable 's' referenced before assignment in enclosing scope\n",
    "        print(\"local namespace for inner\\t\",locals())    # not only \"k\" but \"r\" also\n",
    "    print(\"hello\")\n",
    "    print(\"local namespace for disp\\t\",locals())  \n",
    "    print(\"\\n\")\n",
    "    print(\"Type of local namespace is\\t\",type(locals()))\n",
    "    inner()\n",
    "    s=800\n",
    "\n",
    "num1=200\n",
    "print(\"\\n\\n\\n\")\n",
    "print(globals())\n",
    "print(\"\\n\\n\")\n",
    "print(\"Type of global namespace is\\t\",type(globals()))\n",
    "print(\"\\n\\n\")\n",
    "disp()\n"
   ]
  },
  {
   "cell_type": "markdown",
   "metadata": {},
   "source": [
    "#### **Additional**"
   ]
  },
  {
   "cell_type": "code",
   "execution_count": 7,
   "metadata": {},
   "outputs": [
    {
     "name": "stdout",
     "output_type": "stream",
     "text": [
      "{'__name__': '__main__', '__doc__': 'Automatically created module for IPython interactive environment', '__package__': None, '__loader__': None, '__spec__': None, '__builtin__': <module 'builtins' (built-in)>, '__builtins__': <module 'builtins' (built-in)>, '_ih': ['', '# print(dir(__builtins__))        #   built-in namespace\\n# print(\"\\\\n\\\\n\")\\n# print(\"Type of builtins namespace is\\\\t\",type(__builtins__))\\n\\nk=100\\ndef disp():\\n    def inner():\\n        print(\"inside inner\")\\n    var=40\\n    print(\"hello\")\\n    print(locals())\\n    print(\"\\\\n\")\\n    print(\"Type of local namespace is\\\\t\",type(locals()))\\n\\nnum1=200\\nprint(\"\\\\n\\\\n\\\\n\")\\nprint(globals())\\nprint(\"\\\\n\\\\n\")\\nprint(\"Type of global namespace is\\\\t\",type(globals()))\\nprint(\"\\\\n\\\\n\")\\ndisp()', 'print(dir(__builtins__))        #   built-in namespace\\nprint(\"\\\\n\\\\n\")\\nprint(\"Type of builtins namespace is\\\\t\",type(__builtins__))\\n\\nk=100           # global for everyone \\ndef disp():\\n    k=30        # local for disp but enclosing for inner\\n    def inner():\\n        k=60    # local for inner\\n        print(\"inside inner\")\\n        print(\"local namespace for inner\\\\t\",locals())\\n    print(\"hello\")\\n    print(\"local namespace for disp\\\\t\",locals())\\n    print(\"\\\\n\")\\n    print(\"Type of local namespace is\\\\t\",type(locals()))\\n    inner()\\n\\nnum1=200\\nprint(\"\\\\n\\\\n\\\\n\")\\nprint(globals())\\nprint(\"\\\\n\\\\n\")\\nprint(\"Type of global namespace is\\\\t\",type(globals()))\\nprint(\"\\\\n\\\\n\")\\ndisp()', '# print(dir(__builtins__))        #   built-in namespace\\n# print(\"\\\\n\\\\n\")\\n# print(\"Type of builtins namespace is\\\\t\",type(__builtins__))\\n\\nk=100           # global for everyone \\ndef disp():\\n    k=30        # local for disp but enclosing for inner\\n    r=60\\n    def inner():\\n        k=60    # local for inner\\n        print(\"inside inner\")\\n        print(\"local namespace for inner\\\\t\",locals())\\n    print(\"hello\")\\n    print(\"local namespace for disp\\\\t\",locals())\\n    print(\"\\\\n\")\\n    print(\"Type of local namespace is\\\\t\",type(locals()))\\n    inner()\\n\\nnum1=200\\nprint(\"\\\\n\\\\n\\\\n\")\\nprint(globals())\\nprint(\"\\\\n\\\\n\")\\nprint(\"Type of global namespace is\\\\t\",type(globals()))\\nprint(\"\\\\n\\\\n\")\\ndisp()', '# print(dir(__builtins__))        #   built-in namespace\\n# print(\"\\\\n\\\\n\")\\n# print(\"Type of builtins namespace is\\\\t\",type(__builtins__))\\n\\nk=100           # global for everyone \\ndef disp():\\n    k=30        # local for disp but enclosing for inner\\n    r=60\\n    def inner():\\n        k=60    # local for inner\\n        print(\"inside inner\")\\n        print(\"let\\'s access \\'r\\' from enclosing scope\\\\t\",r)\\n        print(\"local namespace for inner\\\\t\",locals())    # not only \"k\" but \"r\" also\\n    print(\"hello\")\\n    print(\"local namespace for disp\\\\t\",locals())  \\n    print(\"\\\\n\")\\n    print(\"Type of local namespace is\\\\t\",type(locals()))\\n    inner()\\n\\nnum1=200\\nprint(\"\\\\n\\\\n\\\\n\")\\nprint(globals())\\nprint(\"\\\\n\\\\n\")\\nprint(\"Type of global namespace is\\\\t\",type(globals()))\\nprint(\"\\\\n\\\\n\")\\ndisp()', '# print(dir(__builtins__))        #   built-in namespace\\n# print(\"\\\\n\\\\n\")\\n# print(\"Type of builtins namespace is\\\\t\",type(__builtins__))\\n\\nk=100           # global for everyone \\ndef disp():\\n    k=30        # local for disp but enclosing for inner\\n    r=60\\n    def inner():\\n        k=60    # local for inner\\n        print(\"inside inner\")\\n        print(\"let\\'s access \\'r\\' from enclosing scope\\\\t\",r)\\n        print(\"let\\'s access \\'s\\' from enclosing scope\\\\t\",s) # no problem even if \\'s\\' is defined below\\n        print(\"local namespace for inner\\\\t\",locals())    # not only \"k\" but \"r\" also\\n    print(\"hello\")\\n    print(\"local namespace for disp\\\\t\",locals())  \\n    print(\"\\\\n\")\\n    print(\"Type of local namespace is\\\\t\",type(locals()))\\n    s=800\\n    inner()\\n\\nnum1=200\\nprint(\"\\\\n\\\\n\\\\n\")\\nprint(globals())\\nprint(\"\\\\n\\\\n\")\\nprint(\"Type of global namespace is\\\\t\",type(globals()))\\nprint(\"\\\\n\\\\n\")\\ndisp()', 'print(dir(__builtins__))        #   built-in namespace\\nprint(\"\\\\n\\\\n\")\\nprint(\"Type of builtins namespace is\\\\t\",type(__builtins__))\\n\\nk=100           # global for everyone \\ndef disp():\\n    k=30        # local for disp but enclosing for inner\\n    r=60\\n    def inner():\\n        k=60    # local for inner\\n        print(\"inside inner\")\\n        print(\"let\\'s access \\'r\\' from enclosing scope\\\\t\",r)\\n        print(\"let\\'s access \\'s\\' from enclosing scope\\\\t\",s) # NameError: free variable \\'s\\' referenced before assignment in enclosing scope\\n        print(\"local namespace for inner\\\\t\",locals())    # not only \"k\" but \"r\" also\\n    print(\"hello\")\\n    print(\"local namespace for disp\\\\t\",locals())  \\n    print(\"\\\\n\")\\n    print(\"Type of local namespace is\\\\t\",type(locals()))\\n    inner()\\n    s=800\\n\\nnum1=200\\nprint(\"\\\\n\\\\n\\\\n\")\\nprint(globals())\\nprint(\"\\\\n\\\\n\")\\nprint(\"Type of global namespace is\\\\t\",type(globals()))\\nprint(\"\\\\n\\\\n\")\\ndisp()', \"def disp(var):\\n    print(var)\\ndef show(var):\\n    print(var)\\n\\nprint(locals())\\n\\n\\n\\n# {'__name__': '__main__', '__doc__': None, '__package__': None, '__loader__': <_frozen_importlib_external.SourceFileLoader object at 0x0000023BDB88C610>, '__spec__': None, '__annotations__': {}, '__builtins__': <module 'builtins' (built-in)>, '__file__': 'e:\\\\\\\\temp1\\\\\\\\Examples\\\\\\\\First.py', '__cached__': None, 'disp': <function disp at 0x0000023BDB7B3E20>, 'show': <function show at 0x0000023BDBCA16C0>}  \"], '_oh': {}, '_dh': [WindowsPath('d:/PG-DBDA CDAC/Python/lectures/Day_4')], 'In': ['', '# print(dir(__builtins__))        #   built-in namespace\\n# print(\"\\\\n\\\\n\")\\n# print(\"Type of builtins namespace is\\\\t\",type(__builtins__))\\n\\nk=100\\ndef disp():\\n    def inner():\\n        print(\"inside inner\")\\n    var=40\\n    print(\"hello\")\\n    print(locals())\\n    print(\"\\\\n\")\\n    print(\"Type of local namespace is\\\\t\",type(locals()))\\n\\nnum1=200\\nprint(\"\\\\n\\\\n\\\\n\")\\nprint(globals())\\nprint(\"\\\\n\\\\n\")\\nprint(\"Type of global namespace is\\\\t\",type(globals()))\\nprint(\"\\\\n\\\\n\")\\ndisp()', 'print(dir(__builtins__))        #   built-in namespace\\nprint(\"\\\\n\\\\n\")\\nprint(\"Type of builtins namespace is\\\\t\",type(__builtins__))\\n\\nk=100           # global for everyone \\ndef disp():\\n    k=30        # local for disp but enclosing for inner\\n    def inner():\\n        k=60    # local for inner\\n        print(\"inside inner\")\\n        print(\"local namespace for inner\\\\t\",locals())\\n    print(\"hello\")\\n    print(\"local namespace for disp\\\\t\",locals())\\n    print(\"\\\\n\")\\n    print(\"Type of local namespace is\\\\t\",type(locals()))\\n    inner()\\n\\nnum1=200\\nprint(\"\\\\n\\\\n\\\\n\")\\nprint(globals())\\nprint(\"\\\\n\\\\n\")\\nprint(\"Type of global namespace is\\\\t\",type(globals()))\\nprint(\"\\\\n\\\\n\")\\ndisp()', '# print(dir(__builtins__))        #   built-in namespace\\n# print(\"\\\\n\\\\n\")\\n# print(\"Type of builtins namespace is\\\\t\",type(__builtins__))\\n\\nk=100           # global for everyone \\ndef disp():\\n    k=30        # local for disp but enclosing for inner\\n    r=60\\n    def inner():\\n        k=60    # local for inner\\n        print(\"inside inner\")\\n        print(\"local namespace for inner\\\\t\",locals())\\n    print(\"hello\")\\n    print(\"local namespace for disp\\\\t\",locals())\\n    print(\"\\\\n\")\\n    print(\"Type of local namespace is\\\\t\",type(locals()))\\n    inner()\\n\\nnum1=200\\nprint(\"\\\\n\\\\n\\\\n\")\\nprint(globals())\\nprint(\"\\\\n\\\\n\")\\nprint(\"Type of global namespace is\\\\t\",type(globals()))\\nprint(\"\\\\n\\\\n\")\\ndisp()', '# print(dir(__builtins__))        #   built-in namespace\\n# print(\"\\\\n\\\\n\")\\n# print(\"Type of builtins namespace is\\\\t\",type(__builtins__))\\n\\nk=100           # global for everyone \\ndef disp():\\n    k=30        # local for disp but enclosing for inner\\n    r=60\\n    def inner():\\n        k=60    # local for inner\\n        print(\"inside inner\")\\n        print(\"let\\'s access \\'r\\' from enclosing scope\\\\t\",r)\\n        print(\"local namespace for inner\\\\t\",locals())    # not only \"k\" but \"r\" also\\n    print(\"hello\")\\n    print(\"local namespace for disp\\\\t\",locals())  \\n    print(\"\\\\n\")\\n    print(\"Type of local namespace is\\\\t\",type(locals()))\\n    inner()\\n\\nnum1=200\\nprint(\"\\\\n\\\\n\\\\n\")\\nprint(globals())\\nprint(\"\\\\n\\\\n\")\\nprint(\"Type of global namespace is\\\\t\",type(globals()))\\nprint(\"\\\\n\\\\n\")\\ndisp()', '# print(dir(__builtins__))        #   built-in namespace\\n# print(\"\\\\n\\\\n\")\\n# print(\"Type of builtins namespace is\\\\t\",type(__builtins__))\\n\\nk=100           # global for everyone \\ndef disp():\\n    k=30        # local for disp but enclosing for inner\\n    r=60\\n    def inner():\\n        k=60    # local for inner\\n        print(\"inside inner\")\\n        print(\"let\\'s access \\'r\\' from enclosing scope\\\\t\",r)\\n        print(\"let\\'s access \\'s\\' from enclosing scope\\\\t\",s) # no problem even if \\'s\\' is defined below\\n        print(\"local namespace for inner\\\\t\",locals())    # not only \"k\" but \"r\" also\\n    print(\"hello\")\\n    print(\"local namespace for disp\\\\t\",locals())  \\n    print(\"\\\\n\")\\n    print(\"Type of local namespace is\\\\t\",type(locals()))\\n    s=800\\n    inner()\\n\\nnum1=200\\nprint(\"\\\\n\\\\n\\\\n\")\\nprint(globals())\\nprint(\"\\\\n\\\\n\")\\nprint(\"Type of global namespace is\\\\t\",type(globals()))\\nprint(\"\\\\n\\\\n\")\\ndisp()', 'print(dir(__builtins__))        #   built-in namespace\\nprint(\"\\\\n\\\\n\")\\nprint(\"Type of builtins namespace is\\\\t\",type(__builtins__))\\n\\nk=100           # global for everyone \\ndef disp():\\n    k=30        # local for disp but enclosing for inner\\n    r=60\\n    def inner():\\n        k=60    # local for inner\\n        print(\"inside inner\")\\n        print(\"let\\'s access \\'r\\' from enclosing scope\\\\t\",r)\\n        print(\"let\\'s access \\'s\\' from enclosing scope\\\\t\",s) # NameError: free variable \\'s\\' referenced before assignment in enclosing scope\\n        print(\"local namespace for inner\\\\t\",locals())    # not only \"k\" but \"r\" also\\n    print(\"hello\")\\n    print(\"local namespace for disp\\\\t\",locals())  \\n    print(\"\\\\n\")\\n    print(\"Type of local namespace is\\\\t\",type(locals()))\\n    inner()\\n    s=800\\n\\nnum1=200\\nprint(\"\\\\n\\\\n\\\\n\")\\nprint(globals())\\nprint(\"\\\\n\\\\n\")\\nprint(\"Type of global namespace is\\\\t\",type(globals()))\\nprint(\"\\\\n\\\\n\")\\ndisp()', \"def disp(var):\\n    print(var)\\ndef show(var):\\n    print(var)\\n\\nprint(locals())\\n\\n\\n\\n# {'__name__': '__main__', '__doc__': None, '__package__': None, '__loader__': <_frozen_importlib_external.SourceFileLoader object at 0x0000023BDB88C610>, '__spec__': None, '__annotations__': {}, '__builtins__': <module 'builtins' (built-in)>, '__file__': 'e:\\\\\\\\temp1\\\\\\\\Examples\\\\\\\\First.py', '__cached__': None, 'disp': <function disp at 0x0000023BDB7B3E20>, 'show': <function show at 0x0000023BDBCA16C0>}  \"], 'Out': {}, 'get_ipython': <bound method InteractiveShell.get_ipython of <ipykernel.zmqshell.ZMQInteractiveShell object at 0x000002038C276500>>, 'exit': <IPython.core.autocall.ZMQExitAutocall object at 0x000002038C276FB0>, 'quit': <IPython.core.autocall.ZMQExitAutocall object at 0x000002038C276FB0>, 'open': <function open at 0x000002038AC5C820>, '_': '', '__': '', '___': '', '__vsc_ipynb_file__': 'd:\\\\PG-DBDA CDAC\\\\Python\\\\lectures\\\\Day_4\\\\Day4practice.ipynb', '_i': 'print(dir(__builtins__))        #   built-in namespace\\nprint(\"\\\\n\\\\n\")\\nprint(\"Type of builtins namespace is\\\\t\",type(__builtins__))\\n\\nk=100           # global for everyone \\ndef disp():\\n    k=30        # local for disp but enclosing for inner\\n    r=60\\n    def inner():\\n        k=60    # local for inner\\n        print(\"inside inner\")\\n        print(\"let\\'s access \\'r\\' from enclosing scope\\\\t\",r)\\n        print(\"let\\'s access \\'s\\' from enclosing scope\\\\t\",s) # NameError: free variable \\'s\\' referenced before assignment in enclosing scope\\n        print(\"local namespace for inner\\\\t\",locals())    # not only \"k\" but \"r\" also\\n    print(\"hello\")\\n    print(\"local namespace for disp\\\\t\",locals())  \\n    print(\"\\\\n\")\\n    print(\"Type of local namespace is\\\\t\",type(locals()))\\n    inner()\\n    s=800\\n\\nnum1=200\\nprint(\"\\\\n\\\\n\\\\n\")\\nprint(globals())\\nprint(\"\\\\n\\\\n\")\\nprint(\"Type of global namespace is\\\\t\",type(globals()))\\nprint(\"\\\\n\\\\n\")\\ndisp()', '_ii': '# print(dir(__builtins__))        #   built-in namespace\\n# print(\"\\\\n\\\\n\")\\n# print(\"Type of builtins namespace is\\\\t\",type(__builtins__))\\n\\nk=100           # global for everyone \\ndef disp():\\n    k=30        # local for disp but enclosing for inner\\n    r=60\\n    def inner():\\n        k=60    # local for inner\\n        print(\"inside inner\")\\n        print(\"let\\'s access \\'r\\' from enclosing scope\\\\t\",r)\\n        print(\"let\\'s access \\'s\\' from enclosing scope\\\\t\",s) # no problem even if \\'s\\' is defined below\\n        print(\"local namespace for inner\\\\t\",locals())    # not only \"k\" but \"r\" also\\n    print(\"hello\")\\n    print(\"local namespace for disp\\\\t\",locals())  \\n    print(\"\\\\n\")\\n    print(\"Type of local namespace is\\\\t\",type(locals()))\\n    s=800\\n    inner()\\n\\nnum1=200\\nprint(\"\\\\n\\\\n\\\\n\")\\nprint(globals())\\nprint(\"\\\\n\\\\n\")\\nprint(\"Type of global namespace is\\\\t\",type(globals()))\\nprint(\"\\\\n\\\\n\")\\ndisp()', '_iii': '# print(dir(__builtins__))        #   built-in namespace\\n# print(\"\\\\n\\\\n\")\\n# print(\"Type of builtins namespace is\\\\t\",type(__builtins__))\\n\\nk=100           # global for everyone \\ndef disp():\\n    k=30        # local for disp but enclosing for inner\\n    r=60\\n    def inner():\\n        k=60    # local for inner\\n        print(\"inside inner\")\\n        print(\"let\\'s access \\'r\\' from enclosing scope\\\\t\",r)\\n        print(\"local namespace for inner\\\\t\",locals())    # not only \"k\" but \"r\" also\\n    print(\"hello\")\\n    print(\"local namespace for disp\\\\t\",locals())  \\n    print(\"\\\\n\")\\n    print(\"Type of local namespace is\\\\t\",type(locals()))\\n    inner()\\n\\nnum1=200\\nprint(\"\\\\n\\\\n\\\\n\")\\nprint(globals())\\nprint(\"\\\\n\\\\n\")\\nprint(\"Type of global namespace is\\\\t\",type(globals()))\\nprint(\"\\\\n\\\\n\")\\ndisp()', '_i1': '# print(dir(__builtins__))        #   built-in namespace\\n# print(\"\\\\n\\\\n\")\\n# print(\"Type of builtins namespace is\\\\t\",type(__builtins__))\\n\\nk=100\\ndef disp():\\n    def inner():\\n        print(\"inside inner\")\\n    var=40\\n    print(\"hello\")\\n    print(locals())\\n    print(\"\\\\n\")\\n    print(\"Type of local namespace is\\\\t\",type(locals()))\\n\\nnum1=200\\nprint(\"\\\\n\\\\n\\\\n\")\\nprint(globals())\\nprint(\"\\\\n\\\\n\")\\nprint(\"Type of global namespace is\\\\t\",type(globals()))\\nprint(\"\\\\n\\\\n\")\\ndisp()', 'k': 100, 'disp': <function disp at 0x000002038D556D40>, 'num1': 200, '_i2': 'print(dir(__builtins__))        #   built-in namespace\\nprint(\"\\\\n\\\\n\")\\nprint(\"Type of builtins namespace is\\\\t\",type(__builtins__))\\n\\nk=100           # global for everyone \\ndef disp():\\n    k=30        # local for disp but enclosing for inner\\n    def inner():\\n        k=60    # local for inner\\n        print(\"inside inner\")\\n        print(\"local namespace for inner\\\\t\",locals())\\n    print(\"hello\")\\n    print(\"local namespace for disp\\\\t\",locals())\\n    print(\"\\\\n\")\\n    print(\"Type of local namespace is\\\\t\",type(locals()))\\n    inner()\\n\\nnum1=200\\nprint(\"\\\\n\\\\n\\\\n\")\\nprint(globals())\\nprint(\"\\\\n\\\\n\")\\nprint(\"Type of global namespace is\\\\t\",type(globals()))\\nprint(\"\\\\n\\\\n\")\\ndisp()', '_i3': '# print(dir(__builtins__))        #   built-in namespace\\n# print(\"\\\\n\\\\n\")\\n# print(\"Type of builtins namespace is\\\\t\",type(__builtins__))\\n\\nk=100           # global for everyone \\ndef disp():\\n    k=30        # local for disp but enclosing for inner\\n    r=60\\n    def inner():\\n        k=60    # local for inner\\n        print(\"inside inner\")\\n        print(\"local namespace for inner\\\\t\",locals())\\n    print(\"hello\")\\n    print(\"local namespace for disp\\\\t\",locals())\\n    print(\"\\\\n\")\\n    print(\"Type of local namespace is\\\\t\",type(locals()))\\n    inner()\\n\\nnum1=200\\nprint(\"\\\\n\\\\n\\\\n\")\\nprint(globals())\\nprint(\"\\\\n\\\\n\")\\nprint(\"Type of global namespace is\\\\t\",type(globals()))\\nprint(\"\\\\n\\\\n\")\\ndisp()', '_i4': '# print(dir(__builtins__))        #   built-in namespace\\n# print(\"\\\\n\\\\n\")\\n# print(\"Type of builtins namespace is\\\\t\",type(__builtins__))\\n\\nk=100           # global for everyone \\ndef disp():\\n    k=30        # local for disp but enclosing for inner\\n    r=60\\n    def inner():\\n        k=60    # local for inner\\n        print(\"inside inner\")\\n        print(\"let\\'s access \\'r\\' from enclosing scope\\\\t\",r)\\n        print(\"local namespace for inner\\\\t\",locals())    # not only \"k\" but \"r\" also\\n    print(\"hello\")\\n    print(\"local namespace for disp\\\\t\",locals())  \\n    print(\"\\\\n\")\\n    print(\"Type of local namespace is\\\\t\",type(locals()))\\n    inner()\\n\\nnum1=200\\nprint(\"\\\\n\\\\n\\\\n\")\\nprint(globals())\\nprint(\"\\\\n\\\\n\")\\nprint(\"Type of global namespace is\\\\t\",type(globals()))\\nprint(\"\\\\n\\\\n\")\\ndisp()', '_i5': '# print(dir(__builtins__))        #   built-in namespace\\n# print(\"\\\\n\\\\n\")\\n# print(\"Type of builtins namespace is\\\\t\",type(__builtins__))\\n\\nk=100           # global for everyone \\ndef disp():\\n    k=30        # local for disp but enclosing for inner\\n    r=60\\n    def inner():\\n        k=60    # local for inner\\n        print(\"inside inner\")\\n        print(\"let\\'s access \\'r\\' from enclosing scope\\\\t\",r)\\n        print(\"let\\'s access \\'s\\' from enclosing scope\\\\t\",s) # no problem even if \\'s\\' is defined below\\n        print(\"local namespace for inner\\\\t\",locals())    # not only \"k\" but \"r\" also\\n    print(\"hello\")\\n    print(\"local namespace for disp\\\\t\",locals())  \\n    print(\"\\\\n\")\\n    print(\"Type of local namespace is\\\\t\",type(locals()))\\n    s=800\\n    inner()\\n\\nnum1=200\\nprint(\"\\\\n\\\\n\\\\n\")\\nprint(globals())\\nprint(\"\\\\n\\\\n\")\\nprint(\"Type of global namespace is\\\\t\",type(globals()))\\nprint(\"\\\\n\\\\n\")\\ndisp()', '_i6': 'print(dir(__builtins__))        #   built-in namespace\\nprint(\"\\\\n\\\\n\")\\nprint(\"Type of builtins namespace is\\\\t\",type(__builtins__))\\n\\nk=100           # global for everyone \\ndef disp():\\n    k=30        # local for disp but enclosing for inner\\n    r=60\\n    def inner():\\n        k=60    # local for inner\\n        print(\"inside inner\")\\n        print(\"let\\'s access \\'r\\' from enclosing scope\\\\t\",r)\\n        print(\"let\\'s access \\'s\\' from enclosing scope\\\\t\",s) # NameError: free variable \\'s\\' referenced before assignment in enclosing scope\\n        print(\"local namespace for inner\\\\t\",locals())    # not only \"k\" but \"r\" also\\n    print(\"hello\")\\n    print(\"local namespace for disp\\\\t\",locals())  \\n    print(\"\\\\n\")\\n    print(\"Type of local namespace is\\\\t\",type(locals()))\\n    inner()\\n    s=800\\n\\nnum1=200\\nprint(\"\\\\n\\\\n\\\\n\")\\nprint(globals())\\nprint(\"\\\\n\\\\n\")\\nprint(\"Type of global namespace is\\\\t\",type(globals()))\\nprint(\"\\\\n\\\\n\")\\ndisp()', '_i7': \"def disp(var):\\n    print(var)\\ndef show(var):\\n    print(var)\\n\\nprint(locals())\\n\\n\\n\\n# {'__name__': '__main__', '__doc__': None, '__package__': None, '__loader__': <_frozen_importlib_external.SourceFileLoader object at 0x0000023BDB88C610>, '__spec__': None, '__annotations__': {}, '__builtins__': <module 'builtins' (built-in)>, '__file__': 'e:\\\\\\\\temp1\\\\\\\\Examples\\\\\\\\First.py', '__cached__': None, 'disp': <function disp at 0x0000023BDB7B3E20>, 'show': <function show at 0x0000023BDBCA16C0>}  \", 'show': <function show at 0x000002038C297E20>}\n"
     ]
    }
   ],
   "source": [
    "def disp(var):\n",
    "    print(var)\n",
    "def show(var):\n",
    "    print(var)\n",
    "\n",
    "print(locals())\n",
    "\n",
    "\n",
    "\n",
    "# {'__name__': '__main__', '__doc__': None, '__package__': None, '__loader__': <_frozen_importlib_external.SourceFileLoader object at 0x0000023BDB88C610>, '__spec__': None, '__annotations__': {}, '__builtins__': <module 'builtins' (built-in)>, '__file__': 'e:\\\\temp1\\\\Examples\\\\First.py', '__cached__': None, 'disp': <function disp at 0x0000023BDB7B3E20>, 'show': <function show at 0x0000023BDBCA16C0>}  \n"
   ]
  },
  {
   "cell_type": "markdown",
   "metadata": {},
   "source": [
    "## **Lambda**"
   ]
  },
  {
   "cell_type": "markdown",
   "metadata": {},
   "source": [
    "### **What are Anonymous functions in Python**"
   ]
  },
  {
   "cell_type": "markdown",
   "metadata": {},
   "source": [
    "Anonymous functions are also called lambda functions in Python because instead of declaring them with the standard def keyword, you use the lambda keyword.\n",
    "\n",
    "A lambda function is a small anonymous function.\n",
    "\n",
    "A lambda function can take any number of arguments, but can only have one expression.\n",
    "\n",
    "Syntax\n",
    "lambda arguments : expression\n",
    "\n",
    "The expression is executed and the result is returned:"
   ]
  },
  {
   "cell_type": "markdown",
   "metadata": {},
   "source": [
    "### **The main use of Lambda in Python**"
   ]
  },
  {
   "cell_type": "markdown",
   "metadata": {},
   "source": [
    "Anonymous functions are also called lambda functions in Python because instead of declaring them with the standard def keyword, you use the lambda keyword.\n",
    "\n",
    "A lambda function is a small anonymous function.\n",
    "\n",
    "A lambda function can take any number of arguments, but can only have one expression.\n",
    "\n",
    "Syntax\n",
    "lambda arguments : expression\n",
    "\n",
    "The expression is executed and the result is returned:"
   ]
  },
  {
   "cell_type": "markdown",
   "metadata": {},
   "source": [
    "### **Lambda vs Normal Function**"
   ]
  },
  {
   "cell_type": "code",
   "execution_count": 9,
   "metadata": {},
   "outputs": [
    {
     "name": "stdout",
     "output_type": "stream",
     "text": [
      "[2, 4, 6, 8, 10, 12]\n"
     ]
    }
   ],
   "source": [
    "\"\"\" def double(x):\n",
    "  return x*2\n",
    "  \n",
    "my_list = [1, 2, 3, 4, 5, 6]\n",
    "new_list = list(map(double, my_list))\n",
    "print(new_list) # [2, 4, 6, 8, 10, 12] \"\"\"\n",
    "\n",
    "my_list = [1, 2, 3, 4, 5, 6]\n",
    "new_list = list(map(lambda x: x*2, my_list))\n",
    "print(new_list) # [2, 4, 6, 8, 10, 12]"
   ]
  },
  {
   "cell_type": "markdown",
   "metadata": {},
   "source": [
    "### **Lambda vs Functions**"
   ]
  },
  {
   "cell_type": "markdown",
   "metadata": {},
   "source": [
    "In Python, functions are usually created like this:\n",
    "\n",
    "def my_func(a):\n",
    "\n",
    "  `# function body`\n",
    "\n",
    "You declare them with the def keyword, give them a name, and then add the list of arguments surrounded by round parenthesis. There could be many lines of code, with as many statements and expressions as you need inside.\n",
    "But sometimes you might need a function with only one expression inside, for example a function that doubles its argument:\n",
    "\n",
    "def double(x):\n",
    "  \n",
    "  return x*2\n",
    "\n",
    "This is a function that you can use, for example, with the map method.\n",
    "\n",
    "def double(x):\n",
    "\n",
    "  return x*2\n",
    "  \n",
    "my_list = [1, 2, 3, 4, 5, 6]\n",
    "\n",
    "new_list = list(map(double, my_list))\n",
    "\n",
    "print(new_list) # [2, 4, 6, 8, 10, 12]\n",
    "\n",
    "This would be a good place to use a lambda function, as it can be created exactly where you need to use it. This means using fewer lines of code and and you can avoid creating a named function that is only used once (and then has to be stored in memory).\n"
   ]
  },
  {
   "cell_type": "markdown",
   "metadata": {},
   "source": [
    "### **How to use lambda functions in Python**"
   ]
  },
  {
   "cell_type": "markdown",
   "metadata": {},
   "source": [
    "You use lambda functions when you need a small function for a short time – for example as an argument of a higher order function like map or filter.\n",
    "The syntax of a lambda function is lambda args: expression. You first write the word lambda, then a single space, then a comma separated list of all the arguments, followed by a colon, and then the expression that is the body of the function.\n",
    "Note that you can't give a name to lambda functions, as they are anonymous (without a name) by definition.\n",
    "A lambda function can have as many arguments as you need to use, but the body must be one single expression.\n",
    "\n",
    "**Example 1**\n",
    "\n",
    "For example, you could write a lambda function that doubles its argument: lambda x: x*2, and use it with the map function to double all elements in a list:\n",
    "\n",
    "my_list = [1, 2, 3, 4, 5, 6]\n",
    "\n",
    "new_list = list(map(lambda x: x*2, my_list))\n",
    "\n",
    "print(new_list) # [2, 4, 6, 8, 10, 12]\n",
    "\n",
    "Notice the difference between this one and the function we wrote above with the double function. This one is more compact, and there is not an extra function occupying space in memory.\n",
    "\n"
   ]
  },
  {
   "cell_type": "markdown",
   "metadata": {},
   "source": [
    "### **Examples**"
   ]
  },
  {
   "cell_type": "markdown",
   "metadata": {},
   "source": [
    "#### **First**"
   ]
  },
  {
   "cell_type": "code",
   "execution_count": 6,
   "metadata": {},
   "outputs": [
    {
     "name": "stdout",
     "output_type": "stream",
     "text": [
      "125\n"
     ]
    }
   ],
   "source": [
    "# mystring = 'Vidyanidhi'\n",
    "\n",
    "# makeupper = lambda val: val.upper()\n",
    "\n",
    "# print(makeupper(mystring))\n",
    "\n",
    "\n",
    "\n",
    "# makecube = lambda val: val**3\n",
    "# myval=int(input(\"enter number to calculate the cube\"))\n",
    "# print(makecube(myval))\n",
    "\n",
    "# \"\"\"\n",
    "# def add(x,y):\n",
    "#     return x+y\n",
    "# \"\"\"\n",
    "\n",
    "# add=lambda x,y:x+y\n",
    "# print(\"add is the reference to the object of type\\t\",type(add))\n",
    "# print(\"address of the object where add refers to is\\t\", id(add))\n",
    "# print(add(5,6))\n",
    "\n",
    "# multiply=lambda x,y:x*y\n",
    "# print(\"multiply is the reference to the object of type\\t\",type(multiply))\n",
    "# print(\"address of the object where multiply refers to is\\t\", id(multiply))\n",
    "# print(multiply(9,8))\n",
    "\n",
    "# disp=lambda:print(\"welcome\")\n",
    "# print(\"disp is the reference to the object of type\\t\",type(disp))\n",
    "# print(\"address of the object where disp refers to is\\t\", id(disp))\n",
    "# disp()\n",
    "\n",
    "\n",
    "# disp=lambda:[print(\"welcome\"),print(\"hi\"),print(\"Good Bye\")]\n",
    "# print(\"disp is the reference to the object of type\\t\",type(disp))\n",
    "# print(\"address of the object where disp refers to is\\t\", id(disp))\n",
    "# disp()\n",
    "\n",
    "# # no need to collect lambda in any variable\n",
    "\n",
    "# (lambda:print(\"Welcome to lambda world\"))()\n",
    "\n",
    "\n",
    "# print((lambda x: x*x)(12))\n"
   ]
  },
  {
   "cell_type": "markdown",
   "metadata": {},
   "source": [
    "#### **Second**"
   ]
  },
  {
   "cell_type": "code",
   "execution_count": 11,
   "metadata": {},
   "outputs": [
    {
     "name": "stdout",
     "output_type": "stream",
     "text": [
      "welcome to lambda world\n",
      "this is another lambda\n"
     ]
    }
   ],
   "source": [
    "# passing lambda as an argument\n",
    "\n",
    "def myfun(fun):\n",
    "    fun()\n",
    "temp=lambda:print(\"welcome to lambda world\")\n",
    "myfun(temp)\n",
    "\n",
    "myfun(lambda:print(\"this is another lambda\"))"
   ]
  },
  {
   "cell_type": "markdown",
   "metadata": {},
   "source": [
    "#### **Third**"
   ]
  },
  {
   "cell_type": "code",
   "execution_count": 14,
   "metadata": {},
   "outputs": [
    {
     "name": "stdout",
     "output_type": "stream",
     "text": [
      "1\n",
      "2\n",
      "3\n",
      "4\n",
      "5\n",
      "6\n"
     ]
    }
   ],
   "source": [
    "def myfun(fun,num):\n",
    "    fun(num)\n",
    "disp=lambda x: [print(i) for i in range(1,x)]\n",
    "\n",
    "myfun(disp,7)"
   ]
  },
  {
   "cell_type": "markdown",
   "metadata": {},
   "source": [
    "#### **Fourth**"
   ]
  },
  {
   "cell_type": "code",
   "execution_count": 21,
   "metadata": {},
   "outputs": [
    {
     "name": "stdout",
     "output_type": "stream",
     "text": [
      "(10, 20, 30, 40, 50)\n"
     ]
    }
   ],
   "source": [
    "def myfun(fun,*val):\n",
    "    fun(val)\n",
    "\n",
    "multiple=lambda *arg:[print(i) for i in arg]\n",
    "\n",
    "myfun(multiple,10,20,30,40,50)"
   ]
  },
  {
   "cell_type": "markdown",
   "metadata": {},
   "source": [
    "#### **Fifth_if_else**"
   ]
  },
  {
   "cell_type": "code",
   "execution_count": 16,
   "metadata": {},
   "outputs": [
    {
     "name": "stdout",
     "output_type": "stream",
     "text": [
      "no arg passed to lambda\n",
      "300\n",
      "500\n",
      "600\n",
      "MIN 20\n",
      "MAX 10\n"
     ]
    }
   ],
   "source": [
    "temp1=lambda *x:[print(\"no arg passed to lambda\") if(len(x)==0)  else [print(i) for i in x ]]\n",
    "temp1()\n",
    "temp1(300)\n",
    "temp1(500,600)\n",
    "\n",
    "min = lambda a, b : a if(a < b) else b\n",
    "print('MIN',min(100, 20))\n",
    "\n",
    "min1 = (lambda a, b : a if(a < b) else b)(10,20)\n",
    "print('MAX',min1)"
   ]
  },
  {
   "cell_type": "markdown",
   "metadata": {},
   "source": [
    "#### **if else if  else in lambda**\n",
    "`lambda <args> : <statement1> if <condition > ( <statement2> if <condition> else <statement3>)`"
   ]
  },
  {
   "cell_type": "markdown",
   "metadata": {},
   "source": [
    "#### **Lambda vs normal function**"
   ]
  },
  {
   "cell_type": "markdown",
   "metadata": {},
   "source": [
    "With lambda function\n",
    "\n",
    "Supports single-line sometimes statements that return some value.\t\n",
    "Good for performing short operations/data manipulations.\n",
    "Using the lambda function can sometime reduce the readability of code.\t\n",
    "\n",
    "\n",
    "\n",
    "normal function\n",
    "\n",
    "Supports any number of lines inside a function block.\n",
    "Good for any cases that require multiple lines of code.\n",
    "We can use comments and function descriptions for easy readability."
   ]
  },
  {
   "cell_type": "markdown",
   "metadata": {},
   "source": [
    "#### **The main difference**"
   ]
  },
  {
   "cell_type": "code",
   "execution_count": 15,
   "metadata": {},
   "outputs": [
    {
     "name": "stdout",
     "output_type": "stream",
     "text": [
      "10\n",
      "20\n",
      "30\n",
      "40\n",
      "1\n",
      "2\n",
      "3\n",
      "4\n",
      "5\n",
      "6\n",
      "name Rohit\n",
      "age 36\n",
      "address Mumbai\n"
     ]
    },
    {
     "data": {
      "text/plain": [
       "[None, None, None]"
      ]
     },
     "execution_count": 22,
     "metadata": {},
     "output_type": "execute_result"
    }
   ],
   "source": [
    "def myfun(*values):\n",
    "    for i in values:\n",
    "        print(i)\n",
    "myfun(10,20,30,40)\n",
    "\n",
    "# now with lambda\n",
    "\n",
    "myfun1=lambda *values:[print (i) for i in values]    # compactness\n",
    "\n",
    "myfun1(1,2,3,4,5,6)\n",
    "\n",
    "myfun2=lambda **values1:[print (key,value) for  key,value in values1.items()]  # compactness\n",
    "\n",
    "myfun2(name=\"Rohit\",age=36,address=\"Mumbai\")"
   ]
  },
  {
   "cell_type": "markdown",
   "metadata": {},
   "source": [
    "#### **With map and filter**"
   ]
  },
  {
   "cell_type": "code",
   "execution_count": 26,
   "metadata": {},
   "outputs": [
    {
     "name": "stdout",
     "output_type": "stream",
     "text": [
      "[2, 4, 6, 8, 10, 12]\n",
      "['DOG', 'CAT', 'PARROT', 'RABBIT']\n",
      "[5, 7, 97, 77, 23, 73, 61]\n",
      "[90, 59, 21, 60]\n"
     ]
    }
   ],
   "source": [
    "my_list = [1, 2, 3, 4, 5, 6]\n",
    "new_list = list(map(lambda x: x*2, my_list))\n",
    "print(new_list) \n",
    "\n",
    "\n",
    "\n",
    "animals = ['dog', 'cat', 'parrot', 'rabbit']\n",
    "uppered_animals = list(map(lambda animal: animal.upper(), animals))\n",
    "\n",
    "print(uppered_animals)\n",
    "\n",
    "\n",
    "\n",
    "li = [5, 7, 22, 97, 54, 62, 77, 23, 73, 61]\n",
    "\n",
    "final_list = list(filter(lambda x: (x % 2 != 0), li))\n",
    "print(final_list)\n",
    "\n",
    "\n",
    "ages = [13, 90, 17, 59, 21, 60, 5]\n",
    "adults = list(filter(lambda age: age > 18, ages))\n",
    "\n",
    "print(adults)"
   ]
  },
  {
   "cell_type": "markdown",
   "metadata": {},
   "source": [
    "## **How to use a Map function**\n"
   ]
  },
  {
   "cell_type": "markdown",
   "metadata": {},
   "source": [
    "\n",
    "Python map() function applies another function on a given iterable (List/String/Dictionary, etc.) and returns map object. In simple words, it traverses the list, calls the function for each element, and returns the results.\n",
    "Python map object is also iterable holding the list of each iteration. We can also convert it to List or Dictionary or other types using their constructor functions.\n",
    "\n",
    "The map() function takes at least two parameters. The first argument is a user-defined function, and then one or more iterable types.\n",
    "If you pass only one iterable, then map() calls the function for each of its elements and returns map object with results.\n",
    "However, if you provide multiple iterables, then the function will be called with each of their elements as arguments.\n",
    "\n"
   ]
  },
  {
   "cell_type": "markdown",
   "metadata": {},
   "source": [
    "### **E1**"
   ]
  },
  {
   "cell_type": "code",
   "execution_count": 18,
   "metadata": {},
   "outputs": [
    {
     "name": "stdout",
     "output_type": "stream",
     "text": [
      "(10, 20, 30, 40)\n",
      "<class 'tuple'>\n",
      "[20, 40, 60, 80]\n"
     ]
    }
   ],
   "source": [
    "# using map() function with tuple\n",
    "# you must return a value from the function you passed to map function\n",
    "\n",
    "\n",
    "def addition(n):\n",
    "    return n+n\n",
    "\n",
    "mytuple = (10,20,30,40)\n",
    "print(mytuple)\n",
    "print(type(mytuple))\n",
    "\n",
    "result = map(addition,mytuple)\n",
    "print(list(result))"
   ]
  },
  {
   "cell_type": "markdown",
   "metadata": {},
   "source": [
    "### **E1_a**"
   ]
  },
  {
   "cell_type": "code",
   "execution_count": null,
   "metadata": {},
   "outputs": [],
   "source": [
    "# using map() function with tuple\n",
    "# map function checks that the first argument you give should be a function\n",
    "\n",
    "def addition(n):\n",
    "    return n+n\n",
    "\n",
    "mytuple = (10,20,30,40)\n",
    "print(mytuple)\n",
    "print(type(mytuple))\n",
    "\n",
    "temp=\"hello\"\n",
    "result = map(temp,mytuple)     #  TypeError: 'str' object is not callable\n",
    "print(list(result))"
   ]
  },
  {
   "cell_type": "markdown",
   "metadata": {},
   "source": [
    "### **E1_b**"
   ]
  },
  {
   "cell_type": "code",
   "execution_count": 28,
   "metadata": {},
   "outputs": [
    {
     "name": "stdout",
     "output_type": "stream",
     "text": [
      "(10, 20, 30, 40)\n",
      "<class 'tuple'>\n",
      "20\n",
      "40\n",
      "60\n",
      "80\n",
      "[None, None, None, None]\n"
     ]
    }
   ],
   "source": [
    "# using map() function with tuple\n",
    "\n",
    "\n",
    "def addition(n):\n",
    "    print(n+n)\n",
    "\n",
    "mytuple = (10,20,30,40)\n",
    "print(mytuple)\n",
    "print(type(mytuple))\n",
    "\n",
    "temp=\"hello\"\n",
    "result = map(addition,mytuple)     \n",
    "print(list(result))"
   ]
  },
  {
   "cell_type": "markdown",
   "metadata": {},
   "source": [
    "### **E2**"
   ]
  },
  {
   "cell_type": "code",
   "execution_count": 29,
   "metadata": {},
   "outputs": [
    {
     "name": "stdout",
     "output_type": "stream",
     "text": [
      "(10, 20, 30, 40)\n",
      "<class 'tuple'>\n",
      "[12, 22, 32, 42]\n"
     ]
    }
   ],
   "source": [
    "# using map() function with tuple by passing lambda\n",
    "\n",
    "mytuple = (10,20,30,40)\n",
    "print(mytuple)\n",
    "print(type(mytuple))\n",
    "\n",
    "result = map(lambda x:x+2,mytuple)\n",
    "# print(result)\n",
    "print(list(result))"
   ]
  },
  {
   "cell_type": "markdown",
   "metadata": {},
   "source": [
    "### **E3**"
   ]
  },
  {
   "cell_type": "code",
   "execution_count": 22,
   "metadata": {},
   "outputs": [
    {
     "name": "stdout",
     "output_type": "stream",
     "text": [
      "[10, 20, 30, 40]\n",
      "[100, 200, 300, 400]\n",
      "[110, 220, 330, 440]\n"
     ]
    }
   ],
   "source": [
    "# Add two lists using map and lambda\n",
    "\n",
    "mylist1 = [10,20,30,40]\n",
    "mylist2 = [100,200,300,400]\n",
    "\n",
    "print(mylist1)\n",
    "print(mylist2)\n",
    "\n",
    "result = map(lambda x,y:x+y,mylist1,mylist2)\n",
    "print(list(result))"
   ]
  },
  {
   "cell_type": "markdown",
   "metadata": {},
   "source": [
    "### **E4**"
   ]
  },
  {
   "cell_type": "code",
   "execution_count": 23,
   "metadata": {},
   "outputs": [
    {
     "name": "stdout",
     "output_type": "stream",
     "text": [
      "[['s', 'a', 't'], ['b', 'a', 't'], ['c', 'a', 't'], ['m', 'a', 't']]\n",
      "['s', 'a', 't']\n",
      "['b', 'a', 't']\n",
      "['c', 'a', 't']\n",
      "['m', 'a', 't']\n",
      "s     a     t     \n",
      "\n",
      "b     a     t     \n",
      "\n",
      "c     a     t     \n",
      "\n",
      "m     a     t     \n",
      "\n"
     ]
    }
   ],
   "source": [
    "# List of strings\n",
    "l = ['sat', 'bat', 'cat', 'mat']\n",
    "\n",
    "# map() can listify the list of strings individually\n",
    "test = list(map(list, l))\n",
    "print(test)\n",
    "\n",
    "# what does map(list,l) do ?\n",
    "    # map(list,l) returns  [['s','a','t'],['b','a','t'],['c','a','t'],['m','a','t']]\n",
    "\n",
    "for i in map(list,l):\n",
    "    print(i)\n",
    "\n",
    "for i in map(list,l):\n",
    "    for j in i:\n",
    "        print(j,end=\"     \")\n",
    "    print(\"\\n\")"
   ]
  },
  {
   "cell_type": "markdown",
   "metadata": {},
   "source": [
    "### **Test**"
   ]
  },
  {
   "cell_type": "code",
   "execution_count": 24,
   "metadata": {},
   "outputs": [
    {
     "name": "stdout",
     "output_type": "stream",
     "text": [
      "[['s', 'a', 't'], ['b', 'a', 't'], ['c', 'a', 't'], ['m', 'a', 't']]\n",
      "['s', 'a', 't']\n",
      "['b', 'a', 't']\n",
      "['c', 'a', 't']\n",
      "['m', 'a', 't']\n",
      "s a t \n",
      "\n",
      "b a t \n",
      "\n",
      "c a t \n",
      "\n",
      "m a t \n",
      "\n"
     ]
    }
   ],
   "source": [
    "l = ['sat', 'bat', 'cat', 'mat']\n",
    "\n",
    "test=list(map(list, l))\n",
    "print(test)\n",
    "\n",
    "for i in map(list,l):\n",
    "    print(i)\n",
    "\n",
    "for i in map(list,l):\n",
    "    for j in i:\n",
    "        print(j,end=\" \")\n",
    "    print(\"\\n\")\n",
    "# def addition(n):\n",
    "#     return n+n\n",
    "\n",
    "# mytuple=(12,23,4,3)\n",
    "# print(mytuple)\n",
    "# print(type(mytuple))\n",
    "\n",
    "# result=map(addition, mytuple)\n",
    "# print(list(result))\n",
    "# print(result)\n",
    "# print(*result)\n",
    "# print(list(result))\n"
   ]
  },
  {
   "cell_type": "markdown",
   "metadata": {},
   "source": [
    "### **Map v/s Filter**"
   ]
  },
  {
   "cell_type": "markdown",
   "metadata": {},
   "source": [
    "#### **Difference**\n",
    "Map takes all objects in a list and allows you to apply a function to it whereas Filter takes all objects in a list and runs that through a function to create a new list with all objects that return True in that function"
   ]
  },
  {
   "cell_type": "markdown",
   "metadata": {},
   "source": [
    "#### **The use of  star in Python**"
   ]
  },
  {
   "cell_type": "code",
   "execution_count": 25,
   "metadata": {},
   "outputs": [
    {
     "name": "stdout",
     "output_type": "stream",
     "text": [
      "[10, 20, 30, 40]\n",
      "10 20 30 40\n",
      "(1, 2, 3, 4, 5)\n",
      "1 2 3 4 5\n",
      "{200, 100, 400, 300}\n",
      "200 100 400 300\n",
      "{'p001': 'Anil', 'p002': 'Reena', 'p003': 'Vijar'}\n",
      "p001 p002 p003\n",
      "hello\n",
      "h e l l o\n"
     ]
    }
   ],
   "source": [
    "\"\"\"\n",
    "in Python * is used to unpack the iterables\n",
    "\"\"\"\n",
    "\n",
    "mylist=[10,20,30,40]\n",
    "\n",
    "print(mylist)\n",
    "print(*mylist)\n",
    "\n",
    "mytuple=(1,2,3,4,5)\n",
    "print(mytuple)\n",
    "print(*mytuple)\n",
    "\n",
    "myset={100,200,300,400}\n",
    "print(myset)\n",
    "print(*myset)\n",
    "\n",
    "mydict={\"p001\":\"Anil\",\"p002\":\"Reena\",\"p003\":\"Vijar\"}\n",
    "print(mydict)\n",
    "print(*mydict)\n",
    "\n",
    "mystring=\"hello\"\n",
    "print(mystring)\n",
    "print(*mystring)"
   ]
  },
  {
   "cell_type": "markdown",
   "metadata": {},
   "source": [
    "#### **Map Example**"
   ]
  },
  {
   "cell_type": "code",
   "execution_count": 26,
   "metadata": {},
   "outputs": [
    {
     "name": "stdout",
     "output_type": "stream",
     "text": [
      "[1, 2, 3, 4, 5]\n",
      "<map object at 0x000002038C32A1A0>\n",
      "1 2 3 4 5\n",
      "1 4 9 16 25\n"
     ]
    }
   ],
   "source": [
    "\"\"\"\n",
    "in Python * is used to unpack the iterables\n",
    "\"\"\"\n",
    "\n",
    "def square(num):\n",
    "    return num * num\n",
    "\n",
    "nums = [1, 2, 3, 4, 5]\n",
    "mapped = map(square, nums)\n",
    "\n",
    "print(nums)\n",
    "print(mapped)\n",
    "print(*nums)\n",
    "print(*mapped)\n"
   ]
  },
  {
   "cell_type": "markdown",
   "metadata": {},
   "source": [
    "#### **Filter Example**"
   ]
  },
  {
   "cell_type": "code",
   "execution_count": 27,
   "metadata": {},
   "outputs": [
    {
     "name": "stdout",
     "output_type": "stream",
     "text": [
      "[2, 4, 6, 7, 8]\n",
      "<filter object at 0x000002038C32B4C0>\n",
      "2 4 6 7 8\n",
      "2 4 6 8\n"
     ]
    }
   ],
   "source": [
    "\"\"\"\n",
    "in Python * is used to unpack the iterables\n",
    "\"\"\"\n",
    "\n",
    "\n",
    "def is_even(num):\n",
    "    return num % 2 == 0\n",
    "\n",
    "\n",
    "nums = [2, 4, 6, 7, 8]\n",
    "filtered = filter(is_even, nums)\n",
    "\n",
    "print(nums)\n",
    "print(filtered)\n",
    "print(*nums)\n",
    "print(*filtered)"
   ]
  },
  {
   "cell_type": "markdown",
   "metadata": {},
   "source": [
    "###"
   ]
  }
 ],
 "metadata": {
  "kernelspec": {
   "display_name": "venv",
   "language": "python",
   "name": "python3"
  },
  "language_info": {
   "codemirror_mode": {
    "name": "ipython",
    "version": 3
   },
   "file_extension": ".py",
   "mimetype": "text/x-python",
   "name": "python",
   "nbconvert_exporter": "python",
   "pygments_lexer": "ipython3",
   "version": "3.10.2"
  }
 },
 "nbformat": 4,
 "nbformat_minor": 2
}
